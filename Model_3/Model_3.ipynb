{
 "cells": [
  {
   "cell_type": "markdown",
   "metadata": {},
   "source": [
    "# Imports"
   ]
  },
  {
   "cell_type": "code",
   "execution_count": 1,
   "metadata": {},
   "outputs": [],
   "source": [
    "import pandas as pd\n",
    "import biogeme.database as db\n",
    "import biogeme.biogeme as bio\n",
    "from biogeme.expressions import Beta, Variable, exp, Expression\n",
    "from biogeme.models import loglogit\n",
    "from biogeme.tools import likelihood_ratio_test\n",
    "from biogeme.results import compile_estimation_results\n",
    "from biogeme.models import loglogit,  boxcox\n",
    "from biogeme.models.piecewise import piecewise_formula\n",
    "from biogeme.models import lognested\n",
    "from biogeme.nests import OneNestForNestedLogit, NestsForNestedLogit\n",
    "from biogeme.biogeme import BIOGEME\n",
    "\n",
    "import pickle\n",
    "\n",
    "import numpy as np\n",
    "import os\n",
    "\n",
    "from scipy.stats import chi2"
   ]
  },
  {
   "cell_type": "markdown",
   "metadata": {},
   "source": [
    "# Data & Variables"
   ]
  },
  {
   "cell_type": "code",
   "execution_count": 2,
   "metadata": {},
   "outputs": [
    {
     "name": "stdout",
     "output_type": "stream",
     "text": [
      "'dur_pt' exists in the database.\n",
      "'cost_driving' exists in the database.\n",
      "'age_scaled' exists in the database.\n",
      "'dur_pt' exists in the database.\n",
      "'cost_driving' exists in the database.\n",
      "'age_scaled' exists in the database.\n"
     ]
    }
   ],
   "source": [
    "# Define the relative path to the data folder\n",
    "file_path = os.path.join(os.pardir, 'lpmc01.dat')\n",
    "\n",
    "#file_path = os.path.join(data_folder, 'lpmc01.dat')\n",
    "\n",
    "df = pd.read_csv(file_path, sep = '\\t')\n",
    "df['age_scaled'] = (df['age'] - df['age'].mean()) / df['age'].std()\n",
    "df['cost_driving'] = df['cost_driving_ccharge'] + df['cost_driving_fuel']\n",
    "df['dur_pt'] = df['dur_pt_access'] + df['dur_pt_rail'] + df['dur_pt_int'] + df['dur_pt_bus']\n",
    "\n",
    "database1 = db.Database('lpmc01', df)\n",
    "\n",
    "\n",
    "# Define the given veriables \n",
    "dur_pt = Variable('dur_pt')\n",
    "cost_driving = Variable('cost_driving')\n",
    "age_scaled = Variable('age_scaled')\n",
    "trip_id = Variable('trip_id')\n",
    "household_id = Variable('household_id')\n",
    "person_n = Variable('person_n')\n",
    "trip_n = Variable('trip_n')\n",
    "travel_mode = Variable('travel_mode')\n",
    "purpose = Variable('purpose')\n",
    "fueltype = Variable('fueltype')\n",
    "faretype = Variable('faretype')\n",
    "bus_scale = Variable('bus_scale')\n",
    "survey_year = Variable('survey_year')\n",
    "travel_year = Variable('travel_year')\n",
    "travel_month = Variable('travel_month')\n",
    "travel_date = Variable('travel_date')\n",
    "day_of_week = Variable('day_of_week')\n",
    "start_time = Variable('start_time')\n",
    "age = Variable('age')\n",
    "female = Variable('female')\n",
    "driving_license = Variable('driving_license')\n",
    "car_ownership = Variable('car_ownership')\n",
    "distance = Variable('distance')\n",
    "dur_walking = Variable('dur_walking')\n",
    "dur_cycling = Variable('dur_cycling')\n",
    "dur_pt_access = Variable('dur_pt_access') # Predicted total access and egress time for public transport route in hours\n",
    "dur_pt_rail = Variable('dur_pt_rail')\n",
    "dur_pt_bus = Variable('dur_pt_bus')\n",
    "dur_pt_int = Variable('dur_pt_int') # Time taken (hrs) at each interchange point\n",
    "pt_interchanges = Variable('pt_interchanges')   # Number of interchange points in public transport route\n",
    "dur_driving = Variable('dur_driving')\n",
    "cost_transit = Variable('cost_transit')\n",
    "cost_driving_fuel = Variable('cost_driving_fuel')   # Estimated fuel cost of driving route in GBP\n",
    "cost_driving_ccharge = Variable('cost_driving_ccharge')  # Estimated congestion charge cost of driving route in GBP\n",
    "driving_traffic_percent = Variable('driving_traffic_percent')\n",
    "\n",
    "\n",
    "\n",
    "# Define transport availability\n",
    "# Assume pt, walking, cycle always available, with car availability depending on number of cars per household. From the data, \n",
    "# people without driving licenses choose driving as their mode of transport (eg. row 28). \n",
    "av_drive =  (car_ownership > 0)\n",
    "av_pt =1\n",
    "av_walk = 1\n",
    "av_cycle = 1\n",
    "\n",
    "variable_names = ['dur_pt', 'cost_driving', 'age_scaled']  # Replace with your variable name\n",
    "for variable_name in variable_names:\n",
    "    if variable_name in database1.data.columns:\n",
    "        print(f\"'{variable_name}' exists in the database.\")\n",
    "    else:\n",
    "        print(f\"'{variable_name}' does NOT exist in the database.\")\n",
    "\n",
    "\n",
    "\n",
    "# Define pt_cost (not needed)\n",
    "# Original paper, page 31: \"Public transport fares are determined for single trips using Oystercard/contactless payment.\"\n",
    "# Therefore, cost_transit should already consider faretype and bus_scale\n",
    "\n",
    "database = db.Database('lpmc01', df)\n",
    "variable_names = ['dur_pt', 'cost_driving', 'age_scaled']  # Replace with your variable name\n",
    "for variable_name in variable_names:\n",
    "    if variable_name in database1.data.columns:\n",
    "        print(f\"'{variable_name}' exists in the database.\")\n",
    "    else:\n",
    "        print(f\"'{variable_name}' does NOT exist in the database.\")\n",
    "\n",
    "# Define driving cost\n",
    "cost_driving = cost_driving_ccharge + cost_driving_fuel\n",
    "\n",
    "# Define time taken by each mode of transport\n",
    "dur_pt = dur_pt_access + dur_pt_int + dur_pt_bus + dur_pt_rail  # Public transport (external) time "
   ]
  },
  {
   "cell_type": "markdown",
   "metadata": {},
   "source": [
    "# Model Definition"
   ]
  },
  {
   "cell_type": "code",
   "execution_count": 3,
   "metadata": {},
   "outputs": [],
   "source": [
    "# Assume every mode of transport is available\n",
    "availability_walk = 1  \n",
    "availability_cycle = 1  \n",
    "availability_pt = 1     \n",
    "availability_drive = 1\n",
    "\n",
    "availability = {\n",
    "    1: availability_walk,   # Walking\n",
    "    2: availability_cycle,  # Cycling\n",
    "    3: availability_pt,     # Public Transport\n",
    "    4: availability_drive   # Driving\n",
    "}"
   ]
  },
  {
   "cell_type": "code",
   "execution_count": 4,
   "metadata": {},
   "outputs": [],
   "source": [
    "# # MODEL 3\n",
    "\n",
    "\n",
    "# # Define driving cost\n",
    "# cost_driving = cost_driving_ccharge + cost_driving_fuel\n",
    "\n",
    "# # Define time taken by each mode of transport\n",
    "# dur_pt = dur_pt_access + dur_pt_int + dur_pt_bus + dur_pt_rail  # Public transport (external) time \n",
    "\n",
    "# time_pt = dur_pt\n",
    "# time_cycling = dur_cycling\n",
    "# time_walking = dur_walking  \n",
    "# time_driving = dur_driving\n",
    "\n",
    "# # Model normalized with asc_walking = 0\n",
    "# asc_pt = Beta(name='asc_pt', value=0, lowerbound=None, upperbound=None, status=0)\n",
    "# asc_cycling = Beta(name='asc_cycling', value=0, lowerbound=None, upperbound=None, status=0)\n",
    "# asc_driving = Beta(name='asc_driving', value=0, lowerbound=None, upperbound=None, status=0)\n",
    "\n",
    "\n",
    "# beta_cost = Beta(name='beta_cost', value=0, lowerbound=None, upperbound=None, status=0)\n",
    "# beta_tt_walking = Beta(name='beta_tt_walking', value=0, lowerbound=None, upperbound=None, status=0)\n",
    "# beta_tt_walking_interact = age_scaled * Beta(name='beta_tt_walking_interact', value=0, lowerbound=None, upperbound=None, status=0)\n",
    "# beta_tt_cycling = Beta(name='beta_tt_cycling', value=0, lowerbound=None, upperbound=None, status=0)\n",
    "# beta_tt_cycling_interact = age_scaled * Beta(name='beta_tt_cycling_interact', value=0, lowerbound=None, upperbound=None, status=0)\n",
    "# beta_tt_pt = Beta(name='beta_tt_pt', value=0, lowerbound=None, upperbound=None, status=0)\n",
    "# beta_tt_pt_interact = age_scaled * Beta(name='beta_tt_pt_interact', value=0, lowerbound=None, upperbound=None, status=0)\n",
    "# beta_tt_driving = Beta(name='beta_tt_driving', value=0, lowerbound=None, upperbound=None, status=0)\n",
    "\n",
    "# cost_drive_power = power_series(cost_driving)\n",
    "# cost_pt_power = power_series(cost_transit)\n",
    "\n",
    "# #mx_age = df['age'].max()\n",
    "\n",
    "# v_walking = (time_walking * \n",
    "#                 (beta_tt_walking + beta_tt_walking_interact * age_scaled))\n",
    "\n",
    "# v_cycling = (asc_cycling \n",
    "#              + time_cycling * \n",
    "#                 (beta_tt_cycling + beta_tt_cycling_interact * age_scaled))\n",
    "\n",
    "# v_pt = (asc_pt \n",
    "#         + time_pt * \n",
    "#             (beta_tt_pt + beta_tt_pt_interact * age_scaled) \n",
    "#         + beta_cost * cost_pt_power)\n",
    "\n",
    "# v_driving = (asc_driving \n",
    "#              + beta_tt_driving * time_driving \n",
    "#              + beta_cost * cost_drive_power)\n",
    "\n",
    "# V = {1: v_walking, 2: v_cycling, 3: v_pt, 4: v_driving}\n",
    "\n",
    "# model_3 = loglogit(V, None, travel_mode)"
   ]
  },
  {
   "cell_type": "code",
   "execution_count": 5,
   "metadata": {},
   "outputs": [],
   "source": [
    "# # MODEL 3\n",
    "\n",
    "\n",
    "# # Define driving cost\n",
    "# cost_driving = cost_driving_ccharge + cost_driving_fuel\n",
    "\n",
    "# # Define time taken by each mode of transport\n",
    "# dur_pt = dur_pt_access + dur_pt_int + dur_pt_bus + dur_pt_rail  # Public transport (external) time \n",
    "\n",
    "# time_pt = dur_pt\n",
    "# time_cycling = dur_cycling\n",
    "# time_walking = dur_walking  \n",
    "# time_driving = dur_driving\n",
    "\n",
    "# # Model normalized with asc_walking = 0\n",
    "# asc_pt = Beta(name='asc_pt', value=0, lowerbound=None, upperbound=None, status=0)\n",
    "# asc_cycling = Beta(name='asc_cycling', value=0, lowerbound=None, upperbound=None, status=0)\n",
    "# asc_driving = Beta(name='asc_driving', value=0, lowerbound=None, upperbound=None, status=0)\n",
    "\n",
    "# beta_cost = Beta(name='beta_cost', value=0, lowerbound=None, upperbound=None, status=0)\n",
    "# beta_tt_walking = Beta(name='beta_tt_walking', value=0, lowerbound=None, upperbound=None, status=0)\n",
    "# beta_tt_walking_interact = Beta(name='beta_tt_walking_interact', value=0, lowerbound=None, upperbound=None, status=0)\n",
    "# beta_tt_cycling = Beta(name='beta_tt_cycling', value=0, lowerbound=None, upperbound=None, status=0)\n",
    "# beta_tt_cycling_interact = Beta(name='beta_tt_cycling_interact', value=0, lowerbound=None, upperbound=None, status=0)\n",
    "# beta_tt_pt = Beta(name='beta_tt_pt', value=0, lowerbound=None, upperbound=None, status=0)\n",
    "# beta_tt_pt_interact = Beta(name='beta_tt_pt_interact', value=0, lowerbound=None, upperbound=None, status=0)\n",
    "# beta_tt_driving = Beta(name='beta_tt_driving', value=0, lowerbound=None, upperbound=None, status=0)\n",
    "\n",
    "# ell_cost = Beta('lambda_cost', 1, -10, 10, 0)\n",
    "# boxcox_cost_pt = boxcox(cost_transit, ell_cost)\n",
    "# boxcox_cost_driving = boxcox(cost_driving, ell_cost)\n",
    "\n",
    "# mx_age = df['age'].max()\n",
    "\n",
    "# v_walking = (time_walking * \n",
    "#                 (beta_tt_walking + beta_tt_walking_interact * age_scaled))\n",
    "\n",
    "# v_cycling = (asc_cycling \n",
    "#              + time_cycling * \n",
    "#                 (beta_tt_cycling + beta_tt_cycling_interact * age_scaled))\n",
    "\n",
    "# v_pt = (asc_pt \n",
    "#         + time_pt * \n",
    "#             (beta_tt_pt + beta_tt_pt_interact * age_scaled) \n",
    "#         + beta_cost * boxcox_cost_pt)\n",
    "\n",
    "# v_driving = (asc_driving \n",
    "#              + beta_tt_driving * time_driving \n",
    "#              + beta_cost * boxcox_cost_driving)\n",
    "\n",
    "# V = {1: v_walking, 2: v_cycling, 3: v_pt, 4: v_driving}\n",
    "\n",
    "# model_3 = loglogit(V, None, travel_mode)"
   ]
  },
  {
   "cell_type": "markdown",
   "metadata": {},
   "source": [
    "## BoxCox"
   ]
  },
  {
   "cell_type": "code",
   "execution_count": 6,
   "metadata": {},
   "outputs": [],
   "source": [
    "# Define alternative-specific parameters for travel time\n",
    "B_TIME_WALK = Beta('B_TIME_WALK', 0, None, None, 0)\n",
    "B_TIME_CYCLE = Beta('B_TIME_CYCLE', 0, None, None, 0)\n",
    "B_TIME_PT = Beta('B_TIME_PT', 0, None, None, 0)\n",
    "B_TIME_DRIVE = Beta('B_TIME_DRIVE', 0, None, None, 0)\n",
    "\n",
    "ASC_CYCLE = Beta('ASC_CYCLE', 0, None, None, 0)\n",
    "ASC_PT = Beta('ASC_PT', 0, None, None, 0)\n",
    "ASC_DRIVE = Beta('ASC_DRIVE', 0, None, None, 0)\n",
    "\n",
    "# Define generic parameters for cost and travel time\n",
    "B_COST = Beta('B_COST', 0, None, None, 0)\n",
    "\n",
    "B_TIME_WALK_AGE = Beta('B_TIME_WALK_AGE', 0, None, None, 0)\n",
    "B_TIME_CYCLE_AGE = Beta('B_TIME_CYCLE_AGE', 0, None, None, 0) \n",
    "B_TIME_PT_AGE = Beta('B_TIME_PT_AGE', 0, None, None, 0) \n",
    "\n",
    "LAMDA_COST = Beta('lambda_cost', 1, -10, 10, 0)\n",
    "bx_cost_pt = boxcox(cost_transit, LAMDA_COST)\n",
    "bx_cost_driving = boxcox(cost_driving, LAMDA_COST)\n",
    "\n",
    "\n",
    "# Updated utility functions with age interaction for travel time\n",
    "V_WALK = dur_walking * (B_TIME_WALK + B_TIME_WALK_AGE * age_scaled)\n",
    "\n",
    "V_CYCLE = (ASC_CYCLE \n",
    "           + dur_cycling * (B_TIME_CYCLE + B_TIME_CYCLE_AGE * age_scaled)\n",
    "        )\n",
    "\n",
    "V_PT = (ASC_PT \n",
    "        + bx_cost_pt * B_COST\n",
    "        + dur_pt * (B_TIME_PT + B_TIME_PT_AGE * age_scaled)\n",
    "        )\n",
    "\n",
    "V_DRIVE = (ASC_DRIVE \n",
    "           + bx_cost_driving * B_COST  \n",
    "           + dur_driving  * B_TIME_DRIVE\n",
    "        )\n",
    "\n",
    "# Associate utility functions with the mode choice\n",
    "V = {\n",
    "    1: V_WALK,    # Walking\n",
    "    2: V_CYCLE,   # Cycling\n",
    "    3: V_PT,      # Public Transport\n",
    "    4: V_DRIVE    # Driving\n",
    "}\n",
    "\n",
    "# Specify the model\n",
    "model_3_bx = loglogit({1: V_WALK, 2: V_CYCLE, 3: V_PT, 4: V_DRIVE}, availability, travel_mode)"
   ]
  },
  {
   "cell_type": "markdown",
   "metadata": {},
   "source": [
    "### Results"
   ]
  },
  {
   "cell_type": "code",
   "execution_count": 7,
   "metadata": {},
   "outputs": [
    {
     "name": "stdout",
     "output_type": "stream",
     "text": [
      "Estimation results for Model 3 Box Cox:\n",
      "                     Value  Rob. Std err  Rob. t-test  Rob. p-value\n",
      "ASC_CYCLE        -4.747089      0.216769   -21.899272  0.000000e+00\n",
      "ASC_DRIVE        -2.890816      0.212370   -13.612177  0.000000e+00\n",
      "ASC_PT           -2.794560      0.161046   -17.352544  0.000000e+00\n",
      "B_COST           -0.471095      0.052628    -8.951369  0.000000e+00\n",
      "B_TIME_CYCLE     -7.073484      0.514990   -13.735185  0.000000e+00\n",
      "B_TIME_CYCLE_AGE -0.660598      0.234701    -2.814641  4.883169e-03\n",
      "B_TIME_DRIVE     -6.235618      0.377891   -16.501113  0.000000e+00\n",
      "B_TIME_PT        -3.825221      0.245230   -15.598522  0.000000e+00\n",
      "B_TIME_PT_AGE    -0.401068      0.072667    -5.519287  3.403776e-08\n",
      "B_TIME_WALK      -9.635689      0.522877   -18.428229  0.000000e+00\n",
      "B_TIME_WALK_AGE  -0.724167      0.159765    -4.532687  5.823801e-06\n",
      "lambda_cost       0.310434      0.080067     3.877178  1.056749e-04\n"
     ]
    }
   ],
   "source": [
    "biogeme_bx = bio.BIOGEME(database, model_3_bx)\n",
    "biogeme_bx.modelName = 'model_3_bx'\n",
    "\n",
    "results_m3_bx = biogeme_bx.estimate()\n",
    "\n",
    "print(\"Estimation results for Model 3 Box Cox:\")\n",
    "print(results_m3_bx.get_estimated_parameters())"
   ]
  },
  {
   "cell_type": "code",
   "execution_count": 8,
   "metadata": {},
   "outputs": [
    {
     "name": "stdout",
     "output_type": "stream",
     "text": [
      "Number of estimated parameters:\t12\n",
      "Sample size:\t5000\n",
      "Excluded observations:\t0\n",
      "Init log likelihood:\t-6931.472\n",
      "Final log likelihood:\t-4195.591\n",
      "Likelihood ratio test for the init. model:\t5471.762\n",
      "Rho-square for the init. model:\t0.395\n",
      "Rho-square-bar for the init. model:\t0.393\n",
      "Akaike Information Criterion:\t8415.181\n",
      "Bayesian Information Criterion:\t8493.388\n",
      "Final gradient norm:\t3.0064E-02\n",
      "Nbr of threads:\t16\n",
      "\n"
     ]
    }
   ],
   "source": [
    "print(results_m3_bx.print_general_statistics())"
   ]
  },
  {
   "cell_type": "markdown",
   "metadata": {},
   "source": [
    "### Test against Model 2"
   ]
  },
  {
   "cell_type": "code",
   "execution_count": 9,
   "metadata": {},
   "outputs": [],
   "source": [
    "folder_path = os.path.join(os.pardir, 'Model_2')\n",
    "file_path = os.path.join(folder_path, 'Model_2B.pickle')\n",
    "\n",
    "# open a file, where you stored the pickled data\n",
    "file = open(file_path, 'rb')\n",
    "\n",
    "# dump information to that file\n",
    "results_m2 = pickle.load(file)\n",
    "\n",
    "# close the file\n",
    "file.close()"
   ]
  },
  {
   "cell_type": "code",
   "execution_count": 10,
   "metadata": {},
   "outputs": [
    {
     "name": "stdout",
     "output_type": "stream",
     "text": [
      "Likelihood Ratio: -2.5002939935329778\n",
      "Degrees of Freedom: 1\n",
      "Critical Chi-Square Value (0.05 significance): 3.841458820694124\n",
      "No significant improvement in Model 3 Box Cox over Model 2.\n"
     ]
    }
   ],
   "source": [
    "loglikehood_m3_bx = results_m3_bx.data.logLike\n",
    "num_params_m3_bx = results_m3_bx.data.nparam\n",
    "\n",
    "loglikehood_m2 = results_m2.logLike\n",
    "num_params_m2 = results_m2.nparam\n",
    "\n",
    "# Calculate the LR statistic\n",
    "LR = 2 * (loglikehood_m3_bx - loglikehood_m2)\n",
    "\n",
    "# Degrees of freedom\n",
    "df = num_params_m3_bx - num_params_m2\n",
    "\n",
    "# Critical value at 0.05 significance level\n",
    "critical_value = chi2.ppf(0.95, df)\n",
    "\n",
    "print(\"Likelihood Ratio:\", LR)\n",
    "print(\"Degrees of Freedom:\", df)\n",
    "print(\"Critical Chi-Square Value (0.05 significance):\", critical_value)\n",
    "\n",
    "if LR > critical_value:\n",
    "    print(\"Model 3 Box Cox is significantly better than Model 2.\")\n",
    "else:\n",
    "    print(\"No significant improvement in Model 3 Box Cox over Model 2.\")"
   ]
  },
  {
   "cell_type": "markdown",
   "metadata": {},
   "source": [
    "## Power Series"
   ]
  },
  {
   "cell_type": "code",
   "execution_count": 11,
   "metadata": {},
   "outputs": [],
   "source": [
    "square_tt_coef = Beta('square_cost_coef', 0, None, None, 0)\n",
    "cube_tt_coef = Beta('cube_cost_coef', 0, None, None, 0)\n",
    "\n",
    "def power_series(the_variable: Expression) -> Expression:\n",
    "    \"\"\"Generate the expression of a polynomial of degree 3\n",
    "\n",
    "    :param the_variable: variable of the polynomial\n",
    "    \"\"\"\n",
    "    return (\n",
    "        the_variable\n",
    "        + square_tt_coef * the_variable**2\n",
    "        + cube_tt_coef * the_variable * the_variable**3\n",
    "    )"
   ]
  },
  {
   "cell_type": "code",
   "execution_count": 12,
   "metadata": {},
   "outputs": [],
   "source": [
    "# Define alternative-specific parameters for travel time\n",
    "B_TIME_WALK = Beta('B_TIME_WALK', 0, None, None, 0)\n",
    "B_TIME_CYCLE = Beta('B_TIME_CYCLE', 0, None, None, 0)\n",
    "B_TIME_PT = Beta('B_TIME_PT', 0, None, None, 0)\n",
    "B_TIME_DRIVE = Beta('B_TIME_DRIVE', 0, None, None, 0)\n",
    "\n",
    "ASC_CYCLE = Beta('ASC_CYCLE', 0, None, None, 0)\n",
    "ASC_PT = Beta('ASC_PT', 0, None, None, 0)\n",
    "ASC_DRIVE = Beta('ASC_DRIVE', 0, None, None, 0)\n",
    "\n",
    "# Define generic parameters for cost and travel time\n",
    "B_COST = Beta('B_COST', 0, None, None, 0)\n",
    "\n",
    "B_TIME_WALK_AGE = Beta('B_TIME_WALK_AGE', 0, None, None, 0)\n",
    "B_TIME_CYCLE_AGE = Beta('B_TIME_CYCLE_AGE', 0, None, None, 0) \n",
    "B_TIME_PT_AGE = Beta('B_TIME_PT_AGE', 0, None, None, 0) \n",
    "\n",
    "power_cost_driving = power_series(cost_driving)\n",
    "poewr_cost_pt = power_series(cost_transit)\n",
    "\n",
    "\n",
    "# Updated utility functions with age interaction for travel time\n",
    "V_WALK = (B_TIME_WALK + B_TIME_WALK_AGE * age_scaled) * dur_walking\n",
    "\n",
    "V_CYCLE = ASC_CYCLE + (B_TIME_CYCLE + B_TIME_CYCLE_AGE * age_scaled) * dur_cycling\n",
    "\n",
    "V_PT = ASC_PT + B_COST * poewr_cost_pt + (B_TIME_PT + B_TIME_PT_AGE * age_scaled) * dur_pt\n",
    "\n",
    "V_DRIVE = ASC_DRIVE + B_COST * power_cost_driving + (B_TIME_DRIVE) * dur_driving\n",
    "\n",
    "# Associate utility functions with the mode choice\n",
    "V = {\n",
    "    1: V_WALK,    # Walking\n",
    "    2: V_CYCLE,   # Cycling\n",
    "    3: V_PT,      # Public Transport\n",
    "    4: V_DRIVE    # Driving\n",
    "}\n",
    "\n",
    "# Specify the model\n",
    "model_3_power = loglogit({1: V_WALK, 2: V_CYCLE, 3: V_PT, 4: V_DRIVE}, availability, travel_mode)"
   ]
  },
  {
   "cell_type": "markdown",
   "metadata": {},
   "source": [
    "### Results"
   ]
  },
  {
   "cell_type": "code",
   "execution_count": 13,
   "metadata": {},
   "outputs": [
    {
     "name": "stdout",
     "output_type": "stream",
     "text": [
      "Estimation results for Model 3 Power:\n",
      "                     Value  Rob. Std err  Rob. t-test  Rob. p-value\n",
      "ASC_CYCLE        -4.611156      0.199839   -23.074386  0.000000e+00\n",
      "ASC_DRIVE        -2.148531      0.149940   -14.329227  0.000000e+00\n",
      "ASC_PT           -2.723111      0.150075   -18.145016  0.000000e+00\n",
      "B_COST            0.005201      0.000579     8.981102  0.000000e+00\n",
      "B_TIME_CYCLE     -6.651065      0.495164   -13.432041  0.000000e+00\n",
      "B_TIME_CYCLE_AGE -0.620826      0.226077    -2.746085  6.031111e-03\n",
      "B_TIME_DRIVE     -7.163034      0.416919   -17.180862  0.000000e+00\n",
      "B_TIME_PT        -3.603087      0.246244   -14.632198  0.000000e+00\n",
      "B_TIME_PT_AGE    -0.388389      0.073952    -5.251905  1.505342e-07\n",
      "B_TIME_WALK      -9.216627      0.481303   -19.149342  0.000000e+00\n",
      "B_TIME_WALK_AGE  -0.709445      0.156799    -4.524561  6.052102e-06\n",
      "cube_cost_coef    0.041638      0.005597     7.439362  1.012523e-13\n",
      "square_cost_coef -8.355522      0.897526    -9.309509  0.000000e+00\n"
     ]
    }
   ],
   "source": [
    "biogeme_power = bio.BIOGEME(database, model_3_power)\n",
    "biogeme_power.modelName = 'model_3_power'\n",
    "\n",
    "results_m3_power = biogeme_power.estimate()\n",
    "\n",
    "print(\"Estimation results for Model 3 Power:\")\n",
    "print(results_m3_power.get_estimated_parameters())"
   ]
  },
  {
   "cell_type": "code",
   "execution_count": 14,
   "metadata": {},
   "outputs": [
    {
     "name": "stdout",
     "output_type": "stream",
     "text": [
      "Number of estimated parameters:\t13\n",
      "Sample size:\t5000\n",
      "Excluded observations:\t0\n",
      "Init log likelihood:\t-6931.472\n",
      "Final log likelihood:\t-4202.201\n",
      "Likelihood ratio test for the init. model:\t5458.541\n",
      "Rho-square for the init. model:\t0.394\n",
      "Rho-square-bar for the init. model:\t0.392\n",
      "Akaike Information Criterion:\t8430.403\n",
      "Bayesian Information Criterion:\t8515.126\n",
      "Final gradient norm:\t1.8226E-01\n",
      "Nbr of threads:\t16\n",
      "\n"
     ]
    }
   ],
   "source": [
    "print(results_m3_power.print_general_statistics())"
   ]
  },
  {
   "cell_type": "markdown",
   "metadata": {},
   "source": [
    "### Test Against Model 2"
   ]
  },
  {
   "cell_type": "code",
   "execution_count": 15,
   "metadata": {},
   "outputs": [],
   "source": [
    "folder_path = os.path.join(os.pardir, 'Model_2')\n",
    "file_path = os.path.join(folder_path, 'Model_2B.pickle')\n",
    "\n",
    "# open a file, where you stored the pickled data\n",
    "file = open(file_path, 'rb')\n",
    "\n",
    "# dump information to that file\n",
    "results_m2 = pickle.load(file)\n",
    "\n",
    "# close the file\n",
    "file.close()"
   ]
  },
  {
   "cell_type": "code",
   "execution_count": 16,
   "metadata": {},
   "outputs": [
    {
     "name": "stdout",
     "output_type": "stream",
     "text": [
      "Likelihood Ratio: -15.721398968782523\n",
      "Degrees of Freedom: 2\n",
      "Critical Chi-Square Value (0.05 significance): 5.991464547107979\n",
      "No significant improvement in Model 3 Power over Model 2.\n"
     ]
    }
   ],
   "source": [
    "loglikehood_m3_power = results_m3_power.data.logLike\n",
    "num_params_m3_power = results_m3_power.data.nparam\n",
    "\n",
    "loglikehood_m2 = results_m2.logLike\n",
    "num_params_m2 = results_m2.nparam\n",
    "\n",
    "# Calculate the LR statistic\n",
    "LR = 2 * (loglikehood_m3_power - loglikehood_m2)\n",
    "\n",
    "# Degrees of freedom\n",
    "df = num_params_m3_power - num_params_m2\n",
    "\n",
    "# Critical value at 0.05 significance level\n",
    "critical_value = chi2.ppf(0.95, df)\n",
    "\n",
    "print(\"Likelihood Ratio:\", LR)\n",
    "print(\"Degrees of Freedom:\", df)\n",
    "print(\"Critical Chi-Square Value (0.05 significance):\", critical_value)\n",
    "\n",
    "if LR > critical_value:\n",
    "    print(\"Model 3 Power is significantly better than Model 2.\")\n",
    "else:\n",
    "    print(\"No significant improvement in Model 3 Power over Model 2.\")"
   ]
  },
  {
   "cell_type": "markdown",
   "metadata": {},
   "source": [
    "# Model Results"
   ]
  },
  {
   "cell_type": "code",
   "execution_count": 17,
   "metadata": {},
   "outputs": [],
   "source": [
    "# biogeme = bio.BIOGEME(database, model_3)\n",
    "# biogeme.modelName = 'model_3'\n",
    "\n",
    "# results_m3 = biogeme.estimate()\n",
    "\n",
    "# print(\"Estimation results for Model 3:\")\n",
    "# print(results_m3.get_estimated_parameters())"
   ]
  },
  {
   "cell_type": "code",
   "execution_count": 18,
   "metadata": {},
   "outputs": [],
   "source": [
    "# print(results_m3.print_general_statistics())"
   ]
  },
  {
   "cell_type": "markdown",
   "metadata": {},
   "source": [
    "# Testing Against Model 2"
   ]
  },
  {
   "cell_type": "code",
   "execution_count": 19,
   "metadata": {},
   "outputs": [],
   "source": [
    "# folder_path = os.path.join(os.pardir, 'Model_2')\n",
    "# file_path = os.path.join(folder_path, 'Model_2B.pickle')\n",
    "\n",
    "# # open a file, where you stored the pickled data\n",
    "# file = open(file_path, 'rb')\n",
    "\n",
    "# # dump information to that file\n",
    "# results_m2 = pickle.load(file)\n",
    "\n",
    "# # close the file\n",
    "# file.close()"
   ]
  },
  {
   "cell_type": "code",
   "execution_count": 20,
   "metadata": {},
   "outputs": [],
   "source": [
    "# loglikehood_m3 = results_m3.data.logLike\n",
    "# num_params_m3 = results_m3.data.nparam\n",
    "\n",
    "# loglikehood_m2 = results_m2.logLike\n",
    "# num_params_m2 = results_m2.nparam\n",
    "\n",
    "# # Calculate the LR statistic\n",
    "# LR = 2 * (loglikehood_m3 - loglikehood_m2)\n",
    "\n",
    "# # Degrees of freedom\n",
    "# df = num_params_m3 - num_params_m2\n",
    "\n",
    "# # Critical value at 0.05 significance level\n",
    "# critical_value = chi2.ppf(0.95, df)\n",
    "\n",
    "# print(\"Likelihood Ratio:\", LR)\n",
    "# print(\"Degrees of Freedom:\", df)\n",
    "# print(\"Critical Chi-Square Value (0.05 significance):\", critical_value)\n",
    "\n",
    "# if LR > critical_value:\n",
    "#     print(\"Model 3 is significantly better than Model 2.\")\n",
    "# else:\n",
    "#     print(\"No significant improvement in Model 3 over Model 2.\")\n",
    "\n"
   ]
  }
 ],
 "metadata": {
  "kernelspec": {
   "display_name": ".venv",
   "language": "python",
   "name": "python3"
  },
  "language_info": {
   "codemirror_mode": {
    "name": "ipython",
    "version": 3
   },
   "file_extension": ".py",
   "mimetype": "text/x-python",
   "name": "python",
   "nbconvert_exporter": "python",
   "pygments_lexer": "ipython3",
   "version": "3.10.5"
  }
 },
 "nbformat": 4,
 "nbformat_minor": 2
}
