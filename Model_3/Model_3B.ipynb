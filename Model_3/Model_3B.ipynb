{
 "cells": [
  {
   "cell_type": "markdown",
   "metadata": {},
   "source": [
    "# Imports"
   ]
  },
  {
   "cell_type": "code",
   "execution_count": 1,
   "metadata": {},
   "outputs": [],
   "source": [
    "import pandas as pd\n",
    "import biogeme.database as db\n",
    "import biogeme.biogeme as bio\n",
    "from biogeme.expressions import Beta, Variable, exp, Expression\n",
    "from biogeme.models import loglogit\n",
    "from biogeme.tools import likelihood_ratio_test\n",
    "from biogeme.results import compile_estimation_results\n",
    "from biogeme.models import loglogit,  boxcox\n",
    "from biogeme.models.piecewise import piecewise_formula\n",
    "from biogeme.models import lognested\n",
    "from biogeme.nests import OneNestForNestedLogit, NestsForNestedLogit\n",
    "from biogeme.biogeme import BIOGEME\n",
    "\n",
    "import pickle\n",
    "\n",
    "import numpy as np\n",
    "import os\n",
    "\n",
    "from scipy.stats import chi2"
   ]
  },
  {
   "cell_type": "markdown",
   "metadata": {},
   "source": [
    "# Data & Variables"
   ]
  },
  {
   "cell_type": "code",
   "execution_count": 2,
   "metadata": {},
   "outputs": [
    {
     "name": "stdout",
     "output_type": "stream",
     "text": [
      "'dur_pt' exists in the database.\n",
      "'cost_driving' exists in the database.\n",
      "'age_scaled' exists in the database.\n",
      "'dur_pt' exists in the database.\n",
      "'cost_driving' exists in the database.\n",
      "'age_scaled' exists in the database.\n"
     ]
    }
   ],
   "source": [
    "# Define the relative path to the data folder\n",
    "file_path = os.path.join(os.pardir, 'lpmc01.dat')\n",
    "\n",
    "#file_path = os.path.join(data_folder, 'lpmc01.dat')\n",
    "\n",
    "df = pd.read_csv(file_path, sep = '\\t')\n",
    "df['age_normalized'] = (df['age'] - df['age'].mean()) / df['age'].std()\n",
    "df['age_scaled'] = df['age'] / df['age'].max()\n",
    "df['cost_driving'] = df['cost_driving_ccharge'] + df['cost_driving_fuel']\n",
    "df['dur_pt'] = df['dur_pt_access'] + df['dur_pt_rail'] + df['dur_pt_int'] + df['dur_pt_bus']\n",
    "\n",
    "# max_cost = df['cost_driving'].max() if df['cost_driving'].max() > df['cost_transit'].max() else df['cost_transit'].max()\n",
    "# df['cost_driving'] = df['cost_driving']/max_cost\n",
    "# df['cost_transit'] = df['cost_transit']/max_cost\n",
    "\n",
    "\n",
    "database1 = db.Database('lpmc01', df)\n",
    "\n",
    "\n",
    "# Define the given veriables \n",
    "dur_pt = Variable('dur_pt')\n",
    "cost_driving = Variable('cost_driving')\n",
    "age_scaled = Variable('age_scaled')\n",
    "trip_id = Variable('trip_id')\n",
    "household_id = Variable('household_id')\n",
    "person_n = Variable('person_n')\n",
    "trip_n = Variable('trip_n')\n",
    "travel_mode = Variable('travel_mode')\n",
    "purpose = Variable('purpose')\n",
    "fueltype = Variable('fueltype')\n",
    "faretype = Variable('faretype')\n",
    "bus_scale = Variable('bus_scale')\n",
    "survey_year = Variable('survey_year')\n",
    "travel_year = Variable('travel_year')\n",
    "travel_month = Variable('travel_month')\n",
    "travel_date = Variable('travel_date')\n",
    "day_of_week = Variable('day_of_week')\n",
    "start_time = Variable('start_time')\n",
    "age = Variable('age')\n",
    "female = Variable('female')\n",
    "driving_license = Variable('driving_license')\n",
    "car_ownership = Variable('car_ownership')\n",
    "distance = Variable('distance')\n",
    "dur_walking = Variable('dur_walking')\n",
    "dur_cycling = Variable('dur_cycling')\n",
    "dur_pt_access = Variable('dur_pt_access') # Predicted total access and egress time for public transport route in hours\n",
    "dur_pt_rail = Variable('dur_pt_rail')\n",
    "dur_pt_bus = Variable('dur_pt_bus')\n",
    "dur_pt_int = Variable('dur_pt_int') # Time taken (hrs) at each interchange point\n",
    "pt_interchanges = Variable('pt_interchanges')   # Number of interchange points in public transport route\n",
    "dur_driving = Variable('dur_driving')\n",
    "cost_transit = Variable('cost_transit')\n",
    "cost_driving_fuel = Variable('cost_driving_fuel')   # Estimated fuel cost of driving route in GBP\n",
    "cost_driving_ccharge = Variable('cost_driving_ccharge')  # Estimated congestion charge cost of driving route in GBP\n",
    "driving_traffic_percent = Variable('driving_traffic_percent')\n",
    "\n",
    "\n",
    "\n",
    "# Define transport availability\n",
    "# Assume pt, walking, cycle always available, with car availability depending on number of cars per household. From the data, \n",
    "# people without driving licenses choose driving as their mode of transport (eg. row 28). \n",
    "av_drive =  (car_ownership > 0)\n",
    "av_pt =1\n",
    "av_walk = 1\n",
    "av_cycle = 1\n",
    "\n",
    "variable_names = ['dur_pt', 'cost_driving', 'age_scaled']  # Replace with your variable name\n",
    "for variable_name in variable_names:\n",
    "    if variable_name in database1.data.columns:\n",
    "        print(f\"'{variable_name}' exists in the database.\")\n",
    "    else:\n",
    "        print(f\"'{variable_name}' does NOT exist in the database.\")\n",
    "\n",
    "\n",
    "\n",
    "# Define pt_cost (not needed)\n",
    "# Original paper, page 31: \"Public transport fares are determined for single trips using Oystercard/contactless payment.\"\n",
    "# Therefore, cost_transit should already consider faretype and bus_scale\n",
    "\n",
    "database = db.Database('lpmc01', df)\n",
    "variable_names = ['dur_pt', 'cost_driving', 'age_scaled']  # Replace with your variable name\n",
    "for variable_name in variable_names:\n",
    "    if variable_name in database1.data.columns:\n",
    "        print(f\"'{variable_name}' exists in the database.\")\n",
    "    else:\n",
    "        print(f\"'{variable_name}' does NOT exist in the database.\")\n",
    "\n",
    "# Define driving cost\n",
    "cost_driving = cost_driving_ccharge + cost_driving_fuel\n",
    "\n",
    "# Define time taken by each mode of transport\n",
    "dur_pt = dur_pt_access + dur_pt_int + dur_pt_bus + dur_pt_rail  # Public transport (external) time "
   ]
  },
  {
   "cell_type": "markdown",
   "metadata": {},
   "source": [
    "# Model Definition"
   ]
  },
  {
   "cell_type": "code",
   "execution_count": 3,
   "metadata": {},
   "outputs": [],
   "source": [
    "# Assume every mode of transport is available\n",
    "availability_walk = 1  \n",
    "availability_cycle = 1  \n",
    "availability_pt = 1     \n",
    "availability_drive = 1\n",
    "\n",
    "availability = {\n",
    "    1: availability_walk,   # Walking\n",
    "    2: availability_cycle,  # Cycling\n",
    "    3: availability_pt,     # Public Transport\n",
    "    4: availability_drive   # Driving\n",
    "}\n",
    "\n",
    "# Define alternative-specific parameters for travel time\n",
    "B_TIME_WALK = Beta('B_TIME_WALK', 0, None, None, 0)\n",
    "B_TIME_CYCLE = Beta('B_TIME_CYCLE', 0, None, None, 0)\n",
    "B_TIME_PT = Beta('B_TIME_PT', 0, None, None, 0)\n",
    "B_TIME_DRIVE = Beta('B_TIME_DRIVE', 0, None, None, 0)\n",
    "\n",
    "ASC_CYCLE = Beta('ASC_CYCLE', 0, None, None, 0)\n",
    "ASC_PT = Beta('ASC_PT', 0, None, None, 0)\n",
    "ASC_DRIVE = Beta('ASC_DRIVE', 0, None, None, 0)\n",
    "\n",
    "# Define generic parameters for cost and travel time\n",
    "B_COST = Beta('B_COST', 0, None, None, 0)\n",
    "\n",
    "B_TIME_WALK_AGE = Beta('B_TIME_WALK_AGE', 0, None, None, 0)\n",
    "B_TIME_CYCLE_AGE = Beta('B_TIME_CYCLE_AGE', 0, None, None, 0) \n",
    "B_TIME_PT_AGE = Beta('B_TIME_PT_AGE', 0, None, None, 0)\n",
    "B_TIME_DRIVE_AGE = Beta('B_TIME_DRIVE_AGE', 0, None, None, 0) * age_scaled"
   ]
  },
  {
   "cell_type": "markdown",
   "metadata": {},
   "source": [
    "## BoxCox"
   ]
  },
  {
   "cell_type": "code",
   "execution_count": 4,
   "metadata": {},
   "outputs": [],
   "source": [
    "LAMDA_COST = Beta('lambda_cost', 1, -10, 10, 0)\n",
    "bx_cost_pt = boxcox(cost_transit, LAMDA_COST)\n",
    "bx_cost_driving = boxcox(cost_driving, LAMDA_COST)\n",
    "\n",
    "# Utility functions with interaction terms\n",
    "# Updated utility functions with age interaction for travel time\n",
    "V_WALK = (B_TIME_WALK + B_TIME_WALK_AGE * age_scaled) * dur_walking\n",
    "V_CYCLE = ASC_CYCLE + (B_TIME_CYCLE + B_TIME_CYCLE_AGE* age_scaled) * dur_cycling\n",
    "V_PT = ASC_PT + B_COST * bx_cost_pt + (B_TIME_PT + B_TIME_PT_AGE* age_scaled) * dur_pt\n",
    "V_DRIVE = ASC_DRIVE + B_COST * bx_cost_driving + (B_TIME_DRIVE + B_TIME_DRIVE_AGE * age_scaled) * dur_driving\n",
    "\n",
    "# Associate utility functions with the mode choice\n",
    "V = {\n",
    "    1: V_WALK,    # Walking\n",
    "    2: V_CYCLE,   # Cycling\n",
    "    3: V_PT,      # Public Transport\n",
    "    4: V_DRIVE    # Driving\n",
    "}\n",
    "\n",
    "# Specify the model\n",
    "model_3_bx = loglogit({1: V_WALK, 2: V_CYCLE, 3: V_PT, 4: V_DRIVE}, availability, travel_mode)"
   ]
  },
  {
   "cell_type": "markdown",
   "metadata": {},
   "source": [
    "### Results"
   ]
  },
  {
   "cell_type": "code",
   "execution_count": 5,
   "metadata": {},
   "outputs": [
    {
     "name": "stdout",
     "output_type": "stream",
     "text": [
      "Estimation results for Model 3 Box Cox:\n",
      "                     Value  Rob. Std err  Rob. t-test  Rob. p-value\n",
      "ASC_CYCLE        -4.744093      0.216394   -21.923446  0.000000e+00\n",
      "ASC_DRIVE        -2.858211      0.210642   -13.569064  0.000000e+00\n",
      "ASC_PT           -2.787671      0.160238   -17.397042  0.000000e+00\n",
      "B_COST           -0.455481      0.052597    -8.659809  0.000000e+00\n",
      "B_TIME_CYCLE     -5.100008      0.771066    -6.614229  3.734923e-11\n",
      "B_TIME_CYCLE_AGE -4.732287      1.626277    -2.909890  3.615556e-03\n",
      "B_TIME_DRIVE     -5.887612      0.457107   -12.880167  0.000000e+00\n",
      "B_TIME_DRIVE_AGE -2.231037      1.638828    -1.361361  1.733995e-01\n",
      "B_TIME_PT        -2.588571      0.394738    -6.557687  5.464895e-11\n",
      "B_TIME_PT_AGE    -3.030230      0.853149    -3.551820  3.825768e-04\n",
      "B_TIME_WALK      -7.877341      0.506051   -15.566313  0.000000e+00\n",
      "B_TIME_WALK_AGE  -4.154185      0.952283    -4.362341  1.286781e-05\n",
      "lambda_cost       0.320712      0.084479     3.796356  1.468384e-04\n"
     ]
    }
   ],
   "source": [
    "biogeme_bx = bio.BIOGEME(database, model_3_bx)\n",
    "biogeme_bx.modelName = 'model_3_bx'\n",
    "\n",
    "results_m3_bx = biogeme_bx.estimate()\n",
    "\n",
    "print(\"Estimation results for Model 3 Box Cox:\")\n",
    "print(results_m3_bx.get_estimated_parameters())"
   ]
  },
  {
   "cell_type": "code",
   "execution_count": 6,
   "metadata": {},
   "outputs": [
    {
     "name": "stdout",
     "output_type": "stream",
     "text": [
      "Number of estimated parameters:\t13\n",
      "Sample size:\t5000\n",
      "Excluded observations:\t0\n",
      "Init log likelihood:\t-6931.472\n",
      "Final log likelihood:\t-4194.685\n",
      "Likelihood ratio test for the init. model:\t5473.573\n",
      "Rho-square for the init. model:\t0.395\n",
      "Rho-square-bar for the init. model:\t0.393\n",
      "Akaike Information Criterion:\t8415.371\n",
      "Bayesian Information Criterion:\t8500.094\n",
      "Final gradient norm:\t3.7164E-02\n",
      "Nbr of threads:\t16\n",
      "\n"
     ]
    }
   ],
   "source": [
    "print(results_m3_bx.print_general_statistics())"
   ]
  },
  {
   "cell_type": "markdown",
   "metadata": {},
   "source": [
    "### Test against Model 2"
   ]
  },
  {
   "cell_type": "code",
   "execution_count": 7,
   "metadata": {},
   "outputs": [],
   "source": [
    "folder_path = os.path.join(os.pardir, 'Model_2')\n",
    "file_path = os.path.join(folder_path, 'Model_2B.pickle')\n",
    "\n",
    "# open a file, where you stored the pickled data\n",
    "file = open(file_path, 'rb')\n",
    "\n",
    "# dump information to that file\n",
    "results_m2 = pickle.load(file)\n",
    "\n",
    "# close the file\n",
    "file.close()"
   ]
  },
  {
   "cell_type": "code",
   "execution_count": 8,
   "metadata": {},
   "outputs": [
    {
     "name": "stdout",
     "output_type": "stream",
     "text": [
      "Likelihood Ratio: -1.8605945036906633\n",
      "Degrees of Freedom: 1\n",
      "Critical Chi-Square Value (0.05 significance): 3.841458820694124\n",
      "No significant improvement in Model 3 Box Cox over Model 2.\n"
     ]
    }
   ],
   "source": [
    "loglikehood_m3_bx = results_m3_bx.data.logLike\n",
    "num_params_m3_bx = results_m3_bx.data.nparam\n",
    "\n",
    "loglikehood_m2 = results_m2.logLike\n",
    "num_params_m2 = results_m2.nparam\n",
    "\n",
    "# Calculate the LR statistic\n",
    "LR = 2 * (loglikehood_m3_bx - loglikehood_m2)\n",
    "\n",
    "# Degrees of freedom\n",
    "df = num_params_m3_bx - num_params_m2\n",
    "\n",
    "# Critical value at 0.05 significance level\n",
    "critical_value = chi2.ppf(0.95, df)\n",
    "\n",
    "print(\"Likelihood Ratio:\", LR)\n",
    "print(\"Degrees of Freedom:\", df)\n",
    "print(\"Critical Chi-Square Value (0.05 significance):\", critical_value)\n",
    "\n",
    "if LR > critical_value:\n",
    "    print(\"Model 3 Box Cox is significantly better than Model 2.\")\n",
    "else:\n",
    "    print(\"No significant improvement in Model 3 Box Cox over Model 2.\")"
   ]
  },
  {
   "cell_type": "markdown",
   "metadata": {},
   "source": [
    "## Power Series"
   ]
  },
  {
   "cell_type": "code",
   "execution_count": 9,
   "metadata": {},
   "outputs": [],
   "source": [
    "square_tt_coef = Beta('square_cost_coef', 0, None, None, 0)\n",
    "cube_tt_coef = Beta('cube_cost_coef', 0, None, None, 0)\n",
    "\n",
    "def power_series(the_variable: Expression) -> Expression:\n",
    "    \"\"\"Generate the expression of a polynomial of degree 3\n",
    "\n",
    "    :param the_variable: variable of the polynomial\n",
    "    \"\"\"\n",
    "    return (\n",
    "        the_variable\n",
    "        + square_tt_coef * the_variable**2\n",
    "        + cube_tt_coef * the_variable * the_variable**3\n",
    "    )"
   ]
  },
  {
   "cell_type": "code",
   "execution_count": 10,
   "metadata": {},
   "outputs": [],
   "source": [
    "power_cost_driving = power_series(cost_driving)\n",
    "power_cost_pt = power_series(cost_transit)\n",
    "\n",
    "# Utility functions with interaction terms\n",
    "V_WALK = (B_TIME_WALK + B_TIME_WALK_AGE * age_scaled) * dur_walking\n",
    "V_CYCLE = ASC_CYCLE + (B_TIME_CYCLE + B_TIME_CYCLE_AGE* age_scaled) * dur_cycling\n",
    "V_PT = ASC_PT + B_COST * power_cost_pt + (B_TIME_PT + B_TIME_PT_AGE* age_scaled) * dur_pt\n",
    "V_DRIVE = ASC_DRIVE + B_COST * power_cost_driving + (B_TIME_DRIVE + B_TIME_DRIVE_AGE * age_scaled) * dur_driving\n",
    "\n",
    "\n",
    "# Associate utility functions with the mode choice\n",
    "V = {\n",
    "    1: V_WALK,    # Walking\n",
    "    2: V_CYCLE,   # Cycling\n",
    "    3: V_PT,      # Public Transport\n",
    "    4: V_DRIVE    # Driving\n",
    "}\n",
    "\n",
    "# Specify the model\n",
    "model_3_power = loglogit({1: V_WALK, 2: V_CYCLE, 3: V_PT, 4: V_DRIVE}, availability, travel_mode)"
   ]
  },
  {
   "cell_type": "markdown",
   "metadata": {},
   "source": [
    "### Results"
   ]
  },
  {
   "cell_type": "code",
   "execution_count": 11,
   "metadata": {},
   "outputs": [
    {
     "name": "stdout",
     "output_type": "stream",
     "text": [
      "Estimation results for Model 3 Power:\n",
      "                     Value  Rob. Std err  Rob. t-test  Rob. p-value\n",
      "ASC_CYCLE        -4.624937      0.201920   -22.904781  0.000000e+00\n",
      "ASC_DRIVE        -2.137029      0.149775   -14.268303  0.000000e+00\n",
      "ASC_PT           -2.535221      0.155914   -16.260400  0.000000e+00\n",
      "B_COST           -0.302618      0.069201    -4.373060  1.225171e-05\n",
      "B_TIME_CYCLE     -5.608778      0.835329    -6.714452  1.887734e-11\n",
      "B_TIME_CYCLE_AGE -3.348358      1.705597    -1.963159  4.962771e-02\n",
      "B_TIME_DRIVE     -6.936331      0.537057   -12.915440  0.000000e+00\n",
      "B_TIME_DRIVE_AGE -0.168530      1.784207    -0.094456  9.247466e-01\n",
      "B_TIME_PT        -2.810158      0.430754    -6.523807  6.854473e-11\n",
      "B_TIME_PT_AGE    -2.155117      0.896292    -2.404481  1.619544e-02\n",
      "B_TIME_WALK      -7.825469      0.491123   -15.933820  0.000000e+00\n",
      "B_TIME_WALK_AGE  -3.616616      0.977069    -3.701494  2.143340e-04\n",
      "cube_cost_coef   -0.000145      0.000289    -0.502135  6.155728e-01\n",
      "square_cost_coef -0.017966      0.047401    -0.379026  7.046684e-01\n"
     ]
    }
   ],
   "source": [
    "biogeme_power = bio.BIOGEME(database, model_3_power)\n",
    "biogeme_power.modelName = 'model_3_power'\n",
    "\n",
    "results_m3_power = biogeme_power.estimate()\n",
    "\n",
    "print(\"Estimation results for Model 3 Power:\")\n",
    "print(results_m3_power.get_estimated_parameters())"
   ]
  },
  {
   "cell_type": "code",
   "execution_count": 12,
   "metadata": {},
   "outputs": [
    {
     "name": "stdout",
     "output_type": "stream",
     "text": [
      "Number of estimated parameters:\t14\n",
      "Sample size:\t5000\n",
      "Excluded observations:\t0\n",
      "Init log likelihood:\t-4391.936\n",
      "Final log likelihood:\t-4185.768\n",
      "Likelihood ratio test for the init. model:\t412.3361\n",
      "Rho-square for the init. model:\t0.0469\n",
      "Rho-square-bar for the init. model:\t0.0438\n",
      "Akaike Information Criterion:\t8399.536\n",
      "Bayesian Information Criterion:\t8490.777\n",
      "Final gradient norm:\t6.0180E-01\n",
      "Nbr of threads:\t16\n",
      "\n"
     ]
    }
   ],
   "source": [
    "print(results_m3_power.print_general_statistics())"
   ]
  },
  {
   "cell_type": "markdown",
   "metadata": {},
   "source": [
    "### Test Against Model 2"
   ]
  },
  {
   "cell_type": "code",
   "execution_count": 13,
   "metadata": {},
   "outputs": [],
   "source": [
    "folder_path = os.path.join(os.pardir, 'Model_2')\n",
    "file_path = os.path.join(folder_path, 'Model_2B.pickle')\n",
    "\n",
    "# open a file, where you stored the pickled data\n",
    "file = open(file_path, 'rb')\n",
    "\n",
    "# dump information to that file\n",
    "results_m2 = pickle.load(file)\n",
    "\n",
    "# close the file\n",
    "file.close()"
   ]
  },
  {
   "cell_type": "code",
   "execution_count": 14,
   "metadata": {},
   "outputs": [
    {
     "name": "stdout",
     "output_type": "stream",
     "text": [
      "Likelihood Ratio: 15.97390018306578\n",
      "Degrees of Freedom: 2\n",
      "Critical Chi-Square Value (0.05 significance): 5.991464547107979\n",
      "Model 3 Power is significantly better than Model 2.\n"
     ]
    }
   ],
   "source": [
    "loglikehood_m3_power = results_m3_power.data.logLike\n",
    "num_params_m3_power = results_m3_power.data.nparam\n",
    "\n",
    "loglikehood_m2 = results_m2.logLike\n",
    "num_params_m2 = results_m2.nparam\n",
    "\n",
    "# Calculate the LR statistic\n",
    "LR = 2 * (loglikehood_m3_power - loglikehood_m2)\n",
    "\n",
    "# Degrees of freedom\n",
    "df = num_params_m3_power - num_params_m2\n",
    "\n",
    "# Critical value at 0.05 significance level\n",
    "critical_value = chi2.ppf(0.95, df)\n",
    "\n",
    "print(\"Likelihood Ratio:\", LR)\n",
    "print(\"Degrees of Freedom:\", df)\n",
    "print(\"Critical Chi-Square Value (0.05 significance):\", critical_value)\n",
    "\n",
    "if LR > critical_value:\n",
    "    print(\"Model 3 Power is significantly better than Model 2.\")\n",
    "else:\n",
    "    print(\"No significant improvement in Model 3 Power over Model 2.\")"
   ]
  },
  {
   "cell_type": "markdown",
   "metadata": {},
   "source": [
    "## Piecewise Linear"
   ]
  },
  {
   "cell_type": "code",
   "execution_count": 15,
   "metadata": {},
   "outputs": [],
   "source": [
    "thresholds = [0, 1, 5, None]\n",
    "\n",
    "beta_cost_0_5 = Beta('beta_cost_0_5', 0, None, None, 0)\n",
    "beta_cost_5_10 = Beta('beta_cost_5_10', 0, None, None, 0)\n",
    "beta_cost_10_more = Beta('beta_cost_10_more', 0, None, None, 0)\n",
    "betas_piecewise = [beta_cost_0_5, \n",
    "                   beta_cost_5_10, \n",
    "                   beta_cost_10_more]\n",
    "\n",
    "piecewise_cost_driving = piecewise_formula(\n",
    "    'cost_driving', thresholds, betas_piecewise\n",
    ")\n",
    "\n",
    "piecewise_cost_pt = piecewise_formula(\n",
    "    'cost_transit', thresholds, betas_piecewise\n",
    ")\n"
   ]
  },
  {
   "cell_type": "code",
   "execution_count": 16,
   "metadata": {},
   "outputs": [],
   "source": [
    "# Utility functions with interaction terms\n",
    "V_WALK = (B_TIME_WALK + B_TIME_WALK_AGE * age_scaled) * dur_walking\n",
    "V_CYCLE = ASC_CYCLE + (B_TIME_CYCLE + B_TIME_CYCLE_AGE* age_scaled) * dur_cycling\n",
    "V_PT = ASC_PT + B_COST * piecewise_cost_pt + (B_TIME_PT + B_TIME_PT_AGE* age_scaled) * dur_pt\n",
    "V_DRIVE = ASC_DRIVE + B_COST * piecewise_cost_driving + (B_TIME_DRIVE + B_TIME_DRIVE_AGE * age_scaled) * dur_driving\n",
    "\n",
    "# Associate utility functions with the mode choice\n",
    "V = {\n",
    "    1: V_WALK,    # Walking\n",
    "    2: V_CYCLE,   # Cycling\n",
    "    3: V_PT,      # Public Transport\n",
    "    4: V_DRIVE    # Driving\n",
    "}\n",
    "\n",
    "# Specify the model\n",
    "model_3_piecewise = loglogit({1: V_WALK, 2: V_CYCLE, 3: V_PT, 4: V_DRIVE}, availability, travel_mode)"
   ]
  },
  {
   "cell_type": "markdown",
   "metadata": {},
   "source": [
    "### Results"
   ]
  },
  {
   "cell_type": "code",
   "execution_count": 17,
   "metadata": {},
   "outputs": [
    {
     "name": "stdout",
     "output_type": "stream",
     "text": [
      "Estimation results for Model 3 piecewise:\n",
      "                      Value  Rob. Std err  Rob. t-test  Rob. p-value\n",
      "ASC_CYCLE         -4.720307      0.208802   -22.606666  0.000000e+00\n",
      "ASC_DRIVE         -2.100906      0.149973   -14.008587  0.000000e+00\n",
      "ASC_PT            -2.431749      0.154317   -15.758114  0.000000e+00\n",
      "B_COST            -0.750740      0.092665    -8.101647  4.440892e-16\n",
      "B_TIME_CYCLE      -5.544459      0.840443    -6.597065  4.193756e-11\n",
      "B_TIME_CYCLE_AGE  -3.229092      1.694606    -1.905512  5.671351e-02\n",
      "B_TIME_DRIVE      -6.562500      0.503915   -13.023029  0.000000e+00\n",
      "B_TIME_DRIVE_AGE   0.064815      1.731553     0.037432  9.701406e-01\n",
      "B_TIME_PT         -2.980603      0.424759    -7.017167  2.264189e-12\n",
      "B_TIME_PT_AGE     -2.161462      0.884340    -2.444152  1.451932e-02\n",
      "B_TIME_WALK       -7.974079      0.495899   -16.080041  0.000000e+00\n",
      "B_TIME_WALK_AGE   -3.594812      0.985695    -3.646981  2.653400e-04\n",
      "beta_cost_0_5      0.929906      0.077124    12.057250  0.000000e+00\n",
      "beta_cost_10_more  0.268825      0.072200     3.723342  1.966025e-04\n",
      "beta_cost_5_10     0.058644      0.072382     0.810197  4.178270e-01\n"
     ]
    }
   ],
   "source": [
    "biogeme_piecewise = bio.BIOGEME(database, model_3_piecewise)\n",
    "biogeme_piecewise.modelName = 'model_3_piecewise'\n",
    "\n",
    "results_m3_piecewise = biogeme_piecewise.estimate()\n",
    "\n",
    "print(\"Estimation results for Model 3 piecewise:\")\n",
    "print(results_m3_piecewise.get_estimated_parameters())"
   ]
  },
  {
   "cell_type": "code",
   "execution_count": 18,
   "metadata": {},
   "outputs": [
    {
     "name": "stdout",
     "output_type": "stream",
     "text": [
      "Number of estimated parameters:\t15\n",
      "Sample size:\t5000\n",
      "Excluded observations:\t0\n",
      "Init log likelihood:\t-4302.338\n",
      "Final log likelihood:\t-4174.126\n",
      "Likelihood ratio test for the init. model:\t256.423\n",
      "Rho-square for the init. model:\t0.0298\n",
      "Rho-square-bar for the init. model:\t0.0263\n",
      "Akaike Information Criterion:\t8378.253\n",
      "Bayesian Information Criterion:\t8476.011\n",
      "Final gradient norm:\t1.3749E-01\n",
      "Nbr of threads:\t16\n",
      "\n"
     ]
    }
   ],
   "source": [
    "print(results_m3_piecewise.print_general_statistics())"
   ]
  },
  {
   "cell_type": "markdown",
   "metadata": {},
   "source": [
    "### Test Against Model 2"
   ]
  },
  {
   "cell_type": "code",
   "execution_count": 19,
   "metadata": {},
   "outputs": [],
   "source": [
    "folder_path = os.path.join(os.pardir, 'Model_2')\n",
    "file_path = os.path.join(folder_path, 'Model_2B.pickle')\n",
    "\n",
    "# open a file, where you stored the pickled data\n",
    "file = open(file_path, 'rb')\n",
    "\n",
    "# dump information to that file\n",
    "results_m2 = pickle.load(file)\n",
    "\n",
    "# close the file\n",
    "file.close()"
   ]
  },
  {
   "cell_type": "code",
   "execution_count": 20,
   "metadata": {},
   "outputs": [
    {
     "name": "stdout",
     "output_type": "stream",
     "text": [
      "Likelihood Ratio: 39.257451634570316\n",
      "Degrees of Freedom: 3\n",
      "Critical Chi-Square Value (0.05 significance): 7.814727903251179\n",
      "Model 3 piecewise is significantly better than Model 2.\n"
     ]
    }
   ],
   "source": [
    "loglikehood_m3_piecewise = results_m3_piecewise.data.logLike\n",
    "num_params_m3_piecewise = results_m3_piecewise.data.nparam\n",
    "\n",
    "loglikehood_m2 = results_m2.logLike\n",
    "num_params_m2 = results_m2.nparam\n",
    "\n",
    "# Calculate the LR statistic\n",
    "LR = 2 * (loglikehood_m3_piecewise - loglikehood_m2)\n",
    "\n",
    "# Degrees of freedom\n",
    "df = num_params_m3_piecewise - num_params_m2\n",
    "\n",
    "# Critical value at 0.05 significance level\n",
    "critical_value = chi2.ppf(0.95, df)\n",
    "\n",
    "print(\"Likelihood Ratio:\", LR)\n",
    "print(\"Degrees of Freedom:\", df)\n",
    "print(\"Critical Chi-Square Value (0.05 significance):\", critical_value)\n",
    "\n",
    "if LR > critical_value:\n",
    "    print(\"Model 3 piecewise is significantly better than Model 2.\")\n",
    "else:\n",
    "    print(\"No significant improvement in Model 3 piecewise over Model 2.\")"
   ]
  }
 ],
 "metadata": {
  "kernelspec": {
   "display_name": ".venv",
   "language": "python",
   "name": "python3"
  },
  "language_info": {
   "codemirror_mode": {
    "name": "ipython",
    "version": 3
   },
   "file_extension": ".py",
   "mimetype": "text/x-python",
   "name": "python",
   "nbconvert_exporter": "python",
   "pygments_lexer": "ipython3",
   "version": "3.10.5"
  }
 },
 "nbformat": 4,
 "nbformat_minor": 2
}
