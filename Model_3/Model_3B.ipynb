{
 "cells": [
  {
   "cell_type": "markdown",
   "metadata": {},
   "source": [
    "# Imports"
   ]
  },
  {
   "cell_type": "code",
   "execution_count": 1,
   "metadata": {},
   "outputs": [],
   "source": [
    "import pandas as pd\n",
    "import biogeme.database as db\n",
    "import biogeme.biogeme as bio\n",
    "from biogeme.expressions import Beta, Variable, exp, Expression\n",
    "from biogeme.models import loglogit\n",
    "from biogeme.tools import likelihood_ratio_test\n",
    "from biogeme.results import compile_estimation_results\n",
    "from biogeme.models import loglogit,  boxcox\n",
    "from biogeme.models.piecewise import piecewise_formula\n",
    "from biogeme.models import lognested\n",
    "from biogeme.nests import OneNestForNestedLogit, NestsForNestedLogit\n",
    "from biogeme.biogeme import BIOGEME\n",
    "\n",
    "import pickle\n",
    "\n",
    "import numpy as np\n",
    "import os\n",
    "\n",
    "from scipy.stats import chi2"
   ]
  },
  {
   "cell_type": "markdown",
   "metadata": {},
   "source": [
    "# Data & Variables"
   ]
  },
  {
   "cell_type": "code",
   "execution_count": 2,
   "metadata": {},
   "outputs": [
    {
     "name": "stdout",
     "output_type": "stream",
     "text": [
      "'dur_pt' exists in the database.\n",
      "'cost_driving' exists in the database.\n",
      "'age_scaled' exists in the database.\n",
      "'dur_pt' exists in the database.\n",
      "'cost_driving' exists in the database.\n",
      "'age_scaled' exists in the database.\n"
     ]
    }
   ],
   "source": [
    "# Define the relative path to the data folder\n",
    "file_path = os.path.join(os.pardir, 'lpmc01.dat')\n",
    "\n",
    "#file_path = os.path.join(data_folder, 'lpmc01.dat')\n",
    "\n",
    "df = pd.read_csv(file_path, sep = '\\t')\n",
    "df['age_normalized'] = (df['age'] - df['age'].mean()) / df['age'].std()\n",
    "df['age_scaled'] = df['age'] / df['age'].max()\n",
    "df['cost_driving'] = df['cost_driving_ccharge'] + df['cost_driving_fuel']\n",
    "df['dur_pt'] = df['dur_pt_access'] + df['dur_pt_rail'] + df['dur_pt_int'] + df['dur_pt_bus']\n",
    "\n",
    "# max_cost = df['cost_driving'].max() if df['cost_driving'].max() > df['cost_transit'].max() else df['cost_transit'].max()\n",
    "# df['cost_driving'] = df['cost_driving']/max_cost\n",
    "# df['cost_transit'] = df['cost_transit']/max_cost\n",
    "\n",
    "\n",
    "database1 = db.Database('lpmc01', df)\n",
    "\n",
    "\n",
    "# Define the given veriables \n",
    "dur_pt = Variable('dur_pt')\n",
    "cost_driving = Variable('cost_driving')\n",
    "age_scaled = Variable('age_scaled')\n",
    "trip_id = Variable('trip_id')\n",
    "household_id = Variable('household_id')\n",
    "person_n = Variable('person_n')\n",
    "trip_n = Variable('trip_n')\n",
    "travel_mode = Variable('travel_mode')\n",
    "purpose = Variable('purpose')\n",
    "fueltype = Variable('fueltype')\n",
    "faretype = Variable('faretype')\n",
    "bus_scale = Variable('bus_scale')\n",
    "survey_year = Variable('survey_year')\n",
    "travel_year = Variable('travel_year')\n",
    "travel_month = Variable('travel_month')\n",
    "travel_date = Variable('travel_date')\n",
    "day_of_week = Variable('day_of_week')\n",
    "start_time = Variable('start_time')\n",
    "age = Variable('age')\n",
    "female = Variable('female')\n",
    "driving_license = Variable('driving_license')\n",
    "car_ownership = Variable('car_ownership')\n",
    "distance = Variable('distance')\n",
    "dur_walking = Variable('dur_walking')\n",
    "dur_cycling = Variable('dur_cycling')\n",
    "dur_pt_access = Variable('dur_pt_access') # Predicted total access and egress time for public transport route in hours\n",
    "dur_pt_rail = Variable('dur_pt_rail')\n",
    "dur_pt_bus = Variable('dur_pt_bus')\n",
    "dur_pt_int = Variable('dur_pt_int') # Time taken (hrs) at each interchange point\n",
    "pt_interchanges = Variable('pt_interchanges')   # Number of interchange points in public transport route\n",
    "dur_driving = Variable('dur_driving')\n",
    "cost_transit = Variable('cost_transit')\n",
    "cost_driving_fuel = Variable('cost_driving_fuel')   # Estimated fuel cost of driving route in GBP\n",
    "cost_driving_ccharge = Variable('cost_driving_ccharge')  # Estimated congestion charge cost of driving route in GBP\n",
    "driving_traffic_percent = Variable('driving_traffic_percent')\n",
    "\n",
    "\n",
    "\n",
    "# Define transport availability\n",
    "# Assume pt, walking, cycle always available, with car availability depending on number of cars per household. From the data, \n",
    "# people without driving licenses choose driving as their mode of transport (eg. row 28). \n",
    "av_drive =  (car_ownership > 0)\n",
    "av_pt =1\n",
    "av_walk = 1\n",
    "av_cycle = 1\n",
    "\n",
    "variable_names = ['dur_pt', 'cost_driving', 'age_scaled']  # Replace with your variable name\n",
    "for variable_name in variable_names:\n",
    "    if variable_name in database1.data.columns:\n",
    "        print(f\"'{variable_name}' exists in the database.\")\n",
    "    else:\n",
    "        print(f\"'{variable_name}' does NOT exist in the database.\")\n",
    "\n",
    "\n",
    "\n",
    "# Define pt_cost (not needed)\n",
    "# Original paper, page 31: \"Public transport fares are determined for single trips using Oystercard/contactless payment.\"\n",
    "# Therefore, cost_transit should already consider faretype and bus_scale\n",
    "\n",
    "database = db.Database('lpmc01', df)\n",
    "variable_names = ['dur_pt', 'cost_driving', 'age_scaled']  # Replace with your variable name\n",
    "for variable_name in variable_names:\n",
    "    if variable_name in database1.data.columns:\n",
    "        print(f\"'{variable_name}' exists in the database.\")\n",
    "    else:\n",
    "        print(f\"'{variable_name}' does NOT exist in the database.\")\n",
    "\n",
    "# Define driving cost\n",
    "cost_driving = cost_driving_ccharge + cost_driving_fuel\n",
    "\n",
    "# Define time taken by each mode of transport\n",
    "dur_pt = dur_pt_access + dur_pt_int + dur_pt_bus + dur_pt_rail  # Public transport (external) time "
   ]
  },
  {
   "cell_type": "markdown",
   "metadata": {},
   "source": [
    "# Model Definition"
   ]
  },
  {
   "cell_type": "code",
   "execution_count": 3,
   "metadata": {},
   "outputs": [],
   "source": [
    "# Assume every mode of transport is available\n",
    "availability_walk = 1  \n",
    "availability_cycle = 1  \n",
    "availability_pt = 1     \n",
    "availability_drive = 1\n",
    "\n",
    "availability = {\n",
    "    1: availability_walk,   # Walking\n",
    "    2: availability_cycle,  # Cycling\n",
    "    3: availability_pt,     # Public Transport\n",
    "    4: availability_drive   # Driving\n",
    "}\n",
    "\n",
    "# Define alternative-specific parameters for travel time\n",
    "B_TIME_WALK = Beta('B_TIME_WALK', 0, None, None, 0)\n",
    "B_TIME_CYCLE = Beta('B_TIME_CYCLE', 0, None, None, 0)\n",
    "B_TIME_PT = Beta('B_TIME_PT', 0, None, None, 0)\n",
    "B_TIME_DRIVE = Beta('B_TIME_DRIVE', 0, None, None, 0)\n",
    "\n",
    "ASC_CYCLE = Beta('ASC_CYCLE', 0, None, None, 0)\n",
    "ASC_PT = Beta('ASC_PT', 0, None, None, 0)\n",
    "ASC_DRIVE = Beta('ASC_DRIVE', 0, None, None, 0)\n",
    "\n",
    "# Define generic parameters for cost and travel time\n",
    "B_COST = Beta('B_COST', 0, None, None, 0)\n",
    "\n",
    "B_TIME_WALK_AGE = Beta('B_TIME_WALK_AGE', 0, None, None, 0)\n",
    "B_TIME_CYCLE_AGE = Beta('B_TIME_CYCLE_AGE', 0, None, None, 0) \n",
    "B_TIME_PT_AGE = Beta('B_TIME_PT_AGE', 0, None, None, 0)\n",
    "B_TIME_DRIVE_AGE = Beta('B_TIME_DRIVE_AGE', 0, None, None, 0) * age_scaled"
   ]
  },
  {
   "cell_type": "markdown",
   "metadata": {},
   "source": [
    "## BoxCox"
   ]
  },
  {
   "cell_type": "code",
   "execution_count": 4,
   "metadata": {},
   "outputs": [],
   "source": [
    "LAMDA_COST = Beta('lambda_cost', 1, -10, 10, 0)\n",
    "bx_cost_pt = boxcox(cost_transit, LAMDA_COST)\n",
    "bx_cost_driving = boxcox(cost_driving, LAMDA_COST)\n",
    "\n",
    "# Utility functions with interaction terms\n",
    "# Updated utility functions with age interaction for travel time\n",
    "V_WALK = (B_TIME_WALK + B_TIME_WALK_AGE * age_scaled) * dur_walking\n",
    "V_CYCLE = ASC_CYCLE + (B_TIME_CYCLE + B_TIME_CYCLE_AGE* age_scaled) * dur_cycling\n",
    "V_PT = ASC_PT + B_COST * bx_cost_pt + (B_TIME_PT + B_TIME_PT_AGE* age_scaled) * dur_pt\n",
    "V_DRIVE = ASC_DRIVE + B_COST * bx_cost_driving + (B_TIME_DRIVE) * dur_driving\n",
    "\n",
    "# Associate utility functions with the mode choice\n",
    "V = {\n",
    "    1: V_WALK,    # Walking\n",
    "    2: V_CYCLE,   # Cycling\n",
    "    3: V_PT,      # Public Transport\n",
    "    4: V_DRIVE    # Driving\n",
    "}\n",
    "\n",
    "# Specify the model\n",
    "model_3_bx = loglogit({1: V_WALK, 2: V_CYCLE, 3: V_PT, 4: V_DRIVE}, availability, travel_mode)"
   ]
  },
  {
   "cell_type": "markdown",
   "metadata": {},
   "source": [
    "### Results"
   ]
  },
  {
   "cell_type": "code",
   "execution_count": 5,
   "metadata": {},
   "outputs": [
    {
     "name": "stdout",
     "output_type": "stream",
     "text": [
      "Estimation results for Model 3 Box Cox:\n",
      "                     Value  Rob. Std err  Rob. t-test  Rob. p-value\n",
      "ASC_CYCLE        -4.747178      0.216772   -21.899419  0.000000e+00\n",
      "ASC_DRIVE        -2.890773      0.212399   -13.610098  0.000000e+00\n",
      "ASC_PT           -2.794580      0.161048   -17.352427  0.000000e+00\n",
      "B_COST           -0.471063      0.052648    -8.947461  0.000000e+00\n",
      "B_TIME_CYCLE     -5.692957      0.649514    -8.764956  0.000000e+00\n",
      "B_TIME_CYCLE_AGE -3.246801      1.153781    -2.814053  4.892112e-03\n",
      "B_TIME_DRIVE     -6.235672      0.377903   -16.500711  0.000000e+00\n",
      "B_TIME_PT        -2.986982      0.280694   -10.641421  0.000000e+00\n",
      "B_TIME_PT_AGE    -1.971827      0.357259    -5.519324  3.403053e-08\n",
      "B_TIME_WALK      -8.122342      0.482015   -16.850795  0.000000e+00\n",
      "B_TIME_WALK_AGE  -3.560166      0.785469    -4.532534  5.828023e-06\n",
      "lambda_cost       0.310550      0.080099     3.877100  1.057089e-04\n"
     ]
    }
   ],
   "source": [
    "biogeme_bx = bio.BIOGEME(database, model_3_bx)\n",
    "biogeme_bx.modelName = 'model_3_bx'\n",
    "\n",
    "results_m3_bx = biogeme_bx.estimate()\n",
    "\n",
    "print(\"Estimation results for Model 3 Box Cox:\")\n",
    "print(results_m3_bx.get_estimated_parameters())"
   ]
  },
  {
   "cell_type": "code",
   "execution_count": 6,
   "metadata": {},
   "outputs": [
    {
     "name": "stdout",
     "output_type": "stream",
     "text": [
      "Number of estimated parameters:\t12\n",
      "Sample size:\t5000\n",
      "Excluded observations:\t0\n",
      "Init log likelihood:\t-4324.803\n",
      "Final log likelihood:\t-4195.591\n",
      "Likelihood ratio test for the init. model:\t258.4254\n",
      "Rho-square for the init. model:\t0.0299\n",
      "Rho-square-bar for the init. model:\t0.0271\n",
      "Akaike Information Criterion:\t8415.181\n",
      "Bayesian Information Criterion:\t8493.388\n",
      "Final gradient norm:\t8.6413E-03\n",
      "Nbr of threads:\t16\n",
      "\n"
     ]
    }
   ],
   "source": [
    "print(results_m3_bx.print_general_statistics())"
   ]
  },
  {
   "cell_type": "markdown",
   "metadata": {},
   "source": [
    "### Test against Model 2"
   ]
  },
  {
   "cell_type": "code",
   "execution_count": 7,
   "metadata": {},
   "outputs": [],
   "source": [
    "folder_path = os.path.join(os.pardir, 'Model_2')\n",
    "file_path = os.path.join(folder_path, 'Model_2B.pickle')\n",
    "\n",
    "# open a file, where you stored the pickled data\n",
    "file = open(file_path, 'rb')\n",
    "\n",
    "# dump information to that file\n",
    "results_m2 = pickle.load(file)\n",
    "\n",
    "# close the file\n",
    "file.close()"
   ]
  },
  {
   "cell_type": "code",
   "execution_count": 8,
   "metadata": {},
   "outputs": [
    {
     "name": "stdout",
     "output_type": "stream",
     "text": [
      "Likelihood Ratio: -2.5002527901942813\n",
      "Degrees of Freedom: 1\n",
      "Critical Chi-Square Value (0.05 significance): 3.841458820694124\n",
      "No significant improvement in Model 3 Box Cox over Model 2.\n"
     ]
    }
   ],
   "source": [
    "loglikehood_m3_bx = results_m3_bx.data.logLike\n",
    "num_params_m3_bx = results_m3_bx.data.nparam\n",
    "\n",
    "loglikehood_m2 = results_m2.logLike\n",
    "num_params_m2 = results_m2.nparam\n",
    "\n",
    "# Calculate the LR statistic\n",
    "LR = 2 * (loglikehood_m3_bx - loglikehood_m2)\n",
    "\n",
    "# Degrees of freedom\n",
    "df = num_params_m3_bx - num_params_m2\n",
    "\n",
    "# Critical value at 0.05 significance level\n",
    "critical_value = chi2.ppf(0.95, df)\n",
    "\n",
    "print(\"Likelihood Ratio:\", LR)\n",
    "print(\"Degrees of Freedom:\", df)\n",
    "print(\"Critical Chi-Square Value (0.05 significance):\", critical_value)\n",
    "\n",
    "if LR > critical_value:\n",
    "    print(\"Model 3 Box Cox is significantly better than Model 2.\")\n",
    "else:\n",
    "    print(\"No significant improvement in Model 3 Box Cox over Model 2.\")"
   ]
  },
  {
   "cell_type": "markdown",
   "metadata": {},
   "source": [
    "## Power Series"
   ]
  },
  {
   "cell_type": "code",
   "execution_count": 9,
   "metadata": {},
   "outputs": [],
   "source": [
    "square_tt_coef = Beta('square_cost_coef', 0, None, None, 0)\n",
    "cube_tt_coef = Beta('cube_cost_coef', 0, None, None, 0)\n",
    "\n",
    "def power_series(the_variable: Expression) -> Expression:\n",
    "    \"\"\"Generate the expression of a polynomial of degree 3\n",
    "\n",
    "    :param the_variable: variable of the polynomial\n",
    "    \"\"\"\n",
    "    return (\n",
    "        the_variable\n",
    "        + square_tt_coef * the_variable**2\n",
    "        + cube_tt_coef * the_variable * the_variable**3\n",
    "    )"
   ]
  },
  {
   "cell_type": "code",
   "execution_count": 10,
   "metadata": {},
   "outputs": [],
   "source": [
    "power_cost_driving = power_series(cost_driving)\n",
    "power_cost_pt = power_series(cost_transit)\n",
    "\n",
    "# Utility functions with interaction terms\n",
    "V_WALK = (B_TIME_WALK + B_TIME_WALK_AGE * age_scaled) * dur_walking\n",
    "V_CYCLE = ASC_CYCLE + (B_TIME_CYCLE + B_TIME_CYCLE_AGE* age_scaled) * dur_cycling\n",
    "V_PT = ASC_PT + B_COST * power_cost_pt + (B_TIME_PT + B_TIME_PT_AGE* age_scaled) * dur_pt\n",
    "V_DRIVE = ASC_DRIVE + B_COST * power_cost_driving + (B_TIME_DRIVE) * dur_driving\n",
    "\n",
    "\n",
    "# Associate utility functions with the mode choice\n",
    "V = {\n",
    "    1: V_WALK,    # Walking\n",
    "    2: V_CYCLE,   # Cycling\n",
    "    3: V_PT,      # Public Transport\n",
    "    4: V_DRIVE    # Driving\n",
    "}\n",
    "\n",
    "# Specify the model\n",
    "model_3_power = loglogit({1: V_WALK, 2: V_CYCLE, 3: V_PT, 4: V_DRIVE}, availability, travel_mode)"
   ]
  },
  {
   "cell_type": "markdown",
   "metadata": {},
   "source": [
    "### Results"
   ]
  },
  {
   "cell_type": "code",
   "execution_count": 11,
   "metadata": {},
   "outputs": [
    {
     "name": "stdout",
     "output_type": "stream",
     "text": [
      "Estimation results for Model 3 Power:\n",
      "                     Value  Rob. Std err  Rob. t-test  Rob. p-value\n",
      "ASC_CYCLE        -4.624940      0.201828   -22.915199  0.000000e+00\n",
      "ASC_DRIVE        -2.137928      0.149900   -14.262381  0.000000e+00\n",
      "ASC_PT           -2.534902      0.154212   -16.437778  0.000000e+00\n",
      "B_COST           -0.304758      0.064181    -4.748373  2.050595e-06\n",
      "B_TIME_CYCLE     -5.702125      0.664024    -8.587233  0.000000e+00\n",
      "B_TIME_CYCLE_AGE -3.125043      1.190828    -2.624261  8.683723e-03\n",
      "B_TIME_DRIVE     -6.963807      0.431108   -16.153282  0.000000e+00\n",
      "B_TIME_PT        -2.841807      0.284258    -9.997292  0.000000e+00\n",
      "B_TIME_PT_AGE    -2.071367      0.362591    -5.712687  1.112063e-08\n",
      "B_TIME_WALK      -7.847701      0.454543   -17.265029  0.000000e+00\n",
      "B_TIME_WALK_AGE  -3.567060      0.794492    -4.489739  7.131043e-06\n",
      "cube_cost_coef   -0.000141      0.000281    -0.502321  6.154414e-01\n",
      "square_cost_coef -0.018776      0.045628    -0.411500  6.807063e-01\n"
     ]
    }
   ],
   "source": [
    "biogeme_power = bio.BIOGEME(database, model_3_power)\n",
    "biogeme_power.modelName = 'model_3_power'\n",
    "\n",
    "results_m3_power = biogeme_power.estimate()\n",
    "\n",
    "print(\"Estimation results for Model 3 Power:\")\n",
    "print(results_m3_power.get_estimated_parameters())"
   ]
  },
  {
   "cell_type": "code",
   "execution_count": 12,
   "metadata": {},
   "outputs": [
    {
     "name": "stdout",
     "output_type": "stream",
     "text": [
      "Number of estimated parameters:\t13\n",
      "Sample size:\t5000\n",
      "Excluded observations:\t0\n",
      "Init log likelihood:\t-4383.609\n",
      "Final log likelihood:\t-4185.767\n",
      "Likelihood ratio test for the init. model:\t395.6832\n",
      "Rho-square for the init. model:\t0.0451\n",
      "Rho-square-bar for the init. model:\t0.0422\n",
      "Akaike Information Criterion:\t8397.535\n",
      "Bayesian Information Criterion:\t8482.258\n",
      "Final gradient norm:\t2.1165E-01\n",
      "Nbr of threads:\t16\n",
      "\n"
     ]
    }
   ],
   "source": [
    "print(results_m3_power.print_general_statistics())"
   ]
  },
  {
   "cell_type": "markdown",
   "metadata": {},
   "source": [
    "### Test Against Model 2"
   ]
  },
  {
   "cell_type": "code",
   "execution_count": 13,
   "metadata": {},
   "outputs": [],
   "source": [
    "folder_path = os.path.join(os.pardir, 'Model_2')\n",
    "file_path = os.path.join(folder_path, 'Model_2B.pickle')\n",
    "\n",
    "# open a file, where you stored the pickled data\n",
    "file = open(file_path, 'rb')\n",
    "\n",
    "# dump information to that file\n",
    "results_m2 = pickle.load(file)\n",
    "\n",
    "# close the file\n",
    "file.close()"
   ]
  },
  {
   "cell_type": "code",
   "execution_count": 14,
   "metadata": {},
   "outputs": [
    {
     "name": "stdout",
     "output_type": "stream",
     "text": [
      "Likelihood Ratio: 17.146546868931182\n",
      "Degrees of Freedom: 2\n",
      "Critical Chi-Square Value (0.05 significance): 5.991464547107979\n",
      "Model 3 Power is significantly better than Model 2.\n"
     ]
    }
   ],
   "source": [
    "loglikehood_m3_power = results_m3_power.data.logLike\n",
    "num_params_m3_power = results_m3_power.data.nparam\n",
    "\n",
    "loglikehood_m2 = results_m2.logLike\n",
    "num_params_m2 = results_m2.nparam\n",
    "\n",
    "# Calculate the LR statistic\n",
    "LR = 2 * (loglikehood_m3_power - loglikehood_m2)\n",
    "\n",
    "# Degrees of freedom\n",
    "df = num_params_m3_power - num_params_m2\n",
    "\n",
    "# Critical value at 0.05 significance level\n",
    "critical_value = chi2.ppf(0.95, df)\n",
    "\n",
    "print(\"Likelihood Ratio:\", LR)\n",
    "print(\"Degrees of Freedom:\", df)\n",
    "print(\"Critical Chi-Square Value (0.05 significance):\", critical_value)\n",
    "\n",
    "if LR > critical_value:\n",
    "    print(\"Model 3 Power is significantly better than Model 2.\")\n",
    "else:\n",
    "    print(\"No significant improvement in Model 3 Power over Model 2.\")"
   ]
  },
  {
   "cell_type": "markdown",
   "metadata": {},
   "source": [
    "## Piecewise Linear"
   ]
  },
  {
   "cell_type": "code",
   "execution_count": 15,
   "metadata": {},
   "outputs": [],
   "source": [
    "thresholds = [0, 1, 5, None]\n",
    "\n",
    "beta_cost_0_5 = Beta('beta_cost_0_5', 0, None, None, 0)\n",
    "beta_cost_5_10 = Beta('beta_cost_5_10', 0, None, None, 0)\n",
    "beta_cost_10_more = Beta('beta_cost_10_more', 0, None, None, 0)\n",
    "betas_piecewise = [beta_cost_0_5, \n",
    "                   beta_cost_5_10, \n",
    "                   beta_cost_10_more]\n",
    "\n",
    "piecewise_cost_driving = piecewise_formula(\n",
    "    'cost_driving', thresholds, betas_piecewise\n",
    ")\n",
    "\n",
    "piecewise_cost_pt = piecewise_formula(\n",
    "    'cost_transit', thresholds, betas_piecewise\n",
    ")\n"
   ]
  },
  {
   "cell_type": "code",
   "execution_count": 16,
   "metadata": {},
   "outputs": [],
   "source": [
    "# Utility functions with interaction terms\n",
    "V_WALK = (B_TIME_WALK + B_TIME_WALK_AGE * age_scaled) * dur_walking\n",
    "V_CYCLE = ASC_CYCLE + (B_TIME_CYCLE + B_TIME_CYCLE_AGE* age_scaled) * dur_cycling\n",
    "V_PT = ASC_PT + B_COST * piecewise_cost_pt + (B_TIME_PT + B_TIME_PT_AGE* age_scaled) * dur_pt\n",
    "V_DRIVE = ASC_DRIVE + B_COST * piecewise_cost_driving + (B_TIME_DRIVE) * dur_driving\n",
    "\n",
    "# Associate utility functions with the mode choice\n",
    "V = {\n",
    "    1: V_WALK,    # Walking\n",
    "    2: V_CYCLE,   # Cycling\n",
    "    3: V_PT,      # Public Transport\n",
    "    4: V_DRIVE    # Driving\n",
    "}\n",
    "\n",
    "# Specify the model\n",
    "model_3_piecewise = loglogit({1: V_WALK, 2: V_CYCLE, 3: V_PT, 4: V_DRIVE}, availability, travel_mode)"
   ]
  },
  {
   "cell_type": "markdown",
   "metadata": {},
   "source": [
    "### Results"
   ]
  },
  {
   "cell_type": "code",
   "execution_count": 17,
   "metadata": {},
   "outputs": [
    {
     "name": "stdout",
     "output_type": "stream",
     "text": [
      "Estimation results for Model 3 piecewise:\n",
      "                      Value  Rob. Std err  Rob. t-test  Rob. p-value\n",
      "ASC_CYCLE         -4.719840      0.208723   -22.612886  0.000000e+00\n",
      "ASC_DRIVE         -2.100853      0.150018   -14.004018  0.000000e+00\n",
      "ASC_PT            -2.431930      0.153308   -15.863028  0.000000e+00\n",
      "B_COST            -0.600902      0.083236    -7.219225  5.229150e-13\n",
      "B_TIME_CYCLE      -5.549058      0.665998    -8.331939  0.000000e+00\n",
      "B_TIME_CYCLE_AGE  -3.217154      1.187427    -2.709349  6.741547e-03\n",
      "B_TIME_DRIVE      -6.549225      0.377434   -17.351980  0.000000e+00\n",
      "B_TIME_PT         -2.967961      0.282676   -10.499518  0.000000e+00\n",
      "B_TIME_PT_AGE     -2.193466      0.355420    -6.171476  6.765526e-10\n",
      "B_TIME_WALK       -7.965105      0.458688   -17.364974  0.000000e+00\n",
      "B_TIME_WALK_AGE   -3.615706      0.809056    -4.469040  7.857133e-06\n",
      "beta_cost_0_5      1.161761      0.149144     7.789506  6.661338e-15\n",
      "beta_cost_10_more  0.336632      0.027424    12.274910  0.000000e+00\n",
      "beta_cost_5_10     0.071958      0.096866     0.742857  4.575686e-01\n"
     ]
    }
   ],
   "source": [
    "biogeme_piecewise = bio.BIOGEME(database, model_3_piecewise)\n",
    "biogeme_piecewise.modelName = 'model_3_piecewise'\n",
    "\n",
    "results_m3_piecewise = biogeme_piecewise.estimate()\n",
    "\n",
    "print(\"Estimation results for Model 3 piecewise:\")\n",
    "print(results_m3_piecewise.get_estimated_parameters())"
   ]
  },
  {
   "cell_type": "code",
   "execution_count": 18,
   "metadata": {},
   "outputs": [
    {
     "name": "stdout",
     "output_type": "stream",
     "text": [
      "Number of estimated parameters:\t14\n",
      "Sample size:\t5000\n",
      "Excluded observations:\t0\n",
      "Init log likelihood:\t-4294.178\n",
      "Final log likelihood:\t-4174.127\n",
      "Likelihood ratio test for the init. model:\t240.1017\n",
      "Rho-square for the init. model:\t0.028\n",
      "Rho-square-bar for the init. model:\t0.0247\n",
      "Akaike Information Criterion:\t8376.255\n",
      "Bayesian Information Criterion:\t8467.495\n",
      "Final gradient norm:\t1.6051E-01\n",
      "Nbr of threads:\t16\n",
      "\n"
     ]
    }
   ],
   "source": [
    "print(results_m3_piecewise.print_general_statistics())"
   ]
  },
  {
   "cell_type": "markdown",
   "metadata": {},
   "source": [
    "### Test Against Model 2"
   ]
  },
  {
   "cell_type": "code",
   "execution_count": 19,
   "metadata": {},
   "outputs": [],
   "source": [
    "folder_path = os.path.join(os.pardir, 'Model_2')\n",
    "file_path = os.path.join(folder_path, 'Model_2B.pickle')\n",
    "\n",
    "# open a file, where you stored the pickled data\n",
    "file = open(file_path, 'rb')\n",
    "\n",
    "# dump information to that file\n",
    "results_m2 = pickle.load(file)\n",
    "\n",
    "# close the file\n",
    "file.close()"
   ]
  },
  {
   "cell_type": "code",
   "execution_count": 20,
   "metadata": {},
   "outputs": [
    {
     "name": "stdout",
     "output_type": "stream",
     "text": [
      "Likelihood Ratio: 40.4264966407427\n",
      "Degrees of Freedom: 3\n",
      "Critical Chi-Square Value (0.05 significance): 7.814727903251179\n",
      "Model 3 piecewise is significantly better than Model 2.\n"
     ]
    }
   ],
   "source": [
    "loglikehood_m3_piecewise = results_m3_piecewise.data.logLike\n",
    "num_params_m3_piecewise = results_m3_piecewise.data.nparam\n",
    "\n",
    "loglikehood_m2 = results_m2.logLike\n",
    "num_params_m2 = results_m2.nparam\n",
    "\n",
    "# Calculate the LR statistic\n",
    "LR = 2 * (loglikehood_m3_piecewise - loglikehood_m2)\n",
    "\n",
    "# Degrees of freedom\n",
    "df = num_params_m3_piecewise - num_params_m2\n",
    "\n",
    "# Critical value at 0.05 significance level\n",
    "critical_value = chi2.ppf(0.95, df)\n",
    "\n",
    "print(\"Likelihood Ratio:\", LR)\n",
    "print(\"Degrees of Freedom:\", df)\n",
    "print(\"Critical Chi-Square Value (0.05 significance):\", critical_value)\n",
    "\n",
    "if LR > critical_value:\n",
    "    print(\"Model 3 piecewise is significantly better than Model 2.\")\n",
    "else:\n",
    "    print(\"No significant improvement in Model 3 piecewise over Model 2.\")"
   ]
  }
 ],
 "metadata": {
  "kernelspec": {
   "display_name": ".venv",
   "language": "python",
   "name": "python3"
  },
  "language_info": {
   "codemirror_mode": {
    "name": "ipython",
    "version": 3
   },
   "file_extension": ".py",
   "mimetype": "text/x-python",
   "name": "python",
   "nbconvert_exporter": "python",
   "pygments_lexer": "ipython3",
   "version": "3.10.5"
  }
 },
 "nbformat": 4,
 "nbformat_minor": 2
}
