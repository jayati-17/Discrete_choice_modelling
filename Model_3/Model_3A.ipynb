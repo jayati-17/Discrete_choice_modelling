{
 "cells": [
  {
   "cell_type": "markdown",
   "metadata": {},
   "source": [
    "# Imports"
   ]
  },
  {
   "cell_type": "code",
   "execution_count": 1,
   "metadata": {},
   "outputs": [],
   "source": [
    "import pandas as pd\n",
    "import biogeme.database as db\n",
    "import biogeme.biogeme as bio\n",
    "from biogeme.expressions import Beta, Variable, exp, Expression\n",
    "from biogeme.models import loglogit\n",
    "from biogeme.tools import likelihood_ratio_test\n",
    "from biogeme.results import compile_estimation_results\n",
    "from biogeme.models import loglogit,  boxcox\n",
    "from biogeme.models.piecewise import piecewise_formula\n",
    "from biogeme.models import lognested\n",
    "from biogeme.nests import OneNestForNestedLogit, NestsForNestedLogit\n",
    "from biogeme.biogeme import BIOGEME\n",
    "\n",
    "import pickle\n",
    "\n",
    "import numpy as np\n",
    "import os\n",
    "\n",
    "from scipy.stats import chi2"
   ]
  },
  {
   "cell_type": "markdown",
   "metadata": {},
   "source": [
    "# Data & Variables"
   ]
  },
  {
   "cell_type": "code",
   "execution_count": 22,
   "metadata": {},
   "outputs": [
    {
     "name": "stdout",
     "output_type": "stream",
     "text": [
      "'dur_pt' exists in the database.\n",
      "'cost_driving' exists in the database.\n",
      "'age_scaled' exists in the database.\n",
      "'dur_pt' exists in the database.\n",
      "'cost_driving' exists in the database.\n",
      "'age_scaled' exists in the database.\n"
     ]
    }
   ],
   "source": [
    "# Define the relative path to the data folder\n",
    "file_path = os.path.join(os.pardir, 'lpmc01.dat')\n",
    "\n",
    "#file_path = os.path.join(data_folder, 'lpmc01.dat')\n",
    "\n",
    "df = pd.read_csv(file_path, sep = '\\t')\n",
    "df['age_normalized'] = (df['age'] - df['age'].mean()) / df['age'].std()\n",
    "df['age_scaled'] = df['age'] / df['age'].max()\n",
    "df['cost_driving'] = df['cost_driving_ccharge'] + df['cost_driving_fuel']\n",
    "df['dur_pt'] = df['dur_pt_access'] + df['dur_pt_rail'] + df['dur_pt_int'] + df['dur_pt_bus']\n",
    "\n",
    "database1 = db.Database('lpmc01', df)\n",
    "\n",
    "\n",
    "# Define the given veriables \n",
    "dur_pt = Variable('dur_pt')\n",
    "cost_driving = Variable('cost_driving')\n",
    "age_scaled = Variable('age_scaled')\n",
    "trip_id = Variable('trip_id')\n",
    "household_id = Variable('household_id')\n",
    "person_n = Variable('person_n')\n",
    "trip_n = Variable('trip_n')\n",
    "travel_mode = Variable('travel_mode')\n",
    "purpose = Variable('purpose')\n",
    "fueltype = Variable('fueltype')\n",
    "faretype = Variable('faretype')\n",
    "bus_scale = Variable('bus_scale')\n",
    "survey_year = Variable('survey_year')\n",
    "travel_year = Variable('travel_year')\n",
    "travel_month = Variable('travel_month')\n",
    "travel_date = Variable('travel_date')\n",
    "day_of_week = Variable('day_of_week')\n",
    "start_time = Variable('start_time')\n",
    "age = Variable('age')\n",
    "female = Variable('female')\n",
    "driving_license = Variable('driving_license')\n",
    "car_ownership = Variable('car_ownership')\n",
    "distance = Variable('distance')\n",
    "dur_walking = Variable('dur_walking')\n",
    "dur_cycling = Variable('dur_cycling')\n",
    "dur_pt_access = Variable('dur_pt_access') # Predicted total access and egress time for public transport route in hours\n",
    "dur_pt_rail = Variable('dur_pt_rail')\n",
    "dur_pt_bus = Variable('dur_pt_bus')\n",
    "dur_pt_int = Variable('dur_pt_int') # Time taken (hrs) at each interchange point\n",
    "pt_interchanges = Variable('pt_interchanges')   # Number of interchange points in public transport route\n",
    "dur_driving = Variable('dur_driving')\n",
    "cost_transit = Variable('cost_transit')\n",
    "cost_driving_fuel = Variable('cost_driving_fuel')   # Estimated fuel cost of driving route in GBP\n",
    "cost_driving_ccharge = Variable('cost_driving_ccharge')  # Estimated congestion charge cost of driving route in GBP\n",
    "driving_traffic_percent = Variable('driving_traffic_percent')\n",
    "\n",
    "\n",
    "\n",
    "# Define transport availability\n",
    "# Assume pt, walking, cycle always available, with car availability depending on number of cars per household. From the data, \n",
    "# people without driving licenses choose driving as their mode of transport (eg. row 28). \n",
    "av_drive =  (car_ownership > 0)\n",
    "av_pt =1\n",
    "av_walk = 1\n",
    "av_cycle = 1\n",
    "\n",
    "variable_names = ['dur_pt', 'cost_driving', 'age_scaled']  # Replace with your variable name\n",
    "for variable_name in variable_names:\n",
    "    if variable_name in database1.data.columns:\n",
    "        print(f\"'{variable_name}' exists in the database.\")\n",
    "    else:\n",
    "        print(f\"'{variable_name}' does NOT exist in the database.\")\n",
    "\n",
    "\n",
    "\n",
    "# Define pt_cost (not needed)\n",
    "# Original paper, page 31: \"Public transport fares are determined for single trips using Oystercard/contactless payment.\"\n",
    "# Therefore, cost_transit should already consider faretype and bus_scale\n",
    "\n",
    "database = db.Database('lpmc01', df)\n",
    "variable_names = ['dur_pt', 'cost_driving', 'age_scaled']  # Replace with your variable name\n",
    "for variable_name in variable_names:\n",
    "    if variable_name in database1.data.columns:\n",
    "        print(f\"'{variable_name}' exists in the database.\")\n",
    "    else:\n",
    "        print(f\"'{variable_name}' does NOT exist in the database.\")\n",
    "\n",
    "# Define driving cost\n",
    "cost_driving = cost_driving_ccharge + cost_driving_fuel\n",
    "\n",
    "# Define time taken by each mode of transport\n",
    "dur_pt = dur_pt_access + dur_pt_int + dur_pt_bus + dur_pt_rail  # Public transport (external) time "
   ]
  },
  {
   "cell_type": "code",
   "execution_count": 24,
   "metadata": {},
   "outputs": [
    {
     "data": {
      "text/plain": [
       "array([[<Axes: title={'center': 'cost_driving'}>,\n",
       "        <Axes: title={'center': 'cost_transit'}>]], dtype=object)"
      ]
     },
     "execution_count": 24,
     "metadata": {},
     "output_type": "execute_result"
    },
    {
     "data": {
      "image/png": "[encoded data removed]",
      "text/plain": [
       "<Figure size 640x480 with 2 Axes>"
      ]
     },
     "metadata": {},
     "output_type": "display_data"
    }
   ],
   "source": [
    "df[['cost_driving', 'cost_transit']].hist()"
   ]
  },
  {
   "cell_type": "markdown",
   "metadata": {},
   "source": [
    "# Model Definition"
   ]
  },
  {
   "cell_type": "code",
   "execution_count": 3,
   "metadata": {},
   "outputs": [],
   "source": [
    "# Assume every mode of transport is available\n",
    "availability_walk = 1  \n",
    "availability_cycle = 1  \n",
    "availability_pt = 1     \n",
    "availability_drive = 1\n",
    "\n",
    "availability = {\n",
    "    1: availability_walk,   # Walking\n",
    "    2: availability_cycle,  # Cycling\n",
    "    3: availability_pt,     # Public Transport\n",
    "    4: availability_drive   # Driving\n",
    "}\n",
    "\n",
    "ASC_CYCLE = Beta('ASC_CYCLE', 0, None, None, 0)\n",
    "ASC_PT = Beta('ASC_PT', 0, None, None, 0)\n",
    "ASC_DRIVE = Beta('ASC_DRIVE', 0, None, None, 0)\n",
    "\n",
    "# Define generic parameters for cost and travel time\n",
    "B_COST = Beta('B_COST', 0, None, None, 0)\n",
    "\n",
    "# Define interaction terms between ASCs and age_scaled\n",
    "ASC_CYCLE_AGE = ASC_CYCLE + Beta('ASC_CYCLE_AGE', 0, None, None, 0) * age_scaled\n",
    "ASC_PT_AGE = ASC_PT + Beta('ASC_PT_AGE', 0, None, None, 0) * age_scaled\n",
    "ASC_DRIVE_AGE =  Beta('ASC_DRIVE_AGE', 0, None, None, 0) \n",
    "ASC_WALK_AGE =  Beta('ASC_WALK_AGE', 0, None, None, 0)\n",
    "\n",
    "B_TIME_WALK = Beta('B_TIME_WALK', 0, None, None, 0)\n",
    "B_TIME_CYCLE = Beta('B_TIME_CYCLE', 0, None, None, 0)\n",
    "B_TIME_PT = Beta('B_TIME_PT', 0, None, None, 0)\n",
    "B_TIME_DRIVE = Beta('B_TIME_DRIVE', 0, None, None, 0)"
   ]
  },
  {
   "cell_type": "markdown",
   "metadata": {},
   "source": [
    "## BoxCox"
   ]
  },
  {
   "cell_type": "code",
   "execution_count": 4,
   "metadata": {},
   "outputs": [],
   "source": [
    "LAMDA_COST = Beta('lambda_cost', 1, -10, 10, 0)\n",
    "bx_cost_pt = boxcox(cost_transit, LAMDA_COST)\n",
    "bx_cost_driving = boxcox(cost_driving, LAMDA_COST)\n",
    "\n",
    "# Utility functions with interaction terms\n",
    "V_WALK = ASC_WALK_AGE * age_scaled + B_TIME_WALK * dur_walking\n",
    "V_CYCLE = ASC_CYCLE + B_TIME_CYCLE * dur_cycling\n",
    "V_PT = ASC_PT + B_COST * bx_cost_pt + B_TIME_PT * dur_pt\n",
    "V_DRIVE = (ASC_DRIVE + ASC_DRIVE_AGE * age_scaled) + B_COST * bx_cost_driving + B_TIME_DRIVE * dur_driving\n",
    "\n",
    "# Associate utility functions with the mode choice\n",
    "V = {\n",
    "    1: V_WALK,    # Walking\n",
    "    2: V_CYCLE,   # Cycling\n",
    "    3: V_PT,      # Public Transport\n",
    "    4: V_DRIVE    # Driving\n",
    "}\n",
    "\n",
    "# Specify the model\n",
    "model_3_bx = loglogit({1: V_WALK, 2: V_CYCLE, 3: V_PT, 4: V_DRIVE}, availability, travel_mode)"
   ]
  },
  {
   "cell_type": "markdown",
   "metadata": {},
   "source": [
    "### Results"
   ]
  },
  {
   "cell_type": "code",
   "execution_count": 5,
   "metadata": {},
   "outputs": [
    {
     "name": "stdout",
     "output_type": "stream",
     "text": [
      "Estimation results for Model 3 Box Cox:\n",
      "                  Value  Rob. Std err  Rob. t-test  Rob. p-value\n",
      "ASC_CYCLE     -5.117298      0.247405   -20.683894      0.000000\n",
      "ASC_DRIVE     -3.464264      0.238582   -14.520228      0.000000\n",
      "ASC_DRIVE_AGE  0.540153      0.174325     3.098534      0.001945\n",
      "ASC_PT        -3.164657      0.194648   -16.258332      0.000000\n",
      "ASC_WALK_AGE  -0.895721      0.240877    -3.718578      0.000200\n",
      "B_COST        -0.460634      0.052127    -8.836717      0.000000\n",
      "B_TIME_CYCLE  -6.957434      0.511992   -13.588947      0.000000\n",
      "B_TIME_DRIVE  -6.214024      0.377508   -16.460630      0.000000\n",
      "B_TIME_PT     -3.765651      0.247736   -15.200248      0.000000\n",
      "B_TIME_WALK   -9.541919      0.506065   -18.855118      0.000000\n",
      "lambda_cost    0.323416      0.080978     3.993897      0.000065\n"
     ]
    }
   ],
   "source": [
    "biogeme_bx = bio.BIOGEME(database, model_3_bx)\n",
    "biogeme_bx.modelName = 'model_3_bx'\n",
    "\n",
    "results_m3_bx = biogeme_bx.estimate()\n",
    "\n",
    "print(\"Estimation results for Model 3 Box Cox:\")\n",
    "print(results_m3_bx.get_estimated_parameters())"
   ]
  },
  {
   "cell_type": "code",
   "execution_count": 6,
   "metadata": {},
   "outputs": [
    {
     "name": "stdout",
     "output_type": "stream",
     "text": [
      "Number of estimated parameters:\t11\n",
      "Sample size:\t5000\n",
      "Excluded observations:\t0\n",
      "Init log likelihood:\t-6931.472\n",
      "Final log likelihood:\t-4204.073\n",
      "Likelihood ratio test for the init. model:\t5454.797\n",
      "Rho-square for the init. model:\t0.393\n",
      "Rho-square-bar for the init. model:\t0.392\n",
      "Akaike Information Criterion:\t8430.147\n",
      "Bayesian Information Criterion:\t8501.836\n",
      "Final gradient norm:\t2.8405E-02\n",
      "Nbr of threads:\t16\n",
      "\n"
     ]
    }
   ],
   "source": [
    "print(results_m3_bx.print_general_statistics())"
   ]
  },
  {
   "cell_type": "markdown",
   "metadata": {},
   "source": [
    "### Test against Model 2"
   ]
  },
  {
   "cell_type": "code",
   "execution_count": 7,
   "metadata": {},
   "outputs": [],
   "source": [
    "folder_path = os.path.join(os.pardir, 'Model_2')\n",
    "file_path = os.path.join(folder_path, 'Model_2A.pickle')\n",
    "\n",
    "# open a file, where you stored the pickled data\n",
    "file = open(file_path, 'rb')\n",
    "\n",
    "# dump information to that file\n",
    "results_m2 = pickle.load(file)\n",
    "\n",
    "# close the file\n",
    "file.close()"
   ]
  },
  {
   "cell_type": "code",
   "execution_count": 8,
   "metadata": {},
   "outputs": [
    {
     "name": "stdout",
     "output_type": "stream",
     "text": [
      "Likelihood Ratio: -2.7860561737143144\n",
      "Degrees of Freedom: 1\n",
      "Critical Chi-Square Value (0.05 significance): 3.841458820694124\n",
      "No significant improvement in Model 3 Box Cox over Model 2.\n"
     ]
    }
   ],
   "source": [
    "loglikehood_m3_bx = results_m3_bx.data.logLike\n",
    "num_params_m3_bx = results_m3_bx.data.nparam\n",
    "\n",
    "loglikehood_m2 = results_m2.logLike\n",
    "num_params_m2 = results_m2.nparam\n",
    "\n",
    "# Calculate the LR statistic\n",
    "LR = 2 * (loglikehood_m3_bx - loglikehood_m2)\n",
    "\n",
    "# Degrees of freedom\n",
    "df = num_params_m3_bx - num_params_m2\n",
    "\n",
    "# Critical value at 0.05 significance level\n",
    "critical_value = chi2.ppf(0.95, df)\n",
    "\n",
    "print(\"Likelihood Ratio:\", LR)\n",
    "print(\"Degrees of Freedom:\", df)\n",
    "print(\"Critical Chi-Square Value (0.05 significance):\", critical_value)\n",
    "\n",
    "if LR > critical_value:\n",
    "    print(\"Model 3 Box Cox is significantly better than Model 2.\")\n",
    "else:\n",
    "    print(\"No significant improvement in Model 3 Box Cox over Model 2.\")"
   ]
  },
  {
   "cell_type": "markdown",
   "metadata": {},
   "source": [
    "## Power Series"
   ]
  },
  {
   "cell_type": "code",
   "execution_count": 9,
   "metadata": {},
   "outputs": [],
   "source": [
    "square_tt_coef = Beta('square_cost_coef', 0, None, None, 0)\n",
    "cube_tt_coef = Beta('cube_cost_coef', 0, None, None, 0)\n",
    "\n",
    "def power_series(the_variable: Expression) -> Expression:\n",
    "    \"\"\"Generate the expression of a polynomial of degree 3\n",
    "\n",
    "    :param the_variable: variable of the polynomial\n",
    "    \"\"\"\n",
    "    return (\n",
    "        the_variable\n",
    "        + square_tt_coef * the_variable**2\n",
    "        + cube_tt_coef * the_variable * the_variable**3\n",
    "    )"
   ]
  },
  {
   "cell_type": "code",
   "execution_count": 10,
   "metadata": {},
   "outputs": [],
   "source": [
    "power_cost_driving = power_series(cost_driving)\n",
    "power_cost_pt = power_series(cost_transit)\n",
    "\n",
    "# Utility functions with interaction terms\n",
    "V_WALK = ASC_WALK_AGE * age_scaled + B_TIME_WALK * dur_walking\n",
    "V_CYCLE = ASC_CYCLE + B_TIME_CYCLE * dur_cycling\n",
    "V_PT = ASC_PT + B_COST * power_cost_pt + B_TIME_PT * dur_pt\n",
    "V_DRIVE = (ASC_DRIVE + ASC_DRIVE_AGE * age_scaled) + B_COST * power_cost_driving + B_TIME_DRIVE * dur_driving\n",
    "\n",
    "\n",
    "\n",
    "# Associate utility functions with the mode choice\n",
    "V = {\n",
    "    1: V_WALK,    # Walking\n",
    "    2: V_CYCLE,   # Cycling\n",
    "    3: V_PT,      # Public Transport\n",
    "    4: V_DRIVE    # Driving\n",
    "}\n",
    "\n",
    "# Specify the model\n",
    "model_3_power = loglogit({1: V_WALK, 2: V_CYCLE, 3: V_PT, 4: V_DRIVE}, availability, travel_mode)"
   ]
  },
  {
   "cell_type": "markdown",
   "metadata": {},
   "source": [
    "### Results"
   ]
  },
  {
   "cell_type": "code",
   "execution_count": 11,
   "metadata": {},
   "outputs": [
    {
     "name": "stdout",
     "output_type": "stream",
     "text": [
      "Estimation results for Model 3 Power:\n",
      "                     Value  Rob. Std err  Rob. t-test  Rob. p-value\n",
      "ASC_CYCLE        -4.979104      0.233262   -21.345556      0.000000\n",
      "ASC_DRIVE        -2.749681      0.187653   -14.653023      0.000000\n",
      "ASC_DRIVE_AGE     0.617577      0.172922     3.571411      0.000355\n",
      "ASC_PT           -2.897621      0.188358   -15.383555      0.000000\n",
      "ASC_WALK_AGE     -0.852614      0.235319    -3.623225      0.000291\n",
      "B_COST           -0.294486      0.063408    -4.644303      0.000003\n",
      "B_TIME_CYCLE     -6.936609      0.512695   -13.529703      0.000000\n",
      "B_TIME_DRIVE     -6.931453      0.428816   -16.164165      0.000000\n",
      "B_TIME_PT        -3.663302      0.250181   -14.642580      0.000000\n",
      "B_TIME_WALK      -9.284384      0.469418   -19.778503      0.000000\n",
      "cube_cost_coef   -0.000173      0.000289    -0.597640      0.550080\n",
      "square_cost_coef -0.013033      0.047280    -0.275663      0.782807\n"
     ]
    }
   ],
   "source": [
    "biogeme_power = bio.BIOGEME(database, model_3_power)\n",
    "biogeme_power.modelName = 'model_3_power'\n",
    "\n",
    "results_m3_power = biogeme_power.estimate()\n",
    "\n",
    "print(\"Estimation results for Model 3 Power:\")\n",
    "print(results_m3_power.get_estimated_parameters())"
   ]
  },
  {
   "cell_type": "code",
   "execution_count": 12,
   "metadata": {},
   "outputs": [
    {
     "name": "stdout",
     "output_type": "stream",
     "text": [
      "Number of estimated parameters:\t12\n",
      "Sample size:\t5000\n",
      "Excluded observations:\t0\n",
      "Init log likelihood:\t-4403.768\n",
      "Final log likelihood:\t-4194.328\n",
      "Likelihood ratio test for the init. model:\t418.8801\n",
      "Rho-square for the init. model:\t0.0476\n",
      "Rho-square-bar for the init. model:\t0.0448\n",
      "Akaike Information Criterion:\t8412.656\n",
      "Bayesian Information Criterion:\t8490.862\n",
      "Final gradient norm:\t1.7670E-02\n",
      "Nbr of threads:\t16\n",
      "\n"
     ]
    }
   ],
   "source": [
    "print(results_m3_power.print_general_statistics())"
   ]
  },
  {
   "cell_type": "markdown",
   "metadata": {},
   "source": [
    "### Test Against Model 2"
   ]
  },
  {
   "cell_type": "code",
   "execution_count": 13,
   "metadata": {},
   "outputs": [],
   "source": [
    "folder_path = os.path.join(os.pardir, 'Model_2')\n",
    "file_path = os.path.join(folder_path, 'Model_2A.pickle')\n",
    "\n",
    "# open a file, where you stored the pickled data\n",
    "file = open(file_path, 'rb')\n",
    "\n",
    "# dump information to that file\n",
    "results_m2 = pickle.load(file)\n",
    "\n",
    "# close the file\n",
    "file.close()"
   ]
  },
  {
   "cell_type": "code",
   "execution_count": 14,
   "metadata": {},
   "outputs": [
    {
     "name": "stdout",
     "output_type": "stream",
     "text": [
      "Likelihood Ratio: 16.704513646107443\n",
      "Degrees of Freedom: 2\n",
      "Critical Chi-Square Value (0.05 significance): 5.991464547107979\n",
      "Model 3 Power is significantly better than Model 2.\n"
     ]
    }
   ],
   "source": [
    "loglikehood_m3_power = results_m3_power.data.logLike\n",
    "num_params_m3_power = results_m3_power.data.nparam\n",
    "\n",
    "loglikehood_m2 = results_m2.logLike\n",
    "num_params_m2 = results_m2.nparam\n",
    "\n",
    "# Calculate the LR statistic\n",
    "LR = 2 * (loglikehood_m3_power - loglikehood_m2)\n",
    "\n",
    "# Degrees of freedom\n",
    "df = num_params_m3_power - num_params_m2\n",
    "\n",
    "# Critical value at 0.05 significance level\n",
    "critical_value = chi2.ppf(0.95, df)\n",
    "\n",
    "print(\"Likelihood Ratio:\", LR)\n",
    "print(\"Degrees of Freedom:\", df)\n",
    "print(\"Critical Chi-Square Value (0.05 significance):\", critical_value)\n",
    "\n",
    "if LR > critical_value:\n",
    "    print(\"Model 3 Power is significantly better than Model 2.\")\n",
    "else:\n",
    "    print(\"No significant improvement in Model 3 Power over Model 2.\")"
   ]
  },
  {
   "cell_type": "markdown",
   "metadata": {},
   "source": [
    "## Piecewise Linear"
   ]
  },
  {
   "cell_type": "code",
   "execution_count": 15,
   "metadata": {},
   "outputs": [],
   "source": [
    "thresholds = [0, 1, 5, None]\n",
    "\n",
    "beta_cost_0_5 = Beta('beta_cost_0_5', 0, None, None, 0)\n",
    "beta_cost_5_10 = Beta('beta_cost_5_10', 0, None, None, 0)\n",
    "beta_cost_10_more = Beta('beta_cost_10_more', 0, None, None, 0)\n",
    "betas_piecewise = [beta_cost_0_5, \n",
    "                   beta_cost_5_10, \n",
    "                   beta_cost_10_more]\n",
    "\n",
    "piecewise_cost_driving = piecewise_formula(\n",
    "    'cost_driving', thresholds, betas_piecewise\n",
    ")\n",
    "\n",
    "piecewise_cost_pt = piecewise_formula(\n",
    "    'cost_transit', thresholds, betas_piecewise\n",
    ")\n"
   ]
  },
  {
   "cell_type": "code",
   "execution_count": 16,
   "metadata": {},
   "outputs": [],
   "source": [
    "# Utility functions with interaction terms\n",
    "V_WALK = ASC_WALK_AGE * age_scaled + B_TIME_WALK * dur_walking\n",
    "V_CYCLE = ASC_CYCLE + B_TIME_CYCLE * dur_cycling\n",
    "V_PT = ASC_PT + B_COST * piecewise_cost_pt + B_TIME_PT * dur_pt\n",
    "V_DRIVE = (ASC_DRIVE + ASC_DRIVE_AGE * age_scaled) + B_COST * piecewise_cost_driving + B_TIME_DRIVE * dur_driving\n",
    "\n",
    "# Associate utility functions with the mode choice\n",
    "V = {\n",
    "    1: V_WALK,    # Walking\n",
    "    2: V_CYCLE,   # Cycling\n",
    "    3: V_PT,      # Public Transport\n",
    "    4: V_DRIVE    # Driving\n",
    "}\n",
    "\n",
    "# Specify the model\n",
    "model_3_piecewise = loglogit({1: V_WALK, 2: V_CYCLE, 3: V_PT, 4: V_DRIVE}, availability, travel_mode)"
   ]
  },
  {
   "cell_type": "markdown",
   "metadata": {},
   "source": [
    "### Results"
   ]
  },
  {
   "cell_type": "code",
   "execution_count": 17,
   "metadata": {},
   "outputs": [
    {
     "name": "stdout",
     "output_type": "stream",
     "text": [
      "Estimation results for Model 3 piecewise:\n",
      "                      Value  Rob. Std err  Rob. t-test  Rob. p-value\n",
      "ASC_CYCLE         -5.055934      0.238862   -21.166726      0.000000\n",
      "ASC_DRIVE         -2.722347      0.187677   -14.505453      0.000000\n",
      "ASC_DRIVE_AGE      0.676125      0.170998     3.953986      0.000077\n",
      "ASC_PT            -2.776682      0.187073   -14.842782      0.000000\n",
      "ASC_WALK_AGE      -0.810659      0.235190    -3.446833      0.000567\n",
      "B_COST            -1.269533      0.587358    -2.161428      0.030662\n",
      "B_TIME_CYCLE      -6.814750      0.524493   -12.993027      0.000000\n",
      "B_TIME_DRIVE      -6.515886      0.374910   -17.379865      0.000000\n",
      "B_TIME_PT         -3.839686      0.253135   -15.168520      0.000000\n",
      "B_TIME_WALK       -9.417830      0.473823   -19.876261      0.000000\n",
      "beta_cost_0_5      0.534561      0.286760     1.864139      0.062302\n",
      "beta_cost_10_more  0.157629      0.095175     1.656208      0.097680\n",
      "beta_cost_5_10     0.036817      0.024773     1.486191      0.137229\n"
     ]
    }
   ],
   "source": [
    "biogeme_piecewise = bio.BIOGEME(database, model_3_piecewise)\n",
    "biogeme_piecewise.modelName = 'model_3_piecewise'\n",
    "\n",
    "results_m3_piecewise = biogeme_piecewise.estimate()\n",
    "\n",
    "print(\"Estimation results for Model 3 piecewise:\")\n",
    "print(results_m3_piecewise.get_estimated_parameters())"
   ]
  },
  {
   "cell_type": "code",
   "execution_count": 18,
   "metadata": {},
   "outputs": [
    {
     "name": "stdout",
     "output_type": "stream",
     "text": [
      "Number of estimated parameters:\t13\n",
      "Sample size:\t5000\n",
      "Excluded observations:\t0\n",
      "Init log likelihood:\t-4309.741\n",
      "Final log likelihood:\t-4183.745\n",
      "Likelihood ratio test for the init. model:\t251.9933\n",
      "Rho-square for the init. model:\t0.0292\n",
      "Rho-square-bar for the init. model:\t0.0262\n",
      "Akaike Information Criterion:\t8393.49\n",
      "Bayesian Information Criterion:\t8478.213\n",
      "Final gradient norm:\t1.8998E-02\n",
      "Nbr of threads:\t16\n",
      "\n"
     ]
    }
   ],
   "source": [
    "print(results_m3_piecewise.print_general_statistics())"
   ]
  },
  {
   "cell_type": "markdown",
   "metadata": {},
   "source": [
    "### Test Against Model 2"
   ]
  },
  {
   "cell_type": "code",
   "execution_count": 19,
   "metadata": {},
   "outputs": [],
   "source": [
    "folder_path = os.path.join(os.pardir, 'Model_2')\n",
    "file_path = os.path.join(folder_path, 'Model_2B.pickle')\n",
    "\n",
    "# open a file, where you stored the pickled data\n",
    "file = open(file_path, 'rb')\n",
    "\n",
    "# dump information to that file\n",
    "results_m2 = pickle.load(file)\n",
    "\n",
    "# close the file\n",
    "file.close()"
   ]
  },
  {
   "cell_type": "code",
   "execution_count": 20,
   "metadata": {},
   "outputs": [
    {
     "name": "stdout",
     "output_type": "stream",
     "text": [
      "Likelihood Ratio: 21.191534769852296\n",
      "Degrees of Freedom: 2\n",
      "Critical Chi-Square Value (0.05 significance): 5.991464547107979\n",
      "Model 3 piecewise is significantly better than Model 2.\n"
     ]
    }
   ],
   "source": [
    "loglikehood_m3_piecewise = results_m3_piecewise.data.logLike\n",
    "num_params_m3_piecewise = results_m3_piecewise.data.nparam\n",
    "\n",
    "loglikehood_m2 = results_m2.logLike\n",
    "num_params_m2 = results_m2.nparam\n",
    "\n",
    "# Calculate the LR statistic\n",
    "LR = 2 * (loglikehood_m3_piecewise - loglikehood_m2)\n",
    "\n",
    "# Degrees of freedom\n",
    "df = num_params_m3_piecewise - num_params_m2\n",
    "\n",
    "# Critical value at 0.05 significance level\n",
    "critical_value = chi2.ppf(0.95, df)\n",
    "\n",
    "print(\"Likelihood Ratio:\", LR)\n",
    "print(\"Degrees of Freedom:\", df)\n",
    "print(\"Critical Chi-Square Value (0.05 significance):\", critical_value)\n",
    "\n",
    "if LR > critical_value:\n",
    "    print(\"Model 3 piecewise is significantly better than Model 2.\")\n",
    "else:\n",
    "    print(\"No significant improvement in Model 3 piecewise over Model 2.\")"
   ]
  }
 ],
 "metadata": {
  "kernelspec": {
   "display_name": ".venv",
   "language": "python",
   "name": "python3"
  },
  "language_info": {
   "codemirror_mode": {
    "name": "ipython",
    "version": 3
   },
   "file_extension": ".py",
   "mimetype": "text/x-python",
   "name": "python",
   "nbconvert_exporter": "python",
   "pygments_lexer": "ipython3",
   "version": "3.10.5"
  }
 },
 "nbformat": 4,
 "nbformat_minor": 2
}
