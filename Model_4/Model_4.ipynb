{
 "cells": [
  {
   "cell_type": "markdown",
   "metadata": {},
   "source": [
    "# Imports"
   ]
  },
  {
   "cell_type": "code",
   "execution_count": null,
   "metadata": {},
   "outputs": [],
   "source": [
    "import pandas as pd\n",
    "import biogeme.database as db\n",
    "import biogeme.biogeme as bio\n",
    "from biogeme.expressions import Beta, Variable, Expression\n",
    "from biogeme.models import loglogit\n",
    "from biogeme.tools import likelihood_ratio_test\n",
    "from biogeme.results import compile_estimation_results\n",
    "from biogeme.models import loglogit,  boxcox\n",
    "from biogeme.models.piecewise import piecewise_formula\n",
    "from biogeme.models import lognested\n",
    "from biogeme.nests import OneNestForNestedLogit, NestsForNestedLogit\n",
    "from biogeme.biogeme import BIOGEME\n",
    "\n",
    "import pickle\n",
    "\n",
    "import numpy as np\n",
    "import os"
   ]
  },
  {
   "cell_type": "markdown",
   "metadata": {},
   "source": [
    "# Data & Variables"
   ]
  },
  {
   "cell_type": "code",
   "execution_count": null,
   "metadata": {},
   "outputs": [
    {
     "name": "stdout",
     "output_type": "stream",
     "text": [
      "'dur_pt' exists in the database.\n",
      "'cost_driving' exists in the database.\n",
      "'age_scaled' exists in the database.\n",
      "'dur_pt' exists in the database.\n",
      "'cost_driving' exists in the database.\n",
      "'age_scaled' exists in the database.\n"
     ]
    }
   ],
   "source": [
    "# Define the relative path to the data folder\n",
    "file_path = os.path.join(os.pardir, 'lpmc01.dat')\n",
    "\n",
    "df = pd.read_csv(file_path, sep = '\\t')\n",
    "df['age_scaled'] = (df['age'] - df['age'].mean()) / df['age'].std()\n",
    "df['cost_driving'] = df['cost_driving_ccharge'] + df['cost_driving_fuel']\n",
    "df['dur_pt'] = df['dur_pt_access'] + df['dur_pt_rail'] + df['dur_pt_int'] + df['dur_pt_bus']\n",
    "\n",
    "database1 = db.Database('lpmc01', df)\n",
    "\n",
    "# Define the given veriables \n",
    "dur_pt = Variable('dur_pt')\n",
    "cost_driving = Variable('cost_driving')\n",
    "age_scaled = Variable('age_scaled')\n",
    "trip_id = Variable('trip_id')\n",
    "household_id = Variable('household_id')\n",
    "person_n = Variable('person_n')\n",
    "trip_n = Variable('trip_n')\n",
    "travel_mode = Variable('travel_mode')\n",
    "purpose = Variable('purpose')\n",
    "fueltype = Variable('fueltype')\n",
    "faretype = Variable('faretype')\n",
    "bus_scale = Variable('bus_scale')\n",
    "survey_year = Variable('survey_year')\n",
    "travel_year = Variable('travel_year')\n",
    "travel_month = Variable('travel_month')\n",
    "travel_date = Variable('travel_date')\n",
    "day_of_week = Variable('day_of_week')\n",
    "start_time = Variable('start_time')\n",
    "age = Variable('age')\n",
    "female = Variable('female')\n",
    "driving_license = Variable('driving_license')\n",
    "car_ownership = Variable('car_ownership')\n",
    "distance = Variable('distance')\n",
    "dur_walking = Variable('dur_walking')\n",
    "dur_cycling = Variable('dur_cycling')\n",
    "dur_pt_access = Variable('dur_pt_access') # Predicted total access and egress time for public transport route in hours\n",
    "dur_pt_rail = Variable('dur_pt_rail')\n",
    "dur_pt_bus = Variable('dur_pt_bus')\n",
    "dur_pt_int = Variable('dur_pt_int') # Time taken (hrs) at each interchange point\n",
    "pt_interchanges = Variable('pt_interchanges')   # Number of interchange points in public transport route\n",
    "dur_driving = Variable('dur_driving')\n",
    "cost_transit = Variable('cost_transit')\n",
    "cost_driving_fuel = Variable('cost_driving_fuel')   # Estimated fuel cost of driving route in GBP\n",
    "cost_driving_ccharge = Variable('cost_driving_ccharge')  # Estimated congestion charge cost of driving route in GBP\n",
    "driving_traffic_percent = Variable('driving_traffic_percent')\n",
    "\n",
    "\n",
    "\n",
    "# Define transport availability\n",
    "# Assume pt, walking, cycle always available, with car availability depending on number of cars per household. From the data, \n",
    "# people without driving licenses choose driving as their mode of transport (eg. row 28). \n",
    "av_drive =  (car_ownership > 0)\n",
    "av_pt =1\n",
    "av_walk = 1\n",
    "av_cycle = 1\n",
    "\n",
    "variable_names = ['dur_pt', 'cost_driving', 'age_scaled']  # Replace with your variable name\n",
    "for variable_name in variable_names:\n",
    "    if variable_name in database1.data.columns:\n",
    "        print(f\"'{variable_name}' exists in the database.\")\n",
    "    else:\n",
    "        print(f\"'{variable_name}' does NOT exist in the database.\")\n",
    "\n",
    "\n",
    "\n",
    "# Define pt_cost (not needed)\n",
    "# Original paper, page 31: \"Public transport fares are determined for single trips using Oystercard/contactless payment.\"\n",
    "# Therefore, cost_transit should already consider faretype and bus_scale\n",
    "\n",
    "database = db.Database('lpmc01', df)\n",
    "variable_names = ['dur_pt', 'cost_driving', 'age_scaled']  # Replace with your variable name\n",
    "for variable_name in variable_names:\n",
    "    if variable_name in database1.data.columns:\n",
    "        print(f\"'{variable_name}' exists in the database.\")\n",
    "    else:\n",
    "        print(f\"'{variable_name}' does NOT exist in the database.\")\n",
    "\n",
    "# Define driving cost\n",
    "cost_driving = cost_driving_ccharge + cost_driving_fuel\n",
    "\n",
    "# Define time taken by each mode of transport\n",
    "dur_pt = dur_pt_access + dur_pt_int + dur_pt_bus + dur_pt_rail  # Public transport (external) time "
   ]
  },
  {
   "cell_type": "markdown",
   "metadata": {},
   "source": [
    "# Model Definition"
   ]
  },
  {
   "cell_type": "code",
   "execution_count": null,
   "metadata": {},
   "outputs": [],
   "source": [
    "# Assume every mode of transport is available\n",
    "availability_walk = 1  \n",
    "availability_cycle = 1  \n",
    "availability_pt = 1     \n",
    "availability_drive = 1\n",
    "\n",
    "availability = {\n",
    "    1: availability_walk,   # Walking\n",
    "    2: availability_cycle,  # Cycling\n",
    "    3: availability_pt,     # Public Transport\n",
    "    4: availability_drive   # Driving\n",
    "}"
   ]
  },
  {
   "cell_type": "code",
   "execution_count": null,
   "metadata": {},
   "outputs": [],
   "source": [
    "time_pt = dur_pt\n",
    "time_cycling = dur_cycling\n",
    "time_walking = dur_walking  \n",
    "time_driving = dur_driving\n",
    "\n",
    "# Model normalized with asc_walking = 0\n",
    "asc_pt = Beta(name='asc_pt', value=0, lowerbound=None, upperbound=None, status=0)\n",
    "asc_cycling = Beta(name='asc_cycling', value=0, lowerbound=None, upperbound=None, status=0)\n",
    "asc_driving = Beta(name='asc_driving', value=0, lowerbound=None, upperbound=None, status=0)\n",
    "\n",
    "square_tt_coef = Beta('square_cost_coef', 0, None, None, 0)\n",
    "cube_tt_coef = Beta('cube_cost_coef', 0, None, None, 0)\n",
    "\n",
    "def power_series(the_variable: Expression) -> Expression:\n",
    "    \"\"\"Generate the expression of a polynomial of degree 3\n",
    "\n",
    "    :param the_variable: variable of the polynomial\n",
    "    \"\"\"\n",
    "    return (\n",
    "        the_variable\n",
    "        + square_tt_coef * the_variable**2\n",
    "        + cube_tt_coef * the_variable * the_variable**3\n",
    "    )\n",
    "\n",
    "beta_cost = Beta(name='beta_cost', value=0, lowerbound=None, upperbound=None, status=0)\n",
    "beta_tt_walking = Beta(name='beta_tt_walking', value=0, lowerbound=None, upperbound=None, status=0)\n",
    "beta_tt_walking_interact = Beta(name='beta_tt_walking_interact', value=0, lowerbound=None, upperbound=None, status=0)\n",
    "beta_tt_cycling = Beta(name='beta_tt_cycling', value=0, lowerbound=None, upperbound=None, status=0)\n",
    "beta_tt_cycling_interact = Beta(name='beta_tt_cycling_interact', value=0, lowerbound=None, upperbound=None, status=0)\n",
    "beta_tt_pt = Beta(name='beta_tt_pt', value=0, lowerbound=None, upperbound=None, status=0)\n",
    "beta_tt_pt_interact = Beta(name='beta_tt_pt_interact', value=0, lowerbound=None, upperbound=None, status=0)\n",
    "beta_tt_driving = Beta(name='beta_tt_driving', value=0, lowerbound=None, upperbound=None, status=0)\n",
    "beta_tt_driving_interact = Beta(name='beta_tt_driving_interact', value=0, lowerbound=None, upperbound=None, status=0)\n",
    "\n",
    "cost_drive_power = power_series(cost_driving)\n",
    "cost_pt_power = power_series(cost_transit)\n",
    "\n",
    "mx_age = df['age'].max()\n",
    "\n",
    "mu_a = Beta('mu_a', 1, 0, None, 0)\n",
    "mu_b = Beta('mu_b', 1, 0, None, 0)\n",
    "nest_a = OneNestForNestedLogit(nest_param=mu_a, list_of_alternatives=[1, 2], name='slow modes')\n",
    "nest_b = OneNestForNestedLogit(nest_param=mu_b, list_of_alternatives=[3, 4], name='faster modes')\n",
    "nests = NestsForNestedLogit(choice_set=list(V), tuple_of_nests=(nest_a, nest_b))\n",
    "\n",
    "v_walking = beta_tt_walking * time_walking +  (1/mx_age) * beta_tt_walking_interact * age * time_walking\n",
    "v_cycling = asc_cycling + beta_tt_cycling * time_cycling + (1/mx_age) * beta_tt_cycling_interact * age * time_cycling \n",
    "v_pt = asc_pt + beta_tt_pt * time_pt + (1/mx_age) * beta_tt_pt_interact * age * time_pt + beta_cost * cost_pt_power\n",
    "v_driving = asc_driving + beta_tt_driving * time_driving + (1/mx_age) * beta_tt_driving_interact * age * time_driving + beta_cost * cost_drive_power\n",
    "\n",
    "V = {1: v_walking, 2: v_cycling, 3: v_pt, 4: v_driving}\n",
    "\n",
    "logprob_m4 = lognested(V, availability, nests, travel_mode)\n",
    "\n",
    "model_4 = bio.BIOGEME(database, logprob_m4)\n",
    "model_4.modelName = 'model_4'\n"
   ]
  },
  {
   "cell_type": "markdown",
   "metadata": {},
   "source": [
    "# Model Results"
   ]
  },
  {
   "cell_type": "code",
   "execution_count": null,
   "metadata": {},
   "outputs": [
    {
     "name": "stdout",
     "output_type": "stream",
     "text": [
      "Estimation results for Model 0:\n",
      "              Value  Rob. Std err  Rob. t-test  Rob. p-value\n",
      "ASC_CYCLE -3.778175      0.103171   -36.620564           0.0\n",
      "ASC_DRIVE -1.288003      0.079431   -16.215324           0.0\n",
      "ASC_PT    -0.525660      0.054777    -9.596426           0.0\n",
      "B_COST    -0.190833      0.014635   -13.039920           0.0\n",
      "B_TIME    -5.598770      0.203407   -27.524922           0.0\n"
     ]
    }
   ],
   "source": [
    "results_m4 = model_4.estimate()\n",
    "model_4_loglike = results_m4.data.logLike\n",
    "model_4_numParam = results_m4.get_estimated_parameters().shape[0]\n",
    "\n",
    "results_m4.get_estimated_parameters()"
   ]
  },
  {
   "cell_type": "code",
   "execution_count": null,
   "metadata": {},
   "outputs": [],
   "source": [
    "print(results_m4.print_general_statistics())"
   ]
  },
  {
   "cell_type": "markdown",
   "metadata": {},
   "source": [
    "# Test against Model 3"
   ]
  },
  {
   "cell_type": "code",
   "execution_count": null,
   "metadata": {},
   "outputs": [],
   "source": [
    "model_4_loglike = results_m4.data.logLike\n",
    "model_4_numParam = results_m4.get_estimated_parameters().shape[0]\n"
   ]
  }
 ],
 "metadata": {
  "kernelspec": {
   "display_name": ".venv",
   "language": "python",
   "name": "python3"
  },
  "language_info": {
   "codemirror_mode": {
    "name": "ipython",
    "version": 3
   },
   "file_extension": ".py",
   "mimetype": "text/x-python",
   "name": "python",
   "nbconvert_exporter": "python",
   "pygments_lexer": "ipython3",
   "version": "3.10.5"
  }
 },
 "nbformat": 4,
 "nbformat_minor": 2
}
