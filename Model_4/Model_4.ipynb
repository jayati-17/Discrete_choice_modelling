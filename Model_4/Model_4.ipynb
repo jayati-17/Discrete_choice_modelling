{
 "cells": [
  {
   "cell_type": "markdown",
   "metadata": {},
   "source": [
    "# Imports"
   ]
  },
  {
   "cell_type": "code",
   "execution_count": 1,
   "metadata": {},
   "outputs": [],
   "source": [
    "import pandas as pd\n",
    "import biogeme.database as db\n",
    "import biogeme.biogeme as bio\n",
    "from biogeme.expressions import Beta, Variable, Expression\n",
    "from biogeme.models import loglogit\n",
    "from biogeme.tools import likelihood_ratio_test\n",
    "from biogeme.results import compile_estimation_results\n",
    "from biogeme.models import loglogit,  boxcox\n",
    "from biogeme.models.piecewise import piecewise_formula\n",
    "from biogeme.models import lognested\n",
    "from biogeme.nests import OneNestForNestedLogit, NestsForNestedLogit\n",
    "from biogeme.biogeme import BIOGEME\n",
    "\n",
    "import pickle\n",
    "\n",
    "import numpy as np\n",
    "import os\n",
    "\n",
    "from scipy.stats import chi2"
   ]
  },
  {
   "cell_type": "markdown",
   "metadata": {},
   "source": [
    "# Data & Variables"
   ]
  },
  {
   "cell_type": "code",
   "execution_count": 2,
   "metadata": {},
   "outputs": [
    {
     "name": "stdout",
     "output_type": "stream",
     "text": [
      "'dur_pt' exists in the database.\n",
      "'cost_driving' exists in the database.\n",
      "'age_scaled' exists in the database.\n",
      "'dur_pt' exists in the database.\n",
      "'cost_driving' exists in the database.\n",
      "'age_scaled' exists in the database.\n"
     ]
    }
   ],
   "source": [
    "# Define the relative path to the data folder\n",
    "file_path = os.path.join(os.pardir, 'lpmc01.dat')\n",
    "\n",
    "#file_path = os.path.join(data_folder, 'lpmc01.dat')\n",
    "\n",
    "df = pd.read_csv(file_path, sep = '\\t')\n",
    "df['age_normalized'] = (df['age'] - df['age'].mean()) / df['age'].std()\n",
    "df['age_scaled'] = df['age'] / df['age'].max()\n",
    "df['cost_driving'] = df['cost_driving_ccharge'] + df['cost_driving_fuel']\n",
    "df['dur_pt'] = df['dur_pt_access'] + df['dur_pt_rail'] + df['dur_pt_int'] + df['dur_pt_bus']\n",
    "\n",
    "database1 = db.Database('lpmc01', df)\n",
    "\n",
    "\n",
    "# Define the given veriables \n",
    "dur_pt = Variable('dur_pt')\n",
    "cost_driving = Variable('cost_driving')\n",
    "age_scaled = Variable('age_scaled')\n",
    "trip_id = Variable('trip_id')\n",
    "household_id = Variable('household_id')\n",
    "person_n = Variable('person_n')\n",
    "trip_n = Variable('trip_n')\n",
    "travel_mode = Variable('travel_mode')\n",
    "purpose = Variable('purpose')\n",
    "fueltype = Variable('fueltype')\n",
    "faretype = Variable('faretype')\n",
    "bus_scale = Variable('bus_scale')\n",
    "survey_year = Variable('survey_year')\n",
    "travel_year = Variable('travel_year')\n",
    "travel_month = Variable('travel_month')\n",
    "travel_date = Variable('travel_date')\n",
    "day_of_week = Variable('day_of_week')\n",
    "start_time = Variable('start_time')\n",
    "age = Variable('age')\n",
    "female = Variable('female')\n",
    "driving_license = Variable('driving_license')\n",
    "car_ownership = Variable('car_ownership')\n",
    "distance = Variable('distance')\n",
    "dur_walking = Variable('dur_walking')\n",
    "dur_cycling = Variable('dur_cycling')\n",
    "dur_pt_access = Variable('dur_pt_access') # Predicted total access and egress time for public transport route in hours\n",
    "dur_pt_rail = Variable('dur_pt_rail')\n",
    "dur_pt_bus = Variable('dur_pt_bus')\n",
    "dur_pt_int = Variable('dur_pt_int') # Time taken (hrs) at each interchange point\n",
    "pt_interchanges = Variable('pt_interchanges')   # Number of interchange points in public transport route\n",
    "dur_driving = Variable('dur_driving')\n",
    "cost_transit = Variable('cost_transit')\n",
    "cost_driving_fuel = Variable('cost_driving_fuel')   # Estimated fuel cost of driving route in GBP\n",
    "cost_driving_ccharge = Variable('cost_driving_ccharge')  # Estimated congestion charge cost of driving route in GBP\n",
    "driving_traffic_percent = Variable('driving_traffic_percent')\n",
    "\n",
    "\n",
    "variable_names = ['dur_pt', 'cost_driving', 'age_scaled']  # Replace with your variable name\n",
    "for variable_name in variable_names:\n",
    "    if variable_name in database1.data.columns:\n",
    "        print(f\"'{variable_name}' exists in the database.\")\n",
    "    else:\n",
    "        print(f\"'{variable_name}' does NOT exist in the database.\")\n",
    "\n",
    "\n",
    "\n",
    "# Define pt_cost (not needed)\n",
    "# Original paper, page 31: \"Public transport fares are determined for single trips using Oystercard/contactless payment.\"\n",
    "# Therefore, cost_transit should already consider faretype and bus_scale\n",
    "\n",
    "database = db.Database('lpmc01', df)\n",
    "variable_names = ['dur_pt', 'cost_driving', 'age_scaled']  # Replace with your variable name\n",
    "for variable_name in variable_names:\n",
    "    if variable_name in database1.data.columns:\n",
    "        print(f\"'{variable_name}' exists in the database.\")\n",
    "    else:\n",
    "        print(f\"'{variable_name}' does NOT exist in the database.\")\n",
    "\n",
    "# Define driving cost\n",
    "cost_driving = cost_driving_ccharge + cost_driving_fuel\n",
    "\n",
    "# Define time taken by each mode of transport\n",
    "dur_pt = dur_pt_access + dur_pt_int + dur_pt_bus + dur_pt_rail  # Public transport (external) time "
   ]
  },
  {
   "cell_type": "markdown",
   "metadata": {},
   "source": [
    "# Model Definition"
   ]
  },
  {
   "cell_type": "code",
   "execution_count": 3,
   "metadata": {},
   "outputs": [],
   "source": [
    "# Assume every mode of transport is available\n",
    "availability_walk = 1  \n",
    "availability_cycle = 1  \n",
    "availability_pt = 1     \n",
    "availability_drive = 1\n",
    "\n",
    "availability = {\n",
    "    1: availability_walk,   # Walking\n",
    "    2: availability_cycle,  # Cycling\n",
    "    3: availability_pt,     # Public Transport\n",
    "    4: availability_drive   # Driving\n",
    "}"
   ]
  },
  {
   "cell_type": "code",
   "execution_count": 4,
   "metadata": {},
   "outputs": [],
   "source": [
    "# Define alternative-specific parameters for travel time\n",
    "B_TIME_WALK = Beta('B_TIME_WALK', 0, None, None, 0)\n",
    "B_TIME_CYCLE = Beta('B_TIME_CYCLE', 0, None, None, 0)\n",
    "B_TIME_PT = Beta('B_TIME_PT', 0, None, None, 0)\n",
    "B_TIME_DRIVE = Beta('B_TIME_DRIVE', 0, None, None, 0)\n",
    "\n",
    "ASC_CYCLE = Beta('ASC_CYCLE', 0, None, None, 0)\n",
    "ASC_PT = Beta('ASC_PT', 0, None, None, 0)\n",
    "ASC_DRIVE = Beta('ASC_DRIVE', 0, None, None, 0)\n",
    "\n",
    "# Define generic parameters for cost and travel time\n",
    "B_COST = Beta('B_COST', 0, None, None, 0)\n",
    "\n",
    "B_TIME_WALK_AGE = Beta('B_TIME_WALK_AGE', 0, None, None, 0)\n",
    "B_TIME_CYCLE_AGE = Beta('B_TIME_CYCLE_AGE', 0, None, None, 0) \n",
    "B_TIME_PT_AGE = Beta('B_TIME_PT_AGE', 0, None, None, 0)\n",
    "#B_TIME_DRIVE_AGE = Beta('B_TIME_DRIVE_AGE', 0, None, None, 0) * age_scaled\n",
    "\n",
    "# Updated utility functions with age interaction for travel time\n",
    "V_WALK = (B_TIME_WALK + B_TIME_WALK_AGE * age_scaled) * dur_walking\n",
    "V_CYCLE = ASC_CYCLE + (B_TIME_CYCLE + B_TIME_CYCLE_AGE* age_scaled) * dur_cycling\n",
    "V_PT = ASC_PT + B_COST * cost_transit + (B_TIME_PT + B_TIME_PT_AGE* age_scaled) * dur_pt\n",
    "V_DRIVE = ASC_DRIVE + B_COST * cost_driving + (B_TIME_DRIVE) * dur_driving\n",
    "\n",
    "V = {1: V_WALK, 2: V_CYCLE, 3: V_PT, 4: V_DRIVE}\n",
    "\n",
    "mu_a = Beta('mu_a', 1, 0, None, 0)\n",
    "nest_a = OneNestForNestedLogit(nest_param=mu_a, list_of_alternatives=[1, 2], name='slow modes')\n",
    "nest_b = OneNestForNestedLogit(nest_param=1, list_of_alternatives=[3, 4], name='faster modes')\n",
    "nests = NestsForNestedLogit(choice_set=list(V), tuple_of_nests=(nest_a, nest_b))\n",
    "\n",
    "logprob_m4 = lognested(V, availability, nests, travel_mode)\n",
    "\n",
    "model_4 = bio.BIOGEME(database, logprob_m4)\n",
    "model_4.modelName = 'model_4'\n"
   ]
  },
  {
   "cell_type": "markdown",
   "metadata": {},
   "source": [
    "# Model Results"
   ]
  },
  {
   "cell_type": "code",
   "execution_count": 5,
   "metadata": {},
   "outputs": [
    {
     "data": {
      "text/html": [
       "<div>\n",
       "<style scoped>\n",
       "    .dataframe tbody tr th:only-of-type {\n",
       "        vertical-align: middle;\n",
       "    }\n",
       "\n",
       "    .dataframe tbody tr th {\n",
       "        vertical-align: top;\n",
       "    }\n",
       "\n",
       "    .dataframe thead th {\n",
       "        text-align: right;\n",
       "    }\n",
       "</style>\n",
       "<table border=\"1\" class=\"dataframe\">\n",
       "  <thead>\n",
       "    <tr style=\"text-align: right;\">\n",
       "      <th></th>\n",
       "      <th>Value</th>\n",
       "      <th>Rob. Std err</th>\n",
       "      <th>Rob. t-test</th>\n",
       "      <th>Rob. p-value</th>\n",
       "    </tr>\n",
       "  </thead>\n",
       "  <tbody>\n",
       "    <tr>\n",
       "      <th>ASC_CYCLE</th>\n",
       "      <td>-6.157123</td>\n",
       "      <td>0.279747</td>\n",
       "      <td>-22.009616</td>\n",
       "      <td>0.000000e+00</td>\n",
       "    </tr>\n",
       "    <tr>\n",
       "      <th>ASC_DRIVE</th>\n",
       "      <td>-2.448199</td>\n",
       "      <td>0.153083</td>\n",
       "      <td>-15.992590</td>\n",
       "      <td>0.000000e+00</td>\n",
       "    </tr>\n",
       "    <tr>\n",
       "      <th>ASC_PT</th>\n",
       "      <td>-2.901163</td>\n",
       "      <td>0.153462</td>\n",
       "      <td>-18.904748</td>\n",
       "      <td>0.000000e+00</td>\n",
       "    </tr>\n",
       "    <tr>\n",
       "      <th>B_COST</th>\n",
       "      <td>-0.182197</td>\n",
       "      <td>0.017870</td>\n",
       "      <td>-10.195889</td>\n",
       "      <td>0.000000e+00</td>\n",
       "    </tr>\n",
       "    <tr>\n",
       "      <th>B_TIME_CYCLE</th>\n",
       "      <td>-3.678341</td>\n",
       "      <td>0.552532</td>\n",
       "      <td>-6.657243</td>\n",
       "      <td>2.790101e-11</td>\n",
       "    </tr>\n",
       "    <tr>\n",
       "      <th>B_TIME_CYCLE_AGE</th>\n",
       "      <td>-2.012881</td>\n",
       "      <td>1.031671</td>\n",
       "      <td>-1.951089</td>\n",
       "      <td>5.104651e-02</td>\n",
       "    </tr>\n",
       "    <tr>\n",
       "      <th>B_TIME_DRIVE</th>\n",
       "      <td>-6.796484</td>\n",
       "      <td>0.388575</td>\n",
       "      <td>-17.490768</td>\n",
       "      <td>0.000000e+00</td>\n",
       "    </tr>\n",
       "    <tr>\n",
       "      <th>B_TIME_PT</th>\n",
       "      <td>-2.799352</td>\n",
       "      <td>0.281229</td>\n",
       "      <td>-9.954005</td>\n",
       "      <td>0.000000e+00</td>\n",
       "    </tr>\n",
       "    <tr>\n",
       "      <th>B_TIME_PT_AGE</th>\n",
       "      <td>-2.020081</td>\n",
       "      <td>0.361229</td>\n",
       "      <td>-5.592247</td>\n",
       "      <td>2.241497e-08</td>\n",
       "    </tr>\n",
       "    <tr>\n",
       "      <th>B_TIME_WALK</th>\n",
       "      <td>-8.687492</td>\n",
       "      <td>0.498968</td>\n",
       "      <td>-17.410910</td>\n",
       "      <td>0.000000e+00</td>\n",
       "    </tr>\n",
       "    <tr>\n",
       "      <th>B_TIME_WALK_AGE</th>\n",
       "      <td>-4.169534</td>\n",
       "      <td>0.781727</td>\n",
       "      <td>-5.333745</td>\n",
       "      <td>9.620768e-08</td>\n",
       "    </tr>\n",
       "    <tr>\n",
       "      <th>mu_a</th>\n",
       "      <td>0.615948</td>\n",
       "      <td>0.049638</td>\n",
       "      <td>12.408738</td>\n",
       "      <td>0.000000e+00</td>\n",
       "    </tr>\n",
       "  </tbody>\n",
       "</table>\n",
       "</div>"
      ],
      "text/plain": [
       "                     Value  Rob. Std err  Rob. t-test  Rob. p-value\n",
       "ASC_CYCLE        -6.157123      0.279747   -22.009616  0.000000e+00\n",
       "ASC_DRIVE        -2.448199      0.153083   -15.992590  0.000000e+00\n",
       "ASC_PT           -2.901163      0.153462   -18.904748  0.000000e+00\n",
       "B_COST           -0.182197      0.017870   -10.195889  0.000000e+00\n",
       "B_TIME_CYCLE     -3.678341      0.552532    -6.657243  2.790101e-11\n",
       "B_TIME_CYCLE_AGE -2.012881      1.031671    -1.951089  5.104651e-02\n",
       "B_TIME_DRIVE     -6.796484      0.388575   -17.490768  0.000000e+00\n",
       "B_TIME_PT        -2.799352      0.281229    -9.954005  0.000000e+00\n",
       "B_TIME_PT_AGE    -2.020081      0.361229    -5.592247  2.241497e-08\n",
       "B_TIME_WALK      -8.687492      0.498968   -17.410910  0.000000e+00\n",
       "B_TIME_WALK_AGE  -4.169534      0.781727    -5.333745  9.620768e-08\n",
       "mu_a              0.615948      0.049638    12.408738  0.000000e+00"
      ]
     },
     "execution_count": 5,
     "metadata": {},
     "output_type": "execute_result"
    }
   ],
   "source": [
    "results_m4 = model_4.estimate()\n",
    "model_4_loglike = results_m4.data.logLike\n",
    "model_4_numParam = results_m4.get_estimated_parameters().shape[0]\n",
    "model_4_table = results_m4.get_estimated_parameters()\n",
    "\n",
    "model_4_table"
   ]
  },
  {
   "cell_type": "code",
   "execution_count": 6,
   "metadata": {},
   "outputs": [
    {
     "name": "stdout",
     "output_type": "stream",
     "text": [
      "Nest parameter: 0.616\n",
      "t_test against 1: 7.74\n"
     ]
    }
   ],
   "source": [
    "value_mu_existing = model_4_table.loc['mu_a', 'Value']\n",
    "print(f'Nest parameter: {value_mu_existing:.3g}')\n",
    "\n",
    "mu_stderr = model_4_table.loc['mu_a', 'Rob. Std err']\n",
    "tested_value = 1\n",
    "t_test = (tested_value - value_mu_existing) / mu_stderr\n",
    "print(f't_test against 1: {t_test:.3g}')\n",
    "\n"
   ]
  },
  {
   "cell_type": "code",
   "execution_count": 7,
   "metadata": {},
   "outputs": [
    {
     "name": "stdout",
     "output_type": "stream",
     "text": [
      "Number of estimated parameters:\t12\n",
      "Sample size:\t5000\n",
      "Excluded observations:\t0\n",
      "Init log likelihood:\t-6931.472\n",
      "Final log likelihood:\t-4176.349\n",
      "Likelihood ratio test for the init. model:\t5510.245\n",
      "Rho-square for the init. model:\t0.397\n",
      "Rho-square-bar for the init. model:\t0.396\n",
      "Akaike Information Criterion:\t8376.699\n",
      "Bayesian Information Criterion:\t8454.905\n",
      "Final gradient norm:\t2.2040E-01\n",
      "Nbr of threads:\t16\n",
      "\n"
     ]
    }
   ],
   "source": [
    "print(results_m4.print_general_statistics())"
   ]
  },
  {
   "cell_type": "markdown",
   "metadata": {},
   "source": [
    "# Test against Model 2B"
   ]
  },
  {
   "cell_type": "code",
   "execution_count": 8,
   "metadata": {},
   "outputs": [],
   "source": [
    "folder_path = os.path.join(os.pardir, 'Model_2')\n",
    "file_path = os.path.join(folder_path, 'Model_2B.pickle')\n",
    "\n",
    "# open a file, where you stored the pickled data\n",
    "file = open(file_path, 'rb')\n",
    "\n",
    "# dump information to that file\n",
    "results_m2 = pickle.load(file)\n",
    "\n",
    "# close the file\n",
    "file.close()"
   ]
  },
  {
   "cell_type": "code",
   "execution_count": 10,
   "metadata": {},
   "outputs": [
    {
     "name": "stdout",
     "output_type": "stream",
     "text": [
      "Likelihood Ratio: 35.982303661232436\n",
      "Degrees of Freedom: 1\n",
      "Critical Chi-Square Value (0.05 significance): 3.841458820694124\n",
      "Model 4 is significantly better than Model 2.\n"
     ]
    }
   ],
   "source": [
    "model_4_loglike = results_m4.data.logLike\n",
    "model_4_numParam = results_m4.get_estimated_parameters().shape[0]\n",
    "\n",
    "loglikehood_m2 = results_m2.logLike\n",
    "num_params_m2 = results_m2.nparam\n",
    "\n",
    "# Calculate the LR statistic\n",
    "LR = 2 * (model_4_loglike - loglikehood_m2)\n",
    "\n",
    "# Degrees of freedom\n",
    "d_f = model_4_numParam - num_params_m2\n",
    "\n",
    "# Critical value at 0.05 significance level\n",
    "critical_value = chi2.ppf(0.95, d_f)\n",
    "\n",
    "print(\"Likelihood Ratio:\", LR)\n",
    "print(\"Degrees of Freedom:\", d_f)\n",
    "print(\"Critical Chi-Square Value (0.05 significance):\", critical_value)\n",
    "\n",
    "if LR > critical_value:\n",
    "    print(\"Model 4 is significantly better than Model 2.\")\n",
    "else:\n",
    "    print(\"No significant improvement in Model 4 over Model 2.\")"
   ]
  }
 ],
 "metadata": {
  "kernelspec": {
   "display_name": ".venv",
   "language": "python",
   "name": "python3"
  },
  "language_info": {
   "codemirror_mode": {
    "name": "ipython",
    "version": 3
   },
   "file_extension": ".py",
   "mimetype": "text/x-python",
   "name": "python",
   "nbconvert_exporter": "python",
   "pygments_lexer": "ipython3",
   "version": "3.10.5"
  }
 },
 "nbformat": 4,
 "nbformat_minor": 2
}
