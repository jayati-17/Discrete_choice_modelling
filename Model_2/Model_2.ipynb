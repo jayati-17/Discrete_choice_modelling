{
 "cells": [
  {
   "cell_type": "markdown",
   "metadata": {},
   "source": [
    "# Imports"
   ]
  },
  {
   "cell_type": "code",
   "execution_count": 1,
   "metadata": {},
   "outputs": [],
   "source": [
    "import pandas as pd\n",
    "import biogeme.database as db\n",
    "import biogeme.biogeme as bio\n",
    "from biogeme.expressions import Beta, Variable, exp\n",
    "from biogeme.models import loglogit\n",
    "from biogeme.tools import likelihood_ratio_test\n",
    "from biogeme.results import compile_estimation_results\n",
    "from biogeme.models import loglogit,  boxcox\n",
    "from biogeme.models.piecewise import piecewise_formula\n",
    "from biogeme.models import lognested\n",
    "from biogeme.nests import OneNestForNestedLogit, NestsForNestedLogit\n",
    "from biogeme.biogeme import BIOGEME\n",
    "\n",
    "import pickle\n",
    "\n",
    "import numpy as np\n",
    "import os\n",
    "\n",
    "from scipy.stats import chi2\n"
   ]
  },
  {
   "cell_type": "markdown",
   "metadata": {},
   "source": [
    "# Data & Variables"
   ]
  },
  {
   "cell_type": "code",
   "execution_count": 2,
   "metadata": {},
   "outputs": [
    {
     "name": "stdout",
     "output_type": "stream",
     "text": [
      "'dur_pt' exists in the database.\n",
      "'cost_driving' exists in the database.\n",
      "'age_scaled' exists in the database.\n",
      "'dur_pt' exists in the database.\n",
      "'cost_driving' exists in the database.\n",
      "'age_scaled' exists in the database.\n"
     ]
    }
   ],
   "source": [
    "# Define the relative path to the data folder\n",
    "file_path = os.path.join(os.pardir, 'lpmc01.dat')\n",
    "\n",
    "#file_path = os.path.join(data_folder, 'lpmc01.dat')\n",
    "\n",
    "df = pd.read_csv(file_path, sep = '\\t')\n",
    "df['age_normalized'] = (df['age'] - df['age'].mean()) / df['age'].std()\n",
    "df['age_scaled'] = df['age'] / df['age'].max()\n",
    "df['cost_driving'] = df['cost_driving_ccharge'] + df['cost_driving_fuel']\n",
    "df['dur_pt'] = df['dur_pt_access'] + df['dur_pt_rail'] + df['dur_pt_int'] + df['dur_pt_bus']\n",
    "\n",
    "database1 = db.Database('lpmc01', df)\n",
    "\n",
    "\n",
    "# Define the given veriables \n",
    "dur_pt = Variable('dur_pt')\n",
    "cost_driving = Variable('cost_driving')\n",
    "age_scaled = Variable('age_scaled')\n",
    "trip_id = Variable('trip_id')\n",
    "household_id = Variable('household_id')\n",
    "person_n = Variable('person_n')\n",
    "trip_n = Variable('trip_n')\n",
    "travel_mode = Variable('travel_mode')\n",
    "purpose = Variable('purpose')\n",
    "fueltype = Variable('fueltype')\n",
    "faretype = Variable('faretype')\n",
    "bus_scale = Variable('bus_scale')\n",
    "survey_year = Variable('survey_year')\n",
    "travel_year = Variable('travel_year')\n",
    "travel_month = Variable('travel_month')\n",
    "travel_date = Variable('travel_date')\n",
    "day_of_week = Variable('day_of_week')\n",
    "start_time = Variable('start_time')\n",
    "age = Variable('age')\n",
    "female = Variable('female')\n",
    "driving_license = Variable('driving_license')\n",
    "car_ownership = Variable('car_ownership')\n",
    "distance = Variable('distance')\n",
    "dur_walking = Variable('dur_walking')\n",
    "dur_cycling = Variable('dur_cycling')\n",
    "dur_pt_access = Variable('dur_pt_access') # Predicted total access and egress time for public transport route in hours\n",
    "dur_pt_rail = Variable('dur_pt_rail')\n",
    "dur_pt_bus = Variable('dur_pt_bus')\n",
    "dur_pt_int = Variable('dur_pt_int') # Time taken (hrs) at each interchange point\n",
    "pt_interchanges = Variable('pt_interchanges')   # Number of interchange points in public transport route\n",
    "dur_driving = Variable('dur_driving')\n",
    "cost_transit = Variable('cost_transit')\n",
    "cost_driving_fuel = Variable('cost_driving_fuel')   # Estimated fuel cost of driving route in GBP\n",
    "cost_driving_ccharge = Variable('cost_driving_ccharge')  # Estimated congestion charge cost of driving route in GBP\n",
    "driving_traffic_percent = Variable('driving_traffic_percent')\n",
    "\n",
    "\n",
    "variable_names = ['dur_pt', 'cost_driving', 'age_scaled']  # Replace with your variable name\n",
    "for variable_name in variable_names:\n",
    "    if variable_name in database1.data.columns:\n",
    "        print(f\"'{variable_name}' exists in the database.\")\n",
    "    else:\n",
    "        print(f\"'{variable_name}' does NOT exist in the database.\")\n",
    "\n",
    "\n",
    "\n",
    "# Define pt_cost (not needed)\n",
    "# Original paper, page 31: \"Public transport fares are determined for single trips using Oystercard/contactless payment.\"\n",
    "# Therefore, cost_transit should already consider faretype and bus_scale\n",
    "\n",
    "database = db.Database('lpmc01', df)\n",
    "variable_names = ['dur_pt', 'cost_driving', 'age_scaled']  # Replace with your variable name\n",
    "for variable_name in variable_names:\n",
    "    if variable_name in database1.data.columns:\n",
    "        print(f\"'{variable_name}' exists in the database.\")\n",
    "    else:\n",
    "        print(f\"'{variable_name}' does NOT exist in the database.\")\n",
    "\n",
    "# Define driving cost\n",
    "cost_driving = cost_driving_ccharge + cost_driving_fuel\n",
    "\n",
    "# Define time taken by each mode of transport\n",
    "dur_pt = dur_pt_access + dur_pt_int + dur_pt_bus + dur_pt_rail  # Public transport (external) time "
   ]
  },
  {
   "cell_type": "code",
   "execution_count": 3,
   "metadata": {},
   "outputs": [],
   "source": [
    "all_results = {}"
   ]
  },
  {
   "cell_type": "markdown",
   "metadata": {},
   "source": [
    "# Model A"
   ]
  },
  {
   "cell_type": "markdown",
   "metadata": {},
   "source": [
    "## Definition"
   ]
  },
  {
   "cell_type": "code",
   "execution_count": 4,
   "metadata": {},
   "outputs": [],
   "source": [
    "# Assume every mode of transport is available\n",
    "availability_walk = 1  \n",
    "availability_cycle = 1  \n",
    "availability_pt = 1     \n",
    "availability_drive = 1\n",
    "\n",
    "availability = {\n",
    "    1: availability_walk,   # Walking\n",
    "    2: availability_cycle,  # Cycling\n",
    "    3: availability_pt,     # Public Transport\n",
    "    4: availability_drive   # Driving\n",
    "}"
   ]
  },
  {
   "cell_type": "code",
   "execution_count": 5,
   "metadata": {},
   "outputs": [],
   "source": [
    "ASC_CYCLE = Beta('ASC_CYCLE', 0, None, None, 0)\n",
    "ASC_PT = Beta('ASC_PT', 0, None, None, 0)\n",
    "ASC_DRIVE = Beta('ASC_DRIVE', 0, None, None, 0)\n",
    "\n",
    "# Define generic parameters for cost and travel time\n",
    "B_COST = Beta('B_COST', 0, None, None, 0)\n",
    "\n",
    "# Define interaction terms between ASCs and age_scaled\n",
    "ASC_CYCLE_AGE = ASC_CYCLE + Beta('ASC_CYCLE_AGE', 0, None, None, 0) * age_scaled\n",
    "ASC_PT_AGE = ASC_PT + Beta('ASC_PT_AGE', 0, None, None, 0) * age_scaled\n",
    "ASC_DRIVE_AGE =  Beta('ASC_DRIVE_AGE', 0, None, None, 0) \n",
    "ASC_WALK_AGE =  Beta('ASC_WALK_AGE', 0, None, None, 0)\n",
    "\n",
    "B_TIME_WALK = Beta('B_TIME_WALK', 0, None, None, 0)\n",
    "B_TIME_CYCLE = Beta('B_TIME_CYCLE', 0, None, None, 0)\n",
    "B_TIME_PT = Beta('B_TIME_PT', 0, None, None, 0)\n",
    "B_TIME_DRIVE = Beta('B_TIME_DRIVE', 0, None, None, 0)\n",
    "\n",
    "\n",
    "# Utility functions with interaction terms\n",
    "V_WALK = ASC_WALK_AGE * age_scaled + B_TIME_WALK * dur_walking\n",
    "V_CYCLE = ASC_CYCLE + B_TIME_CYCLE * dur_cycling\n",
    "V_PT = ASC_PT + B_COST * cost_transit + B_TIME_PT * dur_pt\n",
    "V_DRIVE = (ASC_DRIVE + ASC_DRIVE_AGE * age_scaled) + B_COST * cost_driving + B_TIME_DRIVE * dur_driving\n",
    "\n",
    "# Specify the model\n",
    "model_2a = loglogit({1: V_WALK, 2: V_CYCLE, 3: V_PT, 4: V_DRIVE}, availability, travel_mode)"
   ]
  },
  {
   "cell_type": "markdown",
   "metadata": {},
   "source": [
    "## Results"
   ]
  },
  {
   "cell_type": "code",
   "execution_count": 6,
   "metadata": {},
   "outputs": [
    {
     "name": "stdout",
     "output_type": "stream",
     "text": [
      "Estimation results for Model 2A:\n",
      "                  Value  Rob. Std err  Rob. t-test  Rob. p-value\n",
      "ASC_CYCLE     -4.985520      0.232790   -21.416422      0.000000\n",
      "ASC_DRIVE     -2.759898      0.186986   -14.759950      0.000000\n",
      "ASC_DRIVE_AGE  0.577240      0.172923     3.338141      0.000843\n",
      "ASC_PT        -2.981905      0.185293   -16.092911      0.000000\n",
      "ASC_WALK_AGE  -0.875893      0.236444    -3.704445      0.000212\n",
      "B_COST        -0.182600      0.017640   -10.351245      0.000000\n",
      "B_TIME_CYCLE  -6.452877      0.482611   -13.370758      0.000000\n",
      "B_TIME_DRIVE  -6.555481      0.378319   -17.327911      0.000000\n",
      "B_TIME_PT     -3.480724      0.242122   -14.375939      0.000000\n",
      "B_TIME_WALK   -9.119941      0.464617   -19.628961      0.000000\n"
     ]
    }
   ],
   "source": [
    "# Estimate Model 2 - Specification 1\n",
    "biogeme_spec1 = bio.BIOGEME(database, model_2a)\n",
    "biogeme_spec1.modelName = \"Model_2A\"\n",
    "results_m2a = biogeme_spec1.estimate()\n",
    "\n",
    "all_results['Model_2A'] = results_m2a\n",
    "\n",
    "# Display estimation results\n",
    "print(\"Estimation results for Model 2A:\")\n",
    "print(results_m2a.get_estimated_parameters())"
   ]
  },
  {
   "cell_type": "code",
   "execution_count": 7,
   "metadata": {},
   "outputs": [
    {
     "name": "stdout",
     "output_type": "stream",
     "text": [
      "Number of estimated parameters:\t10\n",
      "Sample size:\t5000\n",
      "Excluded observations:\t0\n",
      "Init log likelihood:\t-6931.472\n",
      "Final log likelihood:\t-4202.68\n",
      "Likelihood ratio test for the init. model:\t5457.583\n",
      "Rho-square for the init. model:\t0.394\n",
      "Rho-square-bar for the init. model:\t0.392\n",
      "Akaike Information Criterion:\t8425.361\n",
      "Bayesian Information Criterion:\t8490.533\n",
      "Final gradient norm:\t3.7185E-02\n",
      "Nbr of threads:\t16\n",
      "\n"
     ]
    }
   ],
   "source": [
    "print(results_m2a.print_general_statistics())"
   ]
  },
  {
   "cell_type": "markdown",
   "metadata": {},
   "source": [
    "## Testing Against Model 1"
   ]
  },
  {
   "cell_type": "code",
   "execution_count": 8,
   "metadata": {},
   "outputs": [],
   "source": [
    "folder_path = os.path.join(os.pardir, 'Model_1')\n",
    "file_path = os.path.join(folder_path, 'Model_1.pickle')\n",
    "\n",
    "# open a file, where you stored the pickled data\n",
    "file = open(file_path, 'rb')\n",
    "\n",
    "# dump information to that file\n",
    "results_m1 = pickle.load(file)\n",
    "\n",
    "# close the file\n",
    "file.close()"
   ]
  },
  {
   "cell_type": "code",
   "execution_count": 9,
   "metadata": {},
   "outputs": [
    {
     "name": "stdout",
     "output_type": "stream",
     "text": [
      "Likelihood Ratio: 42.611232658311565\n",
      "Degrees of Freedom: 2\n",
      "Critical Chi-Square Value (0.05 significance): 5.991464547107979\n",
      "Model 2a is significantly better than Model 1.\n"
     ]
    }
   ],
   "source": [
    "loglikehood_m2a = results_m2a.data.logLike\n",
    "num_params_m2a = results_m2a.data.nparam\n",
    "\n",
    "loglikehood_m1 = results_m1.logLike\n",
    "num_params_m1 = results_m1.nparam\n",
    "\n",
    "# Calculate the LR statistic\n",
    "LR = 2 * (loglikehood_m2a - loglikehood_m1)\n",
    "\n",
    "# Degrees of freedom\n",
    "df = num_params_m2a - num_params_m1\n",
    "\n",
    "# Critical value at 0.05 significance level\n",
    "critical_value = chi2.ppf(0.95, df)\n",
    "\n",
    "print(\"Likelihood Ratio:\", LR)\n",
    "print(\"Degrees of Freedom:\", df)\n",
    "print(\"Critical Chi-Square Value (0.05 significance):\", critical_value)\n",
    "\n",
    "if LR > critical_value:\n",
    "    print(\"Model 2a is significantly better than Model 1.\")\n",
    "else:\n",
    "    print(\"No significant improvement in Model 2a over Model 1.\")\n",
    "\n"
   ]
  },
  {
   "cell_type": "markdown",
   "metadata": {},
   "source": [
    "# Model B"
   ]
  },
  {
   "cell_type": "markdown",
   "metadata": {},
   "source": [
    "## Definition"
   ]
  },
  {
   "cell_type": "code",
   "execution_count": 10,
   "metadata": {},
   "outputs": [],
   "source": [
    "# Define alternative-specific parameters for travel time\n",
    "B_TIME_WALK = Beta('B_TIME_WALK', 0, None, None, 0)\n",
    "B_TIME_CYCLE = Beta('B_TIME_CYCLE', 0, None, None, 0)\n",
    "B_TIME_PT = Beta('B_TIME_PT', 0, None, None, 0)\n",
    "B_TIME_DRIVE = Beta('B_TIME_DRIVE', 0, None, None, 0)\n",
    "\n",
    "ASC_CYCLE = Beta('ASC_CYCLE', 0, None, None, 0)\n",
    "ASC_PT = Beta('ASC_PT', 0, None, None, 0)\n",
    "ASC_DRIVE = Beta('ASC_DRIVE', 0, None, None, 0)\n",
    "\n",
    "# Define generic parameters for cost and travel time\n",
    "B_COST = Beta('B_COST', 0, None, None, 0)\n",
    "\n",
    "B_TIME_WALK_AGE = Beta('B_TIME_WALK_AGE', 0, None, None, 0)\n",
    "B_TIME_CYCLE_AGE = Beta('B_TIME_CYCLE_AGE', 0, None, None, 0) \n",
    "B_TIME_PT_AGE = Beta('B_TIME_PT_AGE', 0, None, None, 0)\n",
    "B_TIME_DRIVE_AGE = Beta('B_TIME_DRIVE_AGE', 0, None, None, 0)\n",
    "\n",
    "# Updated utility functions with age interaction for travel time\n",
    "V_WALK = (B_TIME_WALK + B_TIME_WALK_AGE * age_scaled) * dur_walking\n",
    "V_CYCLE = ASC_CYCLE + (B_TIME_CYCLE + B_TIME_CYCLE_AGE* age_scaled) * dur_cycling\n",
    "V_PT = ASC_PT + B_COST * cost_transit + (B_TIME_PT + B_TIME_PT_AGE* age_scaled) * dur_pt\n",
    "V_DRIVE = ASC_DRIVE + B_COST * cost_driving + (B_TIME_DRIVE + B_TIME_DRIVE_AGE * age_scaled) * dur_driving\n",
    "\n",
    "# Associate utility functions with the mode choice\n",
    "V = {\n",
    "    1: V_WALK,    # Walking\n",
    "    2: V_CYCLE,   # Cycling\n",
    "    3: V_PT,      # Public Transport\n",
    "    4: V_DRIVE    # Driving\n",
    "}\n",
    "\n",
    "# Specify the model\n",
    "model_2b = loglogit({1: V_WALK, 2: V_CYCLE, 3: V_PT, 4: V_DRIVE}, availability, travel_mode)"
   ]
  },
  {
   "cell_type": "markdown",
   "metadata": {},
   "source": [
    "## Results"
   ]
  },
  {
   "cell_type": "code",
   "execution_count": 11,
   "metadata": {},
   "outputs": [
    {
     "name": "stdout",
     "output_type": "stream",
     "text": [
      "Estimation results for Model 2b:\n",
      "                     Value  Rob. Std err  Rob. t-test  Rob. p-value\n",
      "ASC_CYCLE        -4.618726      0.200583   -23.026502  0.000000e+00\n",
      "ASC_DRIVE        -2.156613      0.150105   -14.367345  0.000000e+00\n",
      "ASC_PT           -2.612313      0.149861   -17.431628  0.000000e+00\n",
      "B_COST           -0.182679      0.017772   -10.278822  0.000000e+00\n",
      "B_TIME_CYCLE     -4.681728      0.865093    -5.411823  6.238650e-08\n",
      "B_TIME_CYCLE_AGE -4.491985      1.941414    -2.313770  2.068033e-02\n",
      "B_TIME_DRIVE     -5.823763      0.882407    -6.599858  4.115508e-11\n",
      "B_TIME_DRIVE_AGE -1.946479      2.054133    -0.947591  3.433376e-01\n",
      "B_TIME_PT        -2.274456      0.486557    -4.674590  2.945418e-06\n",
      "B_TIME_PT_AGE    -3.056258      1.128731    -2.707694  6.775238e-03\n",
      "B_TIME_WALK      -7.455368      0.504927   -14.765247  0.000000e+00\n",
      "B_TIME_WALK_AGE  -4.134307      1.083000    -3.817458  1.348338e-04\n"
     ]
    }
   ],
   "source": [
    "# Estimate Model 2 - Specification 1\n",
    "biogeme_spec1 = bio.BIOGEME(database, model_2b)\n",
    "biogeme_spec1.modelName = \"Model_2B\"\n",
    "results_m2b = biogeme_spec1.estimate()\n",
    "\n",
    "all_results['Model_2B'] = results_m2b\n",
    "\n",
    "# Display estimation results\n",
    "print(\"Estimation results for Model 2b:\")\n",
    "print(results_m2b.get_estimated_parameters())"
   ]
  },
  {
   "cell_type": "code",
   "execution_count": 12,
   "metadata": {},
   "outputs": [
    {
     "name": "stdout",
     "output_type": "stream",
     "text": [
      "Number of estimated parameters:\t12\n",
      "Sample size:\t5000\n",
      "Excluded observations:\t0\n",
      "Init log likelihood:\t-6931.472\n",
      "Final log likelihood:\t-4193.755\n",
      "Likelihood ratio test for the init. model:\t5475.433\n",
      "Rho-square for the init. model:\t0.395\n",
      "Rho-square-bar for the init. model:\t0.393\n",
      "Akaike Information Criterion:\t8411.51\n",
      "Bayesian Information Criterion:\t8489.717\n",
      "Final gradient norm:\t7.5547E-02\n",
      "Nbr of threads:\t16\n",
      "\n"
     ]
    }
   ],
   "source": [
    "print(results_m2b.print_general_statistics())"
   ]
  },
  {
   "cell_type": "markdown",
   "metadata": {},
   "source": [
    "## Testing Against Model 1"
   ]
  },
  {
   "cell_type": "code",
   "execution_count": 13,
   "metadata": {},
   "outputs": [
    {
     "name": "stdout",
     "output_type": "stream",
     "text": [
      "Likelihood Ratio: 60.46160699763641\n",
      "Degrees of Freedom: 2\n",
      "Critical Chi-Square Value (0.05 significance): 5.991464547107979\n",
      "Model 2b is significantly better than Model 1.\n"
     ]
    }
   ],
   "source": [
    "loglikehood_m2b = results_m2b.data.logLike\n",
    "num_params_m2b = results_m2b.data.nparam\n",
    "\n",
    "# Calculate the LR statistic\n",
    "LR = 2 * (loglikehood_m2b - loglikehood_m1)\n",
    "\n",
    "# Degrees of freedom\n",
    "df = num_params_m2a - num_params_m1\n",
    "\n",
    "# Critical value at 0.05 significance level\n",
    "critical_value = chi2.ppf(0.95, df)\n",
    "\n",
    "print(\"Likelihood Ratio:\", LR)\n",
    "print(\"Degrees of Freedom:\", df)\n",
    "print(\"Critical Chi-Square Value (0.05 significance):\", critical_value)\n",
    "\n",
    "if LR > critical_value:\n",
    "    print(\"Model 2b is significantly better than Model 1.\")\n",
    "else:\n",
    "    print(\"No significant improvement in Model 2b over Model 1.\")\n",
    "\n"
   ]
  },
  {
   "cell_type": "markdown",
   "metadata": {},
   "source": [
    "# Comparing Model A and Model B"
   ]
  },
  {
   "cell_type": "code",
   "execution_count": 14,
   "metadata": {},
   "outputs": [
    {
     "data": {
      "text/html": [
       "<div>\n",
       "<style scoped>\n",
       "    .dataframe tbody tr th:only-of-type {\n",
       "        vertical-align: middle;\n",
       "    }\n",
       "\n",
       "    .dataframe tbody tr th {\n",
       "        vertical-align: top;\n",
       "    }\n",
       "\n",
       "    .dataframe thead th {\n",
       "        text-align: right;\n",
       "    }\n",
       "</style>\n",
       "<table border=\"1\" class=\"dataframe\">\n",
       "  <thead>\n",
       "    <tr style=\"text-align: right;\">\n",
       "      <th></th>\n",
       "      <th>Model_2A</th>\n",
       "      <th>Model_2B</th>\n",
       "    </tr>\n",
       "  </thead>\n",
       "  <tbody>\n",
       "    <tr>\n",
       "      <th>Number of estimated parameters</th>\n",
       "      <td>10</td>\n",
       "      <td>12</td>\n",
       "    </tr>\n",
       "    <tr>\n",
       "      <th>Sample size</th>\n",
       "      <td>5000</td>\n",
       "      <td>5000</td>\n",
       "    </tr>\n",
       "    <tr>\n",
       "      <th>Final log likelihood</th>\n",
       "      <td>-4202.680341</td>\n",
       "      <td>-4193.755154</td>\n",
       "    </tr>\n",
       "    <tr>\n",
       "      <th>Akaike Information Criterion</th>\n",
       "      <td>8425.360682</td>\n",
       "      <td>8411.510308</td>\n",
       "    </tr>\n",
       "    <tr>\n",
       "      <th>Bayesian Information Criterion</th>\n",
       "      <td>8490.532614</td>\n",
       "      <td>8489.716626</td>\n",
       "    </tr>\n",
       "    <tr>\n",
       "      <th>ASC_CYCLE (t-test)</th>\n",
       "      <td>-4.99  (-21.4)</td>\n",
       "      <td>-4.62  (-23)</td>\n",
       "    </tr>\n",
       "    <tr>\n",
       "      <th>ASC_DRIVE (t-test)</th>\n",
       "      <td>-2.76  (-14.8)</td>\n",
       "      <td>-2.16  (-14.4)</td>\n",
       "    </tr>\n",
       "    <tr>\n",
       "      <th>ASC_DRIVE_AGE (t-test)</th>\n",
       "      <td>0.577  (3.34)</td>\n",
       "      <td></td>\n",
       "    </tr>\n",
       "    <tr>\n",
       "      <th>ASC_PT (t-test)</th>\n",
       "      <td>-2.98  (-16.1)</td>\n",
       "      <td>-2.61  (-17.4)</td>\n",
       "    </tr>\n",
       "    <tr>\n",
       "      <th>ASC_WALK_AGE (t-test)</th>\n",
       "      <td>-0.876  (-3.7)</td>\n",
       "      <td></td>\n",
       "    </tr>\n",
       "    <tr>\n",
       "      <th>B_COST (t-test)</th>\n",
       "      <td>-0.183  (-10.4)</td>\n",
       "      <td>-0.183  (-10.3)</td>\n",
       "    </tr>\n",
       "    <tr>\n",
       "      <th>B_TIME_CYCLE (t-test)</th>\n",
       "      <td>-6.45  (-13.4)</td>\n",
       "      <td>-4.68  (-5.41)</td>\n",
       "    </tr>\n",
       "    <tr>\n",
       "      <th>B_TIME_DRIVE (t-test)</th>\n",
       "      <td>-6.56  (-17.3)</td>\n",
       "      <td>-5.82  (-6.6)</td>\n",
       "    </tr>\n",
       "    <tr>\n",
       "      <th>B_TIME_PT (t-test)</th>\n",
       "      <td>-3.48  (-14.4)</td>\n",
       "      <td>-2.27  (-4.67)</td>\n",
       "    </tr>\n",
       "    <tr>\n",
       "      <th>B_TIME_WALK (t-test)</th>\n",
       "      <td>-9.12  (-19.6)</td>\n",
       "      <td>-7.46  (-14.8)</td>\n",
       "    </tr>\n",
       "    <tr>\n",
       "      <th>B_TIME_CYCLE_AGE (t-test)</th>\n",
       "      <td></td>\n",
       "      <td>-4.49  (-2.31)</td>\n",
       "    </tr>\n",
       "    <tr>\n",
       "      <th>B_TIME_DRIVE_AGE (t-test)</th>\n",
       "      <td></td>\n",
       "      <td>-1.95  (-0.948)</td>\n",
       "    </tr>\n",
       "    <tr>\n",
       "      <th>B_TIME_PT_AGE (t-test)</th>\n",
       "      <td></td>\n",
       "      <td>-3.06  (-2.71)</td>\n",
       "    </tr>\n",
       "    <tr>\n",
       "      <th>B_TIME_WALK_AGE (t-test)</th>\n",
       "      <td></td>\n",
       "      <td>-4.13  (-3.82)</td>\n",
       "    </tr>\n",
       "  </tbody>\n",
       "</table>\n",
       "</div>"
      ],
      "text/plain": [
       "                                       Model_2A         Model_2B\n",
       "Number of estimated parameters               10               12\n",
       "Sample size                                5000             5000\n",
       "Final log likelihood               -4202.680341     -4193.755154\n",
       "Akaike Information Criterion        8425.360682      8411.510308\n",
       "Bayesian Information Criterion      8490.532614      8489.716626\n",
       "ASC_CYCLE (t-test)               -4.99  (-21.4)     -4.62  (-23)\n",
       "ASC_DRIVE (t-test)               -2.76  (-14.8)   -2.16  (-14.4)\n",
       "ASC_DRIVE_AGE (t-test)            0.577  (3.34)                 \n",
       "ASC_PT (t-test)                  -2.98  (-16.1)   -2.61  (-17.4)\n",
       "ASC_WALK_AGE (t-test)            -0.876  (-3.7)                 \n",
       "B_COST (t-test)                 -0.183  (-10.4)  -0.183  (-10.3)\n",
       "B_TIME_CYCLE (t-test)            -6.45  (-13.4)   -4.68  (-5.41)\n",
       "B_TIME_DRIVE (t-test)            -6.56  (-17.3)    -5.82  (-6.6)\n",
       "B_TIME_PT (t-test)               -3.48  (-14.4)   -2.27  (-4.67)\n",
       "B_TIME_WALK (t-test)             -9.12  (-19.6)   -7.46  (-14.8)\n",
       "B_TIME_CYCLE_AGE (t-test)                         -4.49  (-2.31)\n",
       "B_TIME_DRIVE_AGE (t-test)                        -1.95  (-0.948)\n",
       "B_TIME_PT_AGE (t-test)                            -3.06  (-2.71)\n",
       "B_TIME_WALK_AGE (t-test)                          -4.13  (-3.82)"
      ]
     },
     "metadata": {},
     "output_type": "display_data"
    }
   ],
   "source": [
    "comparison_table, _ = compile_estimation_results(all_results)\n",
    "display(comparison_table)"
   ]
  }
 ],
 "metadata": {
  "kernelspec": {
   "display_name": ".venv",
   "language": "python",
   "name": "python3"
  },
  "language_info": {
   "codemirror_mode": {
    "name": "ipython",
    "version": 3
   },
   "file_extension": ".py",
   "mimetype": "text/x-python",
   "name": "python",
   "nbconvert_exporter": "python",
   "pygments_lexer": "ipython3",
   "version": "3.10.5"
  }
 },
 "nbformat": 4,
 "nbformat_minor": 2
}
