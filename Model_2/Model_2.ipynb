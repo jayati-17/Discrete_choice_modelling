{
 "cells": [
  {
   "cell_type": "markdown",
   "metadata": {},
   "source": [
    "# Imports"
   ]
  },
  {
   "cell_type": "code",
   "execution_count": null,
   "metadata": {},
   "outputs": [],
   "source": [
    "import pandas as pd\n",
    "import biogeme.database as db\n",
    "import biogeme.biogeme as bio\n",
    "from biogeme.expressions import Beta, Variable, exp\n",
    "from biogeme.models import loglogit\n",
    "from biogeme.tools import likelihood_ratio_test\n",
    "from biogeme.results import compile_estimation_results\n",
    "from biogeme.models import loglogit,  boxcox\n",
    "from biogeme.models.piecewise import piecewise_formula\n",
    "from biogeme.models import lognested\n",
    "from biogeme.nests import OneNestForNestedLogit, NestsForNestedLogit\n",
    "from biogeme.biogeme import BIOGEME\n",
    "\n",
    "import pickle\n",
    "\n",
    "import numpy as np\n",
    "import os"
   ]
  },
  {
   "cell_type": "markdown",
   "metadata": {},
   "source": [
    "# Data & Variables"
   ]
  },
  {
   "cell_type": "code",
   "execution_count": 9,
   "metadata": {},
   "outputs": [
    {
     "name": "stdout",
     "output_type": "stream",
     "text": [
      "'dur_pt' exists in the database.\n",
      "'cost_driving' exists in the database.\n",
      "'age_scaled' exists in the database.\n",
      "'dur_pt' exists in the database.\n",
      "'cost_driving' exists in the database.\n",
      "'age_scaled' exists in the database.\n"
     ]
    }
   ],
   "source": [
    "# Define the relative path to the data folder\n",
    "file_path = os.path.join(os.pardir, 'lpmc01.dat')\n",
    "\n",
    "#file_path = os.path.join(data_folder, 'lpmc01.dat')\n",
    "\n",
    "df = pd.read_csv(file_path, sep = '\\t')\n",
    "df['age_scaled'] = (df['age'] - df['age'].mean()) / df['age'].std()\n",
    "df['cost_driving'] = df['cost_driving_ccharge'] + df['cost_driving_fuel']\n",
    "df['dur_pt'] = df['dur_pt_access'] + df['dur_pt_rail'] + df['dur_pt_int'] + df['dur_pt_bus']\n",
    "\n",
    "database1 = db.Database('lpmc01', df)\n",
    "\n",
    "\n",
    "# Define the given veriables \n",
    "dur_pt = Variable('dur_pt')\n",
    "cost_driving = Variable('cost_driving')\n",
    "age_scaled = Variable('age_scaled')\n",
    "trip_id = Variable('trip_id')\n",
    "household_id = Variable('household_id')\n",
    "person_n = Variable('person_n')\n",
    "trip_n = Variable('trip_n')\n",
    "travel_mode = Variable('travel_mode')\n",
    "purpose = Variable('purpose')\n",
    "fueltype = Variable('fueltype')\n",
    "faretype = Variable('faretype')\n",
    "bus_scale = Variable('bus_scale')\n",
    "survey_year = Variable('survey_year')\n",
    "travel_year = Variable('travel_year')\n",
    "travel_month = Variable('travel_month')\n",
    "travel_date = Variable('travel_date')\n",
    "day_of_week = Variable('day_of_week')\n",
    "start_time = Variable('start_time')\n",
    "age = Variable('age')\n",
    "female = Variable('female')\n",
    "driving_license = Variable('driving_license')\n",
    "car_ownership = Variable('car_ownership')\n",
    "distance = Variable('distance')\n",
    "dur_walking = Variable('dur_walking')\n",
    "dur_cycling = Variable('dur_cycling')\n",
    "dur_pt_access = Variable('dur_pt_access') # Predicted total access and egress time for public transport route in hours\n",
    "dur_pt_rail = Variable('dur_pt_rail')\n",
    "dur_pt_bus = Variable('dur_pt_bus')\n",
    "dur_pt_int = Variable('dur_pt_int') # Time taken (hrs) at each interchange point\n",
    "pt_interchanges = Variable('pt_interchanges')   # Number of interchange points in public transport route\n",
    "dur_driving = Variable('dur_driving')\n",
    "cost_transit = Variable('cost_transit')\n",
    "cost_driving_fuel = Variable('cost_driving_fuel')   # Estimated fuel cost of driving route in GBP\n",
    "cost_driving_ccharge = Variable('cost_driving_ccharge')  # Estimated congestion charge cost of driving route in GBP\n",
    "driving_traffic_percent = Variable('driving_traffic_percent')\n",
    "\n",
    "\n",
    "\n",
    "# Define transport availability\n",
    "# Assume pt, walking, cycle always available, with car availability depending on number of cars per household. From the data, \n",
    "# people without driving licenses choose driving as their mode of transport (eg. row 28). \n",
    "av_drive =  (car_ownership > 0)\n",
    "av_pt =1\n",
    "av_walk = 1\n",
    "av_cycle = 1\n",
    "\n",
    "variable_names = ['dur_pt', 'cost_driving', 'age_scaled']  # Replace with your variable name\n",
    "for variable_name in variable_names:\n",
    "    if variable_name in database1.data.columns:\n",
    "        print(f\"'{variable_name}' exists in the database.\")\n",
    "    else:\n",
    "        print(f\"'{variable_name}' does NOT exist in the database.\")\n",
    "\n",
    "\n",
    "\n",
    "# Define pt_cost (not needed)\n",
    "# Original paper, page 31: \"Public transport fares are determined for single trips using Oystercard/contactless payment.\"\n",
    "# Therefore, cost_transit should already consider faretype and bus_scale\n",
    "\n",
    "database = db.Database('lpmc01', df)\n",
    "variable_names = ['dur_pt', 'cost_driving', 'age_scaled']  # Replace with your variable name\n",
    "for variable_name in variable_names:\n",
    "    if variable_name in database1.data.columns:\n",
    "        print(f\"'{variable_name}' exists in the database.\")\n",
    "    else:\n",
    "        print(f\"'{variable_name}' does NOT exist in the database.\")\n",
    "\n",
    "# Define driving cost\n",
    "cost_driving = cost_driving_ccharge + cost_driving_fuel\n",
    "\n",
    "# Define time taken by each mode of transport\n",
    "dur_pt = dur_pt_access + dur_pt_int + dur_pt_bus + dur_pt_rail  # Public transport (external) time "
   ]
  },
  {
   "cell_type": "code",
   "execution_count": null,
   "metadata": {},
   "outputs": [],
   "source": [
    "all_results = {}"
   ]
  },
  {
   "cell_type": "markdown",
   "metadata": {},
   "source": [
    "# Model A"
   ]
  },
  {
   "cell_type": "markdown",
   "metadata": {},
   "source": [
    "## Definition"
   ]
  },
  {
   "cell_type": "code",
   "execution_count": null,
   "metadata": {},
   "outputs": [],
   "source": [
    "# Assume every mode of transport is available\n",
    "availability_walk = 1  \n",
    "availability_cycle = 1  \n",
    "availability_pt = 1     \n",
    "availability_drive = 1\n",
    "\n",
    "availability = {\n",
    "    1: availability_walk,   # Walking\n",
    "    2: availability_cycle,  # Cycling\n",
    "    3: availability_pt,     # Public Transport\n",
    "    4: availability_drive   # Driving\n",
    "}"
   ]
  },
  {
   "cell_type": "code",
   "execution_count": null,
   "metadata": {},
   "outputs": [],
   "source": [
    "# Define alternative-specific parameters for travel time\n",
    "B_TIME_WALK = Beta('B_TIME_WALK', 0, None, None, 0)\n",
    "B_TIME_CYCLE = Beta('B_TIME_CYCLE', 0, None, None, 0)\n",
    "B_TIME_PT = Beta('B_TIME_PT', 0, None, None, 0)\n",
    "B_TIME_DRIVE = Beta('B_TIME_DRIVE', 0, None, None, 0)\n",
    "\n",
    "ASC_CYCLE = Beta('ASC_CYCLE', 0, None, None, 0)\n",
    "ASC_PT = Beta('ASC_PT', 0, None, None, 0)\n",
    "ASC_DRIVE = Beta('ASC_DRIVE', 0, None, None, 0)\n",
    "\n",
    "# Define generic parameters for cost and travel time\n",
    "B_COST = Beta('B_COST', 0, None, None, 0)\n",
    "\n",
    "# Define interaction terms between ASCs and age_scaled\n",
    "ASC_CYCLE_AGE = ASC_CYCLE + Beta('ASC_CYCLE_AGE', 0, None, None, 0) * age_scaled\n",
    "ASC_PT_AGE = ASC_PT + Beta('ASC_PT_AGE', 0, None, None, 0) * age_scaled\n",
    "ASC_DRIVE_AGE = ASC_DRIVE + Beta('ASC_DRIVE_AGE', 0, None, None, 0) * age_scaled\n",
    "\n",
    "# Utility functions with interaction terms\n",
    "V_WALK = B_TIME_WALK * dur_walking\n",
    "V_CYCLE = ASC_CYCLE_AGE + B_TIME_CYCLE * dur_cycling\n",
    "V_PT = ASC_PT_AGE + B_COST * cost_transit + B_TIME_PT * dur_pt\n",
    "V_DRIVE = ASC_DRIVE_AGE + B_COST * cost_driving + B_TIME_DRIVE * dur_driving\n",
    "\n",
    "# Associate utility functions with the mode choice\n",
    "V = {\n",
    "    1: V_WALK,    # Walking\n",
    "    2: V_CYCLE,   # Cycling\n",
    "    3: V_PT,      # Public Transport\n",
    "    4: V_DRIVE    # Driving\n",
    "}\n",
    "\n",
    "# Specify the model\n",
    "model_2a = loglogit({1: V_WALK, 2: V_CYCLE, 3: V_PT, 4: V_DRIVE}, availability, travel_mode)"
   ]
  },
  {
   "cell_type": "markdown",
   "metadata": {},
   "source": [
    "## Results"
   ]
  },
  {
   "cell_type": "code",
   "execution_count": null,
   "metadata": {},
   "outputs": [
    {
     "name": "stdout",
     "output_type": "stream",
     "text": [
      "Estimation results for Model 0:\n",
      "              Value  Rob. Std err  Rob. t-test  Rob. p-value\n",
      "ASC_CYCLE -3.778175      0.103171   -36.620564           0.0\n",
      "ASC_DRIVE -1.288003      0.079431   -16.215324           0.0\n",
      "ASC_PT    -0.525660      0.054777    -9.596426           0.0\n",
      "B_COST    -0.190833      0.014635   -13.039920           0.0\n",
      "B_TIME    -5.598770      0.203407   -27.524922           0.0\n"
     ]
    }
   ],
   "source": [
    "# Estimate Model 2 - Specification 1\n",
    "biogeme_spec1 = bio.BIOGEME(database, model_2a)\n",
    "biogeme_spec1.modelName = \"Model_2A\"\n",
    "results_m2a = biogeme_spec1.estimate()\n",
    "\n",
    "all_results['Model_2A'] = results_m2a\n",
    "\n",
    "# Display estimation results\n",
    "print(\"Estimation results for Model 2A:\")\n",
    "print(results_m2a.get_estimated_parameters())"
   ]
  },
  {
   "cell_type": "code",
   "execution_count": null,
   "metadata": {},
   "outputs": [],
   "source": [
    "print(results_m2a.print_general_statistics())"
   ]
  },
  {
   "cell_type": "markdown",
   "metadata": {},
   "source": [
    "## Testing Against Model 1"
   ]
  },
  {
   "cell_type": "code",
   "execution_count": null,
   "metadata": {},
   "outputs": [],
   "source": [
    "folder_path = os.path.join(os.pardir, 'Model_1')\n",
    "file_path = os.path.join(folder_path, 'Model_1.pickle')\n",
    "\n",
    "# open a file, where you stored the pickled data\n",
    "file = open(file_path, 'rb')\n",
    "\n",
    "# dump information to that file\n",
    "results_m1 = pickle.load(file)\n",
    "\n",
    "# close the file\n",
    "file.close()"
   ]
  },
  {
   "cell_type": "code",
   "execution_count": null,
   "metadata": {},
   "outputs": [],
   "source": [
    "loglikehood_m2a = results_m2a.data.logLike\n",
    "num_params_m2a = results_m2a.data.nparam\n",
    "\n",
    "loglikehood_m1 = results_m2a.logLike\n",
    "num_params_m1 = results_m2a.nparam\n",
    "\n",
    "# Calculate the LR statistic\n",
    "LR = 2 * (loglikehood_m2a - loglikehood_m1)\n",
    "\n",
    "# Degrees of freedom\n",
    "df = num_params_m2a - num_params_m1\n",
    "\n",
    "# Critical value at 0.05 significance level\n",
    "critical_value = chi2.ppf(0.95, df)\n",
    "\n",
    "print(\"Likelihood Ratio:\", LR)\n",
    "print(\"Degrees of Freedom:\", df)\n",
    "print(\"Critical Chi-Square Value (0.05 significance):\", critical_value)\n",
    "\n",
    "if LR > critical_value:\n",
    "    print(\"Model 2a is significantly better than Model 1.\")\n",
    "else:\n",
    "    print(\"No significant improvement in Model 2a over Model 1.\")\n",
    "\n"
   ]
  },
  {
   "cell_type": "markdown",
   "metadata": {},
   "source": [
    "# Model B"
   ]
  },
  {
   "cell_type": "markdown",
   "metadata": {},
   "source": [
    "## Definition"
   ]
  },
  {
   "cell_type": "code",
   "execution_count": null,
   "metadata": {},
   "outputs": [],
   "source": [
    "# Define alternative-specific parameters for travel time\n",
    "B_TIME_WALK = Beta('B_TIME_WALK', 0, None, None, 0)\n",
    "B_TIME_CYCLE = Beta('B_TIME_CYCLE', 0, None, None, 0)\n",
    "B_TIME_PT = Beta('B_TIME_PT', 0, None, None, 0)\n",
    "B_TIME_DRIVE = Beta('B_TIME_DRIVE', 0, None, None, 0)\n",
    "\n",
    "ASC_CYCLE = Beta('ASC_CYCLE', 0, None, None, 0)\n",
    "ASC_PT = Beta('ASC_PT', 0, None, None, 0)\n",
    "ASC_DRIVE = Beta('ASC_DRIVE', 0, None, None, 0)\n",
    "\n",
    "# Define generic parameters for cost and travel time\n",
    "B_COST = Beta('B_COST', 0, None, None, 0)\n",
    "\n",
    "\n",
    "B_TIME_WALK_AGE = Beta('B_TIME_WALK_AGE', 0, None, None, 0) * age_scaled\n",
    "B_TIME_CYCLE_AGE = Beta('B_TIME_CYCLE_AGE', 0, None, None, 0) * age_scaled\n",
    "B_TIME_PT_AGE = Beta('B_TIME_PT_AGE', 0, None, None, 0) * age_scaled\n",
    "B_TIME_DRIVE_AGE = Beta('B_TIME_DRIVE_AGE', 0, None, None, 0) * age_scaled\n",
    "\n",
    "# Updated utility functions with age interaction for travel time\n",
    "V_WALK = (B_TIME_WALK + B_TIME_WALK_AGE) * dur_walking\n",
    "V_CYCLE = ASC_CYCLE + (B_TIME_CYCLE + B_TIME_CYCLE_AGE) * dur_cycling\n",
    "V_PT = ASC_PT + B_COST * cost_transit + (B_TIME_PT + B_TIME_PT_AGE) * dur_pt\n",
    "V_DRIVE = ASC_DRIVE + B_COST * cost_driving + (B_TIME_DRIVE + B_TIME_DRIVE_AGE) * dur_driving\n",
    "\n",
    "# Associate utility functions with the mode choice\n",
    "V = {\n",
    "    1: V_WALK,    # Walking\n",
    "    2: V_CYCLE,   # Cycling\n",
    "    3: V_PT,      # Public Transport\n",
    "    4: V_DRIVE    # Driving\n",
    "}\n",
    "\n",
    "# Specify the model\n",
    "model_2b = loglogit({1: V_WALK, 2: V_CYCLE, 3: V_PT, 4: V_DRIVE}, availability, travel_mode)"
   ]
  },
  {
   "cell_type": "markdown",
   "metadata": {},
   "source": [
    "## Results"
   ]
  },
  {
   "cell_type": "code",
   "execution_count": null,
   "metadata": {},
   "outputs": [],
   "source": [
    "# Estimate Model 2 - Specification 1\n",
    "biogeme_spec1 = bio.BIOGEME(database, model_2b)\n",
    "biogeme_spec1.modelName = \"Model_2B\"\n",
    "results_m2b = biogeme_spec1.estimate()\n",
    "\n",
    "all_results['Model_2B'] = results_m2b\n",
    "\n",
    "# Display estimation results\n",
    "print(\"Estimation results for Model 2b:\")\n",
    "print(results_m2b.get_estimated_parameters())"
   ]
  },
  {
   "cell_type": "code",
   "execution_count": null,
   "metadata": {},
   "outputs": [],
   "source": [
    "print(results_m2b.print_general_statistics())"
   ]
  },
  {
   "cell_type": "markdown",
   "metadata": {},
   "source": [
    "## Testing Against Model 1"
   ]
  },
  {
   "cell_type": "code",
   "execution_count": null,
   "metadata": {},
   "outputs": [],
   "source": [
    "loglikehood_m2b = results_m2b.data.logLike\n",
    "num_params_m2b = results_m2b.data.nparam\n",
    "\n",
    "# Calculate the LR statistic\n",
    "LR = 2 * (loglikehood_m2b - loglikehood_m1)\n",
    "\n",
    "# Degrees of freedom\n",
    "df = num_params_m2a - num_params_m1\n",
    "\n",
    "# Critical value at 0.05 significance level\n",
    "critical_value = chi2.ppf(0.95, df)\n",
    "\n",
    "print(\"Likelihood Ratio:\", LR)\n",
    "print(\"Degrees of Freedom:\", df)\n",
    "print(\"Critical Chi-Square Value (0.05 significance):\", critical_value)\n",
    "\n",
    "if LR > critical_value:\n",
    "    print(\"Model 2a is significantly better than Model 1.\")\n",
    "else:\n",
    "    print(\"No significant improvement in Model 2b over Model 1.\")\n",
    "\n"
   ]
  },
  {
   "cell_type": "markdown",
   "metadata": {},
   "source": [
    "# Comparing Model A and Model B"
   ]
  },
  {
   "cell_type": "code",
   "execution_count": null,
   "metadata": {},
   "outputs": [],
   "source": [
    "comparison_table, _ = compile_estimation_results(all_results)\n",
    "display(comparison_table)"
   ]
  }
 ],
 "metadata": {
  "kernelspec": {
   "display_name": ".venv",
   "language": "python",
   "name": "python3"
  },
  "language_info": {
   "codemirror_mode": {
    "name": "ipython",
    "version": 3
   },
   "file_extension": ".py",
   "mimetype": "text/x-python",
   "name": "python",
   "nbconvert_exporter": "python",
   "pygments_lexer": "ipython3",
   "version": "3.10.5"
  }
 },
 "nbformat": 4,
 "nbformat_minor": 2
}
