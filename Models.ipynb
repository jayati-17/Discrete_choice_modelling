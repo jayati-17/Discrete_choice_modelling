{
 "cells": [
  {
   "cell_type": "code",
   "execution_count": null,
   "metadata": {},
   "outputs": [],
   "source": [
    "import pandas as pd\n",
    "import biogeme.database as db\n",
    "import biogeme.biogeme as bio\n",
    "from biogeme.expressions import Beta, Variable\n",
    "from biogeme.models import loglogit\n",
    "from biogeme.tools import likelihood_ratio_test\n",
    "\n",
    "from data_preparation import *"
   ]
  },
  {
   "cell_type": "markdown",
   "metadata": {},
   "source": [
    "# Model 0"
   ]
  },
  {
   "cell_type": "code",
   "execution_count": null,
   "metadata": {},
   "outputs": [
    {
     "name": "stderr",
     "output_type": "stream",
     "text": [
      "File biogeme.toml has been created\n"
     ]
    },
    {
     "name": "stdout",
     "output_type": "stream",
     "text": [
      "Estimation results for Model 0:\n",
      "              Value  Rob. Std err  Rob. t-test  Rob. p-value\n",
      "ASC_CYCLE -3.778175      0.103171   -36.620564           0.0\n",
      "ASC_DRIVE -1.288003      0.079431   -16.215324           0.0\n",
      "ASC_PT    -0.525660      0.054777    -9.596426           0.0\n",
      "B_COST    -0.190833      0.014635   -13.039920           0.0\n",
      "B_TIME    -5.598770      0.203407   -27.524922           0.0\n"
     ]
    }
   ],
   "source": [
    "# Load the data \n",
    "df = pd.read_csv(\"lpmc01.dat\", sep='\\t')\n",
    "database = db.Database('lpmc01', df)\n",
    "\n",
    "# Define ASCs\n",
    "ASC_CYCLE = Beta('ASC_CYCLE', 0, None, None, 0)\n",
    "ASC_PT = Beta('ASC_PT', 0, None, None, 0)\n",
    "ASC_DRIVE = Beta('ASC_DRIVE', 0, None, None, 0)\n",
    "\n",
    "# Define generic parameters for cost and travel time\n",
    "B_COST = Beta('B_COST', 0, None, None, 0)\n",
    "B_TIME = Beta('B_TIME', 0, None, None, 0)\n",
    "\n",
    "# Define utility functions for each alternative\n",
    "V_WALK =  B_TIME * dur_walking\n",
    "V_CYCLE = ASC_CYCLE + B_TIME * dur_cycling\n",
    "V_PT = ASC_PT + B_COST * cost_transit + B_TIME * dur_pt\n",
    "V_DRIVE = ASC_DRIVE + B_COST * cost_driving + B_TIME * dur_driving\n",
    "\n",
    "# Assume every mode of transport is available\n",
    "availability_walk = 1  \n",
    "availability_cycle = 1  \n",
    "availability_pt = 1     \n",
    "availability_drive = 1\n",
    "\n",
    "availability = {\n",
    "    1: availability_walk,   # Walking\n",
    "    2: availability_cycle,  # Cycling\n",
    "    3: availability_pt,     # Public Transport\n",
    "    4: availability_drive   # Driving\n",
    "}\n",
    "\n",
    "# Associate utility functions with the mode choice\n",
    "V = {\n",
    "    1: V_WALK,    # Walking\n",
    "    2: V_CYCLE,   # Cycling\n",
    "    3: V_PT,      # Public Transport\n",
    "    4: V_DRIVE    # Driving\n",
    "}\n",
    "\n",
    "# Specify the model using a log-logit function\n",
    "model_0 = loglogit(V, availability, travel_mode)\n",
    "\n",
    "# Create Biogeme object\n",
    "biogeme = bio.BIOGEME(database, model_0)\n",
    "biogeme.modelName = \"Model_0\"\n",
    "\n",
    "# Estimate parameters\n",
    "results = biogeme.estimate()\n",
    "\n",
    "# Display estimation results\n",
    "print(\"Estimation results for Model 0:\")\n",
    "print(results.get_estimated_parameters())\n",
    "\n",
    "# Optional: To calculate number of rows with car ownership 0 but driving mode chosen\n",
    "driving_without_car = df[(df['car_ownership'] == 0) & (df['travel_mode'] == 4)]\n",
    "num_rows_driving_without_car = driving_without_car.shape[0]\n",
    "#print(\"Number of rows where car ownership is 0 but travel mode is driving:\", num_rows_driving_without_car)"
   ]
  },
  {
   "cell_type": "code",
   "execution_count": 27,
   "metadata": {},
   "outputs": [
    {
     "name": "stdout",
     "output_type": "stream",
     "text": [
      "Estimation results for Model 1:\n",
      "                 Value  Rob. Std err  Rob. t-test  Rob. p-value\n",
      "ASC_CYCLE    -4.602378      0.197139   -23.345861           0.0\n",
      "ASC_DRIVE    -2.115318      0.144923   -14.596201           0.0\n",
      "ASC_PT       -2.599549      0.146553   -17.737963           0.0\n",
      "B_COST       -0.180812      0.017547   -10.304242           0.0\n",
      "B_TIME_CYCLE -6.462945      0.483849   -13.357359           0.0\n",
      "B_TIME_DRIVE -6.623754      0.379926   -17.434326           0.0\n",
      "B_TIME_PT    -3.494668      0.244093   -14.316929           0.0\n",
      "B_TIME_WALK  -9.065278      0.456118   -19.874847           0.0\n"
     ]
    }
   ],
   "source": [
    "# Define alternative-specific parameters for travel time\n",
    "B_TIME_WALK = Beta('B_TIME_WALK', 0, None, None, 0)\n",
    "B_TIME_CYCLE = Beta('B_TIME_CYCLE', 0, None, None, 0)\n",
    "B_TIME_PT = Beta('B_TIME_PT', 0, None, None, 0)\n",
    "B_TIME_DRIVE = Beta('B_TIME_DRIVE', 0, None, None, 0)\n",
    "\n",
    "# Update utility functions with alternative-specific time parameters\n",
    "V_WALK = B_TIME_WALK * dur_walking\n",
    "V_CYCLE = ASC_CYCLE + B_TIME_CYCLE * dur_cycling\n",
    "V_PT = ASC_PT + B_COST * cost_transit + B_TIME_PT * dur_pt\n",
    "V_DRIVE = ASC_DRIVE + B_COST * cost_driving + B_TIME_DRIVE * dur_driving\n",
    "\n",
    "# Redefine the model\n",
    "model_1 = loglogit({1: V_WALK, 2: V_CYCLE, 3: V_PT, 4: V_DRIVE}, availability, travel_mode)\n",
    "\n",
    "# Create Biogeme object for Model 1\n",
    "biogeme_model_1 = bio.BIOGEME(database, model_1)\n",
    "biogeme_model_1.modelName = \"Model_1\"\n",
    "\n",
    "# Estimate parameters for Model 1\n",
    "results_model_1 = biogeme_model_1.estimate()\n",
    "\n",
    "# Display estimation results\n",
    "print(\"Estimation results for Model 1:\")\n",
    "print(results_model_1.get_estimated_parameters())"
   ]
  },
  {
   "cell_type": "code",
   "execution_count": 37,
   "metadata": {},
   "outputs": [
    {
     "name": "stdout",
     "output_type": "stream",
     "text": [
      "Likelihood Ratio Test Results:\n",
      " H0 can be rejected at level 5.0%\n"
     ]
    }
   ],
   "source": [
    "# Retrieve log-likelihoods and number of parameters\n",
    "model_0_loglike = results.data.logLike       # Log-likelihood for Model 0\n",
    "model_0_numParam = len(results.get_beta_values())   # Number of parameters in Model 0\n",
    "\n",
    "model_1_loglike = results_model_1.data.logLike       # Log-likelihood for Model 1\n",
    "model_1_numParam = len(results_model_1.get_beta_values())   # Number of parameters in Model 1\n",
    "\n",
    "# Perform the likelihood ratio test\n",
    "alpha = 0.05\n",
    "lr_test_result = likelihood_ratio_test(\n",
    "    [model_0_loglike, model_0_numParam],\n",
    "    [model_1_loglike, model_1_numParam],\n",
    "    alpha # Significance level of 0.01\n",
    ")\n",
    "\n",
    "# Display the results (accessing values by index)\n",
    "print(\"Likelihood Ratio Test Results:\")\n",
    "print(f\" {lr_test_result[0]}\")           # LR Statistic\n"
   ]
  },
  {
   "cell_type": "markdown",
   "metadata": {},
   "source": [
    "Model_pref = model_1"
   ]
  },
  {
   "cell_type": "markdown",
   "metadata": {},
   "source": [
    "# Model 2"
   ]
  },
  {
   "cell_type": "code",
   "execution_count": 29,
   "metadata": {},
   "outputs": [],
   "source": [
    "# Standardize age\n",
    "df['age_scaled'] = (df['age'] - df['age'].mean()) / df['age'].std()\n",
    "database = db.Database('lpmc01', df)  # Reload the database with standardized age\n",
    "age_scaled = Variable('age_scaled')"
   ]
  },
  {
   "cell_type": "code",
   "execution_count": 32,
   "metadata": {},
   "outputs": [],
   "source": [
    "# Define interaction terms between ASCs and age_scaled\n",
    "ASC_CYCLE_AGE = ASC_CYCLE + Beta('ASC_CYCLE_AGE', 0, None, None, 0) * age_scaled\n",
    "ASC_PT_AGE = ASC_PT + Beta('ASC_PT_AGE', 0, None, None, 0) * age_scaled\n",
    "ASC_DRIVE_AGE = ASC_DRIVE + Beta('ASC_DRIVE_AGE', 0, None, None, 0) * age_scaled\n",
    "\n",
    "# Utility functions with interaction terms\n",
    "V_WALK = B_TIME * dur_walking\n",
    "V_CYCLE = ASC_CYCLE_AGE + B_TIME * dur_cycling\n",
    "V_PT = ASC_PT_AGE + B_COST * cost_transit + B_TIME * dur_pt\n",
    "V_DRIVE = ASC_DRIVE_AGE + B_COST * cost_driving + B_TIME * dur_driving\n",
    "\n",
    "# Specify the model\n",
    "model_2_spec1 = loglogit({1: V_WALK, 2: V_CYCLE, 3: V_PT, 4: V_DRIVE}, availability, travel_mode)\n",
    "\n",
    "# Estimate Model 2 - Specification 1\n",
    "biogeme_spec1 = bio.BIOGEME(database, model_2_spec1)\n",
    "biogeme_spec1.modelName = \"Model_2_spec1\"\n",
    "results_spec1 = biogeme_spec1.estimate()"
   ]
  },
  {
   "cell_type": "code",
   "execution_count": 31,
   "metadata": {},
   "outputs": [],
   "source": [
    "# Define interaction terms between travel time parameters and age_scaled\n",
    "B_TIME_WALK_AGE = Beta('B_TIME_WALK_AGE', 0, None, None, 0) * age_scaled\n",
    "B_TIME_CYCLE_AGE = Beta('B_TIME_CYCLE_AGE', 0, None, None, 0) * age_scaled\n",
    "B_TIME_PT_AGE = Beta('B_TIME_PT_AGE', 0, None, None, 0) * age_scaled\n",
    "B_TIME_DRIVE_AGE = Beta('B_TIME_DRIVE_AGE', 0, None, None, 0) * age_scaled\n",
    "\n",
    "# Updated utility functions with age interaction for travel time\n",
    "V_WALK = (B_TIME + B_TIME_WALK_AGE) * dur_walking\n",
    "V_CYCLE = ASC_CYCLE + (B_TIME + B_TIME_CYCLE_AGE) * dur_cycling\n",
    "V_PT = ASC_PT + B_COST * cost_transit + (B_TIME + B_TIME_PT_AGE) * dur_pt\n",
    "V_DRIVE = ASC_DRIVE + B_COST * cost_driving + (B_TIME + B_TIME_DRIVE_AGE) * dur_driving\n",
    "\n",
    "# Specify the model\n",
    "model_2_spec2 = loglogit({1: V_WALK, 2: V_CYCLE, 3: V_PT, 4: V_DRIVE}, availability, travel_mode)\n",
    "\n",
    "# Estimate Model 2 - Specification 2\n",
    "biogeme_spec2 = bio.BIOGEME(database, model_2_spec2)\n",
    "biogeme_spec2.modelName = \"Model_2_spec2\"\n",
    "results_spec2 = biogeme_spec2.estimate()"
   ]
  },
  {
   "cell_type": "code",
   "execution_count": 41,
   "metadata": {},
   "outputs": [
    {
     "name": "stdout",
     "output_type": "stream",
     "text": [
      "Estimation results for Model 2 - Specification 1 (Interaction with ASCs):\n",
      "                  Value  Rob. Std err  Rob. t-test  Rob. p-value\n",
      "ASC_CYCLE     -3.780802      0.103558   -36.509040  0.000000e+00\n",
      "ASC_CYCLE_AGE  0.085611      0.079369     1.078644  2.807462e-01\n",
      "ASC_DRIVE     -1.290644      0.079768   -16.179921  0.000000e+00\n",
      "ASC_DRIVE_AGE  0.297452      0.043608     6.821057  9.037437e-12\n",
      "ASC_PT        -0.519548      0.054986    -9.448776  0.000000e+00\n",
      "ASC_PT_AGE     0.130969      0.040394     3.242261  1.185853e-03\n",
      "B_COST        -0.191840      0.014779   -12.980697  0.000000e+00\n",
      "B_TIME        -5.607906      0.203078   -27.614548  0.000000e+00\n",
      "\n",
      "Estimation results for Model 2 - Specification 2 (Interaction with Travel Time):\n",
      "                     Value  Rob. Std err  Rob. t-test  Rob. p-value\n",
      "ASC_CYCLE        -3.796371      0.103459   -36.694392      0.000000\n",
      "ASC_DRIVE        -1.307115      0.080222   -16.293646      0.000000\n",
      "ASC_PT           -0.537913      0.054957    -9.787858      0.000000\n",
      "B_COST           -0.193907      0.015045   -12.888126      0.000000\n",
      "B_TIME           -5.687928      0.208138   -27.327627      0.000000\n",
      "B_TIME_CYCLE_AGE -0.699637      0.314439    -2.225031      0.026079\n",
      "B_TIME_DRIVE_AGE -0.312219      0.357365    -0.873671      0.382298\n",
      "B_TIME_PT_AGE    -0.775118      0.241147    -3.214290      0.001308\n",
      "B_TIME_WALK_AGE  -0.571062      0.147433    -3.873377      0.000107\n"
     ]
    }
   ],
   "source": [
    "print(\"Estimation results for Model 2 - Specification 1 (Interaction with ASCs):\")\n",
    "print(results_spec1.get_estimated_parameters())\n",
    "\n",
    "# Display estimation results for Model 2 - Specification 2\n",
    "print(\"\\nEstimation results for Model 2 - Specification 2 (Interaction with Travel Time):\")\n",
    "print(results_spec2.get_estimated_parameters())"
   ]
  },
  {
   "cell_type": "code",
   "execution_count": null,
   "metadata": {},
   "outputs": [
    {
     "name": "stdout",
     "output_type": "stream",
     "text": [
      "Likelihood Ratio Test Results for Model 0 vs Model 2 - Specification 1:\n",
      " H0 can be rejected at level 5.0%\n",
      "\n",
      "Likelihood Ratio Test Results for Model 0 vs Model 2 - Specification 2:\n",
      ": H0 can be rejected at level 5.0%\n"
     ]
    }
   ],
   "source": [
    "# Retrieve log-likelihoods and number of parameters for Model_pref and Model 2 specifications\n",
    "model_1_loglike = results.data.logLike      \n",
    "model_1_numParam = len(results.get_beta_values())  \n",
    "\n",
    "spec1_loglike = results_spec1.data.logLike       \n",
    "spec1_numParam = len(results_spec1.get_beta_values())   \n",
    "\n",
    "spec2_loglike = results_spec2.data.logLike       \n",
    "spec2_numParam = len(results_spec2.get_beta_values())   \n",
    "\n",
    "# Perform the likelihood ratio test for Model 1 vs Model 2 - Specification 1\n",
    "lr_test_spec1 = likelihood_ratio_test(\n",
    "    [model_1_loglike, model_1_numParam],\n",
    "    [spec1_loglike, spec1_numParam],\n",
    "    0.05  # Significance level of 0.01\n",
    ")\n",
    "\n",
    "# Display results for Model 0 vs Model 2 - Specification 1\n",
    "print(\"Likelihood Ratio Test Results for Model 0 vs Model 2 - Specification 1:\")\n",
    "print(f\" {lr_test_spec1[0]}\")           # LR Statistic\n",
    "\n",
    "# Perform the likelihood ratio test for Model 0 vs Model 2 - Specification 2\n",
    "lr_test_spec2 = likelihood_ratio_test(\n",
    "    [model_0_loglike, model_0_numParam],\n",
    "    [spec2_loglike, spec2_numParam],\n",
    "    0.05  \n",
    ")\n",
    "\n",
    "# Display results for Model 0 vs Model 2 - Specification 2\n",
    "print(\"\\nLikelihood Ratio Test Results for Model 0 vs Model 2 - Specification 2:\")\n",
    "print(f\": {lr_test_spec2[0]}\")           # LR Statistic\n",
    "\n",
    "\n"
   ]
  },
  {
   "cell_type": "code",
   "execution_count": null,
   "metadata": {},
   "outputs": [],
   "source": []
  }
 ],
 "metadata": {
  "language_info": {
   "name": "python"
  }
 },
 "nbformat": 4,
 "nbformat_minor": 2
}
