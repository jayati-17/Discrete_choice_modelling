{
 "cells": [
  {
   "cell_type": "markdown",
   "metadata": {},
   "source": [
    "## Preprocessing"
   ]
  },
  {
   "cell_type": "markdown",
   "metadata": {},
   "source": [
    "### Imports"
   ]
  },
  {
   "cell_type": "code",
   "execution_count": 1,
   "metadata": {},
   "outputs": [],
   "source": [
    "import pandas as pd\n",
    "import biogeme.database as db\n",
    "import biogeme.biogeme as bio\n",
    "from IPython.core.display_functions import display\n",
    "from biogeme.expressions import Beta, Variable\n",
    "from biogeme.models import loglogit, boxcox\n",
    "from biogeme.segmentation import DiscreteSegmentationTuple, segmented_beta"
   ]
  },
  {
   "cell_type": "markdown",
   "metadata": {},
   "source": [
    "### Load Data and Filter\n",
    "\n",
    "Remove all those who shouldn't have access to cars but still chose it"
   ]
  },
  {
   "cell_type": "code",
   "execution_count": 2,
   "metadata": {},
   "outputs": [],
   "source": [
    "data = pd.read_csv(\"lpmc01.dat\", sep = '\\t')\n",
    "\n",
    "# Step 1: Identify whether each household has a driving license\n",
    "data['household_has_license'] = data.groupby('household_id')['driving_license'].transform(lambda x: x.max())\n",
    "\n",
    "# Step 2: Define a filter for the availability conditions not being met\n",
    "car_availability_unmet = (data['car_ownership'] == 0) & (data['driving_license'] == 0) & (data['household_has_license'] == 0)\n",
    "\n",
    "# Step 3: Identify rows where travel_mode is 4 (car) but the availability conditions are not met\n",
    "car_without_availability = data[(data['travel_mode'] == 4) & car_availability_unmet]\n",
    "\n",
    "# Step 4: Remove those rows from the original DataFrame\n",
    "data_filtered = data[~data.index.isin(car_without_availability.index)]\n",
    "\n",
    "database = db.Database('london', data_filtered)"
   ]
  },
  {
   "cell_type": "markdown",
   "metadata": {},
   "source": [
    "## Variable Definition"
   ]
  },
  {
   "cell_type": "code",
   "execution_count": 3,
   "metadata": {},
   "outputs": [],
   "source": [
    "trip_id = Variable('trip_id')\n",
    "household_id = Variable('household_id')\n",
    "person_n = Variable('person_n')\n",
    "trip_n = Variable('trip_n')\n",
    "travel_mode = Variable('travel_mode')\n",
    "purpose = Variable('purpose')\n",
    "fueltype = Variable('fueltype')\n",
    "faretype = Variable('faretype')\n",
    "bus_scale = Variable('bus_scale')\n",
    "survey_year = Variable('survey_year')\n",
    "travel_year = Variable('travel_year')\n",
    "travel_month = Variable('travel_month')\n",
    "travel_date = Variable('travel_date')\n",
    "day_of_week = Variable('day_of_week')\n",
    "start_time = Variable('start_time')\n",
    "age = Variable('age')\n",
    "female = Variable('female')\n",
    "driving_license = Variable('driving_license')\n",
    "car_ownership = Variable('car_ownership')\n",
    "distance = Variable('distance')\n",
    "dur_walking = Variable('dur_walking')\n",
    "dur_cycling = Variable('dur_cycling')\n",
    "dur_pt_access = Variable('dur_pt_access') # Predicted total access and egress time for public transport route in hours\n",
    "dur_pt_rail = Variable('dur_pt_rail')\n",
    "dur_pt_bus = Variable('dur_pt_bus')\n",
    "dur_pt_int = Variable('dur_pt_int') # Time taken (hrs) at each interchange point\n",
    "pt_interchanges = Variable('pt_interchanges')   # Number of interchange points in public transport route\n",
    "dur_driving = Variable('dur_driving')\n",
    "cost_transit = Variable('cost_transit')\n",
    "cost_driving_fuel = Variable('cost_driving_fuel')   # Estimated fuel cost of driving route in GBP\n",
    "cost_driving_ccharge = Variable('cost_driving_ccharge')  # Estimated congestion charge cost of driving route in GBP\n",
    "driving_traffic_percent = Variable('driving_traffic_percent')\n",
    "\n",
    "household_has_license = Variable('household_has_license')\n"
   ]
  },
  {
   "cell_type": "code",
   "execution_count": 4,
   "metadata": {},
   "outputs": [],
   "source": [
    "# Define driving cost\n",
    "cost_driving = cost_driving_ccharge + cost_driving_fuel\n",
    "\n",
    "# Define time taken by each mode of transport\n",
    "time_pt = dur_pt_access + dur_pt_rail + dur_pt_bus + dur_pt_int \n",
    "\n",
    "time_cycling = dur_cycling\n",
    "time_walking = dur_walking\n",
    "time_driving = dur_driving"
   ]
  },
  {
   "cell_type": "markdown",
   "metadata": {},
   "source": [
    "## Model 0\n",
    "\n",
    "Only generic ASCs and parameters"
   ]
  },
  {
   "cell_type": "code",
   "execution_count": 5,
   "metadata": {},
   "outputs": [],
   "source": [
    "# Define ASCs \n",
    "asc_car = Beta(name='asc_car', value=0, lowerbound=None, upperbound=None, status=0)\n",
    "asc_walk = Beta(name='asc_walk', value=0, lowerbound=None, upperbound=None, status=0)\n",
    "asc_pt = Beta(name='asc_pt', value=0, lowerbound=None, upperbound=None, status=0)\n",
    "\n",
    "# Define generic parameters\n",
    "\n",
    "beta_cost = Beta(name='beta_cost', value=0, lowerbound=None, upperbound=None, status=0)\n",
    "beta_time = Beta(name='beta_time', value=0, lowerbound=None, upperbound=None, status=0)\n"
   ]
  },
  {
   "cell_type": "code",
   "execution_count": 6,
   "metadata": {},
   "outputs": [],
   "source": [
    "# Define utility functions\n",
    "\n",
    "v_car = asc_car + beta_cost * cost_driving + beta_time * time_driving\n",
    "\n",
    "v_walk = asc_walk + beta_time * time_walking\n",
    "\n",
    "v_pt = asc_pt + beta_cost * cost_transit + beta_time * time_pt\n",
    "\n",
    "v_cycling = beta_time * time_cycling"
   ]
  },
  {
   "cell_type": "code",
   "execution_count": 7,
   "metadata": {},
   "outputs": [],
   "source": [
    "# Availability\n",
    "\n",
    "V = {1: v_walk, 2: v_cycling, 3: v_pt, 4: v_car}\n",
    "\n",
    "CAR_AV = (car_ownership != 0) | (driving_license != 0) | (household_has_license != 0)\n",
    "WALK_AV = (car_ownership >= 0)\n",
    "PT_AV = (car_ownership >= 0)\n",
    "CYCLING_AV = (car_ownership >= 0)\n",
    "\n",
    "av = {1: WALK_AV, 2: CYCLING_AV , 3: PT_AV, 4: CAR_AV}"
   ]
  },
  {
   "cell_type": "code",
   "execution_count": 8,
   "metadata": {},
   "outputs": [
    {
     "name": "stdout",
     "output_type": "stream",
     "text": [
      "Number of estimated parameters:\t5\n",
      "Sample size:\t4941\n",
      "Excluded observations:\t0\n",
      "Null log likelihood:\t-6610.329\n",
      "Init log likelihood:\t-6610.329\n",
      "Final log likelihood:\t-4007.051\n",
      "Likelihood ratio test for the null model:\t5206.557\n",
      "Rho-square for the null model:\t0.394\n",
      "Rho-square-bar for the null model:\t0.393\n",
      "Likelihood ratio test for the init. model:\t5206.557\n",
      "Rho-square for the init. model:\t0.394\n",
      "Rho-square-bar for the init. model:\t0.393\n",
      "Akaike Information Criterion:\t8024.101\n",
      "Bayesian Information Criterion:\t8056.628\n",
      "Final gradient norm:\t2.4196E-03\n",
      "Nbr of threads:\t16\n",
      "\n"
     ]
    }
   ],
   "source": [
    "logprob_m0 = loglogit(V, av, travel_mode)\n",
    "\n",
    "model_0 = bio.BIOGEME(database, logprob_m0)\n",
    "model_0.modelName = 'model_0'\n",
    "\n",
    "null_log_likelihood_m0 = model_0.calculate_null_loglikelihood(av)\n",
    "\n",
    "results_m0 = model_0.estimate()\n",
    "\n",
    "print(results_m0.print_general_statistics())"
   ]
  },
  {
   "cell_type": "code",
   "execution_count": 9,
   "metadata": {},
   "outputs": [
    {
     "data": {
      "text/html": [
       "<div>\n",
       "<style scoped>\n",
       "    .dataframe tbody tr th:only-of-type {\n",
       "        vertical-align: middle;\n",
       "    }\n",
       "\n",
       "    .dataframe tbody tr th {\n",
       "        vertical-align: top;\n",
       "    }\n",
       "\n",
       "    .dataframe thead th {\n",
       "        text-align: right;\n",
       "    }\n",
       "</style>\n",
       "<table border=\"1\" class=\"dataframe\">\n",
       "  <thead>\n",
       "    <tr style=\"text-align: right;\">\n",
       "      <th></th>\n",
       "      <th>Value</th>\n",
       "      <th>Rob. Std err</th>\n",
       "      <th>Rob. t-test</th>\n",
       "      <th>Rob. p-value</th>\n",
       "    </tr>\n",
       "  </thead>\n",
       "  <tbody>\n",
       "    <tr>\n",
       "      <th>asc_car</th>\n",
       "      <td>2.904088</td>\n",
       "      <td>0.091323</td>\n",
       "      <td>31.800297</td>\n",
       "      <td>0.0</td>\n",
       "    </tr>\n",
       "    <tr>\n",
       "      <th>asc_pt</th>\n",
       "      <td>3.355414</td>\n",
       "      <td>0.094523</td>\n",
       "      <td>35.498546</td>\n",
       "      <td>0.0</td>\n",
       "    </tr>\n",
       "    <tr>\n",
       "      <th>asc_walk</th>\n",
       "      <td>3.945274</td>\n",
       "      <td>0.112873</td>\n",
       "      <td>34.953192</td>\n",
       "      <td>0.0</td>\n",
       "    </tr>\n",
       "    <tr>\n",
       "      <th>beta_cost</th>\n",
       "      <td>-0.206632</td>\n",
       "      <td>0.015116</td>\n",
       "      <td>-13.669511</td>\n",
       "      <td>0.0</td>\n",
       "    </tr>\n",
       "    <tr>\n",
       "      <th>beta_time</th>\n",
       "      <td>-5.974888</td>\n",
       "      <td>0.227355</td>\n",
       "      <td>-26.280001</td>\n",
       "      <td>0.0</td>\n",
       "    </tr>\n",
       "  </tbody>\n",
       "</table>\n",
       "</div>"
      ],
      "text/plain": [
       "              Value  Rob. Std err  Rob. t-test  Rob. p-value\n",
       "asc_car    2.904088      0.091323    31.800297           0.0\n",
       "asc_pt     3.355414      0.094523    35.498546           0.0\n",
       "asc_walk   3.945274      0.112873    34.953192           0.0\n",
       "beta_cost -0.206632      0.015116   -13.669511           0.0\n",
       "beta_time -5.974888      0.227355   -26.280001           0.0"
      ]
     },
     "metadata": {},
     "output_type": "display_data"
    }
   ],
   "source": [
    "pd_results_m0 = results_m0.get_estimated_parameters()\n",
    "display(pd_results_m0)\n"
   ]
  },
  {
   "cell_type": "markdown",
   "metadata": {},
   "source": [
    "## Model 1: Time alternative specific"
   ]
  },
  {
   "cell_type": "code",
   "execution_count": 10,
   "metadata": {},
   "outputs": [
    {
     "name": "stdout",
     "output_type": "stream",
     "text": [
      "Number of estimated parameters:\t8\n",
      "Sample size:\t4941\n",
      "Excluded observations:\t0\n",
      "Null log likelihood:\t-6610.329\n",
      "Init log likelihood:\t-6610.329\n",
      "Final log likelihood:\t-3663.213\n",
      "Likelihood ratio test for the null model:\t5894.233\n",
      "Rho-square for the null model:\t0.446\n",
      "Rho-square-bar for the null model:\t0.445\n",
      "Likelihood ratio test for the init. model:\t5894.233\n",
      "Rho-square for the init. model:\t0.446\n",
      "Rho-square-bar for the init. model:\t0.445\n",
      "Akaike Information Criterion:\t7342.425\n",
      "Bayesian Information Criterion:\t7394.468\n",
      "Final gradient norm:\t6.3734E-03\n",
      "Nbr of threads:\t16\n",
      "\n"
     ]
    }
   ],
   "source": [
    "# Define ASCs \n",
    "asc_car = Beta(name='asc_car', value=0, lowerbound=None, upperbound=None, status=0)\n",
    "asc_walk = Beta(name='asc_walk', value=0, lowerbound=None, upperbound=None, status=0)\n",
    "asc_pt = Beta(name='asc_pt', value=0, lowerbound=None, upperbound=None, status=0)\n",
    "\n",
    "# Define generic parameters\n",
    "\n",
    "beta_time_car = Beta(name='beta_time_car', value=0, lowerbound=None, upperbound=None, status=0)\n",
    "beta_time_pt = Beta(name='beta_time_pt', value=0, lowerbound=None, upperbound=None, status=0)\n",
    "beta_time_walk = Beta(name='beta_time_walk', value=0, lowerbound=None, upperbound=None, status=0)\n",
    "beta_time_cycling = Beta(name='beta_time_cycling', value=0, lowerbound=None, upperbound=None, status=0)\n",
    "\n",
    "# Define alternative specific parameters\n",
    "\n",
    "beta_cost = Beta(name='beta_cost', value=0, lowerbound=None, upperbound=None, status=0)\n",
    "\n",
    "# Define utility functions\n",
    "\n",
    "v_car = asc_car + beta_cost * cost_driving + beta_time_car * time_driving\n",
    "\n",
    "v_walk = asc_walk + beta_time_walk * time_walking\n",
    "\n",
    "v_pt = asc_pt + beta_cost * cost_transit + beta_time_pt * time_pt\n",
    "\n",
    "v_cycling = beta_time_cycling * time_cycling\n",
    "\n",
    "V = {1: v_walk, 2: v_cycling, 3: v_pt, 4: v_car}\n",
    "\n",
    "CAR_AV = (car_ownership != 0) | (driving_license != 0) | (household_has_license != 0)\n",
    "WALK_AV = (car_ownership >= 0)\n",
    "PT_AV = (car_ownership >= 0)\n",
    "CYCLING_AV = (car_ownership >= 0)\n",
    "\n",
    "av = {1: WALK_AV, 2: CYCLING_AV , 3: PT_AV, 4: CAR_AV}\n",
    "\n",
    "logprob_m1 = loglogit(V, av, travel_mode)\n",
    "\n",
    "model_1 = bio.BIOGEME(database, logprob_m1)\n",
    "model_1.modelName = 'model_1'\n",
    "\n",
    "null_log_likelihood_m1 = model_1.calculate_null_loglikelihood(av)\n",
    "\n",
    "results_m1 = model_1.estimate()\n",
    "print(results_m1.print_general_statistics())\n"
   ]
  },
  {
   "cell_type": "code",
   "execution_count": 11,
   "metadata": {},
   "outputs": [
    {
     "data": {
      "text/html": [
       "<div>\n",
       "<style scoped>\n",
       "    .dataframe tbody tr th:only-of-type {\n",
       "        vertical-align: middle;\n",
       "    }\n",
       "\n",
       "    .dataframe tbody tr th {\n",
       "        vertical-align: top;\n",
       "    }\n",
       "\n",
       "    .dataframe thead th {\n",
       "        text-align: right;\n",
       "    }\n",
       "</style>\n",
       "<table border=\"1\" class=\"dataframe\">\n",
       "  <thead>\n",
       "    <tr style=\"text-align: right;\">\n",
       "      <th></th>\n",
       "      <th>Value</th>\n",
       "      <th>Rob. Std err</th>\n",
       "      <th>Rob. t-test</th>\n",
       "      <th>Rob. p-value</th>\n",
       "    </tr>\n",
       "  </thead>\n",
       "  <tbody>\n",
       "    <tr>\n",
       "      <th>asc_car</th>\n",
       "      <td>2.873129</td>\n",
       "      <td>0.149264</td>\n",
       "      <td>19.248647</td>\n",
       "      <td>0.0</td>\n",
       "    </tr>\n",
       "    <tr>\n",
       "      <th>asc_pt</th>\n",
       "      <td>1.983868</td>\n",
       "      <td>0.152605</td>\n",
       "      <td>13.000034</td>\n",
       "      <td>0.0</td>\n",
       "    </tr>\n",
       "    <tr>\n",
       "      <th>asc_walk</th>\n",
       "      <td>4.639939</td>\n",
       "      <td>0.204647</td>\n",
       "      <td>22.672896</td>\n",
       "      <td>0.0</td>\n",
       "    </tr>\n",
       "    <tr>\n",
       "      <th>beta_cost</th>\n",
       "      <td>-0.191306</td>\n",
       "      <td>0.018074</td>\n",
       "      <td>-10.584411</td>\n",
       "      <td>0.0</td>\n",
       "    </tr>\n",
       "    <tr>\n",
       "      <th>beta_time_car</th>\n",
       "      <td>-6.689821</td>\n",
       "      <td>0.392282</td>\n",
       "      <td>-17.053590</td>\n",
       "      <td>0.0</td>\n",
       "    </tr>\n",
       "    <tr>\n",
       "      <th>beta_time_cycling</th>\n",
       "      <td>-6.543603</td>\n",
       "      <td>0.512912</td>\n",
       "      <td>-12.757758</td>\n",
       "      <td>0.0</td>\n",
       "    </tr>\n",
       "    <tr>\n",
       "      <th>beta_time_pt</th>\n",
       "      <td>-3.462775</td>\n",
       "      <td>0.264295</td>\n",
       "      <td>-13.101940</td>\n",
       "      <td>0.0</td>\n",
       "    </tr>\n",
       "    <tr>\n",
       "      <th>beta_time_walk</th>\n",
       "      <td>-9.155925</td>\n",
       "      <td>0.469862</td>\n",
       "      <td>-19.486417</td>\n",
       "      <td>0.0</td>\n",
       "    </tr>\n",
       "  </tbody>\n",
       "</table>\n",
       "</div>"
      ],
      "text/plain": [
       "                      Value  Rob. Std err  Rob. t-test  Rob. p-value\n",
       "asc_car            2.873129      0.149264    19.248647           0.0\n",
       "asc_pt             1.983868      0.152605    13.000034           0.0\n",
       "asc_walk           4.639939      0.204647    22.672896           0.0\n",
       "beta_cost         -0.191306      0.018074   -10.584411           0.0\n",
       "beta_time_car     -6.689821      0.392282   -17.053590           0.0\n",
       "beta_time_cycling -6.543603      0.512912   -12.757758           0.0\n",
       "beta_time_pt      -3.462775      0.264295   -13.101940           0.0\n",
       "beta_time_walk    -9.155925      0.469862   -19.486417           0.0"
      ]
     },
     "metadata": {},
     "output_type": "display_data"
    }
   ],
   "source": [
    "pd_results_m1 = results_m1.get_estimated_parameters()\n",
    "display(pd_results_m1)\n"
   ]
  },
  {
   "cell_type": "markdown",
   "metadata": {},
   "source": [
    "### Comparison between Model 0 and Model 1"
   ]
  },
  {
   "cell_type": "code",
   "execution_count": 12,
   "metadata": {},
   "outputs": [
    {
     "name": "stdout",
     "output_type": "stream",
     "text": [
      "Likelihood Ratio: 687.6759050711189\n",
      "Degrees of Freedom: 3\n",
      "Critical Chi-Square Value (0.05 significance): 7.814727903251179\n",
      "Model 1 is significantly better than Model 0.\n"
     ]
    }
   ],
   "source": [
    "loglikehood_m0 = results_m0.data.logLike\n",
    "num_params_m0 = results_m0.data.nparam\n",
    "\n",
    "loglikehood_m1 = results_m1.data.logLike\n",
    "num_params_m1 = results_m1.data.nparam\n",
    "\n",
    "# Calculate the LR statistic\n",
    "LR = 2 * (loglikehood_m1 - loglikehood_m0)\n",
    "\n",
    "# Degrees of freedom\n",
    "df = num_params_m1 - num_params_m0\n",
    "\n",
    "from scipy.stats import chi2\n",
    "\n",
    "# Critical value at 0.05 significance level\n",
    "critical_value = chi2.ppf(0.95, df)\n",
    "\n",
    "print(\"Likelihood Ratio:\", LR)\n",
    "print(\"Degrees of Freedom:\", df)\n",
    "print(\"Critical Chi-Square Value (0.05 significance):\", critical_value)\n",
    "\n",
    "if LR > critical_value:\n",
    "    print(\"Model 1 is significantly better than Model 0.\")\n",
    "else:\n",
    "    print(\"No significant improvement in Model 1 over Model 0.\")\n",
    "\n"
   ]
  },
  {
   "cell_type": "markdown",
   "metadata": {},
   "source": [
    "We find that Model 1 is better than Model 0 based on the likelihood test"
   ]
  },
  {
   "cell_type": "markdown",
   "metadata": {},
   "source": [
    "## Model 2: Socio-economic interactions (Sex)"
   ]
  },
  {
   "cell_type": "code",
   "execution_count": null,
   "metadata": {},
   "outputs": [],
   "source": [
    "# Time segmentation\n",
    "sex_segmentation = DiscreteSegmentationTuple(\n",
    "    variable=female, mapping={0: 'other', 1: 'female'}\n",
    ")"
   ]
  },
  {
   "cell_type": "markdown",
   "metadata": {},
   "source": [
    "### Model 2A: Sex interaction with Time"
   ]
  },
  {
   "cell_type": "code",
   "execution_count": null,
   "metadata": {},
   "outputs": [],
   "source": [
    "# Define ASCs \n",
    "asc_car = Beta(name='asc_car', value=0, lowerbound=None, upperbound=None, status=0)\n",
    "asc_walk = Beta(name='asc_walk', value=0, lowerbound=None, upperbound=None, status=0)\n",
    "asc_pt = Beta(name='asc_pt', value=0, lowerbound=None, upperbound=None, status=0)\n",
    "\n",
    "# Define generic parameters\n",
    "\n",
    "beta_time = Beta(name='beta_time', value=0, lowerbound=None, upperbound=None, status=0)\n",
    "\n",
    "# Define alternative specific parameters\n",
    "\n",
    "beta_time_car = Beta(name='beta_time_car', value=0, lowerbound=None, upperbound=None, status=0)\n",
    "beta_time_pt = Beta(name='beta_time_pt', value=0, lowerbound=None, upperbound=None, status=0)\n",
    "beta_time_walk = Beta(name='beta_time_walk', value=0, lowerbound=None, upperbound=None, status=0)\n",
    "beta_time_cycling = Beta(name='beta_time_cycling', value=0, lowerbound=None, upperbound=None, status=0)\n",
    "\n",
    "segmented_B_time_car = segmented_beta(beta_time_car, [sex_segmentation])\n",
    "segmented_B_time_pt = segmented_beta(beta_time_pt, [sex_segmentation])\n",
    "segmented_B_time_walk = segmented_beta(beta_time_walk, [sex_segmentation])\n",
    "segmented_B_time_cycling = segmented_beta(beta_time_cycling, [sex_segmentation])\n",
    "\n",
    "\n",
    "# Define alternative specific parameters\n",
    "\n",
    "beta_cost = Beta(name='beta_cost', value=0, lowerbound=None, upperbound=None, status=0)\n",
    "\n",
    "# Define utility functions\n",
    "\n",
    "v_car = asc_car + beta_cost * cost_driving + beta_time_car * time_driving\n",
    "\n",
    "v_walk = asc_walk + beta_time_walk * time_walking\n",
    "\n",
    "v_pt = asc_pt + beta_cost * cost_transit + beta_time_pt * time_pt\n",
    "\n",
    "v_cycling = beta_time_cycling * time_cycling\n",
    "\n",
    "V = {1: v_walk, 2: v_cycling, 3: v_pt, 4: v_car}\n",
    "\n",
    "CAR_AV = (car_ownership != 0) | (driving_license != 0) | (household_has_license != 0)\n",
    "WALK_AV = (car_ownership >= 0)\n",
    "PT_AV = (car_ownership >= 0)\n",
    "CYCLING_AV = (car_ownership >= 0)\n",
    "\n",
    "av = {1: WALK_AV, 2: CYCLING_AV , 3: PT_AV, 4: CAR_AV}"
   ]
  },
  {
   "cell_type": "code",
   "execution_count": null,
   "metadata": {},
   "outputs": [
    {
     "name": "stdout",
     "output_type": "stream",
     "text": [
      "Number of estimated parameters:\t7\n",
      "Sample size:\t4941\n",
      "Excluded observations:\t0\n",
      "Null log likelihood:\t-6610.329\n",
      "Init log likelihood:\t-6610.329\n",
      "Final log likelihood:\t-3943.101\n",
      "Likelihood ratio test for the null model:\t5334.455\n",
      "Rho-square for the null model:\t0.403\n",
      "Rho-square-bar for the null model:\t0.402\n",
      "Likelihood ratio test for the init. model:\t5334.455\n",
      "Rho-square for the init. model:\t0.403\n",
      "Rho-square-bar for the init. model:\t0.402\n",
      "Akaike Information Criterion:\t7900.203\n",
      "Bayesian Information Criterion:\t7945.74\n",
      "Final gradient norm:\t3.8666E-03\n",
      "Nbr of threads:\t16\n",
      "\n"
     ]
    }
   ],
   "source": [
    "logprob_m2a = loglogit(V, av, travel_mode)\n",
    "\n",
    "model_2a = bio.BIOGEME(database, logprob_m2a)\n",
    "model_2a.modelName = 'model_2a'\n",
    "\n",
    "null_log_likelihood_m2a = model_2a.calculate_null_loglikelihood(av)\n",
    "\n",
    "results_m2a = model_2a.estimate()\n",
    "print(results_m2a.print_general_statistics())\n"
   ]
  },
  {
   "cell_type": "code",
   "execution_count": null,
   "metadata": {},
   "outputs": [
    {
     "data": {
      "text/html": [
       "<div>\n",
       "<style scoped>\n",
       "    .dataframe tbody tr th:only-of-type {\n",
       "        vertical-align: middle;\n",
       "    }\n",
       "\n",
       "    .dataframe tbody tr th {\n",
       "        vertical-align: top;\n",
       "    }\n",
       "\n",
       "    .dataframe thead th {\n",
       "        text-align: right;\n",
       "    }\n",
       "</style>\n",
       "<table border=\"1\" class=\"dataframe\">\n",
       "  <thead>\n",
       "    <tr style=\"text-align: right;\">\n",
       "      <th></th>\n",
       "      <th>Value</th>\n",
       "      <th>Rob. Std err</th>\n",
       "      <th>Rob. t-test</th>\n",
       "      <th>Rob. p-value</th>\n",
       "    </tr>\n",
       "  </thead>\n",
       "  <tbody>\n",
       "    <tr>\n",
       "      <th>asc_car</th>\n",
       "      <td>2.943807</td>\n",
       "      <td>0.089851</td>\n",
       "      <td>32.763102</td>\n",
       "      <td>0.000000</td>\n",
       "    </tr>\n",
       "    <tr>\n",
       "      <th>asc_pt</th>\n",
       "      <td>2.938448</td>\n",
       "      <td>0.101320</td>\n",
       "      <td>29.001769</td>\n",
       "      <td>0.000000</td>\n",
       "    </tr>\n",
       "    <tr>\n",
       "      <th>asc_walk</th>\n",
       "      <td>3.856007</td>\n",
       "      <td>0.113037</td>\n",
       "      <td>34.112845</td>\n",
       "      <td>0.000000</td>\n",
       "    </tr>\n",
       "    <tr>\n",
       "      <th>beta_cost_car</th>\n",
       "      <td>-0.265288</td>\n",
       "      <td>0.026525</td>\n",
       "      <td>-10.001362</td>\n",
       "      <td>0.000000</td>\n",
       "    </tr>\n",
       "    <tr>\n",
       "      <th>beta_cost_pt</th>\n",
       "      <td>0.050593</td>\n",
       "      <td>0.030476</td>\n",
       "      <td>1.660084</td>\n",
       "      <td>0.096897</td>\n",
       "    </tr>\n",
       "    <tr>\n",
       "      <th>beta_time</th>\n",
       "      <td>-5.987109</td>\n",
       "      <td>0.277836</td>\n",
       "      <td>-21.549062</td>\n",
       "      <td>0.000000</td>\n",
       "    </tr>\n",
       "    <tr>\n",
       "      <th>beta_time_female</th>\n",
       "      <td>0.097284</td>\n",
       "      <td>0.262770</td>\n",
       "      <td>0.370225</td>\n",
       "      <td>0.711215</td>\n",
       "    </tr>\n",
       "  </tbody>\n",
       "</table>\n",
       "</div>"
      ],
      "text/plain": [
       "                     Value  Rob. Std err  Rob. t-test  Rob. p-value\n",
       "asc_car           2.943807      0.089851    32.763102      0.000000\n",
       "asc_pt            2.938448      0.101320    29.001769      0.000000\n",
       "asc_walk          3.856007      0.113037    34.112845      0.000000\n",
       "beta_cost_car    -0.265288      0.026525   -10.001362      0.000000\n",
       "beta_cost_pt      0.050593      0.030476     1.660084      0.096897\n",
       "beta_time        -5.987109      0.277836   -21.549062      0.000000\n",
       "beta_time_female  0.097284      0.262770     0.370225      0.711215"
      ]
     },
     "metadata": {},
     "output_type": "display_data"
    }
   ],
   "source": [
    "pd_results_m2a = results_m2a.get_estimated_parameters()\n",
    "display(pd_results_m2a)"
   ]
  },
  {
   "cell_type": "markdown",
   "metadata": {},
   "source": [
    "### Model 2B: Sex interaction with all ASCs"
   ]
  },
  {
   "cell_type": "code",
   "execution_count": null,
   "metadata": {},
   "outputs": [],
   "source": [
    "# Define ASCs \n",
    "asc_car = Beta(name='asc_car', value=0, lowerbound=None, upperbound=None, status=0)\n",
    "asc_walk = Beta(name='asc_walk', value=0, lowerbound=None, upperbound=None, status=0)\n",
    "asc_pt = Beta(name='asc_pt', value=0, lowerbound=None, upperbound=None, status=0)\n",
    "\n",
    "# Define generic parameters\n",
    "\n",
    "beta_time = Beta(name='beta_time', value=0, lowerbound=None, upperbound=None, status=0)\n",
    "\n",
    "# Define alternative specific parameters\n",
    "\n",
    "beta_cost_car = Beta(name='beta_cost_car', value=0, lowerbound=None, upperbound=None, status=0)\n",
    "beta_cost_pt = Beta(name='beta_cost_pt', value=0, lowerbound=None, upperbound=None, status=0)\n",
    "\n",
    "# Segmented Walk ASC\n",
    "\n",
    "segmented_ASC_walk = segmented_beta(asc_walk, [sex_segmentation])\n",
    "segmented_ASC_car = segmented_beta(asc_car, [sex_segmentation])\n",
    "segmented_ASC_pt = segmented_beta(asc_pt, [sex_segmentation])\n",
    "ASC_cycling_female = Beta(name='asc_cycling_female', value=0, lowerbound=None, upperbound=None, status=0)\n",
    "\n",
    "# Define utility functions\n",
    "\n",
    "# v_car = segmented_ASC_car + beta_cost_car * cost_driving + beta_time * time_driving\n",
    "# v_walk = segmented_ASC_walk + beta_time * time_walking\n",
    "# v_pt = segmented_ASC_pt + beta_cost_pt * cost_transit + beta_time * time_pt\n",
    "\n",
    "\n",
    "v_car = asc_car + beta_cost_car * cost_driving + beta_time * time_driving\n",
    "v_walk = asc_walk + beta_time * time_walking\n",
    "v_pt = asc_pt + beta_cost_pt * cost_transit + beta_time * time_pt\n",
    "\n",
    "v_cycling = ASC_cycling_female * (female == 1) + beta_time * time_cycling\n",
    "\n",
    "V = {1: v_walk, 2: v_cycling, 3: v_pt, 4: v_car}\n",
    "\n",
    "CAR_AV = (car_ownership != 0) | (driving_license != 0) | (household_has_license != 0)\n",
    "WALK_AV = (car_ownership >= 0)\n",
    "PT_AV = (car_ownership >= 0)\n",
    "CYCLING_AV = (car_ownership >= 0)\n",
    "\n",
    "av = {1: WALK_AV, 2: CYCLING_AV , 3: PT_AV, 4: CAR_AV}"
   ]
  },
  {
   "cell_type": "code",
   "execution_count": null,
   "metadata": {},
   "outputs": [
    {
     "name": "stdout",
     "output_type": "stream",
     "text": [
      "Number of estimated parameters:\t7\n",
      "Sample size:\t4941\n",
      "Excluded observations:\t0\n",
      "Null log likelihood:\t-6610.329\n",
      "Init log likelihood:\t-6610.329\n",
      "Final log likelihood:\t-3912.876\n",
      "Likelihood ratio test for the null model:\t5394.906\n",
      "Rho-square for the null model:\t0.408\n",
      "Rho-square-bar for the null model:\t0.407\n",
      "Likelihood ratio test for the init. model:\t5394.906\n",
      "Rho-square for the init. model:\t0.408\n",
      "Rho-square-bar for the init. model:\t0.407\n",
      "Akaike Information Criterion:\t7839.752\n",
      "Bayesian Information Criterion:\t7885.289\n",
      "Final gradient norm:\t3.6695E-03\n",
      "Nbr of threads:\t16\n",
      "\n"
     ]
    }
   ],
   "source": [
    "logprob_m2b = loglogit(V, av, travel_mode)\n",
    "\n",
    "model_2b = bio.BIOGEME(database, logprob_m2b)\n",
    "model_2b.modelName = 'model_2b'\n",
    "\n",
    "null_log_likelihood_m2b = model_2b.calculate_null_loglikelihood(av)\n",
    "\n",
    "results_m2b = model_2b.estimate()\n",
    "print(results_m2b.print_general_statistics())\n"
   ]
  },
  {
   "cell_type": "code",
   "execution_count": null,
   "metadata": {},
   "outputs": [
    {
     "data": {
      "text/html": [
       "<div>\n",
       "<style scoped>\n",
       "    .dataframe tbody tr th:only-of-type {\n",
       "        vertical-align: middle;\n",
       "    }\n",
       "\n",
       "    .dataframe tbody tr th {\n",
       "        vertical-align: top;\n",
       "    }\n",
       "\n",
       "    .dataframe thead th {\n",
       "        text-align: right;\n",
       "    }\n",
       "</style>\n",
       "<table border=\"1\" class=\"dataframe\">\n",
       "  <thead>\n",
       "    <tr style=\"text-align: right;\">\n",
       "      <th></th>\n",
       "      <th>Value</th>\n",
       "      <th>Rob. Std err</th>\n",
       "      <th>Rob. t-test</th>\n",
       "      <th>Rob. p-value</th>\n",
       "    </tr>\n",
       "  </thead>\n",
       "  <tbody>\n",
       "    <tr>\n",
       "      <th>asc_car</th>\n",
       "      <td>2.406768</td>\n",
       "      <td>0.104246</td>\n",
       "      <td>23.087389</td>\n",
       "      <td>0.000000e+00</td>\n",
       "    </tr>\n",
       "    <tr>\n",
       "      <th>asc_cycling_female</th>\n",
       "      <td>-1.334305</td>\n",
       "      <td>0.188679</td>\n",
       "      <td>-7.071818</td>\n",
       "      <td>1.529221e-12</td>\n",
       "    </tr>\n",
       "    <tr>\n",
       "      <th>asc_pt</th>\n",
       "      <td>2.404008</td>\n",
       "      <td>0.113327</td>\n",
       "      <td>21.213038</td>\n",
       "      <td>0.000000e+00</td>\n",
       "    </tr>\n",
       "    <tr>\n",
       "      <th>asc_walk</th>\n",
       "      <td>3.328543</td>\n",
       "      <td>0.122239</td>\n",
       "      <td>27.229691</td>\n",
       "      <td>0.000000e+00</td>\n",
       "    </tr>\n",
       "    <tr>\n",
       "      <th>beta_cost_car</th>\n",
       "      <td>-0.263671</td>\n",
       "      <td>0.026386</td>\n",
       "      <td>-9.992660</td>\n",
       "      <td>0.000000e+00</td>\n",
       "    </tr>\n",
       "    <tr>\n",
       "      <th>beta_cost_pt</th>\n",
       "      <td>0.053245</td>\n",
       "      <td>0.030315</td>\n",
       "      <td>1.756423</td>\n",
       "      <td>7.901614e-02</td>\n",
       "    </tr>\n",
       "    <tr>\n",
       "      <th>beta_time</th>\n",
       "      <td>-5.969256</td>\n",
       "      <td>0.232429</td>\n",
       "      <td>-25.682077</td>\n",
       "      <td>0.000000e+00</td>\n",
       "    </tr>\n",
       "  </tbody>\n",
       "</table>\n",
       "</div>"
      ],
      "text/plain": [
       "                       Value  Rob. Std err  Rob. t-test  Rob. p-value\n",
       "asc_car             2.406768      0.104246    23.087389  0.000000e+00\n",
       "asc_cycling_female -1.334305      0.188679    -7.071818  1.529221e-12\n",
       "asc_pt              2.404008      0.113327    21.213038  0.000000e+00\n",
       "asc_walk            3.328543      0.122239    27.229691  0.000000e+00\n",
       "beta_cost_car      -0.263671      0.026386    -9.992660  0.000000e+00\n",
       "beta_cost_pt        0.053245      0.030315     1.756423  7.901614e-02\n",
       "beta_time          -5.969256      0.232429   -25.682077  0.000000e+00"
      ]
     },
     "metadata": {},
     "output_type": "display_data"
    }
   ],
   "source": [
    "pd_results_m2b = results_m2b.get_estimated_parameters()\n",
    "display(pd_results_m2b)"
   ]
  },
  {
   "cell_type": "markdown",
   "metadata": {},
   "source": [
    "### Compare Model 2b with Model 1"
   ]
  },
  {
   "cell_type": "code",
   "execution_count": null,
   "metadata": {},
   "outputs": [
    {
     "name": "stdout",
     "output_type": "stream",
     "text": [
      "Likelihood Ratio: 60.60571605403584\n",
      "Degrees of Freedom: 1\n",
      "Critical Chi-Square Value (0.05 significance): 3.841458820694124\n",
      "Model 2b is significantly better than Model 1.\n"
     ]
    }
   ],
   "source": [
    "loglikehood_m2b = results_m2b.data.logLike\n",
    "num_params_m2b = results_m2b.data.nparam\n",
    "\n",
    "# Calculate the LR statistic\n",
    "LR = 2 * (loglikehood_m2b - loglikehood_m1)\n",
    "\n",
    "# Degrees of freedom\n",
    "df = num_params_m2b - num_params_m1\n",
    "\n",
    "from scipy.stats import chi2\n",
    "\n",
    "# Critical value at 0.05 significance level\n",
    "critical_value = chi2.ppf(0.95, df)\n",
    "\n",
    "print(\"Likelihood Ratio:\", LR)\n",
    "print(\"Degrees of Freedom:\", df)\n",
    "print(\"Critical Chi-Square Value (0.05 significance):\", critical_value)\n",
    "\n",
    "if LR > critical_value:\n",
    "    print(\"Model 2b is significantly better than Model 1.\")\n",
    "else:\n",
    "    print(\"No significant improvement in Model 2b over Model 1.\")\n",
    "\n"
   ]
  },
  {
   "cell_type": "markdown",
   "metadata": {},
   "source": [
    "### Compare Segmenting all ASCs vs just Cycling"
   ]
  },
  {
   "cell_type": "code",
   "execution_count": null,
   "metadata": {},
   "outputs": [],
   "source": [
    "# Define ASCs \n",
    "asc_car = Beta(name='asc_car', value=0, lowerbound=None, upperbound=None, status=0)\n",
    "asc_walk = Beta(name='asc_walk', value=0, lowerbound=None, upperbound=None, status=0)\n",
    "asc_pt = Beta(name='asc_pt', value=0, lowerbound=None, upperbound=None, status=0)\n",
    "\n",
    "# Define generic parameters\n",
    "\n",
    "beta_time = Beta(name='beta_time', value=0, lowerbound=None, upperbound=None, status=0)\n",
    "\n",
    "# Define alternative specific parameters\n",
    "\n",
    "beta_cost_car = Beta(name='beta_cost_car', value=0, lowerbound=None, upperbound=None, status=0)\n",
    "beta_cost_pt = Beta(name='beta_cost_pt', value=0, lowerbound=None, upperbound=None, status=0)\n",
    "\n",
    "# Segmented Walk ASC\n",
    "\n",
    "segmented_ASC_walk = segmented_beta(asc_walk, [sex_segmentation])\n",
    "segmented_ASC_car = segmented_beta(asc_car, [sex_segmentation])\n",
    "segmented_ASC_pt = segmented_beta(asc_pt, [sex_segmentation])\n",
    "ASC_cycling_female = Beta(name='asc_cycling_female', value=0, lowerbound=None, upperbound=None, status=0)\n",
    "\n",
    "# Define utility functions\n",
    "\n",
    "v_car = segmented_ASC_car + beta_cost_car * cost_driving + beta_time * time_driving\n",
    "v_walk = segmented_ASC_walk + beta_time * time_walking\n",
    "v_pt = segmented_ASC_pt + beta_cost_pt * cost_transit + beta_time * time_pt\n",
    "\n",
    "v_cycling = ASC_cycling_female * (female == 1) + beta_time * time_cycling\n",
    "\n",
    "V = {1: v_walk, 2: v_cycling, 3: v_pt, 4: v_car}\n",
    "\n",
    "CAR_AV = (car_ownership != 0) | (driving_license != 0) | (household_has_license != 0)\n",
    "WALK_AV = (car_ownership >= 0)\n",
    "PT_AV = (car_ownership >= 0)\n",
    "CYCLING_AV = (car_ownership >= 0)\n",
    "\n",
    "av = {1: WALK_AV, 2: CYCLING_AV , 3: PT_AV, 4: CAR_AV}"
   ]
  },
  {
   "cell_type": "code",
   "execution_count": null,
   "metadata": {},
   "outputs": [
    {
     "name": "stdout",
     "output_type": "stream",
     "text": [
      "Number of estimated parameters:\t10\n",
      "Sample size:\t4941\n",
      "Excluded observations:\t0\n",
      "Null log likelihood:\t-6610.329\n",
      "Init log likelihood:\t-6610.329\n",
      "Final log likelihood:\t-3910.55\n",
      "Likelihood ratio test for the null model:\t5399.559\n",
      "Rho-square for the null model:\t0.408\n",
      "Rho-square-bar for the null model:\t0.407\n",
      "Likelihood ratio test for the init. model:\t5399.559\n",
      "Rho-square for the init. model:\t0.408\n",
      "Rho-square-bar for the init. model:\t0.407\n",
      "Akaike Information Criterion:\t7841.099\n",
      "Bayesian Information Criterion:\t7906.153\n",
      "Final gradient norm:\t4.6180E-03\n",
      "Nbr of threads:\t16\n",
      "\n"
     ]
    }
   ],
   "source": [
    "logprob_m2b_all = loglogit(V, av, travel_mode)\n",
    "\n",
    "model_2b_all = bio.BIOGEME(database, logprob_m2b_all)\n",
    "model_2b_all.modelName = 'model_2b_all'\n",
    "\n",
    "null_log_likelihood_m2b_all = model_2b_all.calculate_null_loglikelihood(av)\n",
    "\n",
    "results_m2b_all = model_2b_all.estimate()\n",
    "print(results_m2b_all.print_general_statistics())\n"
   ]
  },
  {
   "cell_type": "code",
   "execution_count": null,
   "metadata": {},
   "outputs": [
    {
     "name": "stdout",
     "output_type": "stream",
     "text": [
      "Likelihood Ratio: 4.652473069847474\n",
      "Degrees of Freedom: 3\n",
      "Critical Chi-Square Value (0.05 significance): 7.814727903251179\n",
      "No significant improvement in Model 2b_all over Model 2b.\n"
     ]
    }
   ],
   "source": [
    "loglikehood_m2b_all = results_m2b_all.data.logLike\n",
    "num_params_m2b_all = results_m2b_all.data.nparam\n",
    "\n",
    "# Calculate the LR statistic\n",
    "LR = 2 * (loglikehood_m2b_all - loglikehood_m2b)\n",
    "\n",
    "# Degrees of freedom\n",
    "df = num_params_m2b_all - num_params_m2b\n",
    "\n",
    "from scipy.stats import chi2\n",
    "\n",
    "# Critical value at 0.05 significance level\n",
    "critical_value = chi2.ppf(0.95, df)\n",
    "\n",
    "print(\"Likelihood Ratio:\", LR)\n",
    "print(\"Degrees of Freedom:\", df)\n",
    "print(\"Critical Chi-Square Value (0.05 significance):\", critical_value)\n",
    "\n",
    "if LR > critical_value:\n",
    "    print(\"Model 2b_all is significantly better than Model 2b.\")\n",
    "else:\n",
    "    print(\"No significant improvement in Model 2b_all over Model 2b.\")\n",
    "\n"
   ]
  },
  {
   "cell_type": "markdown",
   "metadata": {},
   "source": [
    "## Model 3: Non-linear specification"
   ]
  },
  {
   "cell_type": "code",
   "execution_count": null,
   "metadata": {},
   "outputs": [
    {
     "name": "stderr",
     "output_type": "stream",
     "text": [
      "It is advised to set the bounds on parameter LAMBDA. A value of -10 and 10 should be appropriate: Beta(\"LAMBDA\", 0, -10, 10, 0)\n",
      "It is advised to set the bounds on parameter LAMBDA. A value of -10 and 10 should be appropriate: Beta(\"LAMBDA\", 0, -10, 10, 0)\n",
      "It is advised to set the bounds on parameter LAMBDA. A value of -10 and 10 should be appropriate: Beta(\"LAMBDA\", 0, -10, 10, 0)\n",
      "It is advised to set the bounds on parameter LAMBDA. A value of -10 and 10 should be appropriate: Beta(\"LAMBDA\", 0, -10, 10, 0)\n"
     ]
    }
   ],
   "source": [
    "# Define ASCs \n",
    "asc_car = Beta(name='asc_car', value=0, lowerbound=None, upperbound=None, status=0)\n",
    "asc_walk = Beta(name='asc_walk', value=0, lowerbound=None, upperbound=None, status=0)\n",
    "asc_pt = Beta(name='asc_pt', value=0, lowerbound=None, upperbound=None, status=0)\n",
    "\n",
    "# Define generic parameters\n",
    "\n",
    "beta_time = Beta(name='beta_time', value=0, lowerbound=None, upperbound=None, status=0)\n",
    "LAMBDA = Beta('LAMBDA', 0, None, None, 0)\n",
    "\n",
    "# Define alternative specific parameters\n",
    "\n",
    "beta_cost_car = Beta(name='beta_cost_car', value=0, lowerbound=None, upperbound=None, status=0)\n",
    "beta_cost_pt = Beta(name='beta_cost_pt', value=0, lowerbound=None, upperbound=None, status=0)\n",
    "\n",
    "# Segmented Walk ASC\n",
    "\n",
    "ASC_cycling_female = Beta(name='asc_cycling_female', value=0, lowerbound=None, upperbound=None, status=0)\n",
    "\n",
    "# Define utility functions\n",
    "\n",
    "v_car = asc_car + beta_cost_car * cost_driving + beta_time * boxcox(time_driving,LAMBDA)\n",
    "v_walk = asc_walk + beta_time * boxcox(time_walking,LAMBDA)\n",
    "v_pt = asc_pt + beta_cost_pt * cost_transit + beta_time * boxcox(time_pt,LAMBDA)\n",
    "\n",
    "v_cycling = ASC_cycling_female * (female == 1) + beta_time * boxcox(time_cycling,LAMBDA)\n",
    "\n",
    "V = {1: v_walk, 2: v_cycling, 3: v_pt, 4: v_car}\n",
    "\n",
    "CAR_AV = (car_ownership != 0) | (driving_license != 0) | (household_has_license != 0)\n",
    "WALK_AV = (car_ownership >= 0)\n",
    "PT_AV = (car_ownership >= 0)\n",
    "CYCLING_AV = (car_ownership >= 0)\n",
    "\n",
    "av = {1: WALK_AV, 2: CYCLING_AV , 3: PT_AV, 4: CAR_AV}"
   ]
  },
  {
   "cell_type": "code",
   "execution_count": null,
   "metadata": {},
   "outputs": [
    {
     "name": "stdout",
     "output_type": "stream",
     "text": [
      "Number of estimated parameters:\t8\n",
      "Sample size:\t4941\n",
      "Excluded observations:\t0\n",
      "Null log likelihood:\t-6610.329\n",
      "Init log likelihood:\t-6610.329\n",
      "Final log likelihood:\t-3822.292\n",
      "Likelihood ratio test for the null model:\t5576.074\n",
      "Rho-square for the null model:\t0.422\n",
      "Rho-square-bar for the null model:\t0.421\n",
      "Likelihood ratio test for the init. model:\t5576.074\n",
      "Rho-square for the init. model:\t0.422\n",
      "Rho-square-bar for the init. model:\t0.421\n",
      "Akaike Information Criterion:\t7660.584\n",
      "Bayesian Information Criterion:\t7712.626\n",
      "Final gradient norm:\t1.0293E-01\n",
      "Nbr of threads:\t16\n",
      "\n"
     ]
    }
   ],
   "source": [
    "logprob_m3 = loglogit(V, av, travel_mode)\n",
    "\n",
    "model_3 = bio.BIOGEME(database, logprob_m3)\n",
    "model_3.modelName = 'model_3'\n",
    "\n",
    "null_log_likelihood_m3 = model_3.calculate_null_loglikelihood(av)\n",
    "\n",
    "results_m3 = model_3.estimate()\n",
    "print(results_m3.print_general_statistics())\n"
   ]
  },
  {
   "cell_type": "code",
   "execution_count": null,
   "metadata": {},
   "outputs": [
    {
     "data": {
      "text/html": [
       "<div>\n",
       "<style scoped>\n",
       "    .dataframe tbody tr th:only-of-type {\n",
       "        vertical-align: middle;\n",
       "    }\n",
       "\n",
       "    .dataframe tbody tr th {\n",
       "        vertical-align: top;\n",
       "    }\n",
       "\n",
       "    .dataframe thead th {\n",
       "        text-align: right;\n",
       "    }\n",
       "</style>\n",
       "<table border=\"1\" class=\"dataframe\">\n",
       "  <thead>\n",
       "    <tr style=\"text-align: right;\">\n",
       "      <th></th>\n",
       "      <th>Value</th>\n",
       "      <th>Rob. Std err</th>\n",
       "      <th>Rob. t-test</th>\n",
       "      <th>Rob. p-value</th>\n",
       "    </tr>\n",
       "  </thead>\n",
       "  <tbody>\n",
       "    <tr>\n",
       "      <th>LAMBDA</th>\n",
       "      <td>0.480279</td>\n",
       "      <td>0.023742</td>\n",
       "      <td>20.228786</td>\n",
       "      <td>0.000000e+00</td>\n",
       "    </tr>\n",
       "    <tr>\n",
       "      <th>asc_car</th>\n",
       "      <td>2.137815</td>\n",
       "      <td>0.104259</td>\n",
       "      <td>20.504826</td>\n",
       "      <td>0.000000e+00</td>\n",
       "    </tr>\n",
       "    <tr>\n",
       "      <th>asc_cycling_female</th>\n",
       "      <td>-1.358128</td>\n",
       "      <td>0.187009</td>\n",
       "      <td>-7.262372</td>\n",
       "      <td>3.803624e-13</td>\n",
       "    </tr>\n",
       "    <tr>\n",
       "      <th>asc_pt</th>\n",
       "      <td>3.029652</td>\n",
       "      <td>0.123595</td>\n",
       "      <td>24.512744</td>\n",
       "      <td>0.000000e+00</td>\n",
       "    </tr>\n",
       "    <tr>\n",
       "      <th>asc_walk</th>\n",
       "      <td>4.407632</td>\n",
       "      <td>0.147120</td>\n",
       "      <td>29.959525</td>\n",
       "      <td>0.000000e+00</td>\n",
       "    </tr>\n",
       "    <tr>\n",
       "      <th>beta_cost_car</th>\n",
       "      <td>-0.196301</td>\n",
       "      <td>0.021652</td>\n",
       "      <td>-9.066256</td>\n",
       "      <td>0.000000e+00</td>\n",
       "    </tr>\n",
       "    <tr>\n",
       "      <th>beta_cost_pt</th>\n",
       "      <td>-0.038949</td>\n",
       "      <td>0.029644</td>\n",
       "      <td>-1.313875</td>\n",
       "      <td>1.888884e-01</td>\n",
       "    </tr>\n",
       "    <tr>\n",
       "      <th>beta_time</th>\n",
       "      <td>-5.384872</td>\n",
       "      <td>0.165841</td>\n",
       "      <td>-32.470084</td>\n",
       "      <td>0.000000e+00</td>\n",
       "    </tr>\n",
       "  </tbody>\n",
       "</table>\n",
       "</div>"
      ],
      "text/plain": [
       "                       Value  Rob. Std err  Rob. t-test  Rob. p-value\n",
       "LAMBDA              0.480279      0.023742    20.228786  0.000000e+00\n",
       "asc_car             2.137815      0.104259    20.504826  0.000000e+00\n",
       "asc_cycling_female -1.358128      0.187009    -7.262372  3.803624e-13\n",
       "asc_pt              3.029652      0.123595    24.512744  0.000000e+00\n",
       "asc_walk            4.407632      0.147120    29.959525  0.000000e+00\n",
       "beta_cost_car      -0.196301      0.021652    -9.066256  0.000000e+00\n",
       "beta_cost_pt       -0.038949      0.029644    -1.313875  1.888884e-01\n",
       "beta_time          -5.384872      0.165841   -32.470084  0.000000e+00"
      ]
     },
     "metadata": {},
     "output_type": "display_data"
    }
   ],
   "source": [
    "pd_results_m3 = results_m3.get_estimated_parameters()\n",
    "display(pd_results_m3)"
   ]
  },
  {
   "cell_type": "markdown",
   "metadata": {},
   "source": [
    "### Compare Model 3 with Model 2   "
   ]
  },
  {
   "cell_type": "markdown",
   "metadata": {},
   "source": [
    "#### Model C"
   ]
  },
  {
   "cell_type": "code",
   "execution_count": null,
   "metadata": {},
   "outputs": [
    {
     "name": "stderr",
     "output_type": "stream",
     "text": [
      "It is advised to set the bounds on parameter LAMBDA. A value of -10 and 10 should be appropriate: Beta(\"LAMBDA\", 0, -10, 10, 0)\n",
      "It is advised to set the bounds on parameter LAMBDA. A value of -10 and 10 should be appropriate: Beta(\"LAMBDA\", 0, -10, 10, 0)\n",
      "It is advised to set the bounds on parameter LAMBDA. A value of -10 and 10 should be appropriate: Beta(\"LAMBDA\", 0, -10, 10, 0)\n",
      "It is advised to set the bounds on parameter LAMBDA. A value of -10 and 10 should be appropriate: Beta(\"LAMBDA\", 0, -10, 10, 0)\n"
     ]
    }
   ],
   "source": [
    "# Define ASCs \n",
    "asc_car = Beta(name='asc_car', value=0, lowerbound=None, upperbound=None, status=0)\n",
    "asc_walk = Beta(name='asc_walk', value=0, lowerbound=None, upperbound=None, status=0)\n",
    "asc_pt = Beta(name='asc_pt', value=0, lowerbound=None, upperbound=None, status=0)\n",
    "\n",
    "# Define generic parameters\n",
    "\n",
    "beta_time = Beta(name='beta_time', value=0, lowerbound=None, upperbound=None, status=0)\n",
    "beta_time_lambda = Beta(name='beta_time_lambda', value=0, lowerbound=None, upperbound=None, status=0)\n",
    "LAMBDA = Beta('LAMBDA', 0, None, None, 0)\n",
    "\n",
    "# Define alternative specific parameters\n",
    "\n",
    "beta_cost_car = Beta(name='beta_cost_car', value=0, lowerbound=None, upperbound=None, status=0)\n",
    "beta_cost_pt = Beta(name='beta_cost_pt', value=0, lowerbound=None, upperbound=None, status=0)\n",
    "\n",
    "# Segmented Walk ASC\n",
    "\n",
    "ASC_cycling_female = Beta(name='asc_cycling_female', value=0, lowerbound=None, upperbound=None, status=0)\n",
    "\n",
    "# Define utility functions\n",
    "\n",
    "v_car = asc_car + beta_cost_car * cost_driving + beta_time_lambda * boxcox(time_driving,LAMBDA) + beta_time * time_driving\n",
    "v_walk = asc_walk + beta_time_lambda * boxcox(time_walking,LAMBDA) + beta_time * time_walking\n",
    "v_pt = asc_pt + beta_cost_pt * cost_transit + beta_time_lambda * boxcox(time_pt,LAMBDA) + beta_time * time_pt\n",
    "\n",
    "v_cycling = ASC_cycling_female * (female == 1) + beta_time_lambda * boxcox(time_cycling,LAMBDA) + beta_time * time_cycling\n",
    "\n",
    "V = {1: v_walk, 2: v_cycling, 3: v_pt, 4: v_car}\n",
    "\n",
    "CAR_AV = (car_ownership != 0) | (driving_license != 0) | (household_has_license != 0)\n",
    "WALK_AV = (car_ownership >= 0)\n",
    "PT_AV = (car_ownership >= 0)\n",
    "CYCLING_AV = (car_ownership >= 0)\n",
    "\n",
    "av = {1: WALK_AV, 2: CYCLING_AV , 3: PT_AV, 4: CAR_AV}"
   ]
  },
  {
   "cell_type": "code",
   "execution_count": null,
   "metadata": {},
   "outputs": [
    {
     "name": "stdout",
     "output_type": "stream",
     "text": [
      "Number of estimated parameters:\t9\n",
      "Sample size:\t4941\n",
      "Excluded observations:\t0\n",
      "Null log likelihood:\t-6610.329\n",
      "Init log likelihood:\t-6610.329\n",
      "Final log likelihood:\t-3820.209\n",
      "Likelihood ratio test for the null model:\t5580.24\n",
      "Rho-square for the null model:\t0.422\n",
      "Rho-square-bar for the null model:\t0.421\n",
      "Likelihood ratio test for the init. model:\t5580.24\n",
      "Rho-square for the init. model:\t0.422\n",
      "Rho-square-bar for the init. model:\t0.421\n",
      "Akaike Information Criterion:\t7658.418\n",
      "Bayesian Information Criterion:\t7716.966\n",
      "Final gradient norm:\t1.9448E-01\n",
      "Nbr of threads:\t16\n",
      "\n"
     ]
    }
   ],
   "source": [
    "logprob_mC = loglogit(V, av, travel_mode)\n",
    "\n",
    "model_C = bio.BIOGEME(database, logprob_mC)\n",
    "model_C.modelName = 'model_C'\n",
    "\n",
    "null_log_likelihood_mC = model_C.calculate_null_loglikelihood(av)\n",
    "\n",
    "results_mC = model_C.estimate()\n",
    "print(results_mC.print_general_statistics())\n"
   ]
  },
  {
   "cell_type": "markdown",
   "metadata": {},
   "source": [
    "#### Test C vs 2b"
   ]
  },
  {
   "cell_type": "code",
   "execution_count": null,
   "metadata": {},
   "outputs": [
    {
     "name": "stdout",
     "output_type": "stream",
     "text": [
      "Likelihood Ratio: 185.33375483536565\n",
      "Degrees of Freedom: 2\n",
      "Critical Chi-Square Value (0.05 significance): 9.21034037197618\n",
      "Model C is significantly better than Model 2b.\n"
     ]
    }
   ],
   "source": [
    "loglikehood_mC = results_mC.data.logLike\n",
    "num_params_mC = results_mC.data.nparam\n",
    "\n",
    "# Calculate the LR statistic\n",
    "LR = 2 * (loglikehood_mC - loglikehood_m2b)\n",
    "\n",
    "# Degrees of freedom\n",
    "df = num_params_mC - num_params_m2b\n",
    "\n",
    "from scipy.stats import chi2\n",
    "\n",
    "# Critical value at 0.05 significance level\n",
    "critical_value = chi2.ppf(0.99, df)\n",
    "\n",
    "print(\"Likelihood Ratio:\", LR)\n",
    "print(\"Degrees of Freedom:\", df)\n",
    "print(\"Critical Chi-Square Value (0.05 significance):\", critical_value)\n",
    "\n",
    "if LR > critical_value:\n",
    "    print(\"Model C is significantly better than Model 2b.\")\n",
    "else:\n",
    "    print(\"No significant improvement in Model C over Model 2b.\")\n",
    "\n"
   ]
  },
  {
   "cell_type": "markdown",
   "metadata": {},
   "source": [
    "#### Test C vs 3"
   ]
  },
  {
   "cell_type": "code",
   "execution_count": null,
   "metadata": {},
   "outputs": [
    {
     "name": "stdout",
     "output_type": "stream",
     "text": [
      "Likelihood Ratio: 4.165636125654601\n",
      "Degrees of Freedom: 1\n",
      "Critical Chi-Square Value (0.01 significance): 6.6348966010212145\n",
      "No significant improvement in Model C over Model 3.\n"
     ]
    }
   ],
   "source": [
    "loglikehood_m3 = results_m3.data.logLike\n",
    "num_params_m3 = results_m3.data.nparam\n",
    "\n",
    "# Calculate the LR statistic\n",
    "LR = 2 * (loglikehood_mC - loglikehood_m3)\n",
    "\n",
    "# Degrees of freedom\n",
    "df = num_params_mC - num_params_m3\n",
    "\n",
    "from scipy.stats import chi2\n",
    "\n",
    "# Critical value at 0.01 significance level\n",
    "critical_value = chi2.ppf(0.99, df)\n",
    "\n",
    "print(\"Likelihood Ratio:\", LR)\n",
    "print(\"Degrees of Freedom:\", df)\n",
    "print(\"Critical Chi-Square Value (0.01 significance):\", critical_value)\n",
    "\n",
    "if LR > critical_value:\n",
    "    print(\"Model C is significantly better than Model 3.\")\n",
    "else:\n",
    "    print(\"No significant improvement in Model C over Model 3.\")\n",
    "\n"
   ]
  },
  {
   "cell_type": "markdown",
   "metadata": {},
   "source": [
    "## Model 4: Nested or Cross-Nested"
   ]
  },
  {
   "cell_type": "code",
   "execution_count": null,
   "metadata": {},
   "outputs": [
    {
     "name": "stderr",
     "output_type": "stream",
     "text": [
      "It is advised to set the bounds on parameter LAMBDA. A value of -10 and 10 should be appropriate: Beta(\"LAMBDA\", 0, -10, 10, 0)\n",
      "It is advised to set the bounds on parameter LAMBDA. A value of -10 and 10 should be appropriate: Beta(\"LAMBDA\", 0, -10, 10, 0)\n",
      "It is advised to set the bounds on parameter LAMBDA. A value of -10 and 10 should be appropriate: Beta(\"LAMBDA\", 0, -10, 10, 0)\n",
      "It is advised to set the bounds on parameter LAMBDA. A value of -10 and 10 should be appropriate: Beta(\"LAMBDA\", 0, -10, 10, 0)\n"
     ]
    }
   ],
   "source": [
    "from biogeme.models import loglogit, lognested\n",
    "from biogeme.nests import OneNestForNestedLogit, NestsForNestedLogit\n",
    "\n",
    "# Define ASCs \n",
    "asc_car = Beta(name='asc_car', value=0, lowerbound=None, upperbound=None, status=0)\n",
    "asc_walk = Beta(name='asc_walk', value=0, lowerbound=None, upperbound=None, status=0)\n",
    "asc_pt = Beta(name='asc_pt', value=0, lowerbound=None, upperbound=None, status=0)\n",
    "\n",
    "# Define generic parameters\n",
    "\n",
    "beta_time = Beta(name='beta_time', value=0, lowerbound=None, upperbound=None, status=0)\n",
    "LAMBDA = Beta('LAMBDA', 0, None, None, 0)\n",
    "\n",
    "# Define alternative specific parameters\n",
    "\n",
    "beta_cost_car = Beta(name='beta_cost_car', value=0, lowerbound=None, upperbound=None, status=0)\n",
    "beta_cost_pt = Beta(name='beta_cost_pt', value=0, lowerbound=None, upperbound=None, status=0)\n",
    "\n",
    "# Segmented Walk ASC\n",
    "\n",
    "ASC_cycling_female = Beta(name='asc_cycling_female', value=0, lowerbound=None, upperbound=None, status=0)\n",
    "\n",
    "# Define utility functions\n",
    "\n",
    "v_car = asc_car + beta_cost_car * cost_driving + beta_time * boxcox(time_driving,LAMBDA)\n",
    "v_walk = asc_walk + beta_time * boxcox(time_walking,LAMBDA)\n",
    "v_pt = asc_pt + beta_cost_pt * cost_transit + beta_time * boxcox(time_pt,LAMBDA)\n",
    "\n",
    "v_cycling = ASC_cycling_female * (female == 1) + beta_time * boxcox(time_cycling,LAMBDA)\n",
    "\n",
    "V = {1: v_walk, 2: v_cycling, 3: v_pt, 4: v_car}\n",
    "\n",
    "CAR_AV = (car_ownership != 0) | (driving_license != 0) | (household_has_license != 0)\n",
    "WALK_AV = (car_ownership >= 0)\n",
    "PT_AV = (car_ownership >= 0)\n",
    "CYCLING_AV = (car_ownership >= 0)\n",
    "\n",
    "av = {1: WALK_AV, 2: CYCLING_AV , 3: PT_AV, 4: CAR_AV}"
   ]
  },
  {
   "cell_type": "code",
   "execution_count": null,
   "metadata": {},
   "outputs": [
    {
     "name": "stderr",
     "output_type": "stream",
     "text": [
      "The following expression may potentially be ambiguous: [((car_ownership >= `0.0`) != `0.0`)] if it contains the chaining of two comparisons expressions. Keep in mind that, for Biogeme (like for Pandas), the expression (a <= x <= b) is not equivalent to (a <= x) and (x <= b).\n",
      "The following expression may potentially be ambiguous: [((car_ownership >= `0.0`) != `0.0`)] if it contains the chaining of two comparisons expressions. Keep in mind that, for Biogeme (like for Pandas), the expression (a <= x <= b) is not equivalent to (a <= x) and (x <= b).\n",
      "The following expression may potentially be ambiguous: [((car_ownership >= `0.0`) != `0.0`)] if it contains the chaining of two comparisons expressions. Keep in mind that, for Biogeme (like for Pandas), the expression (a <= x <= b) is not equivalent to (a <= x) and (x <= b).\n",
      "The following expression may potentially be ambiguous: [((car_ownership >= `0.0`) != `0.0`)] if it contains the chaining of two comparisons expressions. Keep in mind that, for Biogeme (like for Pandas), the expression (a <= x <= b) is not equivalent to (a <= x) and (x <= b).\n",
      "The following expression may potentially be ambiguous: [((car_ownership >= `0.0`) != `0.0`)] if it contains the chaining of two comparisons expressions. Keep in mind that, for Biogeme (like for Pandas), the expression (a <= x <= b) is not equivalent to (a <= x) and (x <= b).\n",
      "The following expression may potentially be ambiguous: [((car_ownership >= `0.0`) != `0.0`)] if it contains the chaining of two comparisons expressions. Keep in mind that, for Biogeme (like for Pandas), the expression (a <= x <= b) is not equivalent to (a <= x) and (x <= b).\n"
     ]
    },
    {
     "name": "stdout",
     "output_type": "stream",
     "text": [
      "Number of estimated parameters:\t10\n",
      "Sample size:\t4941\n",
      "Excluded observations:\t0\n",
      "Null log likelihood:\t-6610.329\n",
      "Init log likelihood:\t-6610.329\n",
      "Final log likelihood:\t-3807.078\n",
      "Likelihood ratio test for the null model:\t5606.502\n",
      "Rho-square for the null model:\t0.424\n",
      "Rho-square-bar for the null model:\t0.423\n",
      "Likelihood ratio test for the init. model:\t5606.502\n",
      "Rho-square for the init. model:\t0.424\n",
      "Rho-square-bar for the init. model:\t0.423\n",
      "Akaike Information Criterion:\t7634.156\n",
      "Bayesian Information Criterion:\t7699.209\n",
      "Final gradient norm:\t7.6265E-02\n",
      "Nbr of threads:\t16\n",
      "\n"
     ]
    }
   ],
   "source": [
    "mu_a = Beta('mu_a', 1, 0, None, 0)\n",
    "mu_b = Beta('mu_b', 1, 0, None, 0)\n",
    "nest_a = OneNestForNestedLogit(nest_param=mu_a, list_of_alternatives=[1, 2], name='slow modes')\n",
    "nest_b = OneNestForNestedLogit(nest_param=mu_b, list_of_alternatives=[3, 4], name='faster modes')\n",
    "nests = NestsForNestedLogit(choice_set=list(V), tuple_of_nests=(nest_a, nest_b))\n",
    "\n",
    "logprob_m4 = lognested(V, av, nests, travel_mode)\n",
    "\n",
    "\n",
    "# logprob_m3 = loglogit(V, av, travel_mode)\n",
    "\n",
    "model_4 = bio.BIOGEME(database, logprob_m4)\n",
    "model_4.modelName = 'model_4'\n",
    "\n",
    "null_log_likelihood_m4 = model_4.calculate_null_loglikelihood(av)\n",
    "\n",
    "results_m4 = model_4.estimate()\n",
    "print(results_m4.print_general_statistics())\n"
   ]
  },
  {
   "cell_type": "code",
   "execution_count": null,
   "metadata": {},
   "outputs": [
    {
     "data": {
      "text/html": [
       "<div>\n",
       "<style scoped>\n",
       "    .dataframe tbody tr th:only-of-type {\n",
       "        vertical-align: middle;\n",
       "    }\n",
       "\n",
       "    .dataframe tbody tr th {\n",
       "        vertical-align: top;\n",
       "    }\n",
       "\n",
       "    .dataframe thead th {\n",
       "        text-align: right;\n",
       "    }\n",
       "</style>\n",
       "<table border=\"1\" class=\"dataframe\">\n",
       "  <thead>\n",
       "    <tr style=\"text-align: right;\">\n",
       "      <th></th>\n",
       "      <th>Value</th>\n",
       "      <th>Rob. Std err</th>\n",
       "      <th>Rob. t-test</th>\n",
       "      <th>Rob. p-value</th>\n",
       "    </tr>\n",
       "  </thead>\n",
       "  <tbody>\n",
       "    <tr>\n",
       "      <th>LAMBDA</th>\n",
       "      <td>0.509533</td>\n",
       "      <td>0.026464</td>\n",
       "      <td>19.253710</td>\n",
       "      <td>0.000000e+00</td>\n",
       "    </tr>\n",
       "    <tr>\n",
       "      <th>asc_car</th>\n",
       "      <td>2.218673</td>\n",
       "      <td>0.165932</td>\n",
       "      <td>13.370986</td>\n",
       "      <td>0.000000e+00</td>\n",
       "    </tr>\n",
       "    <tr>\n",
       "      <th>asc_cycling_female</th>\n",
       "      <td>-1.507425</td>\n",
       "      <td>0.234679</td>\n",
       "      <td>-6.423360</td>\n",
       "      <td>1.332985e-10</td>\n",
       "    </tr>\n",
       "    <tr>\n",
       "      <th>asc_pt</th>\n",
       "      <td>3.191960</td>\n",
       "      <td>0.191175</td>\n",
       "      <td>16.696573</td>\n",
       "      <td>0.000000e+00</td>\n",
       "    </tr>\n",
       "    <tr>\n",
       "      <th>asc_walk</th>\n",
       "      <td>4.919867</td>\n",
       "      <td>0.232887</td>\n",
       "      <td>21.125571</td>\n",
       "      <td>0.000000e+00</td>\n",
       "    </tr>\n",
       "    <tr>\n",
       "      <th>beta_cost_car</th>\n",
       "      <td>-0.261827</td>\n",
       "      <td>0.030239</td>\n",
       "      <td>-8.658677</td>\n",
       "      <td>0.000000e+00</td>\n",
       "    </tr>\n",
       "    <tr>\n",
       "      <th>beta_cost_pt</th>\n",
       "      <td>-0.070793</td>\n",
       "      <td>0.036535</td>\n",
       "      <td>-1.937687</td>\n",
       "      <td>5.266144e-02</td>\n",
       "    </tr>\n",
       "    <tr>\n",
       "      <th>beta_time</th>\n",
       "      <td>-6.336354</td>\n",
       "      <td>0.285157</td>\n",
       "      <td>-22.220551</td>\n",
       "      <td>0.000000e+00</td>\n",
       "    </tr>\n",
       "    <tr>\n",
       "      <th>mu_a</th>\n",
       "      <td>0.904861</td>\n",
       "      <td>0.082078</td>\n",
       "      <td>11.024372</td>\n",
       "      <td>0.000000e+00</td>\n",
       "    </tr>\n",
       "    <tr>\n",
       "      <th>mu_b</th>\n",
       "      <td>0.765282</td>\n",
       "      <td>0.036324</td>\n",
       "      <td>21.068066</td>\n",
       "      <td>0.000000e+00</td>\n",
       "    </tr>\n",
       "  </tbody>\n",
       "</table>\n",
       "</div>"
      ],
      "text/plain": [
       "                       Value  Rob. Std err  Rob. t-test  Rob. p-value\n",
       "LAMBDA              0.509533      0.026464    19.253710  0.000000e+00\n",
       "asc_car             2.218673      0.165932    13.370986  0.000000e+00\n",
       "asc_cycling_female -1.507425      0.234679    -6.423360  1.332985e-10\n",
       "asc_pt              3.191960      0.191175    16.696573  0.000000e+00\n",
       "asc_walk            4.919867      0.232887    21.125571  0.000000e+00\n",
       "beta_cost_car      -0.261827      0.030239    -8.658677  0.000000e+00\n",
       "beta_cost_pt       -0.070793      0.036535    -1.937687  5.266144e-02\n",
       "beta_time          -6.336354      0.285157   -22.220551  0.000000e+00\n",
       "mu_a                0.904861      0.082078    11.024372  0.000000e+00\n",
       "mu_b                0.765282      0.036324    21.068066  0.000000e+00"
      ]
     },
     "metadata": {},
     "output_type": "display_data"
    }
   ],
   "source": [
    "pd_results_m4 = results_m4.get_estimated_parameters()\n",
    "display(pd_results_m4)"
   ]
  }
 ],
 "metadata": {
  "kernelspec": {
   "display_name": ".venv",
   "language": "python",
   "name": "python3"
  },
  "language_info": {
   "codemirror_mode": {
    "name": "ipython",
    "version": 3
   },
   "file_extension": ".py",
   "mimetype": "text/x-python",
   "name": "python",
   "nbconvert_exporter": "python",
   "pygments_lexer": "ipython3",
   "version": "3.10.5"
  }
 },
 "nbformat": 4,
 "nbformat_minor": 2
}
