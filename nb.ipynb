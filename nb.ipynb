{
 "cells": [
  {
   "cell_type": "code",
   "execution_count": 2,
   "metadata": {},
   "outputs": [],
   "source": [
    "import pandas as pd\n",
    "import biogeme.database as db\n",
    "import biogeme.biogeme as bio\n",
    "from IPython.core.display_functions import display\n",
    "from biogeme.expressions import Beta, Variable\n",
    "from biogeme.models import loglogit\n",
    "from biogeme.segmentation import DiscreteSegmentationTuple, segmented_beta"
   ]
  },
  {
   "cell_type": "code",
   "execution_count": 3,
   "metadata": {},
   "outputs": [],
   "source": [
    "data = pd.read_csv(\"lpmc01.dat\", sep = '\\t')\n",
    "\n",
    "# Step 1: Identify whether each household has a driving license\n",
    "data['household_has_license'] = data.groupby('household_id')['driving_license'].transform(lambda x: x.max())\n",
    "\n",
    "# Step 2: Define a filter for the availability conditions not being met\n",
    "car_availability_unmet = (data['car_ownership'] == 0) & (data['driving_license'] == 0) & (data['household_has_license'] == 0)\n",
    "\n",
    "# Step 3: Identify rows where travel_mode is 4 (car) but the availability conditions are not met\n",
    "car_without_availability = data[(data['travel_mode'] == 4) & car_availability_unmet]\n",
    "\n",
    "# Step 4: Remove those rows from the original DataFrame\n",
    "data_filtered = data[~data.index.isin(car_without_availability.index)]\n",
    "\n",
    "database = db.Database('london', data_filtered)"
   ]
  },
  {
   "cell_type": "code",
   "execution_count": 4,
   "metadata": {},
   "outputs": [
    {
     "data": {
      "text/html": [
       "<div>\n",
       "<style scoped>\n",
       "    .dataframe tbody tr th:only-of-type {\n",
       "        vertical-align: middle;\n",
       "    }\n",
       "\n",
       "    .dataframe tbody tr th {\n",
       "        vertical-align: top;\n",
       "    }\n",
       "\n",
       "    .dataframe thead th {\n",
       "        text-align: right;\n",
       "    }\n",
       "</style>\n",
       "<table border=\"1\" class=\"dataframe\">\n",
       "  <thead>\n",
       "    <tr style=\"text-align: right;\">\n",
       "      <th></th>\n",
       "      <th>trip_id</th>\n",
       "      <th>household_id</th>\n",
       "      <th>person_n</th>\n",
       "      <th>trip_n</th>\n",
       "      <th>travel_mode</th>\n",
       "      <th>purpose</th>\n",
       "      <th>fueltype</th>\n",
       "      <th>faretype</th>\n",
       "      <th>bus_scale</th>\n",
       "      <th>survey_year</th>\n",
       "      <th>...</th>\n",
       "      <th>dur_pt_rail</th>\n",
       "      <th>dur_pt_bus</th>\n",
       "      <th>dur_pt_int</th>\n",
       "      <th>pt_interchanges</th>\n",
       "      <th>dur_driving</th>\n",
       "      <th>cost_transit</th>\n",
       "      <th>cost_driving_fuel</th>\n",
       "      <th>cost_driving_ccharge</th>\n",
       "      <th>driving_traffic_percent</th>\n",
       "      <th>household_has_license</th>\n",
       "    </tr>\n",
       "  </thead>\n",
       "  <tbody>\n",
       "    <tr>\n",
       "      <th>count</th>\n",
       "      <td>4941.000000</td>\n",
       "      <td>4941.000000</td>\n",
       "      <td>4941.000000</td>\n",
       "      <td>4941.000000</td>\n",
       "      <td>4941.000000</td>\n",
       "      <td>4941.000000</td>\n",
       "      <td>4941.000000</td>\n",
       "      <td>4941.000000</td>\n",
       "      <td>4941.000000</td>\n",
       "      <td>4941.000000</td>\n",
       "      <td>...</td>\n",
       "      <td>4941.000000</td>\n",
       "      <td>4941.000000</td>\n",
       "      <td>4941.000000</td>\n",
       "      <td>4941.000000</td>\n",
       "      <td>4941.000000</td>\n",
       "      <td>4941.000000</td>\n",
       "      <td>4941.000000</td>\n",
       "      <td>4941.000000</td>\n",
       "      <td>4941.000000</td>\n",
       "      <td>4941.000000</td>\n",
       "    </tr>\n",
       "    <tr>\n",
       "      <th>mean</th>\n",
       "      <td>40237.209472</td>\n",
       "      <td>8643.030763</td>\n",
       "      <td>0.773932</td>\n",
       "      <td>1.538353</td>\n",
       "      <td>3.047359</td>\n",
       "      <td>2.888687</td>\n",
       "      <td>2.780814</td>\n",
       "      <td>2.205829</td>\n",
       "      <td>0.662619</td>\n",
       "      <td>1.974094</td>\n",
       "      <td>...</td>\n",
       "      <td>0.091402</td>\n",
       "      <td>0.172350</td>\n",
       "      <td>0.044814</td>\n",
       "      <td>0.371180</td>\n",
       "      <td>0.284220</td>\n",
       "      <td>1.599806</td>\n",
       "      <td>0.837735</td>\n",
       "      <td>1.145416</td>\n",
       "      <td>0.336556</td>\n",
       "      <td>0.689334</td>\n",
       "    </tr>\n",
       "    <tr>\n",
       "      <th>std</th>\n",
       "      <td>23379.474440</td>\n",
       "      <td>5064.169881</td>\n",
       "      <td>1.027603</td>\n",
       "      <td>1.768024</td>\n",
       "      <td>1.081396</td>\n",
       "      <td>1.188233</td>\n",
       "      <td>2.218510</td>\n",
       "      <td>1.720187</td>\n",
       "      <td>0.466398</td>\n",
       "      <td>0.816912</td>\n",
       "      <td>...</td>\n",
       "      <td>0.175669</td>\n",
       "      <td>0.190150</td>\n",
       "      <td>0.078959</td>\n",
       "      <td>0.623633</td>\n",
       "      <td>0.253322</td>\n",
       "      <td>1.525741</td>\n",
       "      <td>0.821638</td>\n",
       "      <td>3.273692</td>\n",
       "      <td>0.200867</td>\n",
       "      <td>0.462813</td>\n",
       "    </tr>\n",
       "    <tr>\n",
       "      <th>min</th>\n",
       "      <td>12.000000</td>\n",
       "      <td>1.000000</td>\n",
       "      <td>0.000000</td>\n",
       "      <td>0.000000</td>\n",
       "      <td>1.000000</td>\n",
       "      <td>1.000000</td>\n",
       "      <td>1.000000</td>\n",
       "      <td>1.000000</td>\n",
       "      <td>0.000000</td>\n",
       "      <td>1.000000</td>\n",
       "      <td>...</td>\n",
       "      <td>0.000000</td>\n",
       "      <td>0.000000</td>\n",
       "      <td>0.000000</td>\n",
       "      <td>0.000000</td>\n",
       "      <td>0.009722</td>\n",
       "      <td>0.000000</td>\n",
       "      <td>0.030000</td>\n",
       "      <td>0.000000</td>\n",
       "      <td>0.000000</td>\n",
       "      <td>0.000000</td>\n",
       "    </tr>\n",
       "    <tr>\n",
       "      <th>25%</th>\n",
       "      <td>19903.000000</td>\n",
       "      <td>4214.000000</td>\n",
       "      <td>0.000000</td>\n",
       "      <td>0.000000</td>\n",
       "      <td>3.000000</td>\n",
       "      <td>2.000000</td>\n",
       "      <td>1.000000</td>\n",
       "      <td>1.000000</td>\n",
       "      <td>0.000000</td>\n",
       "      <td>1.000000</td>\n",
       "      <td>...</td>\n",
       "      <td>0.000000</td>\n",
       "      <td>0.035833</td>\n",
       "      <td>0.000000</td>\n",
       "      <td>0.000000</td>\n",
       "      <td>0.107500</td>\n",
       "      <td>0.000000</td>\n",
       "      <td>0.280000</td>\n",
       "      <td>0.000000</td>\n",
       "      <td>0.172973</td>\n",
       "      <td>0.000000</td>\n",
       "    </tr>\n",
       "    <tr>\n",
       "      <th>50%</th>\n",
       "      <td>40280.000000</td>\n",
       "      <td>8615.000000</td>\n",
       "      <td>0.000000</td>\n",
       "      <td>1.000000</td>\n",
       "      <td>3.000000</td>\n",
       "      <td>3.000000</td>\n",
       "      <td>2.000000</td>\n",
       "      <td>1.000000</td>\n",
       "      <td>1.000000</td>\n",
       "      <td>2.000000</td>\n",
       "      <td>...</td>\n",
       "      <td>0.000000</td>\n",
       "      <td>0.111111</td>\n",
       "      <td>0.000000</td>\n",
       "      <td>0.000000</td>\n",
       "      <td>0.189167</td>\n",
       "      <td>1.500000</td>\n",
       "      <td>0.540000</td>\n",
       "      <td>0.000000</td>\n",
       "      <td>0.304348</td>\n",
       "      <td>1.000000</td>\n",
       "    </tr>\n",
       "    <tr>\n",
       "      <th>75%</th>\n",
       "      <td>60195.000000</td>\n",
       "      <td>12907.000000</td>\n",
       "      <td>1.000000</td>\n",
       "      <td>2.000000</td>\n",
       "      <td>4.000000</td>\n",
       "      <td>3.000000</td>\n",
       "      <td>6.000000</td>\n",
       "      <td>4.000000</td>\n",
       "      <td>1.000000</td>\n",
       "      <td>3.000000</td>\n",
       "      <td>...</td>\n",
       "      <td>0.100000</td>\n",
       "      <td>0.250000</td>\n",
       "      <td>0.091667</td>\n",
       "      <td>1.000000</td>\n",
       "      <td>0.378056</td>\n",
       "      <td>2.400000</td>\n",
       "      <td>1.120000</td>\n",
       "      <td>0.000000</td>\n",
       "      <td>0.488011</td>\n",
       "      <td>1.000000</td>\n",
       "    </tr>\n",
       "    <tr>\n",
       "      <th>max</th>\n",
       "      <td>81084.000000</td>\n",
       "      <td>17615.000000</td>\n",
       "      <td>7.000000</td>\n",
       "      <td>14.000000</td>\n",
       "      <td>4.000000</td>\n",
       "      <td>5.000000</td>\n",
       "      <td>6.000000</td>\n",
       "      <td>5.000000</td>\n",
       "      <td>1.000000</td>\n",
       "      <td>3.000000</td>\n",
       "      <td>...</td>\n",
       "      <td>1.183333</td>\n",
       "      <td>1.871944</td>\n",
       "      <td>0.750000</td>\n",
       "      <td>4.000000</td>\n",
       "      <td>1.730556</td>\n",
       "      <td>10.600000</td>\n",
       "      <td>8.630000</td>\n",
       "      <td>10.500000</td>\n",
       "      <td>0.957627</td>\n",
       "      <td>1.000000</td>\n",
       "    </tr>\n",
       "  </tbody>\n",
       "</table>\n",
       "<p>8 rows × 33 columns</p>\n",
       "</div>"
      ],
      "text/plain": [
       "            trip_id  household_id     person_n       trip_n  travel_mode  \\\n",
       "count   4941.000000   4941.000000  4941.000000  4941.000000  4941.000000   \n",
       "mean   40237.209472   8643.030763     0.773932     1.538353     3.047359   \n",
       "std    23379.474440   5064.169881     1.027603     1.768024     1.081396   \n",
       "min       12.000000      1.000000     0.000000     0.000000     1.000000   \n",
       "25%    19903.000000   4214.000000     0.000000     0.000000     3.000000   \n",
       "50%    40280.000000   8615.000000     0.000000     1.000000     3.000000   \n",
       "75%    60195.000000  12907.000000     1.000000     2.000000     4.000000   \n",
       "max    81084.000000  17615.000000     7.000000    14.000000     4.000000   \n",
       "\n",
       "           purpose     fueltype     faretype    bus_scale  survey_year  ...  \\\n",
       "count  4941.000000  4941.000000  4941.000000  4941.000000  4941.000000  ...   \n",
       "mean      2.888687     2.780814     2.205829     0.662619     1.974094  ...   \n",
       "std       1.188233     2.218510     1.720187     0.466398     0.816912  ...   \n",
       "min       1.000000     1.000000     1.000000     0.000000     1.000000  ...   \n",
       "25%       2.000000     1.000000     1.000000     0.000000     1.000000  ...   \n",
       "50%       3.000000     2.000000     1.000000     1.000000     2.000000  ...   \n",
       "75%       3.000000     6.000000     4.000000     1.000000     3.000000  ...   \n",
       "max       5.000000     6.000000     5.000000     1.000000     3.000000  ...   \n",
       "\n",
       "       dur_pt_rail   dur_pt_bus   dur_pt_int  pt_interchanges  dur_driving  \\\n",
       "count  4941.000000  4941.000000  4941.000000      4941.000000  4941.000000   \n",
       "mean      0.091402     0.172350     0.044814         0.371180     0.284220   \n",
       "std       0.175669     0.190150     0.078959         0.623633     0.253322   \n",
       "min       0.000000     0.000000     0.000000         0.000000     0.009722   \n",
       "25%       0.000000     0.035833     0.000000         0.000000     0.107500   \n",
       "50%       0.000000     0.111111     0.000000         0.000000     0.189167   \n",
       "75%       0.100000     0.250000     0.091667         1.000000     0.378056   \n",
       "max       1.183333     1.871944     0.750000         4.000000     1.730556   \n",
       "\n",
       "       cost_transit  cost_driving_fuel  cost_driving_ccharge  \\\n",
       "count   4941.000000        4941.000000           4941.000000   \n",
       "mean       1.599806           0.837735              1.145416   \n",
       "std        1.525741           0.821638              3.273692   \n",
       "min        0.000000           0.030000              0.000000   \n",
       "25%        0.000000           0.280000              0.000000   \n",
       "50%        1.500000           0.540000              0.000000   \n",
       "75%        2.400000           1.120000              0.000000   \n",
       "max       10.600000           8.630000             10.500000   \n",
       "\n",
       "       driving_traffic_percent  household_has_license  \n",
       "count              4941.000000            4941.000000  \n",
       "mean                  0.336556               0.689334  \n",
       "std                   0.200867               0.462813  \n",
       "min                   0.000000               0.000000  \n",
       "25%                   0.172973               0.000000  \n",
       "50%                   0.304348               1.000000  \n",
       "75%                   0.488011               1.000000  \n",
       "max                   0.957627               1.000000  \n",
       "\n",
       "[8 rows x 33 columns]"
      ]
     },
     "execution_count": 4,
     "metadata": {},
     "output_type": "execute_result"
    }
   ],
   "source": [
    "data_filtered.describe()"
   ]
  },
  {
   "cell_type": "code",
   "execution_count": 5,
   "metadata": {},
   "outputs": [
    {
     "data": {
      "text/html": [
       "<div>\n",
       "<style scoped>\n",
       "    .dataframe tbody tr th:only-of-type {\n",
       "        vertical-align: middle;\n",
       "    }\n",
       "\n",
       "    .dataframe tbody tr th {\n",
       "        vertical-align: top;\n",
       "    }\n",
       "\n",
       "    .dataframe thead th {\n",
       "        text-align: right;\n",
       "    }\n",
       "</style>\n",
       "<table border=\"1\" class=\"dataframe\">\n",
       "  <thead>\n",
       "    <tr style=\"text-align: right;\">\n",
       "      <th></th>\n",
       "      <th>cost_transit</th>\n",
       "      <th>faretype</th>\n",
       "      <th>bus_scale</th>\n",
       "    </tr>\n",
       "  </thead>\n",
       "  <tbody>\n",
       "    <tr>\n",
       "      <th>count</th>\n",
       "      <td>1766.000000</td>\n",
       "      <td>1766.000000</td>\n",
       "      <td>1766.000000</td>\n",
       "    </tr>\n",
       "    <tr>\n",
       "      <th>mean</th>\n",
       "      <td>1.947571</td>\n",
       "      <td>2.270102</td>\n",
       "      <td>0.636183</td>\n",
       "    </tr>\n",
       "    <tr>\n",
       "      <th>std</th>\n",
       "      <td>1.853382</td>\n",
       "      <td>1.710186</td>\n",
       "      <td>0.471270</td>\n",
       "    </tr>\n",
       "    <tr>\n",
       "      <th>min</th>\n",
       "      <td>0.000000</td>\n",
       "      <td>1.000000</td>\n",
       "      <td>0.000000</td>\n",
       "    </tr>\n",
       "    <tr>\n",
       "      <th>25%</th>\n",
       "      <td>0.000000</td>\n",
       "      <td>1.000000</td>\n",
       "      <td>0.000000</td>\n",
       "    </tr>\n",
       "    <tr>\n",
       "      <th>50%</th>\n",
       "      <td>1.500000</td>\n",
       "      <td>1.000000</td>\n",
       "      <td>1.000000</td>\n",
       "    </tr>\n",
       "    <tr>\n",
       "      <th>75%</th>\n",
       "      <td>3.000000</td>\n",
       "      <td>4.000000</td>\n",
       "      <td>1.000000</td>\n",
       "    </tr>\n",
       "    <tr>\n",
       "      <th>max</th>\n",
       "      <td>10.100000</td>\n",
       "      <td>5.000000</td>\n",
       "      <td>1.000000</td>\n",
       "    </tr>\n",
       "  </tbody>\n",
       "</table>\n",
       "</div>"
      ],
      "text/plain": [
       "       cost_transit     faretype    bus_scale\n",
       "count   1766.000000  1766.000000  1766.000000\n",
       "mean       1.947571     2.270102     0.636183\n",
       "std        1.853382     1.710186     0.471270\n",
       "min        0.000000     1.000000     0.000000\n",
       "25%        0.000000     1.000000     0.000000\n",
       "50%        1.500000     1.000000     1.000000\n",
       "75%        3.000000     4.000000     1.000000\n",
       "max       10.100000     5.000000     1.000000"
      ]
     },
     "execution_count": 5,
     "metadata": {},
     "output_type": "execute_result"
    }
   ],
   "source": [
    "pt_data = data_filtered[data_filtered['travel_mode'] == 3]\n",
    "\n",
    "pt_data[['cost_transit', 'faretype', 'bus_scale']].describe()"
   ]
  },
  {
   "cell_type": "code",
   "execution_count": 6,
   "metadata": {},
   "outputs": [
    {
     "data": {
      "image/png": "[encoded data removed]",
      "text/plain": [
       "<Figure size 640x480 with 1 Axes>"
      ]
     },
     "metadata": {},
     "output_type": "display_data"
    }
   ],
   "source": [
    "hist = pt_data['cost_transit'].hist(bins=5)"
   ]
  },
  {
   "cell_type": "code",
   "execution_count": 7,
   "metadata": {},
   "outputs": [
    {
     "data": {
      "image/png": "[encoded data removed]",
      "text/plain": [
       "<Figure size 640x480 with 1 Axes>"
      ]
     },
     "metadata": {},
     "output_type": "display_data"
    }
   ],
   "source": [
    "hist = pt_data['faretype'].hist(bins=5)\n"
   ]
  },
  {
   "cell_type": "code",
   "execution_count": 8,
   "metadata": {},
   "outputs": [
    {
     "data": {
      "image/png": "[encoded data removed]",
      "text/plain": [
       "<Figure size 640x480 with 1 Axes>"
      ]
     },
     "metadata": {},
     "output_type": "display_data"
    }
   ],
   "source": [
    "hist = pt_data['bus_scale'].hist(bins=3)"
   ]
  },
  {
   "cell_type": "code",
   "execution_count": 9,
   "metadata": {},
   "outputs": [
    {
     "data": {
      "image/png": "[encoded data removed]",
      "text/plain": [
       "<Figure size 640x480 with 1 Axes>"
      ]
     },
     "metadata": {},
     "output_type": "display_data"
    }
   ],
   "source": [
    "hist = pt_data['purpose'].hist(bins=5)"
   ]
  },
  {
   "cell_type": "code",
   "execution_count": 10,
   "metadata": {},
   "outputs": [
    {
     "data": {
      "text/html": [
       "<div>\n",
       "<style scoped>\n",
       "    .dataframe tbody tr th:only-of-type {\n",
       "        vertical-align: middle;\n",
       "    }\n",
       "\n",
       "    .dataframe tbody tr th {\n",
       "        vertical-align: top;\n",
       "    }\n",
       "\n",
       "    .dataframe thead th {\n",
       "        text-align: right;\n",
       "    }\n",
       "</style>\n",
       "<table border=\"1\" class=\"dataframe\">\n",
       "  <thead>\n",
       "    <tr style=\"text-align: right;\">\n",
       "      <th></th>\n",
       "      <th>cost_transit</th>\n",
       "      <th>faretype</th>\n",
       "      <th>bus_scale</th>\n",
       "    </tr>\n",
       "  </thead>\n",
       "  <tbody>\n",
       "    <tr>\n",
       "      <th>count</th>\n",
       "      <td>3175.000000</td>\n",
       "      <td>3175.000000</td>\n",
       "      <td>3175.000000</td>\n",
       "    </tr>\n",
       "    <tr>\n",
       "      <th>mean</th>\n",
       "      <td>1.406372</td>\n",
       "      <td>2.170079</td>\n",
       "      <td>0.677323</td>\n",
       "    </tr>\n",
       "    <tr>\n",
       "      <th>std</th>\n",
       "      <td>1.268164</td>\n",
       "      <td>1.724957</td>\n",
       "      <td>0.463088</td>\n",
       "    </tr>\n",
       "    <tr>\n",
       "      <th>min</th>\n",
       "      <td>0.000000</td>\n",
       "      <td>1.000000</td>\n",
       "      <td>0.000000</td>\n",
       "    </tr>\n",
       "    <tr>\n",
       "      <th>25%</th>\n",
       "      <td>0.000000</td>\n",
       "      <td>1.000000</td>\n",
       "      <td>0.000000</td>\n",
       "    </tr>\n",
       "    <tr>\n",
       "      <th>50%</th>\n",
       "      <td>1.500000</td>\n",
       "      <td>1.000000</td>\n",
       "      <td>1.000000</td>\n",
       "    </tr>\n",
       "    <tr>\n",
       "      <th>75%</th>\n",
       "      <td>1.500000</td>\n",
       "      <td>4.000000</td>\n",
       "      <td>1.000000</td>\n",
       "    </tr>\n",
       "    <tr>\n",
       "      <th>max</th>\n",
       "      <td>10.600000</td>\n",
       "      <td>5.000000</td>\n",
       "      <td>1.000000</td>\n",
       "    </tr>\n",
       "  </tbody>\n",
       "</table>\n",
       "</div>"
      ],
      "text/plain": [
       "       cost_transit     faretype    bus_scale\n",
       "count   3175.000000  3175.000000  3175.000000\n",
       "mean       1.406372     2.170079     0.677323\n",
       "std        1.268164     1.724957     0.463088\n",
       "min        0.000000     1.000000     0.000000\n",
       "25%        0.000000     1.000000     0.000000\n",
       "50%        1.500000     1.000000     1.000000\n",
       "75%        1.500000     4.000000     1.000000\n",
       "max       10.600000     5.000000     1.000000"
      ]
     },
     "execution_count": 10,
     "metadata": {},
     "output_type": "execute_result"
    }
   ],
   "source": [
    "nonpt_data = data_filtered[data_filtered['travel_mode'] != 3]\n",
    "\n",
    "nonpt_data[['cost_transit', 'faretype', 'bus_scale']].describe()"
   ]
  },
  {
   "cell_type": "code",
   "execution_count": 23,
   "metadata": {},
   "outputs": [
    {
     "data": {
      "image/png": "[encoded data removed]",
      "text/plain": [
       "<Figure size 1200x600 with 2 Axes>"
      ]
     },
     "metadata": {},
     "output_type": "display_data"
    }
   ],
   "source": [
    "distance = data_filtered['distance']\n",
    "cost_transit = data_filtered['cost_transit']\n",
    "choice = data_filtered['travel_mode']\n",
    "choices = ['walk', 'cycling', 'pt', 'car']\n",
    "\n",
    "import matplotlib.pyplot as plt\n",
    "import numpy as np\n",
    "\n",
    "# Define colors for each choice (1, 2, 3, 4)\n",
    "color_map = {1: 'blue', 2: 'green', 3: 'orange', 4: 'red'}\n",
    "labels = {1: 'walk', 2: 'cycling', 3: 'pt', 4: 'car'}\n",
    "\n",
    "# Separate distances by travel mode\n",
    "distance_by_mode = {mode: distance[choice == mode] for mode in color_map}\n",
    "\n",
    "fig, axes = plt.subplots(1, 2, figsize=(12, 6))\n",
    "\n",
    "# Scatter plot with color based on choice\n",
    "colors = [color_map[c] for c in choice]\n",
    "axes[0].scatter(distance, cost_transit, c=colors)\n",
    "axes[0].set_title(\"Cost Transit vs Distance\")\n",
    "axes[0].set_xlabel(\"Distance\")\n",
    "axes[0].set_ylabel(\"Cost Transit\")\n",
    "\n",
    "# Create custom legend\n",
    "legend_elements = [plt.Line2D([0], [0], marker='o', color='w', markerfacecolor=color_map[i], markersize=10, label=labels[i]) for i in color_map]\n",
    "axes[0].legend(handles=legend_elements, title=\"Travel Mode\")\n",
    "\n",
    "# Stacked histogram for travel modes\n",
    "bins = np.linspace(min(distance), max(distance), 20)\n",
    "hist_data = [distance_by_mode[mode] for mode in color_map]\n",
    "axes[1].hist(hist_data, bins=bins, stacked=True, color=[color_map[i] for i in color_map], label=[labels[i] for i in color_map])\n",
    "\n",
    "axes[1].set_xlabel(\"Distance\")\n",
    "axes[1].set_ylabel(\"Frequency\")\n",
    "axes[1].set_title(\"Frequency of Distances by Travel Mode\")\n",
    "axes[1].legend(title=\"Travel Mode\")\n",
    "\n",
    "plt.tight_layout()\n",
    "plt.show()\n"
   ]
  },
  {
   "cell_type": "code",
   "execution_count": 28,
   "metadata": {},
   "outputs": [
    {
     "name": "stdout",
     "output_type": "stream",
     "text": [
      "Max distance for walking: 9999\n",
      "Average distance for walking: 1023.4\n",
      "Max distance for cycling: 14079\n",
      "Average distance for cycling: 3243.2\n"
     ]
    }
   ],
   "source": [
    "walk_max_distance = distance[choice == 1].max()\n",
    "walk_avg_distance = distance[choice == 1].mean()\n",
    "cycling_max_distance = distance[choice == 2].max()\n",
    "cycling_avg_distance = distance[choice == 2].mean()\n",
    "\n",
    "\n",
    "print(f\"Max distance for walking: {walk_max_distance}\")\n",
    "print(f\"Average distance for walking: {walk_avg_distance:.1f}\")\n",
    "print(f\"Max distance for cycling: {cycling_max_distance}\")\n",
    "print(f\"Average distance for cycling: {cycling_avg_distance:.1f}\")\n"
   ]
  },
  {
   "cell_type": "markdown",
   "metadata": {},
   "source": [
    "## Variable Definition"
   ]
  },
  {
   "cell_type": "code",
   "execution_count": 197,
   "metadata": {},
   "outputs": [],
   "source": [
    "trip_id = Variable('trip_id')\n",
    "household_id = Variable('household_id')\n",
    "person_n = Variable('person_n')\n",
    "trip_n = Variable('trip_n')\n",
    "travel_mode = Variable('travel_mode')\n",
    "purpose = Variable('purpose')\n",
    "fueltype = Variable('fueltype')\n",
    "faretype = Variable('faretype')\n",
    "bus_scale = Variable('bus_scale')\n",
    "survey_year = Variable('survey_year')\n",
    "travel_year = Variable('travel_year')\n",
    "travel_month = Variable('travel_month')\n",
    "travel_date = Variable('travel_date')\n",
    "day_of_week = Variable('day_of_week')\n",
    "start_time = Variable('start_time')\n",
    "age = Variable('age')\n",
    "female = Variable('female')\n",
    "driving_license = Variable('driving_license')\n",
    "car_ownership = Variable('car_ownership')\n",
    "distance = Variable('distance')\n",
    "dur_walking = Variable('dur_walking')\n",
    "dur_cycling = Variable('dur_cycling')\n",
    "dur_pt_access = Variable('dur_pt_access') # Predicted total access and egress time for public transport route in hours\n",
    "dur_pt_rail = Variable('dur_pt_rail')\n",
    "dur_pt_bus = Variable('dur_pt_bus')\n",
    "dur_pt_int = Variable('dur_pt_int') # Time taken (hrs) at each interchange point\n",
    "pt_interchanges = Variable('pt_interchanges')   # Number of interchange points in public transport route\n",
    "dur_driving = Variable('dur_driving')\n",
    "cost_transit = Variable('cost_transit')\n",
    "cost_driving_fuel = Variable('cost_driving_fuel')   # Estimated fuel cost of driving route in GBP\n",
    "cost_driving_ccharge = Variable('cost_driving_ccharge')  # Estimated congestion charge cost of driving route in GBP\n",
    "driving_traffic_percent = Variable('driving_traffic_percent')\n",
    "\n",
    "household_has_license = Variable('household_has_license')\n"
   ]
  },
  {
   "cell_type": "code",
   "execution_count": 198,
   "metadata": {},
   "outputs": [],
   "source": [
    "# Define driving cost\n",
    "cost_driving = cost_driving_ccharge + cost_driving_fuel\n",
    "\n",
    "# Define time taken by each mode of transport\n",
    "time_pt = dur_pt_access + dur_pt_rail + dur_pt_bus + dur_pt_int \n",
    "\n",
    "time_cycling = dur_cycling\n",
    "time_walking = dur_walking\n",
    "time_driving = dur_driving"
   ]
  },
  {
   "cell_type": "markdown",
   "metadata": {},
   "source": [
    "# Model 0"
   ]
  },
  {
   "cell_type": "code",
   "execution_count": 199,
   "metadata": {},
   "outputs": [],
   "source": [
    "# Define ASCs \n",
    "asc_car = Beta(name='asc_car', value=0, lowerbound=None, upperbound=None, status=0)\n",
    "asc_walk = Beta(name='asc_walk', value=0, lowerbound=None, upperbound=None, status=0)\n",
    "asc_pt = Beta(name='asc_pt', value=0, lowerbound=None, upperbound=None, status=0)\n",
    "\n",
    "# Define generic parameters\n",
    "\n",
    "beta_cost = Beta(name='beta_cost', value=0, lowerbound=None, upperbound=None, status=0)\n",
    "beta_time = Beta(name='beta_time', value=0, lowerbound=None, upperbound=None, status=0)\n"
   ]
  },
  {
   "cell_type": "code",
   "execution_count": 200,
   "metadata": {},
   "outputs": [],
   "source": [
    "# Define utility functions\n",
    "\n",
    "v_car = asc_car + beta_cost * cost_driving + beta_time * time_driving\n",
    "\n",
    "v_walk = asc_walk + beta_time * time_walking\n",
    "\n",
    "v_pt = asc_pt + beta_cost * cost_transit + beta_time * time_pt\n",
    "\n",
    "v_cycling = beta_time * time_cycling"
   ]
  },
  {
   "cell_type": "code",
   "execution_count": 201,
   "metadata": {},
   "outputs": [],
   "source": [
    "V = {1: v_walk, 2: v_cycling, 3: v_pt, 4: v_car}\n",
    "\n",
    "CAR_AV = (car_ownership != 0) | (driving_license != 0) | (household_has_license != 0)\n",
    "WALK_AV = (car_ownership >= 0)\n",
    "PT_AV = (car_ownership >= 0)\n",
    "CYCLING_AV = (car_ownership >= 0)\n",
    "\n",
    "av = {1: WALK_AV, 2: CYCLING_AV , 3: PT_AV, 4: CAR_AV}"
   ]
  },
  {
   "cell_type": "code",
   "execution_count": 202,
   "metadata": {},
   "outputs": [],
   "source": [
    "logprob = loglogit(V, av, travel_mode)"
   ]
  },
  {
   "cell_type": "code",
   "execution_count": 203,
   "metadata": {},
   "outputs": [],
   "source": [
    "biogeme = bio.BIOGEME(database, logprob)\n",
    "biogeme.modelName = 'logit_london'\n"
   ]
  },
  {
   "cell_type": "code",
   "execution_count": 204,
   "metadata": {},
   "outputs": [
    {
     "data": {
      "text/plain": [
       "np.float64(-6610.328954013736)"
      ]
     },
     "metadata": {},
     "output_type": "display_data"
    }
   ],
   "source": [
    "null_log_likelihood = biogeme.calculate_null_loglikelihood(av)\n",
    "display(null_log_likelihood)\n"
   ]
  },
  {
   "cell_type": "code",
   "execution_count": 205,
   "metadata": {},
   "outputs": [],
   "source": [
    "results = biogeme.estimate()"
   ]
  },
  {
   "cell_type": "code",
   "execution_count": 206,
   "metadata": {},
   "outputs": [
    {
     "name": "stdout",
     "output_type": "stream",
     "text": [
      "Number of estimated parameters:\t5\n",
      "Sample size:\t4941\n",
      "Excluded observations:\t0\n",
      "Null log likelihood:\t-6610.329\n",
      "Init log likelihood:\t-4007.051\n",
      "Final log likelihood:\t-4007.051\n",
      "Likelihood ratio test for the null model:\t5206.557\n",
      "Rho-square for the null model:\t0.394\n",
      "Rho-square-bar for the null model:\t0.393\n",
      "Likelihood ratio test for the init. model:\t-0\n",
      "Rho-square for the init. model:\t0\n",
      "Rho-square-bar for the init. model:\t-0.00125\n",
      "Akaike Information Criterion:\t8024.101\n",
      "Bayesian Information Criterion:\t8056.628\n",
      "Final gradient norm:\t1.0674E-01\n",
      "Nbr of threads:\t16\n",
      "\n"
     ]
    }
   ],
   "source": [
    "print(results.print_general_statistics())"
   ]
  },
  {
   "cell_type": "code",
   "execution_count": 207,
   "metadata": {},
   "outputs": [
    {
     "data": {
      "text/html": [
       "<div>\n",
       "<style scoped>\n",
       "    .dataframe tbody tr th:only-of-type {\n",
       "        vertical-align: middle;\n",
       "    }\n",
       "\n",
       "    .dataframe tbody tr th {\n",
       "        vertical-align: top;\n",
       "    }\n",
       "\n",
       "    .dataframe thead th {\n",
       "        text-align: right;\n",
       "    }\n",
       "</style>\n",
       "<table border=\"1\" class=\"dataframe\">\n",
       "  <thead>\n",
       "    <tr style=\"text-align: right;\">\n",
       "      <th></th>\n",
       "      <th>Value</th>\n",
       "      <th>Rob. Std err</th>\n",
       "      <th>Rob. t-test</th>\n",
       "      <th>Rob. p-value</th>\n",
       "    </tr>\n",
       "  </thead>\n",
       "  <tbody>\n",
       "    <tr>\n",
       "      <th>asc_car</th>\n",
       "      <td>2.903966</td>\n",
       "      <td>0.091312</td>\n",
       "      <td>31.802599</td>\n",
       "      <td>0.0</td>\n",
       "    </tr>\n",
       "    <tr>\n",
       "      <th>asc_pt</th>\n",
       "      <td>3.355050</td>\n",
       "      <td>0.094506</td>\n",
       "      <td>35.500775</td>\n",
       "      <td>0.0</td>\n",
       "    </tr>\n",
       "    <tr>\n",
       "      <th>asc_walk</th>\n",
       "      <td>3.944776</td>\n",
       "      <td>0.112852</td>\n",
       "      <td>34.955460</td>\n",
       "      <td>0.0</td>\n",
       "    </tr>\n",
       "    <tr>\n",
       "      <th>beta_cost</th>\n",
       "      <td>-0.206602</td>\n",
       "      <td>0.015113</td>\n",
       "      <td>-13.670502</td>\n",
       "      <td>0.0</td>\n",
       "    </tr>\n",
       "    <tr>\n",
       "      <th>beta_time</th>\n",
       "      <td>-5.973208</td>\n",
       "      <td>0.227260</td>\n",
       "      <td>-26.283589</td>\n",
       "      <td>0.0</td>\n",
       "    </tr>\n",
       "  </tbody>\n",
       "</table>\n",
       "</div>"
      ],
      "text/plain": [
       "              Value  Rob. Std err  Rob. t-test  Rob. p-value\n",
       "asc_car    2.903966      0.091312    31.802599           0.0\n",
       "asc_pt     3.355050      0.094506    35.500775           0.0\n",
       "asc_walk   3.944776      0.112852    34.955460           0.0\n",
       "beta_cost -0.206602      0.015113   -13.670502           0.0\n",
       "beta_time -5.973208      0.227260   -26.283589           0.0"
      ]
     },
     "metadata": {},
     "output_type": "display_data"
    }
   ],
   "source": [
    "pandas_results = results.get_estimated_parameters()\n",
    "display(pandas_results)\n"
   ]
  },
  {
   "cell_type": "markdown",
   "metadata": {},
   "source": [
    "# Model 1: Time alternative specific"
   ]
  },
  {
   "cell_type": "code",
   "execution_count": 208,
   "metadata": {},
   "outputs": [
    {
     "data": {
      "text/plain": [
       "np.float64(-6610.328954013736)"
      ]
     },
     "metadata": {},
     "output_type": "display_data"
    }
   ],
   "source": [
    "# Define ASCs \n",
    "asc_car = Beta(name='asc_car', value=0, lowerbound=None, upperbound=None, status=0)\n",
    "asc_walk = Beta(name='asc_walk', value=0, lowerbound=None, upperbound=None, status=0)\n",
    "asc_pt = Beta(name='asc_pt', value=0, lowerbound=None, upperbound=None, status=0)\n",
    "\n",
    "# Define generic parameters\n",
    "\n",
    "beta_time = Beta(name='beta_time', value=0, lowerbound=None, upperbound=None, status=0)\n",
    "\n",
    "# Define alternative specific parameters\n",
    "\n",
    "beta_cost_car = Beta(name='beta_cost_car', value=0, lowerbound=None, upperbound=None, status=0)\n",
    "beta_cost_pt = Beta(name='beta_cost_pt', value=0, lowerbound=None, upperbound=None, status=0)\n",
    "\n",
    "# Define utility functions\n",
    "\n",
    "v_car = asc_car + beta_cost_car * cost_driving + beta_time * time_driving\n",
    "\n",
    "v_walk = asc_walk + beta_time * time_walking\n",
    "\n",
    "v_pt = asc_pt + beta_cost_pt * cost_transit + beta_time * time_pt\n",
    "\n",
    "v_cycling = beta_time * time_cycling\n",
    "\n",
    "V = {1: v_walk, 2: v_cycling, 3: v_pt, 4: v_car}\n",
    "\n",
    "CAR_AV = (car_ownership != 0) | (driving_license != 0) | (household_has_license != 0)\n",
    "WALK_AV = (car_ownership >= 0)\n",
    "PT_AV = (car_ownership >= 0)\n",
    "CYCLING_AV = (car_ownership >= 0)\n",
    "\n",
    "av = {1: WALK_AV, 2: CYCLING_AV , 3: PT_AV, 4: CAR_AV}\n",
    "\n",
    "logprob_cS = loglogit(V, av, travel_mode)\n",
    "\n",
    "biogeme_cS = bio.BIOGEME(database, logprob_cS)\n",
    "biogeme_cS.modelName = 'logit_london_costSpecific'\n",
    "\n",
    "null_log_likelihood_cS = biogeme_cS.calculate_null_loglikelihood(av)\n",
    "display(null_log_likelihood_cS)\n"
   ]
  },
  {
   "cell_type": "code",
   "execution_count": 209,
   "metadata": {},
   "outputs": [
    {
     "name": "stdout",
     "output_type": "stream",
     "text": [
      "Number of estimated parameters:\t6\n",
      "Sample size:\t4941\n",
      "Excluded observations:\t0\n",
      "Null log likelihood:\t-6610.329\n",
      "Init log likelihood:\t-3943.179\n",
      "Final log likelihood:\t-3943.179\n",
      "Likelihood ratio test for the null model:\t5334.3\n",
      "Rho-square for the null model:\t0.403\n",
      "Rho-square-bar for the null model:\t0.403\n",
      "Likelihood ratio test for the init. model:\t-0\n",
      "Rho-square for the init. model:\t0\n",
      "Rho-square-bar for the init. model:\t-0.00152\n",
      "Akaike Information Criterion:\t7898.358\n",
      "Bayesian Information Criterion:\t7937.39\n",
      "Final gradient norm:\t1.5702E-01\n",
      "Nbr of threads:\t16\n",
      "\n"
     ]
    }
   ],
   "source": [
    "results_cS = biogeme_cS.estimate()\n",
    "print(results_cS.print_general_statistics())"
   ]
  },
  {
   "cell_type": "code",
   "execution_count": 210,
   "metadata": {},
   "outputs": [
    {
     "data": {
      "text/html": [
       "<div>\n",
       "<style scoped>\n",
       "    .dataframe tbody tr th:only-of-type {\n",
       "        vertical-align: middle;\n",
       "    }\n",
       "\n",
       "    .dataframe tbody tr th {\n",
       "        vertical-align: top;\n",
       "    }\n",
       "\n",
       "    .dataframe thead th {\n",
       "        text-align: right;\n",
       "    }\n",
       "</style>\n",
       "<table border=\"1\" class=\"dataframe\">\n",
       "  <thead>\n",
       "    <tr style=\"text-align: right;\">\n",
       "      <th></th>\n",
       "      <th>Value</th>\n",
       "      <th>Rob. Std err</th>\n",
       "      <th>Rob. t-test</th>\n",
       "      <th>Rob. p-value</th>\n",
       "    </tr>\n",
       "  </thead>\n",
       "  <tbody>\n",
       "    <tr>\n",
       "      <th>asc_car</th>\n",
       "      <td>2.943827</td>\n",
       "      <td>0.089854</td>\n",
       "      <td>32.762397</td>\n",
       "      <td>0.000000</td>\n",
       "    </tr>\n",
       "    <tr>\n",
       "      <th>asc_pt</th>\n",
       "      <td>2.938973</td>\n",
       "      <td>0.101224</td>\n",
       "      <td>29.034305</td>\n",
       "      <td>0.000000</td>\n",
       "    </tr>\n",
       "    <tr>\n",
       "      <th>asc_walk</th>\n",
       "      <td>3.856666</td>\n",
       "      <td>0.112949</td>\n",
       "      <td>34.145138</td>\n",
       "      <td>0.000000</td>\n",
       "    </tr>\n",
       "    <tr>\n",
       "      <th>beta_cost_car</th>\n",
       "      <td>-0.264995</td>\n",
       "      <td>0.026482</td>\n",
       "      <td>-10.006711</td>\n",
       "      <td>0.000000</td>\n",
       "    </tr>\n",
       "    <tr>\n",
       "      <th>beta_cost_pt</th>\n",
       "      <td>0.050401</td>\n",
       "      <td>0.030429</td>\n",
       "      <td>1.656319</td>\n",
       "      <td>0.097657</td>\n",
       "    </tr>\n",
       "    <tr>\n",
       "      <th>beta_time</th>\n",
       "      <td>-5.934668</td>\n",
       "      <td>0.231000</td>\n",
       "      <td>-25.691239</td>\n",
       "      <td>0.000000</td>\n",
       "    </tr>\n",
       "  </tbody>\n",
       "</table>\n",
       "</div>"
      ],
      "text/plain": [
       "                  Value  Rob. Std err  Rob. t-test  Rob. p-value\n",
       "asc_car        2.943827      0.089854    32.762397      0.000000\n",
       "asc_pt         2.938973      0.101224    29.034305      0.000000\n",
       "asc_walk       3.856666      0.112949    34.145138      0.000000\n",
       "beta_cost_car -0.264995      0.026482   -10.006711      0.000000\n",
       "beta_cost_pt   0.050401      0.030429     1.656319      0.097657\n",
       "beta_time     -5.934668      0.231000   -25.691239      0.000000"
      ]
     },
     "metadata": {},
     "output_type": "display_data"
    }
   ],
   "source": [
    "pandas_results_cS = results_cS.get_estimated_parameters()\n",
    "display(pandas_results_cS)\n"
   ]
  }
 ],
 "metadata": {
  "kernelspec": {
   "display_name": ".venv",
   "language": "python",
   "name": "python3"
  },
  "language_info": {
   "codemirror_mode": {
    "name": "ipython",
    "version": 3
   },
   "file_extension": ".py",
   "mimetype": "text/x-python",
   "name": "python",
   "nbconvert_exporter": "python",
   "pygments_lexer": "ipython3",
   "version": "3.10.5"
  }
 },
 "nbformat": 4,
 "nbformat_minor": 2
}
