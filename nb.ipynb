{
 "cells": [
  {
   "cell_type": "markdown",
   "metadata": {},
   "source": [
    "## Preprocessing"
   ]
  },
  {
   "cell_type": "markdown",
   "metadata": {},
   "source": [
    "### Imports"
   ]
  },
  {
   "cell_type": "code",
   "execution_count": 181,
   "metadata": {},
   "outputs": [],
   "source": [
    "import pandas as pd\n",
    "import biogeme.database as db\n",
    "import biogeme.biogeme as bio\n",
    "from IPython.core.display_functions import display\n",
    "from biogeme.expressions import Beta, Variable\n",
    "from biogeme.models import loglogit, boxcox\n",
    "from biogeme.segmentation import DiscreteSegmentationTuple, segmented_beta"
   ]
  },
  {
   "cell_type": "markdown",
   "metadata": {},
   "source": [
    "### Load Data and Filter\n",
    "\n",
    "Remove all those who shouldn't have access to cars but still chose it"
   ]
  },
  {
   "cell_type": "code",
   "execution_count": 182,
   "metadata": {},
   "outputs": [],
   "source": [
    "data = pd.read_csv(\"lpmc01.dat\", sep = '\\t')\n",
    "\n",
    "# Step 1: Identify whether each household has a driving license\n",
    "data['household_has_license'] = data.groupby('household_id')['driving_license'].transform(lambda x: x.max())\n",
    "\n",
    "# Step 2: Define a filter for the availability conditions not being met\n",
    "car_availability_unmet = (data['car_ownership'] == 0) & (data['driving_license'] == 0) & (data['household_has_license'] == 0)\n",
    "\n",
    "# Step 3: Identify rows where travel_mode is 4 (car) but the availability conditions are not met\n",
    "car_without_availability = data[(data['travel_mode'] == 4) & car_availability_unmet]\n",
    "\n",
    "# Step 4: Remove those rows from the original DataFrame\n",
    "data_filtered = data[~data.index.isin(car_without_availability.index)]\n",
    "\n",
    "database = db.Database('london', data_filtered)"
   ]
  },
  {
   "cell_type": "markdown",
   "metadata": {},
   "source": [
    "### Explore Data \n",
    "\n",
    "Check statistics and graphs of Data"
   ]
  },
  {
   "cell_type": "code",
   "execution_count": 183,
   "metadata": {},
   "outputs": [
    {
     "data": {
      "text/html": [
       "<div>\n",
       "<style scoped>\n",
       "    .dataframe tbody tr th:only-of-type {\n",
       "        vertical-align: middle;\n",
       "    }\n",
       "\n",
       "    .dataframe tbody tr th {\n",
       "        vertical-align: top;\n",
       "    }\n",
       "\n",
       "    .dataframe thead th {\n",
       "        text-align: right;\n",
       "    }\n",
       "</style>\n",
       "<table border=\"1\" class=\"dataframe\">\n",
       "  <thead>\n",
       "    <tr style=\"text-align: right;\">\n",
       "      <th></th>\n",
       "      <th>trip_id</th>\n",
       "      <th>household_id</th>\n",
       "      <th>person_n</th>\n",
       "      <th>trip_n</th>\n",
       "      <th>travel_mode</th>\n",
       "      <th>purpose</th>\n",
       "      <th>fueltype</th>\n",
       "      <th>faretype</th>\n",
       "      <th>bus_scale</th>\n",
       "      <th>survey_year</th>\n",
       "      <th>...</th>\n",
       "      <th>dur_pt_rail</th>\n",
       "      <th>dur_pt_bus</th>\n",
       "      <th>dur_pt_int</th>\n",
       "      <th>pt_interchanges</th>\n",
       "      <th>dur_driving</th>\n",
       "      <th>cost_transit</th>\n",
       "      <th>cost_driving_fuel</th>\n",
       "      <th>cost_driving_ccharge</th>\n",
       "      <th>driving_traffic_percent</th>\n",
       "      <th>household_has_license</th>\n",
       "    </tr>\n",
       "  </thead>\n",
       "  <tbody>\n",
       "    <tr>\n",
       "      <th>count</th>\n",
       "      <td>4941.000000</td>\n",
       "      <td>4941.000000</td>\n",
       "      <td>4941.000000</td>\n",
       "      <td>4941.000000</td>\n",
       "      <td>4941.000000</td>\n",
       "      <td>4941.000000</td>\n",
       "      <td>4941.000000</td>\n",
       "      <td>4941.000000</td>\n",
       "      <td>4941.000000</td>\n",
       "      <td>4941.000000</td>\n",
       "      <td>...</td>\n",
       "      <td>4941.000000</td>\n",
       "      <td>4941.000000</td>\n",
       "      <td>4941.000000</td>\n",
       "      <td>4941.000000</td>\n",
       "      <td>4941.000000</td>\n",
       "      <td>4941.000000</td>\n",
       "      <td>4941.000000</td>\n",
       "      <td>4941.000000</td>\n",
       "      <td>4941.000000</td>\n",
       "      <td>4941.000000</td>\n",
       "    </tr>\n",
       "    <tr>\n",
       "      <th>mean</th>\n",
       "      <td>40237.209472</td>\n",
       "      <td>8643.030763</td>\n",
       "      <td>0.773932</td>\n",
       "      <td>1.538353</td>\n",
       "      <td>3.047359</td>\n",
       "      <td>2.888687</td>\n",
       "      <td>2.780814</td>\n",
       "      <td>2.205829</td>\n",
       "      <td>0.662619</td>\n",
       "      <td>1.974094</td>\n",
       "      <td>...</td>\n",
       "      <td>0.091402</td>\n",
       "      <td>0.172350</td>\n",
       "      <td>0.044814</td>\n",
       "      <td>0.371180</td>\n",
       "      <td>0.284220</td>\n",
       "      <td>1.599806</td>\n",
       "      <td>0.837735</td>\n",
       "      <td>1.145416</td>\n",
       "      <td>0.336556</td>\n",
       "      <td>0.689334</td>\n",
       "    </tr>\n",
       "    <tr>\n",
       "      <th>std</th>\n",
       "      <td>23379.474440</td>\n",
       "      <td>5064.169881</td>\n",
       "      <td>1.027603</td>\n",
       "      <td>1.768024</td>\n",
       "      <td>1.081396</td>\n",
       "      <td>1.188233</td>\n",
       "      <td>2.218510</td>\n",
       "      <td>1.720187</td>\n",
       "      <td>0.466398</td>\n",
       "      <td>0.816912</td>\n",
       "      <td>...</td>\n",
       "      <td>0.175669</td>\n",
       "      <td>0.190150</td>\n",
       "      <td>0.078959</td>\n",
       "      <td>0.623633</td>\n",
       "      <td>0.253322</td>\n",
       "      <td>1.525741</td>\n",
       "      <td>0.821638</td>\n",
       "      <td>3.273692</td>\n",
       "      <td>0.200867</td>\n",
       "      <td>0.462813</td>\n",
       "    </tr>\n",
       "    <tr>\n",
       "      <th>min</th>\n",
       "      <td>12.000000</td>\n",
       "      <td>1.000000</td>\n",
       "      <td>0.000000</td>\n",
       "      <td>0.000000</td>\n",
       "      <td>1.000000</td>\n",
       "      <td>1.000000</td>\n",
       "      <td>1.000000</td>\n",
       "      <td>1.000000</td>\n",
       "      <td>0.000000</td>\n",
       "      <td>1.000000</td>\n",
       "      <td>...</td>\n",
       "      <td>0.000000</td>\n",
       "      <td>0.000000</td>\n",
       "      <td>0.000000</td>\n",
       "      <td>0.000000</td>\n",
       "      <td>0.009722</td>\n",
       "      <td>0.000000</td>\n",
       "      <td>0.030000</td>\n",
       "      <td>0.000000</td>\n",
       "      <td>0.000000</td>\n",
       "      <td>0.000000</td>\n",
       "    </tr>\n",
       "    <tr>\n",
       "      <th>25%</th>\n",
       "      <td>19903.000000</td>\n",
       "      <td>4214.000000</td>\n",
       "      <td>0.000000</td>\n",
       "      <td>0.000000</td>\n",
       "      <td>3.000000</td>\n",
       "      <td>2.000000</td>\n",
       "      <td>1.000000</td>\n",
       "      <td>1.000000</td>\n",
       "      <td>0.000000</td>\n",
       "      <td>1.000000</td>\n",
       "      <td>...</td>\n",
       "      <td>0.000000</td>\n",
       "      <td>0.035833</td>\n",
       "      <td>0.000000</td>\n",
       "      <td>0.000000</td>\n",
       "      <td>0.107500</td>\n",
       "      <td>0.000000</td>\n",
       "      <td>0.280000</td>\n",
       "      <td>0.000000</td>\n",
       "      <td>0.172973</td>\n",
       "      <td>0.000000</td>\n",
       "    </tr>\n",
       "    <tr>\n",
       "      <th>50%</th>\n",
       "      <td>40280.000000</td>\n",
       "      <td>8615.000000</td>\n",
       "      <td>0.000000</td>\n",
       "      <td>1.000000</td>\n",
       "      <td>3.000000</td>\n",
       "      <td>3.000000</td>\n",
       "      <td>2.000000</td>\n",
       "      <td>1.000000</td>\n",
       "      <td>1.000000</td>\n",
       "      <td>2.000000</td>\n",
       "      <td>...</td>\n",
       "      <td>0.000000</td>\n",
       "      <td>0.111111</td>\n",
       "      <td>0.000000</td>\n",
       "      <td>0.000000</td>\n",
       "      <td>0.189167</td>\n",
       "      <td>1.500000</td>\n",
       "      <td>0.540000</td>\n",
       "      <td>0.000000</td>\n",
       "      <td>0.304348</td>\n",
       "      <td>1.000000</td>\n",
       "    </tr>\n",
       "    <tr>\n",
       "      <th>75%</th>\n",
       "      <td>60195.000000</td>\n",
       "      <td>12907.000000</td>\n",
       "      <td>1.000000</td>\n",
       "      <td>2.000000</td>\n",
       "      <td>4.000000</td>\n",
       "      <td>3.000000</td>\n",
       "      <td>6.000000</td>\n",
       "      <td>4.000000</td>\n",
       "      <td>1.000000</td>\n",
       "      <td>3.000000</td>\n",
       "      <td>...</td>\n",
       "      <td>0.100000</td>\n",
       "      <td>0.250000</td>\n",
       "      <td>0.091667</td>\n",
       "      <td>1.000000</td>\n",
       "      <td>0.378056</td>\n",
       "      <td>2.400000</td>\n",
       "      <td>1.120000</td>\n",
       "      <td>0.000000</td>\n",
       "      <td>0.488011</td>\n",
       "      <td>1.000000</td>\n",
       "    </tr>\n",
       "    <tr>\n",
       "      <th>max</th>\n",
       "      <td>81084.000000</td>\n",
       "      <td>17615.000000</td>\n",
       "      <td>7.000000</td>\n",
       "      <td>14.000000</td>\n",
       "      <td>4.000000</td>\n",
       "      <td>5.000000</td>\n",
       "      <td>6.000000</td>\n",
       "      <td>5.000000</td>\n",
       "      <td>1.000000</td>\n",
       "      <td>3.000000</td>\n",
       "      <td>...</td>\n",
       "      <td>1.183333</td>\n",
       "      <td>1.871944</td>\n",
       "      <td>0.750000</td>\n",
       "      <td>4.000000</td>\n",
       "      <td>1.730556</td>\n",
       "      <td>10.600000</td>\n",
       "      <td>8.630000</td>\n",
       "      <td>10.500000</td>\n",
       "      <td>0.957627</td>\n",
       "      <td>1.000000</td>\n",
       "    </tr>\n",
       "  </tbody>\n",
       "</table>\n",
       "<p>8 rows × 33 columns</p>\n",
       "</div>"
      ],
      "text/plain": [
       "            trip_id  household_id     person_n       trip_n  travel_mode  \\\n",
       "count   4941.000000   4941.000000  4941.000000  4941.000000  4941.000000   \n",
       "mean   40237.209472   8643.030763     0.773932     1.538353     3.047359   \n",
       "std    23379.474440   5064.169881     1.027603     1.768024     1.081396   \n",
       "min       12.000000      1.000000     0.000000     0.000000     1.000000   \n",
       "25%    19903.000000   4214.000000     0.000000     0.000000     3.000000   \n",
       "50%    40280.000000   8615.000000     0.000000     1.000000     3.000000   \n",
       "75%    60195.000000  12907.000000     1.000000     2.000000     4.000000   \n",
       "max    81084.000000  17615.000000     7.000000    14.000000     4.000000   \n",
       "\n",
       "           purpose     fueltype     faretype    bus_scale  survey_year  ...  \\\n",
       "count  4941.000000  4941.000000  4941.000000  4941.000000  4941.000000  ...   \n",
       "mean      2.888687     2.780814     2.205829     0.662619     1.974094  ...   \n",
       "std       1.188233     2.218510     1.720187     0.466398     0.816912  ...   \n",
       "min       1.000000     1.000000     1.000000     0.000000     1.000000  ...   \n",
       "25%       2.000000     1.000000     1.000000     0.000000     1.000000  ...   \n",
       "50%       3.000000     2.000000     1.000000     1.000000     2.000000  ...   \n",
       "75%       3.000000     6.000000     4.000000     1.000000     3.000000  ...   \n",
       "max       5.000000     6.000000     5.000000     1.000000     3.000000  ...   \n",
       "\n",
       "       dur_pt_rail   dur_pt_bus   dur_pt_int  pt_interchanges  dur_driving  \\\n",
       "count  4941.000000  4941.000000  4941.000000      4941.000000  4941.000000   \n",
       "mean      0.091402     0.172350     0.044814         0.371180     0.284220   \n",
       "std       0.175669     0.190150     0.078959         0.623633     0.253322   \n",
       "min       0.000000     0.000000     0.000000         0.000000     0.009722   \n",
       "25%       0.000000     0.035833     0.000000         0.000000     0.107500   \n",
       "50%       0.000000     0.111111     0.000000         0.000000     0.189167   \n",
       "75%       0.100000     0.250000     0.091667         1.000000     0.378056   \n",
       "max       1.183333     1.871944     0.750000         4.000000     1.730556   \n",
       "\n",
       "       cost_transit  cost_driving_fuel  cost_driving_ccharge  \\\n",
       "count   4941.000000        4941.000000           4941.000000   \n",
       "mean       1.599806           0.837735              1.145416   \n",
       "std        1.525741           0.821638              3.273692   \n",
       "min        0.000000           0.030000              0.000000   \n",
       "25%        0.000000           0.280000              0.000000   \n",
       "50%        1.500000           0.540000              0.000000   \n",
       "75%        2.400000           1.120000              0.000000   \n",
       "max       10.600000           8.630000             10.500000   \n",
       "\n",
       "       driving_traffic_percent  household_has_license  \n",
       "count              4941.000000            4941.000000  \n",
       "mean                  0.336556               0.689334  \n",
       "std                   0.200867               0.462813  \n",
       "min                   0.000000               0.000000  \n",
       "25%                   0.172973               0.000000  \n",
       "50%                   0.304348               1.000000  \n",
       "75%                   0.488011               1.000000  \n",
       "max                   0.957627               1.000000  \n",
       "\n",
       "[8 rows x 33 columns]"
      ]
     },
     "execution_count": 183,
     "metadata": {},
     "output_type": "execute_result"
    }
   ],
   "source": [
    "data_filtered.describe()"
   ]
  },
  {
   "cell_type": "code",
   "execution_count": 184,
   "metadata": {},
   "outputs": [
    {
     "data": {
      "text/html": [
       "<div>\n",
       "<style scoped>\n",
       "    .dataframe tbody tr th:only-of-type {\n",
       "        vertical-align: middle;\n",
       "    }\n",
       "\n",
       "    .dataframe tbody tr th {\n",
       "        vertical-align: top;\n",
       "    }\n",
       "\n",
       "    .dataframe thead th {\n",
       "        text-align: right;\n",
       "    }\n",
       "</style>\n",
       "<table border=\"1\" class=\"dataframe\">\n",
       "  <thead>\n",
       "    <tr style=\"text-align: right;\">\n",
       "      <th></th>\n",
       "      <th>cost_transit</th>\n",
       "      <th>faretype</th>\n",
       "      <th>bus_scale</th>\n",
       "    </tr>\n",
       "  </thead>\n",
       "  <tbody>\n",
       "    <tr>\n",
       "      <th>count</th>\n",
       "      <td>1766.000000</td>\n",
       "      <td>1766.000000</td>\n",
       "      <td>1766.000000</td>\n",
       "    </tr>\n",
       "    <tr>\n",
       "      <th>mean</th>\n",
       "      <td>1.947571</td>\n",
       "      <td>2.270102</td>\n",
       "      <td>0.636183</td>\n",
       "    </tr>\n",
       "    <tr>\n",
       "      <th>std</th>\n",
       "      <td>1.853382</td>\n",
       "      <td>1.710186</td>\n",
       "      <td>0.471270</td>\n",
       "    </tr>\n",
       "    <tr>\n",
       "      <th>min</th>\n",
       "      <td>0.000000</td>\n",
       "      <td>1.000000</td>\n",
       "      <td>0.000000</td>\n",
       "    </tr>\n",
       "    <tr>\n",
       "      <th>25%</th>\n",
       "      <td>0.000000</td>\n",
       "      <td>1.000000</td>\n",
       "      <td>0.000000</td>\n",
       "    </tr>\n",
       "    <tr>\n",
       "      <th>50%</th>\n",
       "      <td>1.500000</td>\n",
       "      <td>1.000000</td>\n",
       "      <td>1.000000</td>\n",
       "    </tr>\n",
       "    <tr>\n",
       "      <th>75%</th>\n",
       "      <td>3.000000</td>\n",
       "      <td>4.000000</td>\n",
       "      <td>1.000000</td>\n",
       "    </tr>\n",
       "    <tr>\n",
       "      <th>max</th>\n",
       "      <td>10.100000</td>\n",
       "      <td>5.000000</td>\n",
       "      <td>1.000000</td>\n",
       "    </tr>\n",
       "  </tbody>\n",
       "</table>\n",
       "</div>"
      ],
      "text/plain": [
       "       cost_transit     faretype    bus_scale\n",
       "count   1766.000000  1766.000000  1766.000000\n",
       "mean       1.947571     2.270102     0.636183\n",
       "std        1.853382     1.710186     0.471270\n",
       "min        0.000000     1.000000     0.000000\n",
       "25%        0.000000     1.000000     0.000000\n",
       "50%        1.500000     1.000000     1.000000\n",
       "75%        3.000000     4.000000     1.000000\n",
       "max       10.100000     5.000000     1.000000"
      ]
     },
     "execution_count": 184,
     "metadata": {},
     "output_type": "execute_result"
    }
   ],
   "source": [
    "pt_data = data_filtered[data_filtered['travel_mode'] == 3]\n",
    "\n",
    "pt_data[['cost_transit', 'faretype', 'bus_scale']].describe()"
   ]
  },
  {
   "cell_type": "code",
   "execution_count": 185,
   "metadata": {},
   "outputs": [
    {
     "data": {
      "image/png": "[encoded data removed]",
      "text/plain": [
       "<Figure size 640x480 with 1 Axes>"
      ]
     },
     "metadata": {},
     "output_type": "display_data"
    }
   ],
   "source": [
    "hist = pt_data['cost_transit'].hist(bins=5)"
   ]
  },
  {
   "cell_type": "code",
   "execution_count": 186,
   "metadata": {},
   "outputs": [
    {
     "data": {
      "image/png": "[encoded data removed]",
      "text/plain": [
       "<Figure size 640x480 with 1 Axes>"
      ]
     },
     "metadata": {},
     "output_type": "display_data"
    }
   ],
   "source": [
    "hist = pt_data['faretype'].hist(bins=5)\n"
   ]
  },
  {
   "cell_type": "code",
   "execution_count": 187,
   "metadata": {},
   "outputs": [
    {
     "data": {
      "image/png": "[encoded data removed]",
      "text/plain": [
       "<Figure size 640x480 with 1 Axes>"
      ]
     },
     "metadata": {},
     "output_type": "display_data"
    }
   ],
   "source": [
    "hist = pt_data['bus_scale'].hist(bins=3)"
   ]
  },
  {
   "cell_type": "code",
   "execution_count": 188,
   "metadata": {},
   "outputs": [
    {
     "data": {
      "image/png": "[encoded data removed]",
      "text/plain": [
       "<Figure size 640x480 with 1 Axes>"
      ]
     },
     "metadata": {},
     "output_type": "display_data"
    }
   ],
   "source": [
    "hist = pt_data['purpose'].hist(bins=5)"
   ]
  },
  {
   "cell_type": "code",
   "execution_count": 189,
   "metadata": {},
   "outputs": [
    {
     "data": {
      "image/png": "[encoded data removed]",
      "text/plain": [
       "<Figure size 1200x600 with 2 Axes>"
      ]
     },
     "metadata": {},
     "output_type": "display_data"
    }
   ],
   "source": [
    "distance = data_filtered['distance']\n",
    "cost_transit = data_filtered['cost_transit']\n",
    "choice = data_filtered['travel_mode']\n",
    "choices = ['walk', 'cycling', 'pt', 'car']\n",
    "\n",
    "import matplotlib.pyplot as plt\n",
    "import numpy as np\n",
    "\n",
    "# Define colors for each choice (1, 2, 3, 4)\n",
    "color_map = {1: 'blue', 2: 'green', 3: 'orange', 4: 'red'}\n",
    "labels = {1: 'walk', 2: 'cycling', 3: 'pt', 4: 'car'}\n",
    "\n",
    "# Separate distances by travel mode\n",
    "distance_by_mode = {mode: distance[choice == mode] for mode in color_map}\n",
    "\n",
    "fig, axes = plt.subplots(1, 2, figsize=(12, 6))\n",
    "\n",
    "# Scatter plot with color based on choice\n",
    "colors = [color_map[c] for c in choice]\n",
    "axes[0].scatter(distance, cost_transit, c=colors)\n",
    "axes[0].set_title(\"Cost Transit vs Distance\")\n",
    "axes[0].set_xlabel(\"Distance\")\n",
    "axes[0].set_ylabel(\"Cost Transit\")\n",
    "\n",
    "# Create custom legend\n",
    "legend_elements = [plt.Line2D([0], [0], marker='o', color='w', markerfacecolor=color_map[i], markersize=10, label=labels[i]) for i in color_map]\n",
    "axes[0].legend(handles=legend_elements, title=\"Travel Mode\")\n",
    "\n",
    "# Stacked histogram for travel modes\n",
    "bins = np.linspace(min(distance), max(distance), 20)\n",
    "hist_data = [distance_by_mode[mode] for mode in color_map]\n",
    "axes[1].hist(hist_data, bins=bins, stacked=True, color=[color_map[i] for i in color_map], label=[labels[i] for i in color_map])\n",
    "\n",
    "axes[1].set_xlabel(\"Distance\")\n",
    "axes[1].set_ylabel(\"Frequency\")\n",
    "axes[1].set_title(\"Frequency of Distances by Travel Mode\")\n",
    "axes[1].legend(title=\"Travel Mode\")\n",
    "\n",
    "plt.tight_layout()\n",
    "plt.show()\n"
   ]
  },
  {
   "cell_type": "code",
   "execution_count": 190,
   "metadata": {},
   "outputs": [
    {
     "data": {
      "image/png": "[encoded data removed]",
      "text/plain": [
       "<Figure size 800x800 with 4 Axes>"
      ]
     },
     "metadata": {},
     "output_type": "display_data"
    }
   ],
   "source": [
    "walk_distance = distance[choice == 1]\n",
    "cycling_distance = distance[choice == 2]\n",
    "pt_distance = distance[choice == 3]\n",
    "car_distance = distance[choice == 4]\n",
    "\n",
    "fig, axes = plt.subplots(2, 2, figsize=(8, 8))\n",
    "axes = axes.flatten()\n",
    "\n",
    "# Plot histograms for each travel mode with titles\n",
    "axes[0].hist(walk_distance)\n",
    "axes[0].set_title(\"Walking Distance\")\n",
    "axes[0].set_xlabel(\"Distance\")\n",
    "axes[0].set_ylabel(\"Frequency\")\n",
    "\n",
    "axes[1].hist(cycling_distance)\n",
    "axes[1].set_title(\"Cycling Distance\")\n",
    "axes[1].set_xlabel(\"Distance\")\n",
    "axes[1].set_ylabel(\"Frequency\")\n",
    "\n",
    "axes[2].hist(pt_distance)\n",
    "axes[2].set_title(\"Public Transit Distance\")\n",
    "axes[2].set_xlabel(\"Distance\")\n",
    "axes[2].set_ylabel(\"Frequency\")\n",
    "\n",
    "axes[3].hist(car_distance)\n",
    "axes[3].set_title(\"Car Distance\")\n",
    "axes[3].set_xlabel(\"Distance\")\n",
    "axes[3].set_ylabel(\"Frequency\")\n",
    "\n",
    "plt.tight_layout()\n",
    "plt.show()\n",
    "\n",
    "\n"
   ]
  },
  {
   "cell_type": "code",
   "execution_count": 191,
   "metadata": {},
   "outputs": [
    {
     "data": {
      "image/png": "[encoded data removed]",
      "text/plain": [
       "<Figure size 1000x600 with 1 Axes>"
      ]
     },
     "metadata": {},
     "output_type": "display_data"
    }
   ],
   "source": [
    "# Count occurrences of each choice by gender\n",
    "counts = data_filtered.groupby(['travel_mode', 'female']).size().unstack(fill_value=0)\n",
    "\n",
    "# Plot the stacked bar chart\n",
    "ax = counts.plot(kind='bar', stacked=True, color=['blue', 'red'], figsize=(10, 6))\n",
    "plt.xlabel('Mode Choice')\n",
    "plt.ylabel('Count')\n",
    "plt.title('Stacked Histogram of Mode Choice by Gender')\n",
    "plt.legend(['Male', 'Female'])\n",
    "\n",
    "mode_choices = ['walk', 'cycling', 'pt', 'car']\n",
    "ax.set_xticks(range(len(mode_choices)))\n",
    "ax.set_xticklabels(mode_choices, rotation=0)  # Set custom labels\n",
    "\n",
    "plt.show()"
   ]
  },
  {
   "cell_type": "markdown",
   "metadata": {},
   "source": [
    "## Variable Definition"
   ]
  },
  {
   "cell_type": "code",
   "execution_count": 192,
   "metadata": {},
   "outputs": [],
   "source": [
    "trip_id = Variable('trip_id')\n",
    "household_id = Variable('household_id')\n",
    "person_n = Variable('person_n')\n",
    "trip_n = Variable('trip_n')\n",
    "travel_mode = Variable('travel_mode')\n",
    "purpose = Variable('purpose')\n",
    "fueltype = Variable('fueltype')\n",
    "faretype = Variable('faretype')\n",
    "bus_scale = Variable('bus_scale')\n",
    "survey_year = Variable('survey_year')\n",
    "travel_year = Variable('travel_year')\n",
    "travel_month = Variable('travel_month')\n",
    "travel_date = Variable('travel_date')\n",
    "day_of_week = Variable('day_of_week')\n",
    "start_time = Variable('start_time')\n",
    "age = Variable('age')\n",
    "female = Variable('female')\n",
    "driving_license = Variable('driving_license')\n",
    "car_ownership = Variable('car_ownership')\n",
    "distance = Variable('distance')\n",
    "dur_walking = Variable('dur_walking')\n",
    "dur_cycling = Variable('dur_cycling')\n",
    "dur_pt_access = Variable('dur_pt_access') # Predicted total access and egress time for public transport route in hours\n",
    "dur_pt_rail = Variable('dur_pt_rail')\n",
    "dur_pt_bus = Variable('dur_pt_bus')\n",
    "dur_pt_int = Variable('dur_pt_int') # Time taken (hrs) at each interchange point\n",
    "pt_interchanges = Variable('pt_interchanges')   # Number of interchange points in public transport route\n",
    "dur_driving = Variable('dur_driving')\n",
    "cost_transit = Variable('cost_transit')\n",
    "cost_driving_fuel = Variable('cost_driving_fuel')   # Estimated fuel cost of driving route in GBP\n",
    "cost_driving_ccharge = Variable('cost_driving_ccharge')  # Estimated congestion charge cost of driving route in GBP\n",
    "driving_traffic_percent = Variable('driving_traffic_percent')\n",
    "\n",
    "household_has_license = Variable('household_has_license')\n"
   ]
  },
  {
   "cell_type": "code",
   "execution_count": 193,
   "metadata": {},
   "outputs": [],
   "source": [
    "# Define driving cost\n",
    "cost_driving = cost_driving_ccharge + cost_driving_fuel\n",
    "\n",
    "# Define time taken by each mode of transport\n",
    "time_pt = dur_pt_access + dur_pt_rail + dur_pt_bus + dur_pt_int \n",
    "\n",
    "time_cycling = dur_cycling\n",
    "time_walking = dur_walking\n",
    "time_driving = dur_driving"
   ]
  },
  {
   "cell_type": "markdown",
   "metadata": {},
   "source": [
    "## Model 0\n",
    "\n",
    "Only generic ASCs and parameters"
   ]
  },
  {
   "cell_type": "code",
   "execution_count": 194,
   "metadata": {},
   "outputs": [],
   "source": [
    "# Define ASCs \n",
    "asc_car = Beta(name='asc_car', value=0, lowerbound=None, upperbound=None, status=0)\n",
    "asc_walk = Beta(name='asc_walk', value=0, lowerbound=None, upperbound=None, status=0)\n",
    "asc_pt = Beta(name='asc_pt', value=0, lowerbound=None, upperbound=None, status=0)\n",
    "\n",
    "# Define generic parameters\n",
    "\n",
    "beta_cost = Beta(name='beta_cost', value=0, lowerbound=None, upperbound=None, status=0)\n",
    "beta_time = Beta(name='beta_time', value=0, lowerbound=None, upperbound=None, status=0)\n"
   ]
  },
  {
   "cell_type": "code",
   "execution_count": 195,
   "metadata": {},
   "outputs": [],
   "source": [
    "# Define utility functions\n",
    "\n",
    "v_car = asc_car + beta_cost * cost_driving + beta_time * time_driving\n",
    "\n",
    "v_walk = asc_walk + beta_time * time_walking\n",
    "\n",
    "v_pt = asc_pt + beta_cost * cost_transit + beta_time * time_pt\n",
    "\n",
    "v_cycling = beta_time * time_cycling"
   ]
  },
  {
   "cell_type": "code",
   "execution_count": 196,
   "metadata": {},
   "outputs": [],
   "source": [
    "# Availability\n",
    "\n",
    "V = {1: v_walk, 2: v_cycling, 3: v_pt, 4: v_car}\n",
    "\n",
    "CAR_AV = (car_ownership != 0) | (driving_license != 0) | (household_has_license != 0)\n",
    "WALK_AV = (car_ownership >= 0)\n",
    "PT_AV = (car_ownership >= 0)\n",
    "CYCLING_AV = (car_ownership >= 0)\n",
    "\n",
    "av = {1: WALK_AV, 2: CYCLING_AV , 3: PT_AV, 4: CAR_AV}"
   ]
  },
  {
   "cell_type": "code",
   "execution_count": 197,
   "metadata": {},
   "outputs": [
    {
     "name": "stdout",
     "output_type": "stream",
     "text": [
      "Number of estimated parameters:\t5\n",
      "Sample size:\t4941\n",
      "Excluded observations:\t0\n",
      "Null log likelihood:\t-6610.329\n",
      "Init log likelihood:\t-4007.051\n",
      "Final log likelihood:\t-4007.051\n",
      "Likelihood ratio test for the null model:\t5206.557\n",
      "Rho-square for the null model:\t0.394\n",
      "Rho-square-bar for the null model:\t0.393\n",
      "Likelihood ratio test for the init. model:\t-0\n",
      "Rho-square for the init. model:\t0\n",
      "Rho-square-bar for the init. model:\t-0.00125\n",
      "Akaike Information Criterion:\t8024.101\n",
      "Bayesian Information Criterion:\t8056.628\n",
      "Final gradient norm:\t2.4196E-03\n",
      "Nbr of threads:\t16\n",
      "\n"
     ]
    }
   ],
   "source": [
    "logprob_m0 = loglogit(V, av, travel_mode)\n",
    "\n",
    "model_0 = bio.BIOGEME(database, logprob_m0)\n",
    "model_0.modelName = 'model_0'\n",
    "\n",
    "null_log_likelihood_m0 = model_0.calculate_null_loglikelihood(av)\n",
    "\n",
    "results_m0 = model_0.estimate()\n",
    "\n",
    "print(results_m0.print_general_statistics())"
   ]
  },
  {
   "cell_type": "code",
   "execution_count": 198,
   "metadata": {},
   "outputs": [
    {
     "data": {
      "text/html": [
       "<div>\n",
       "<style scoped>\n",
       "    .dataframe tbody tr th:only-of-type {\n",
       "        vertical-align: middle;\n",
       "    }\n",
       "\n",
       "    .dataframe tbody tr th {\n",
       "        vertical-align: top;\n",
       "    }\n",
       "\n",
       "    .dataframe thead th {\n",
       "        text-align: right;\n",
       "    }\n",
       "</style>\n",
       "<table border=\"1\" class=\"dataframe\">\n",
       "  <thead>\n",
       "    <tr style=\"text-align: right;\">\n",
       "      <th></th>\n",
       "      <th>Value</th>\n",
       "      <th>Rob. Std err</th>\n",
       "      <th>Rob. t-test</th>\n",
       "      <th>Rob. p-value</th>\n",
       "    </tr>\n",
       "  </thead>\n",
       "  <tbody>\n",
       "    <tr>\n",
       "      <th>asc_car</th>\n",
       "      <td>2.904088</td>\n",
       "      <td>0.091323</td>\n",
       "      <td>31.800297</td>\n",
       "      <td>0.0</td>\n",
       "    </tr>\n",
       "    <tr>\n",
       "      <th>asc_pt</th>\n",
       "      <td>3.355414</td>\n",
       "      <td>0.094523</td>\n",
       "      <td>35.498546</td>\n",
       "      <td>0.0</td>\n",
       "    </tr>\n",
       "    <tr>\n",
       "      <th>asc_walk</th>\n",
       "      <td>3.945274</td>\n",
       "      <td>0.112873</td>\n",
       "      <td>34.953192</td>\n",
       "      <td>0.0</td>\n",
       "    </tr>\n",
       "    <tr>\n",
       "      <th>beta_cost</th>\n",
       "      <td>-0.206632</td>\n",
       "      <td>0.015116</td>\n",
       "      <td>-13.669511</td>\n",
       "      <td>0.0</td>\n",
       "    </tr>\n",
       "    <tr>\n",
       "      <th>beta_time</th>\n",
       "      <td>-5.974888</td>\n",
       "      <td>0.227355</td>\n",
       "      <td>-26.280001</td>\n",
       "      <td>0.0</td>\n",
       "    </tr>\n",
       "  </tbody>\n",
       "</table>\n",
       "</div>"
      ],
      "text/plain": [
       "              Value  Rob. Std err  Rob. t-test  Rob. p-value\n",
       "asc_car    2.904088      0.091323    31.800297           0.0\n",
       "asc_pt     3.355414      0.094523    35.498546           0.0\n",
       "asc_walk   3.945274      0.112873    34.953192           0.0\n",
       "beta_cost -0.206632      0.015116   -13.669511           0.0\n",
       "beta_time -5.974888      0.227355   -26.280001           0.0"
      ]
     },
     "metadata": {},
     "output_type": "display_data"
    }
   ],
   "source": [
    "pd_results_m0 = results_m0.get_estimated_parameters()\n",
    "display(pd_results_m0)\n"
   ]
  },
  {
   "cell_type": "markdown",
   "metadata": {},
   "source": [
    "## Model 1: Time alternative specific"
   ]
  },
  {
   "cell_type": "code",
   "execution_count": 199,
   "metadata": {},
   "outputs": [
    {
     "name": "stdout",
     "output_type": "stream",
     "text": [
      "Number of estimated parameters:\t6\n",
      "Sample size:\t4941\n",
      "Excluded observations:\t0\n",
      "Null log likelihood:\t-6610.329\n",
      "Init log likelihood:\t-3943.179\n",
      "Final log likelihood:\t-3943.179\n",
      "Likelihood ratio test for the null model:\t5334.3\n",
      "Rho-square for the null model:\t0.403\n",
      "Rho-square-bar for the null model:\t0.403\n",
      "Likelihood ratio test for the init. model:\t-0\n",
      "Rho-square for the init. model:\t0\n",
      "Rho-square-bar for the init. model:\t-0.00152\n",
      "Akaike Information Criterion:\t7898.358\n",
      "Bayesian Information Criterion:\t7937.39\n",
      "Final gradient norm:\t3.0455E-03\n",
      "Nbr of threads:\t16\n",
      "\n"
     ]
    }
   ],
   "source": [
    "# Define ASCs \n",
    "asc_car = Beta(name='asc_car', value=0, lowerbound=None, upperbound=None, status=0)\n",
    "asc_walk = Beta(name='asc_walk', value=0, lowerbound=None, upperbound=None, status=0)\n",
    "asc_pt = Beta(name='asc_pt', value=0, lowerbound=None, upperbound=None, status=0)\n",
    "\n",
    "# Define generic parameters\n",
    "\n",
    "beta_time = Beta(name='beta_time', value=0, lowerbound=None, upperbound=None, status=0)\n",
    "\n",
    "# Define alternative specific parameters\n",
    "\n",
    "beta_cost_car = Beta(name='beta_cost_car', value=0, lowerbound=None, upperbound=None, status=0)\n",
    "beta_cost_pt = Beta(name='beta_cost_pt', value=0, lowerbound=None, upperbound=None, status=0)\n",
    "\n",
    "# Define utility functions\n",
    "\n",
    "v_car = asc_car + beta_cost_car * cost_driving + beta_time * time_driving\n",
    "\n",
    "v_walk = asc_walk + beta_time * time_walking\n",
    "\n",
    "v_pt = asc_pt + beta_cost_pt * cost_transit + beta_time * time_pt\n",
    "\n",
    "v_cycling = beta_time * time_cycling\n",
    "\n",
    "V = {1: v_walk, 2: v_cycling, 3: v_pt, 4: v_car}\n",
    "\n",
    "CAR_AV = (car_ownership != 0) | (driving_license != 0) | (household_has_license != 0)\n",
    "WALK_AV = (car_ownership >= 0)\n",
    "PT_AV = (car_ownership >= 0)\n",
    "CYCLING_AV = (car_ownership >= 0)\n",
    "\n",
    "av = {1: WALK_AV, 2: CYCLING_AV , 3: PT_AV, 4: CAR_AV}\n",
    "\n",
    "logprob_m1 = loglogit(V, av, travel_mode)\n",
    "\n",
    "model_1 = bio.BIOGEME(database, logprob_m1)\n",
    "model_1.modelName = 'model_1'\n",
    "\n",
    "null_log_likelihood_m1 = model_1.calculate_null_loglikelihood(av)\n",
    "\n",
    "results_m1 = model_1.estimate()\n",
    "print(results_m1.print_general_statistics())\n"
   ]
  },
  {
   "cell_type": "code",
   "execution_count": 200,
   "metadata": {},
   "outputs": [
    {
     "data": {
      "text/html": [
       "<div>\n",
       "<style scoped>\n",
       "    .dataframe tbody tr th:only-of-type {\n",
       "        vertical-align: middle;\n",
       "    }\n",
       "\n",
       "    .dataframe tbody tr th {\n",
       "        vertical-align: top;\n",
       "    }\n",
       "\n",
       "    .dataframe thead th {\n",
       "        text-align: right;\n",
       "    }\n",
       "</style>\n",
       "<table border=\"1\" class=\"dataframe\">\n",
       "  <thead>\n",
       "    <tr style=\"text-align: right;\">\n",
       "      <th></th>\n",
       "      <th>Value</th>\n",
       "      <th>Rob. Std err</th>\n",
       "      <th>Rob. t-test</th>\n",
       "      <th>Rob. p-value</th>\n",
       "    </tr>\n",
       "  </thead>\n",
       "  <tbody>\n",
       "    <tr>\n",
       "      <th>asc_car</th>\n",
       "      <td>2.943863</td>\n",
       "      <td>0.089855</td>\n",
       "      <td>32.762269</td>\n",
       "      <td>0.000000</td>\n",
       "    </tr>\n",
       "    <tr>\n",
       "      <th>asc_pt</th>\n",
       "      <td>2.938992</td>\n",
       "      <td>0.101225</td>\n",
       "      <td>29.034215</td>\n",
       "      <td>0.000000</td>\n",
       "    </tr>\n",
       "    <tr>\n",
       "      <th>asc_walk</th>\n",
       "      <td>3.856686</td>\n",
       "      <td>0.112950</td>\n",
       "      <td>34.145113</td>\n",
       "      <td>0.000000</td>\n",
       "    </tr>\n",
       "    <tr>\n",
       "      <th>beta_cost_car</th>\n",
       "      <td>-0.265049</td>\n",
       "      <td>0.026493</td>\n",
       "      <td>-10.004318</td>\n",
       "      <td>0.000000</td>\n",
       "    </tr>\n",
       "    <tr>\n",
       "      <th>beta_cost_pt</th>\n",
       "      <td>0.050389</td>\n",
       "      <td>0.030430</td>\n",
       "      <td>1.655867</td>\n",
       "      <td>0.097749</td>\n",
       "    </tr>\n",
       "    <tr>\n",
       "      <th>beta_time</th>\n",
       "      <td>-5.934685</td>\n",
       "      <td>0.231000</td>\n",
       "      <td>-25.691233</td>\n",
       "      <td>0.000000</td>\n",
       "    </tr>\n",
       "  </tbody>\n",
       "</table>\n",
       "</div>"
      ],
      "text/plain": [
       "                  Value  Rob. Std err  Rob. t-test  Rob. p-value\n",
       "asc_car        2.943863      0.089855    32.762269      0.000000\n",
       "asc_pt         2.938992      0.101225    29.034215      0.000000\n",
       "asc_walk       3.856686      0.112950    34.145113      0.000000\n",
       "beta_cost_car -0.265049      0.026493   -10.004318      0.000000\n",
       "beta_cost_pt   0.050389      0.030430     1.655867      0.097749\n",
       "beta_time     -5.934685      0.231000   -25.691233      0.000000"
      ]
     },
     "metadata": {},
     "output_type": "display_data"
    }
   ],
   "source": [
    "pd_results_m1 = results_m1.get_estimated_parameters()\n",
    "display(pd_results_m1)\n"
   ]
  },
  {
   "cell_type": "markdown",
   "metadata": {},
   "source": [
    "### Comparison between Model 0 and Model 1"
   ]
  },
  {
   "cell_type": "code",
   "execution_count": 201,
   "metadata": {},
   "outputs": [
    {
     "name": "stdout",
     "output_type": "stream",
     "text": [
      "Likelihood Ratio: 127.74355927711531\n",
      "Degrees of Freedom: 1\n",
      "Critical Chi-Square Value (0.05 significance): 3.841458820694124\n",
      "Model 1 is significantly better than Model 0.\n"
     ]
    }
   ],
   "source": [
    "loglikehood_m0 = results_m0.data.logLike\n",
    "num_params_m0 = results_m0.data.nparam\n",
    "\n",
    "loglikehood_m1 = results_m1.data.logLike\n",
    "num_params_m1 = results_m1.data.nparam\n",
    "\n",
    "# Calculate the LR statistic\n",
    "LR = 2 * (loglikehood_m1 - loglikehood_m0)\n",
    "\n",
    "# Degrees of freedom\n",
    "df = num_params_m1 - num_params_m0\n",
    "\n",
    "from scipy.stats import chi2\n",
    "\n",
    "# Critical value at 0.05 significance level\n",
    "critical_value = chi2.ppf(0.95, df)\n",
    "\n",
    "print(\"Likelihood Ratio:\", LR)\n",
    "print(\"Degrees of Freedom:\", df)\n",
    "print(\"Critical Chi-Square Value (0.05 significance):\", critical_value)\n",
    "\n",
    "if LR > critical_value:\n",
    "    print(\"Model 1 is significantly better than Model 0.\")\n",
    "else:\n",
    "    print(\"No significant improvement in Model 1 over Model 0.\")\n",
    "\n"
   ]
  },
  {
   "cell_type": "markdown",
   "metadata": {},
   "source": [
    "We find that Model 1 is better than Model 0 based on the likelihood test"
   ]
  },
  {
   "cell_type": "markdown",
   "metadata": {},
   "source": [
    "## Model 2: Socio-economic interactions (Sex)"
   ]
  },
  {
   "cell_type": "code",
   "execution_count": 202,
   "metadata": {},
   "outputs": [],
   "source": [
    "# Time segmentation\n",
    "sex_segmentation = DiscreteSegmentationTuple(\n",
    "    variable=female, mapping={0: 'other', 1: 'female'}\n",
    ")"
   ]
  },
  {
   "cell_type": "markdown",
   "metadata": {},
   "source": [
    "### Model 2A: Sex interaction with Time"
   ]
  },
  {
   "cell_type": "code",
   "execution_count": 203,
   "metadata": {},
   "outputs": [],
   "source": [
    "# Define ASCs \n",
    "asc_car = Beta(name='asc_car', value=0, lowerbound=None, upperbound=None, status=0)\n",
    "asc_walk = Beta(name='asc_walk', value=0, lowerbound=None, upperbound=None, status=0)\n",
    "asc_pt = Beta(name='asc_pt', value=0, lowerbound=None, upperbound=None, status=0)\n",
    "\n",
    "# Define generic parameters\n",
    "\n",
    "beta_time = Beta(name='beta_time', value=0, lowerbound=None, upperbound=None, status=0)\n",
    "\n",
    "segmented_B_time = segmented_beta(beta_time, [sex_segmentation])\n",
    "\n",
    "# Define alternative specific parameters\n",
    "\n",
    "beta_cost_car = Beta(name='beta_cost_car', value=0, lowerbound=None, upperbound=None, status=0)\n",
    "beta_cost_pt = Beta(name='beta_cost_pt', value=0, lowerbound=None, upperbound=None, status=0)\n",
    "\n",
    "# Define utility functions\n",
    "\n",
    "v_car = asc_car + beta_cost_car * cost_driving + segmented_B_time * time_driving\n",
    "\n",
    "v_walk = asc_walk + segmented_B_time * time_walking\n",
    "\n",
    "v_pt = asc_pt + beta_cost_pt * cost_transit + segmented_B_time * time_pt\n",
    "\n",
    "v_cycling = segmented_B_time * time_cycling\n",
    "\n",
    "V = {1: v_walk, 2: v_cycling, 3: v_pt, 4: v_car}\n",
    "\n",
    "CAR_AV = (car_ownership != 0) | (driving_license != 0) | (household_has_license != 0)\n",
    "WALK_AV = (car_ownership >= 0)\n",
    "PT_AV = (car_ownership >= 0)\n",
    "CYCLING_AV = (car_ownership >= 0)\n",
    "\n",
    "av = {1: WALK_AV, 2: CYCLING_AV , 3: PT_AV, 4: CAR_AV}"
   ]
  },
  {
   "cell_type": "code",
   "execution_count": 204,
   "metadata": {},
   "outputs": [
    {
     "name": "stdout",
     "output_type": "stream",
     "text": [
      "Number of estimated parameters:\t7\n",
      "Sample size:\t4941\n",
      "Excluded observations:\t0\n",
      "Null log likelihood:\t-6610.329\n",
      "Init log likelihood:\t-3943.101\n",
      "Final log likelihood:\t-3943.101\n",
      "Likelihood ratio test for the null model:\t5334.455\n",
      "Rho-square for the null model:\t0.403\n",
      "Rho-square-bar for the null model:\t0.402\n",
      "Likelihood ratio test for the init. model:\t-0\n",
      "Rho-square for the init. model:\t0\n",
      "Rho-square-bar for the init. model:\t-0.00178\n",
      "Akaike Information Criterion:\t7900.203\n",
      "Bayesian Information Criterion:\t7945.74\n",
      "Final gradient norm:\t3.8666E-03\n",
      "Nbr of threads:\t16\n",
      "\n"
     ]
    }
   ],
   "source": [
    "logprob_m2a = loglogit(V, av, travel_mode)\n",
    "\n",
    "model_2a = bio.BIOGEME(database, logprob_m2a)\n",
    "model_2a.modelName = 'model_2a'\n",
    "\n",
    "null_log_likelihood_m2a = model_2a.calculate_null_loglikelihood(av)\n",
    "\n",
    "results_m2a = model_2a.estimate()\n",
    "print(results_m2a.print_general_statistics())\n"
   ]
  },
  {
   "cell_type": "code",
   "execution_count": 205,
   "metadata": {},
   "outputs": [
    {
     "data": {
      "text/html": [
       "<div>\n",
       "<style scoped>\n",
       "    .dataframe tbody tr th:only-of-type {\n",
       "        vertical-align: middle;\n",
       "    }\n",
       "\n",
       "    .dataframe tbody tr th {\n",
       "        vertical-align: top;\n",
       "    }\n",
       "\n",
       "    .dataframe thead th {\n",
       "        text-align: right;\n",
       "    }\n",
       "</style>\n",
       "<table border=\"1\" class=\"dataframe\">\n",
       "  <thead>\n",
       "    <tr style=\"text-align: right;\">\n",
       "      <th></th>\n",
       "      <th>Value</th>\n",
       "      <th>Rob. Std err</th>\n",
       "      <th>Rob. t-test</th>\n",
       "      <th>Rob. p-value</th>\n",
       "    </tr>\n",
       "  </thead>\n",
       "  <tbody>\n",
       "    <tr>\n",
       "      <th>asc_car</th>\n",
       "      <td>2.943807</td>\n",
       "      <td>0.089851</td>\n",
       "      <td>32.763102</td>\n",
       "      <td>0.000000</td>\n",
       "    </tr>\n",
       "    <tr>\n",
       "      <th>asc_pt</th>\n",
       "      <td>2.938448</td>\n",
       "      <td>0.101320</td>\n",
       "      <td>29.001769</td>\n",
       "      <td>0.000000</td>\n",
       "    </tr>\n",
       "    <tr>\n",
       "      <th>asc_walk</th>\n",
       "      <td>3.856007</td>\n",
       "      <td>0.113037</td>\n",
       "      <td>34.112845</td>\n",
       "      <td>0.000000</td>\n",
       "    </tr>\n",
       "    <tr>\n",
       "      <th>beta_cost_car</th>\n",
       "      <td>-0.265288</td>\n",
       "      <td>0.026525</td>\n",
       "      <td>-10.001362</td>\n",
       "      <td>0.000000</td>\n",
       "    </tr>\n",
       "    <tr>\n",
       "      <th>beta_cost_pt</th>\n",
       "      <td>0.050593</td>\n",
       "      <td>0.030476</td>\n",
       "      <td>1.660084</td>\n",
       "      <td>0.096897</td>\n",
       "    </tr>\n",
       "    <tr>\n",
       "      <th>beta_time</th>\n",
       "      <td>-5.987109</td>\n",
       "      <td>0.277836</td>\n",
       "      <td>-21.549062</td>\n",
       "      <td>0.000000</td>\n",
       "    </tr>\n",
       "    <tr>\n",
       "      <th>beta_time_female</th>\n",
       "      <td>0.097284</td>\n",
       "      <td>0.262770</td>\n",
       "      <td>0.370225</td>\n",
       "      <td>0.711215</td>\n",
       "    </tr>\n",
       "  </tbody>\n",
       "</table>\n",
       "</div>"
      ],
      "text/plain": [
       "                     Value  Rob. Std err  Rob. t-test  Rob. p-value\n",
       "asc_car           2.943807      0.089851    32.763102      0.000000\n",
       "asc_pt            2.938448      0.101320    29.001769      0.000000\n",
       "asc_walk          3.856007      0.113037    34.112845      0.000000\n",
       "beta_cost_car    -0.265288      0.026525   -10.001362      0.000000\n",
       "beta_cost_pt      0.050593      0.030476     1.660084      0.096897\n",
       "beta_time        -5.987109      0.277836   -21.549062      0.000000\n",
       "beta_time_female  0.097284      0.262770     0.370225      0.711215"
      ]
     },
     "metadata": {},
     "output_type": "display_data"
    }
   ],
   "source": [
    "pd_results_m2a = results_m2a.get_estimated_parameters()\n",
    "display(pd_results_m2a)"
   ]
  },
  {
   "cell_type": "markdown",
   "metadata": {},
   "source": [
    "### Model 2B: Sex interaction with all ASCs"
   ]
  },
  {
   "cell_type": "code",
   "execution_count": 206,
   "metadata": {},
   "outputs": [],
   "source": [
    "# Define ASCs \n",
    "asc_car = Beta(name='asc_car', value=0, lowerbound=None, upperbound=None, status=0)\n",
    "asc_walk = Beta(name='asc_walk', value=0, lowerbound=None, upperbound=None, status=0)\n",
    "asc_pt = Beta(name='asc_pt', value=0, lowerbound=None, upperbound=None, status=0)\n",
    "\n",
    "# Define generic parameters\n",
    "\n",
    "beta_time = Beta(name='beta_time', value=0, lowerbound=None, upperbound=None, status=0)\n",
    "\n",
    "# Define alternative specific parameters\n",
    "\n",
    "beta_cost_car = Beta(name='beta_cost_car', value=0, lowerbound=None, upperbound=None, status=0)\n",
    "beta_cost_pt = Beta(name='beta_cost_pt', value=0, lowerbound=None, upperbound=None, status=0)\n",
    "\n",
    "# Segmented Walk ASC\n",
    "\n",
    "segmented_ASC_walk = segmented_beta(asc_walk, [sex_segmentation])\n",
    "segmented_ASC_car = segmented_beta(asc_car, [sex_segmentation])\n",
    "segmented_ASC_pt = segmented_beta(asc_pt, [sex_segmentation])\n",
    "ASC_cycling_female = Beta(name='asc_cycling_female', value=0, lowerbound=None, upperbound=None, status=0)\n",
    "\n",
    "# Define utility functions\n",
    "\n",
    "# v_car = segmented_ASC_car + beta_cost_car * cost_driving + beta_time * time_driving\n",
    "# v_walk = segmented_ASC_walk + beta_time * time_walking\n",
    "# v_pt = segmented_ASC_pt + beta_cost_pt * cost_transit + beta_time * time_pt\n",
    "\n",
    "\n",
    "v_car = asc_car + beta_cost_car * cost_driving + beta_time * time_driving\n",
    "v_walk = asc_walk + beta_time * time_walking\n",
    "v_pt = asc_pt + beta_cost_pt * cost_transit + beta_time * time_pt\n",
    "\n",
    "v_cycling = ASC_cycling_female * (female == 1) + beta_time * time_cycling\n",
    "\n",
    "V = {1: v_walk, 2: v_cycling, 3: v_pt, 4: v_car}\n",
    "\n",
    "CAR_AV = (car_ownership != 0) | (driving_license != 0) | (household_has_license != 0)\n",
    "WALK_AV = (car_ownership >= 0)\n",
    "PT_AV = (car_ownership >= 0)\n",
    "CYCLING_AV = (car_ownership >= 0)\n",
    "\n",
    "av = {1: WALK_AV, 2: CYCLING_AV , 3: PT_AV, 4: CAR_AV}"
   ]
  },
  {
   "cell_type": "code",
   "execution_count": 207,
   "metadata": {},
   "outputs": [
    {
     "name": "stdout",
     "output_type": "stream",
     "text": [
      "Number of estimated parameters:\t7\n",
      "Sample size:\t4941\n",
      "Excluded observations:\t0\n",
      "Null log likelihood:\t-6610.329\n",
      "Init log likelihood:\t-3912.876\n",
      "Final log likelihood:\t-3912.876\n",
      "Likelihood ratio test for the null model:\t5394.906\n",
      "Rho-square for the null model:\t0.408\n",
      "Rho-square-bar for the null model:\t0.407\n",
      "Likelihood ratio test for the init. model:\t-0\n",
      "Rho-square for the init. model:\t0\n",
      "Rho-square-bar for the init. model:\t-0.00179\n",
      "Akaike Information Criterion:\t7839.752\n",
      "Bayesian Information Criterion:\t7885.289\n",
      "Final gradient norm:\t3.8928E-04\n",
      "Nbr of threads:\t16\n",
      "\n"
     ]
    }
   ],
   "source": [
    "logprob_m2b = loglogit(V, av, travel_mode)\n",
    "\n",
    "model_2b = bio.BIOGEME(database, logprob_m2b)\n",
    "model_2b.modelName = 'model_2b'\n",
    "\n",
    "null_log_likelihood_m2b = model_2b.calculate_null_loglikelihood(av)\n",
    "\n",
    "results_m2b = model_2b.estimate()\n",
    "print(results_m2b.print_general_statistics())\n"
   ]
  },
  {
   "cell_type": "code",
   "execution_count": 208,
   "metadata": {},
   "outputs": [
    {
     "data": {
      "text/html": [
       "<div>\n",
       "<style scoped>\n",
       "    .dataframe tbody tr th:only-of-type {\n",
       "        vertical-align: middle;\n",
       "    }\n",
       "\n",
       "    .dataframe tbody tr th {\n",
       "        vertical-align: top;\n",
       "    }\n",
       "\n",
       "    .dataframe thead th {\n",
       "        text-align: right;\n",
       "    }\n",
       "</style>\n",
       "<table border=\"1\" class=\"dataframe\">\n",
       "  <thead>\n",
       "    <tr style=\"text-align: right;\">\n",
       "      <th></th>\n",
       "      <th>Value</th>\n",
       "      <th>Rob. Std err</th>\n",
       "      <th>Rob. t-test</th>\n",
       "      <th>Rob. p-value</th>\n",
       "    </tr>\n",
       "  </thead>\n",
       "  <tbody>\n",
       "    <tr>\n",
       "      <th>asc_car</th>\n",
       "      <td>2.406767</td>\n",
       "      <td>0.104246</td>\n",
       "      <td>23.087353</td>\n",
       "      <td>0.000000e+00</td>\n",
       "    </tr>\n",
       "    <tr>\n",
       "      <th>asc_cycling_female</th>\n",
       "      <td>-1.334317</td>\n",
       "      <td>0.188681</td>\n",
       "      <td>-7.071819</td>\n",
       "      <td>1.529221e-12</td>\n",
       "    </tr>\n",
       "    <tr>\n",
       "      <th>asc_pt</th>\n",
       "      <td>2.404014</td>\n",
       "      <td>0.113327</td>\n",
       "      <td>21.213045</td>\n",
       "      <td>0.000000e+00</td>\n",
       "    </tr>\n",
       "    <tr>\n",
       "      <th>asc_walk</th>\n",
       "      <td>3.328553</td>\n",
       "      <td>0.122240</td>\n",
       "      <td>27.229672</td>\n",
       "      <td>0.000000e+00</td>\n",
       "    </tr>\n",
       "    <tr>\n",
       "      <th>beta_cost_car</th>\n",
       "      <td>-0.263671</td>\n",
       "      <td>0.026387</td>\n",
       "      <td>-9.992639</td>\n",
       "      <td>0.000000e+00</td>\n",
       "    </tr>\n",
       "    <tr>\n",
       "      <th>beta_cost_pt</th>\n",
       "      <td>0.053246</td>\n",
       "      <td>0.030315</td>\n",
       "      <td>1.756444</td>\n",
       "      <td>7.901269e-02</td>\n",
       "    </tr>\n",
       "    <tr>\n",
       "      <th>beta_time</th>\n",
       "      <td>-5.969304</td>\n",
       "      <td>0.232432</td>\n",
       "      <td>-25.681972</td>\n",
       "      <td>0.000000e+00</td>\n",
       "    </tr>\n",
       "  </tbody>\n",
       "</table>\n",
       "</div>"
      ],
      "text/plain": [
       "                       Value  Rob. Std err  Rob. t-test  Rob. p-value\n",
       "asc_car             2.406767      0.104246    23.087353  0.000000e+00\n",
       "asc_cycling_female -1.334317      0.188681    -7.071819  1.529221e-12\n",
       "asc_pt              2.404014      0.113327    21.213045  0.000000e+00\n",
       "asc_walk            3.328553      0.122240    27.229672  0.000000e+00\n",
       "beta_cost_car      -0.263671      0.026387    -9.992639  0.000000e+00\n",
       "beta_cost_pt        0.053246      0.030315     1.756444  7.901269e-02\n",
       "beta_time          -5.969304      0.232432   -25.681972  0.000000e+00"
      ]
     },
     "metadata": {},
     "output_type": "display_data"
    }
   ],
   "source": [
    "pd_results_m2b = results_m2b.get_estimated_parameters()\n",
    "display(pd_results_m2b)"
   ]
  },
  {
   "cell_type": "markdown",
   "metadata": {},
   "source": [
    "### Compare Model 2b with Model 1"
   ]
  },
  {
   "cell_type": "code",
   "execution_count": 209,
   "metadata": {},
   "outputs": [
    {
     "name": "stdout",
     "output_type": "stream",
     "text": [
      "Likelihood Ratio: 60.605716130319706\n",
      "Degrees of Freedom: 1\n",
      "Critical Chi-Square Value (0.05 significance): 3.841458820694124\n",
      "Model 2b is significantly better than Model 1.\n"
     ]
    }
   ],
   "source": [
    "loglikehood_m2b = results_m2b.data.logLike\n",
    "num_params_m2b = results_m2b.data.nparam\n",
    "\n",
    "# Calculate the LR statistic\n",
    "LR = 2 * (loglikehood_m2b - loglikehood_m1)\n",
    "\n",
    "# Degrees of freedom\n",
    "df = num_params_m2b - num_params_m1\n",
    "\n",
    "from scipy.stats import chi2\n",
    "\n",
    "# Critical value at 0.05 significance level\n",
    "critical_value = chi2.ppf(0.95, df)\n",
    "\n",
    "print(\"Likelihood Ratio:\", LR)\n",
    "print(\"Degrees of Freedom:\", df)\n",
    "print(\"Critical Chi-Square Value (0.05 significance):\", critical_value)\n",
    "\n",
    "if LR > critical_value:\n",
    "    print(\"Model 2b is significantly better than Model 1.\")\n",
    "else:\n",
    "    print(\"No significant improvement in Model 2b over Model 1.\")\n",
    "\n"
   ]
  },
  {
   "cell_type": "markdown",
   "metadata": {},
   "source": [
    "### Compare Segmenting all ASCs vs just Cycling"
   ]
  },
  {
   "cell_type": "code",
   "execution_count": 210,
   "metadata": {},
   "outputs": [],
   "source": [
    "# Define ASCs \n",
    "asc_car = Beta(name='asc_car', value=0, lowerbound=None, upperbound=None, status=0)\n",
    "asc_walk = Beta(name='asc_walk', value=0, lowerbound=None, upperbound=None, status=0)\n",
    "asc_pt = Beta(name='asc_pt', value=0, lowerbound=None, upperbound=None, status=0)\n",
    "\n",
    "# Define generic parameters\n",
    "\n",
    "beta_time = Beta(name='beta_time', value=0, lowerbound=None, upperbound=None, status=0)\n",
    "\n",
    "# Define alternative specific parameters\n",
    "\n",
    "beta_cost_car = Beta(name='beta_cost_car', value=0, lowerbound=None, upperbound=None, status=0)\n",
    "beta_cost_pt = Beta(name='beta_cost_pt', value=0, lowerbound=None, upperbound=None, status=0)\n",
    "\n",
    "# Segmented Walk ASC\n",
    "\n",
    "segmented_ASC_walk = segmented_beta(asc_walk, [sex_segmentation])\n",
    "segmented_ASC_car = segmented_beta(asc_car, [sex_segmentation])\n",
    "segmented_ASC_pt = segmented_beta(asc_pt, [sex_segmentation])\n",
    "ASC_cycling_female = Beta(name='asc_cycling_female', value=0, lowerbound=None, upperbound=None, status=0)\n",
    "\n",
    "# Define utility functions\n",
    "\n",
    "v_car = segmented_ASC_car + beta_cost_car * cost_driving + beta_time * time_driving\n",
    "v_walk = segmented_ASC_walk + beta_time * time_walking\n",
    "v_pt = segmented_ASC_pt + beta_cost_pt * cost_transit + beta_time * time_pt\n",
    "\n",
    "v_cycling = ASC_cycling_female * (female == 1) + beta_time * time_cycling\n",
    "\n",
    "V = {1: v_walk, 2: v_cycling, 3: v_pt, 4: v_car}\n",
    "\n",
    "CAR_AV = (car_ownership != 0) | (driving_license != 0) | (household_has_license != 0)\n",
    "WALK_AV = (car_ownership >= 0)\n",
    "PT_AV = (car_ownership >= 0)\n",
    "CYCLING_AV = (car_ownership >= 0)\n",
    "\n",
    "av = {1: WALK_AV, 2: CYCLING_AV , 3: PT_AV, 4: CAR_AV}"
   ]
  },
  {
   "cell_type": "code",
   "execution_count": 211,
   "metadata": {},
   "outputs": [
    {
     "name": "stdout",
     "output_type": "stream",
     "text": [
      "Number of estimated parameters:\t10\n",
      "Sample size:\t4941\n",
      "Excluded observations:\t0\n",
      "Null log likelihood:\t-6610.329\n",
      "Init log likelihood:\t-3910.55\n",
      "Final log likelihood:\t-3910.55\n",
      "Likelihood ratio test for the null model:\t5399.559\n",
      "Rho-square for the null model:\t0.408\n",
      "Rho-square-bar for the null model:\t0.407\n",
      "Likelihood ratio test for the init. model:\t-0\n",
      "Rho-square for the init. model:\t0\n",
      "Rho-square-bar for the init. model:\t-0.00256\n",
      "Akaike Information Criterion:\t7841.099\n",
      "Bayesian Information Criterion:\t7906.153\n",
      "Final gradient norm:\t4.6180E-03\n",
      "Nbr of threads:\t16\n",
      "\n"
     ]
    }
   ],
   "source": [
    "logprob_m2b_all = loglogit(V, av, travel_mode)\n",
    "\n",
    "model_2b_all = bio.BIOGEME(database, logprob_m2b_all)\n",
    "model_2b_all.modelName = 'model_2b_all'\n",
    "\n",
    "null_log_likelihood_m2b_all = model_2b_all.calculate_null_loglikelihood(av)\n",
    "\n",
    "results_m2b_all = model_2b_all.estimate()\n",
    "print(results_m2b_all.print_general_statistics())\n"
   ]
  },
  {
   "cell_type": "code",
   "execution_count": 212,
   "metadata": {},
   "outputs": [
    {
     "name": "stdout",
     "output_type": "stream",
     "text": [
      "Likelihood Ratio: 4.652472993563606\n",
      "Degrees of Freedom: 3\n",
      "Critical Chi-Square Value (0.05 significance): 7.814727903251179\n",
      "No significant improvement in Model 2b_all over Model 2b.\n"
     ]
    }
   ],
   "source": [
    "loglikehood_m2b_all = results_m2b_all.data.logLike\n",
    "num_params_m2b_all = results_m2b_all.data.nparam\n",
    "\n",
    "# Calculate the LR statistic\n",
    "LR = 2 * (loglikehood_m2b_all - loglikehood_m2b)\n",
    "\n",
    "# Degrees of freedom\n",
    "df = num_params_m2b_all - num_params_m2b\n",
    "\n",
    "from scipy.stats import chi2\n",
    "\n",
    "# Critical value at 0.05 significance level\n",
    "critical_value = chi2.ppf(0.95, df)\n",
    "\n",
    "print(\"Likelihood Ratio:\", LR)\n",
    "print(\"Degrees of Freedom:\", df)\n",
    "print(\"Critical Chi-Square Value (0.05 significance):\", critical_value)\n",
    "\n",
    "if LR > critical_value:\n",
    "    print(\"Model 2b_all is significantly better than Model 2b.\")\n",
    "else:\n",
    "    print(\"No significant improvement in Model 2b_all over Model 2b.\")\n",
    "\n"
   ]
  },
  {
   "cell_type": "markdown",
   "metadata": {},
   "source": [
    "## Model 3: Non-linear specification"
   ]
  },
  {
   "cell_type": "code",
   "execution_count": 213,
   "metadata": {},
   "outputs": [
    {
     "name": "stderr",
     "output_type": "stream",
     "text": [
      "It is advised to set the bounds on parameter LAMBDA. A value of -10 and 10 should be appropriate: Beta(\"LAMBDA\", 0, -10, 10, 0)\n",
      "It is advised to set the bounds on parameter LAMBDA. A value of -10 and 10 should be appropriate: Beta(\"LAMBDA\", 0, -10, 10, 0)\n",
      "It is advised to set the bounds on parameter LAMBDA. A value of -10 and 10 should be appropriate: Beta(\"LAMBDA\", 0, -10, 10, 0)\n",
      "It is advised to set the bounds on parameter LAMBDA. A value of -10 and 10 should be appropriate: Beta(\"LAMBDA\", 0, -10, 10, 0)\n"
     ]
    }
   ],
   "source": [
    "# Define ASCs \n",
    "asc_car = Beta(name='asc_car', value=0, lowerbound=None, upperbound=None, status=0)\n",
    "asc_walk = Beta(name='asc_walk', value=0, lowerbound=None, upperbound=None, status=0)\n",
    "asc_pt = Beta(name='asc_pt', value=0, lowerbound=None, upperbound=None, status=0)\n",
    "\n",
    "# Define generic parameters\n",
    "\n",
    "beta_time = Beta(name='beta_time', value=0, lowerbound=None, upperbound=None, status=0)\n",
    "LAMBDA = Beta('LAMBDA', 0, None, None, 0)\n",
    "\n",
    "# Define alternative specific parameters\n",
    "\n",
    "beta_cost_car = Beta(name='beta_cost_car', value=0, lowerbound=None, upperbound=None, status=0)\n",
    "beta_cost_pt = Beta(name='beta_cost_pt', value=0, lowerbound=None, upperbound=None, status=0)\n",
    "\n",
    "# Segmented Walk ASC\n",
    "\n",
    "ASC_cycling_female = Beta(name='asc_cycling_female', value=0, lowerbound=None, upperbound=None, status=0)\n",
    "\n",
    "# Define utility functions\n",
    "\n",
    "v_car = asc_car + beta_cost_car * cost_driving + beta_time * boxcox(time_driving,LAMBDA)\n",
    "v_walk = asc_walk + beta_time * boxcox(time_walking,LAMBDA)\n",
    "v_pt = asc_pt + beta_cost_pt * cost_transit + beta_time * boxcox(time_pt,LAMBDA)\n",
    "\n",
    "v_cycling = ASC_cycling_female * (female == 1) + beta_time * boxcox(time_cycling,LAMBDA)\n",
    "\n",
    "V = {1: v_walk, 2: v_cycling, 3: v_pt, 4: v_car}\n",
    "\n",
    "CAR_AV = (car_ownership != 0) | (driving_license != 0) | (household_has_license != 0)\n",
    "WALK_AV = (car_ownership >= 0)\n",
    "PT_AV = (car_ownership >= 0)\n",
    "CYCLING_AV = (car_ownership >= 0)\n",
    "\n",
    "av = {1: WALK_AV, 2: CYCLING_AV , 3: PT_AV, 4: CAR_AV}"
   ]
  },
  {
   "cell_type": "code",
   "execution_count": 214,
   "metadata": {},
   "outputs": [
    {
     "name": "stdout",
     "output_type": "stream",
     "text": [
      "Number of estimated parameters:\t8\n",
      "Sample size:\t4941\n",
      "Excluded observations:\t0\n",
      "Null log likelihood:\t-6610.329\n",
      "Init log likelihood:\t-3822.292\n",
      "Final log likelihood:\t-3822.292\n",
      "Likelihood ratio test for the null model:\t5576.074\n",
      "Rho-square for the null model:\t0.422\n",
      "Rho-square-bar for the null model:\t0.421\n",
      "Likelihood ratio test for the init. model:\t-0\n",
      "Rho-square for the init. model:\t0\n",
      "Rho-square-bar for the init. model:\t-0.00209\n",
      "Akaike Information Criterion:\t7660.584\n",
      "Bayesian Information Criterion:\t7712.626\n",
      "Final gradient norm:\t1.0293E-01\n",
      "Nbr of threads:\t16\n",
      "\n"
     ]
    }
   ],
   "source": [
    "logprob_m3 = loglogit(V, av, travel_mode)\n",
    "\n",
    "model_3 = bio.BIOGEME(database, logprob_m3)\n",
    "model_3.modelName = 'model_3'\n",
    "\n",
    "null_log_likelihood_m3 = model_3.calculate_null_loglikelihood(av)\n",
    "\n",
    "results_m3 = model_3.estimate()\n",
    "print(results_m3.print_general_statistics())\n"
   ]
  },
  {
   "cell_type": "code",
   "execution_count": 215,
   "metadata": {},
   "outputs": [
    {
     "data": {
      "text/html": [
       "<div>\n",
       "<style scoped>\n",
       "    .dataframe tbody tr th:only-of-type {\n",
       "        vertical-align: middle;\n",
       "    }\n",
       "\n",
       "    .dataframe tbody tr th {\n",
       "        vertical-align: top;\n",
       "    }\n",
       "\n",
       "    .dataframe thead th {\n",
       "        text-align: right;\n",
       "    }\n",
       "</style>\n",
       "<table border=\"1\" class=\"dataframe\">\n",
       "  <thead>\n",
       "    <tr style=\"text-align: right;\">\n",
       "      <th></th>\n",
       "      <th>Value</th>\n",
       "      <th>Rob. Std err</th>\n",
       "      <th>Rob. t-test</th>\n",
       "      <th>Rob. p-value</th>\n",
       "    </tr>\n",
       "  </thead>\n",
       "  <tbody>\n",
       "    <tr>\n",
       "      <th>LAMBDA</th>\n",
       "      <td>0.480279</td>\n",
       "      <td>0.023742</td>\n",
       "      <td>20.228786</td>\n",
       "      <td>0.000000e+00</td>\n",
       "    </tr>\n",
       "    <tr>\n",
       "      <th>asc_car</th>\n",
       "      <td>2.137815</td>\n",
       "      <td>0.104259</td>\n",
       "      <td>20.504826</td>\n",
       "      <td>0.000000e+00</td>\n",
       "    </tr>\n",
       "    <tr>\n",
       "      <th>asc_cycling_female</th>\n",
       "      <td>-1.358128</td>\n",
       "      <td>0.187009</td>\n",
       "      <td>-7.262372</td>\n",
       "      <td>3.803624e-13</td>\n",
       "    </tr>\n",
       "    <tr>\n",
       "      <th>asc_pt</th>\n",
       "      <td>3.029652</td>\n",
       "      <td>0.123595</td>\n",
       "      <td>24.512744</td>\n",
       "      <td>0.000000e+00</td>\n",
       "    </tr>\n",
       "    <tr>\n",
       "      <th>asc_walk</th>\n",
       "      <td>4.407632</td>\n",
       "      <td>0.147120</td>\n",
       "      <td>29.959525</td>\n",
       "      <td>0.000000e+00</td>\n",
       "    </tr>\n",
       "    <tr>\n",
       "      <th>beta_cost_car</th>\n",
       "      <td>-0.196301</td>\n",
       "      <td>0.021652</td>\n",
       "      <td>-9.066256</td>\n",
       "      <td>0.000000e+00</td>\n",
       "    </tr>\n",
       "    <tr>\n",
       "      <th>beta_cost_pt</th>\n",
       "      <td>-0.038949</td>\n",
       "      <td>0.029644</td>\n",
       "      <td>-1.313875</td>\n",
       "      <td>1.888884e-01</td>\n",
       "    </tr>\n",
       "    <tr>\n",
       "      <th>beta_time</th>\n",
       "      <td>-5.384872</td>\n",
       "      <td>0.165841</td>\n",
       "      <td>-32.470084</td>\n",
       "      <td>0.000000e+00</td>\n",
       "    </tr>\n",
       "  </tbody>\n",
       "</table>\n",
       "</div>"
      ],
      "text/plain": [
       "                       Value  Rob. Std err  Rob. t-test  Rob. p-value\n",
       "LAMBDA              0.480279      0.023742    20.228786  0.000000e+00\n",
       "asc_car             2.137815      0.104259    20.504826  0.000000e+00\n",
       "asc_cycling_female -1.358128      0.187009    -7.262372  3.803624e-13\n",
       "asc_pt              3.029652      0.123595    24.512744  0.000000e+00\n",
       "asc_walk            4.407632      0.147120    29.959525  0.000000e+00\n",
       "beta_cost_car      -0.196301      0.021652    -9.066256  0.000000e+00\n",
       "beta_cost_pt       -0.038949      0.029644    -1.313875  1.888884e-01\n",
       "beta_time          -5.384872      0.165841   -32.470084  0.000000e+00"
      ]
     },
     "metadata": {},
     "output_type": "display_data"
    }
   ],
   "source": [
    "pd_results_m3 = results_m3.get_estimated_parameters()\n",
    "display(pd_results_m3)"
   ]
  },
  {
   "cell_type": "markdown",
   "metadata": {},
   "source": [
    "### Compare Model 3 with Model 2   "
   ]
  },
  {
   "cell_type": "markdown",
   "metadata": {},
   "source": [
    "#### Model C"
   ]
  },
  {
   "cell_type": "code",
   "execution_count": null,
   "metadata": {},
   "outputs": [
    {
     "name": "stderr",
     "output_type": "stream",
     "text": [
      "It is advised to set the bounds on parameter LAMBDA. A value of -10 and 10 should be appropriate: Beta(\"LAMBDA\", 0, -10, 10, 0)\n",
      "It is advised to set the bounds on parameter LAMBDA. A value of -10 and 10 should be appropriate: Beta(\"LAMBDA\", 0, -10, 10, 0)\n",
      "It is advised to set the bounds on parameter LAMBDA. A value of -10 and 10 should be appropriate: Beta(\"LAMBDA\", 0, -10, 10, 0)\n",
      "It is advised to set the bounds on parameter LAMBDA. A value of -10 and 10 should be appropriate: Beta(\"LAMBDA\", 0, -10, 10, 0)\n"
     ]
    }
   ],
   "source": [
    "# Define ASCs \n",
    "asc_car = Beta(name='asc_car', value=0, lowerbound=None, upperbound=None, status=0)\n",
    "asc_walk = Beta(name='asc_walk', value=0, lowerbound=None, upperbound=None, status=0)\n",
    "asc_pt = Beta(name='asc_pt', value=0, lowerbound=None, upperbound=None, status=0)\n",
    "\n",
    "# Define generic parameters\n",
    "\n",
    "beta_time = Beta(name='beta_time', value=0, lowerbound=None, upperbound=None, status=0)\n",
    "beta_time_lambda = Beta(name='beta_time_lambda', value=0, lowerbound=None, upperbound=None, status=0)\n",
    "LAMBDA = Beta('LAMBDA', 0, None, None, 0)\n",
    "\n",
    "# Define alternative specific parameters\n",
    "\n",
    "beta_cost_car = Beta(name='beta_cost_car', value=0, lowerbound=None, upperbound=None, status=0)\n",
    "beta_cost_pt = Beta(name='beta_cost_pt', value=0, lowerbound=None, upperbound=None, status=0)\n",
    "\n",
    "# Segmented Walk ASC\n",
    "\n",
    "ASC_cycling_female = Beta(name='asc_cycling_female', value=0, lowerbound=None, upperbound=None, status=0)\n",
    "\n",
    "# Define utility functions\n",
    "\n",
    "v_car = asc_car + beta_cost_car * cost_driving + beta_time_lambda * boxcox(time_driving,LAMBDA) + beta_time * time_driving\n",
    "v_walk = asc_walk + beta_time_lambda * boxcox(time_walking,LAMBDA) + beta_time * time_walking\n",
    "v_pt = asc_pt + beta_cost_pt * cost_transit + beta_time_lambda * boxcox(time_pt,LAMBDA) + beta_time * time_pt\n",
    "\n",
    "v_cycling = ASC_cycling_female * (female == 1) + beta_time_lambda * boxcox(time_cycling,LAMBDA) + beta_time * time_cycling\n",
    "\n",
    "V = {1: v_walk, 2: v_cycling, 3: v_pt, 4: v_car}\n",
    "\n",
    "CAR_AV = (car_ownership != 0) | (driving_license != 0) | (household_has_license != 0)\n",
    "WALK_AV = (car_ownership >= 0)\n",
    "PT_AV = (car_ownership >= 0)\n",
    "CYCLING_AV = (car_ownership >= 0)\n",
    "\n",
    "av = {1: WALK_AV, 2: CYCLING_AV , 3: PT_AV, 4: CAR_AV}"
   ]
  },
  {
   "cell_type": "code",
   "execution_count": 217,
   "metadata": {},
   "outputs": [
    {
     "name": "stdout",
     "output_type": "stream",
     "text": [
      "Number of estimated parameters:\t8\n",
      "Sample size:\t4941\n",
      "Excluded observations:\t0\n",
      "Null log likelihood:\t-6610.329\n",
      "Init log likelihood:\t-3830.985\n",
      "Final log likelihood:\t-3830.985\n",
      "Likelihood ratio test for the null model:\t5558.687\n",
      "Rho-square for the null model:\t0.42\n",
      "Rho-square-bar for the null model:\t0.419\n",
      "Likelihood ratio test for the init. model:\t-0\n",
      "Rho-square for the init. model:\t0\n",
      "Rho-square-bar for the init. model:\t-0.00209\n",
      "Akaike Information Criterion:\t7677.971\n",
      "Bayesian Information Criterion:\t7730.014\n",
      "Final gradient norm:\t1.5231E-01\n",
      "Nbr of threads:\t16\n",
      "\n"
     ]
    }
   ],
   "source": [
    "logprob_mC = loglogit(V, av, travel_mode)\n",
    "\n",
    "model_C = bio.BIOGEME(database, logprob_mC)\n",
    "model_C.modelName = 'model_C'\n",
    "\n",
    "null_log_likelihood_mC = model_C.calculate_null_loglikelihood(av)\n",
    "\n",
    "results_mC = model_C.estimate()\n",
    "print(results_mC.print_general_statistics())\n"
   ]
  },
  {
   "cell_type": "markdown",
   "metadata": {},
   "source": [
    "#### Test C vs 2b"
   ]
  },
  {
   "cell_type": "code",
   "execution_count": 218,
   "metadata": {},
   "outputs": [
    {
     "name": "stdout",
     "output_type": "stream",
     "text": [
      "Likelihood Ratio: 163.78087626283286\n",
      "Degrees of Freedom: 1\n",
      "Critical Chi-Square Value (0.05 significance): 3.841458820694124\n",
      "Model C is significantly better than Model 2b.\n"
     ]
    }
   ],
   "source": [
    "loglikehood_mC = results_mC.data.logLike\n",
    "num_params_mC = results_mC.data.nparam\n",
    "\n",
    "# Calculate the LR statistic\n",
    "LR = 2 * (loglikehood_mC - loglikehood_m2b)\n",
    "\n",
    "# Degrees of freedom\n",
    "df = num_params_mC - num_params_m2b\n",
    "\n",
    "from scipy.stats import chi2\n",
    "\n",
    "# Critical value at 0.05 significance level\n",
    "critical_value = chi2.ppf(0.95, df)\n",
    "\n",
    "print(\"Likelihood Ratio:\", LR)\n",
    "print(\"Degrees of Freedom:\", df)\n",
    "print(\"Critical Chi-Square Value (0.05 significance):\", critical_value)\n",
    "\n",
    "if LR > critical_value:\n",
    "    print(\"Model C is significantly better than Model 2b.\")\n",
    "else:\n",
    "    print(\"No significant improvement in Model C over Model 2b.\")\n",
    "\n"
   ]
  },
  {
   "cell_type": "markdown",
   "metadata": {},
   "source": [
    "#### Test C vs 3"
   ]
  },
  {
   "cell_type": "code",
   "execution_count": 219,
   "metadata": {},
   "outputs": [
    {
     "name": "stdout",
     "output_type": "stream",
     "text": [
      "Likelihood Ratio: -17.387242370594322\n",
      "Degrees of Freedom: 1\n",
      "Critical Chi-Square Value (0.05 significance): 3.841458820694124\n",
      "No significant improvement in Model C over Model 3.\n"
     ]
    }
   ],
   "source": [
    "loglikehood_m3 = results_m3.data.logLike\n",
    "num_params_m3 = results_m3.data.nparam\n",
    "\n",
    "# Calculate the LR statistic\n",
    "LR = 2 * (loglikehood_mC - loglikehood_m3)\n",
    "\n",
    "# Degrees of freedom\n",
    "df = num_params_mC - num_params_m2b\n",
    "\n",
    "from scipy.stats import chi2\n",
    "\n",
    "# Critical value at 0.05 significance level\n",
    "critical_value = chi2.ppf(0.95, df)\n",
    "\n",
    "print(\"Likelihood Ratio:\", LR)\n",
    "print(\"Degrees of Freedom:\", df)\n",
    "print(\"Critical Chi-Square Value (0.05 significance):\", critical_value)\n",
    "\n",
    "if LR > critical_value:\n",
    "    print(\"Model C is significantly better than Model 3.\")\n",
    "else:\n",
    "    print(\"No significant improvement in Model C over Model 3.\")\n",
    "\n"
   ]
  }
 ],
 "metadata": {
  "kernelspec": {
   "display_name": ".venv",
   "language": "python",
   "name": "python3"
  },
  "language_info": {
   "codemirror_mode": {
    "name": "ipython",
    "version": 3
   },
   "file_extension": ".py",
   "mimetype": "text/x-python",
   "name": "python",
   "nbconvert_exporter": "python",
   "pygments_lexer": "ipython3",
   "version": "3.10.5"
  }
 },
 "nbformat": 4,
 "nbformat_minor": 2
}
